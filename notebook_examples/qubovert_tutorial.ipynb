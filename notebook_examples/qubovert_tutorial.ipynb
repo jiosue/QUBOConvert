{
 "cells": [
  {
   "cell_type": "markdown",
   "metadata": {},
   "source": [
    "<h1 align=\"center\">Introduction</h1>\n",
    "\n",
    "<p style=\"float: left;\"><img src=\"https://raw.githubusercontent.com/jtiosue/qubovert/master/assets/qvfire.png\" alt=\"qvfire\" /> </p>\n",
    "\n",
    "<p style=\"float: right;\"><img src=\"https://raw.githubusercontent.com/jtiosue/qubovert/master/assets/qvfire.png\" alt=\"qvfire\" /> </p>\n",
    "\n",
    "This notebook is a semi-comprehensive tutorial of qubovert. I say semi-comprehensive for a reason; it is not comprehensive! It is meant to comprehensively cover general themes/topics, which then can be applied everywhere. But in order to fully understand everything you can do with qubovert, you will need to do some exploring of your own beyond this notebook. I've chosen the organization of the tutorial to essentially follow the order of how I actually coded qubovert so that perhaps the motivation for each element will be made clear. Because of this strategy, there are some things that I do in the beginning that could be done cleaner, but I do them for demonstration. By the end though, the general coding style should be clear."
   ]
  },
  {
   "cell_type": "code",
   "execution_count": 1,
   "metadata": {},
   "outputs": [],
   "source": [
    "# !pip install qubovert==1.2.1\n",
    "import qubovert as qv"
   ]
  },
  {
   "cell_type": "markdown",
   "metadata": {},
   "source": [
    "*This notebook was updated in June 2020 and uses qubovert v1.2.1. There may be newer features available with later versions of qubovert even if this notebook does not show them.*\n",
    "\n",
    "Given how big this notebook is, I suggest installing the Jupyter Notebook Table of Contents extension to help you to navigate this tutorial. You can do this by running the following shell commands\n",
    "\n",
    "<br/>\n",
    "<sup>\n",
    "<span style=\"margin-left:4em\">\\$ jupyter nbextension install --user https://rawgithub.com/minrk/ipython_extensions/master/nbextensions/toc.js <br/></span>\n",
    "<span style=\"margin-left:4em\">\\$ curl -L https://rawgithub.com/minrk/ipython_extensions/master/nbextensions/toc.css > $(jupyter --data-dir)/nbextensions/toc.css <br/></span>\n",
    "<span style=\"margin-left:4em\">\\$ jupyter nbextension enable toc <br/></span>\n",
    "</sup>\n",
    "\n",
    "and then restarting Jupyter."
   ]
  },
  {
   "cell_type": "markdown",
   "metadata": {},
   "source": [
    "## Definitions\n",
    "\n",
    "**Binary**:\n",
    "Something that can take on only two possible values.\n",
    "\n",
    "**Boolean**:\n",
    "A type of binary value; something that can take values in $\\{0, 1 \\}$.\n",
    "\n",
    "**Spin**:\n",
    "A type of binary value; something that can take values in $\\{1, -1 \\}$.\n",
    "\n",
    "**QUBO: Quadratic Unconstrained Boolean Optimization**:\n",
    "A QUBO is a quadratic function on boolean variables. A QUBO problem then is to find the assignment of boolean values to the variables that gives the minimum function value.\n",
    "\n",
    "**QUSO: Quadratic Unconstrained Spin Optimization**:\n",
    "A QUSO is a quadratic function on spin variables. A QUSO problem then is to find the assignment of spin values to the variables that gives the minimum function value.\n",
    "\n",
    "**PUBO: Polynomial Unconstrained Boolean Optimization**:\n",
    "A PUBO is a polynomial function on boolean variables. A PUBO problem then is to find the assignment of boolean values to the variables that gives the minimum function value.\n",
    "\n",
    "**PUSO: Polynomial Unconstrained Spin Optimization**:\n",
    "A PUSO is a polynomial function on spin variables. A PUSO problem then is to find the assignment of spin values to the variables that gives the minimum function value.\n",
    "\n",
    "**PCBO: Polynomial Constrained Boolean Optimization**:\n",
    "A PCBO is a polynomial function on boolean variables along with a set of constraints. A PCBO problem then is to find the assignment of boolean values to the variables that gives the minimum function value and satisfies the constraints.\n",
    "\n",
    "**PCSO: Polynomial Constrained Spin Optimization**:\n",
    "A PCSO is a polynomial function on spin variables along with a set of constraints. A PCSO problem then is to find the assignment of spin values to the variables that gives the minimum function value and satisfies the constraints.\n",
    "\n",
    "***A note on convention***:\n",
    "We note that the convention that qubovert uses when doing any sort of conversion from boolean values/models to/from spin values/models is the following:\n",
    "\n",
    "| Boolean | $\\leftrightarrow$ |   Spin   |\n",
    "|---------|-------------------|----------|\n",
    "|   $0$   | $\\leftrightarrow$ |    $1$   |\n",
    "|   $1$   | $\\leftrightarrow$ |   $-1$   |"
   ]
  },
  {
   "cell_type": "markdown",
   "metadata": {},
   "source": [
    "---\n",
    "# Motivations for qubovert\n",
    "\n",
    "These are the initial and ongoing motivations for qubovert. We will build up to our ending coding style. There are some things that I do in the beginning that could be done cleaner, but I do them for demonstration. By the end though, the general coding style should be clear.\n",
    "\n",
    "*I will be primarily using boolean models as examples (e.g. QUBOs, PUBOs, and PCBOs). Almost everything (besides the boolean logic discussed later) that you can do with boolean models you can also do with the corresponding spin models (e.g. QUSOs, PUSOs, and PCSOs).*"
   ]
  },
  {
   "cell_type": "markdown",
   "metadata": {},
   "source": [
    "## Motivation #0: general utilities all in one place\n",
    "\n",
    "There are a bunch of common utilities that we all use when working with boolean and spin optimization. I have rewritten the same handful of functions so many times, that I finally decided to put them into one place where I could always use them."
   ]
  },
  {
   "cell_type": "code",
   "execution_count": 2,
   "metadata": {},
   "outputs": [
    {
     "data": {
      "text/plain": [
       "('QUBOVertWarning',\n",
       " 'is_solution_spin',\n",
       " 'num_bits',\n",
       " 'approximate_pubo_extrema',\n",
       " 'approximate_puso_extrema',\n",
       " 'approximate_qubo_extrema',\n",
       " 'approximate_quso_extrema',\n",
       " 'hash_function',\n",
       " 'subgraph',\n",
       " 'subvalue',\n",
       " 'normalize',\n",
       " 'pubo_value',\n",
       " 'qubo_value',\n",
       " 'puso_value',\n",
       " 'quso_value',\n",
       " 'solve_pubo_bruteforce',\n",
       " 'solve_qubo_bruteforce',\n",
       " 'solve_puso_bruteforce',\n",
       " 'solve_quso_bruteforce',\n",
       " 'DictArithmetic',\n",
       " 'PUBOMatrix',\n",
       " 'PUSOMatrix',\n",
       " 'QUBOMatrix',\n",
       " 'matrix_to_qubo',\n",
       " 'qubo_to_matrix',\n",
       " 'QUSOMatrix',\n",
       " 'boolean_to_spin',\n",
       " 'spin_to_boolean',\n",
       " 'decimal_to_spin',\n",
       " 'spin_to_decimal',\n",
       " 'decimal_to_boolean',\n",
       " 'boolean_to_decimal',\n",
       " 'qubo_to_quso',\n",
       " 'quso_to_qubo',\n",
       " 'pubo_to_puso',\n",
       " 'puso_to_pubo',\n",
       " 'Conversions',\n",
       " 'BO')"
      ]
     },
     "execution_count": 2,
     "metadata": {},
     "output_type": "execute_result"
    }
   ],
   "source": [
    "qv.utils.__all__"
   ]
  },
  {
   "cell_type": "markdown",
   "metadata": {},
   "source": [
    "I won't go over all of these right now. Most of them are pretty self-explanatory, or if not they have very descriptive docstrings. If you have a question on any of the utilities, try running `help(utility)`. For example, let's look at the `boolean_to_spin` docstring."
   ]
  },
  {
   "cell_type": "code",
   "execution_count": 3,
   "metadata": {},
   "outputs": [
    {
     "name": "stdout",
     "output_type": "stream",
     "text": [
      "Help on function boolean_to_spin in module qubovert.utils._conversions:\n",
      "\n",
      "boolean_to_spin(x)\n",
      "    boolean_to_spin.\n",
      "    \n",
      "    Convert a boolean number in {0, 1} to a spin in {1, -1}, in that order.\n",
      "    \n",
      "    Parameters\n",
      "    ----------\n",
      "    x : int, iterable of ints, or dict mapping labels to ints.\n",
      "        Each integer is either 0 or 1.\n",
      "    \n",
      "    Returns\n",
      "    -------\n",
      "    z : int, iterable of ints, or dict mapping labels to ints.\n",
      "        Each integer is either 1 or -1.\n",
      "    \n",
      "    Example\n",
      "    -------\n",
      "    >>> boolean_to_spin(0)  # will print 1\n",
      "    >>> boolean_to_spin(1)  # will print -1\n",
      "    >>> boolean_to_spin([0, 1, 1])  # will print [1, -1, -1]\n",
      "    >>> boolean_to_spin({\"a\": 0, \"b\": 1})  # will print {\"a\": 1, \"b\": -1}\n",
      "\n"
     ]
    }
   ],
   "source": [
    "help(qv.utils.boolean_to_spin)"
   ]
  },
  {
   "cell_type": "markdown",
   "metadata": {},
   "source": [
    "Let's consider we have a boolean bitstring $b = 100101$. We'll encode it in two ways; the first will be `b0 = (1, 0, 0, 1, 0, 1)`, and the second will be `b1 = {0: 1, 1: 0, 2: 0, 3: 1, 4: 0, 5: 1}`. Note that `b0[i]` and `b1[i]` encodes the `i`th value."
   ]
  },
  {
   "cell_type": "code",
   "execution_count": 4,
   "metadata": {},
   "outputs": [],
   "source": [
    "b0 = 1, 0, 0, 1, 0, 1\n",
    "b1 = dict(enumerate(b0))"
   ]
  },
  {
   "cell_type": "markdown",
   "metadata": {},
   "source": [
    "Let's convert each of these to their corresponding spin strings."
   ]
  },
  {
   "cell_type": "code",
   "execution_count": 5,
   "metadata": {},
   "outputs": [
    {
     "name": "stdout",
     "output_type": "stream",
     "text": [
      "b0 --> (-1, 1, 1, -1, 1, -1)\n",
      "b1 --> {0: -1, 1: 1, 2: 1, 3: -1, 4: 1, 5: -1}\n"
     ]
    }
   ],
   "source": [
    "print(\"b0 -->\", qv.utils.boolean_to_spin(b0))\n",
    "print(\"b1 -->\", qv.utils.boolean_to_spin(b1))"
   ]
  },
  {
   "cell_type": "markdown",
   "metadata": {},
   "source": [
    "To ensure consistency, we'll convert to and from."
   ]
  },
  {
   "cell_type": "code",
   "execution_count": 6,
   "metadata": {},
   "outputs": [],
   "source": [
    "assert b0 == qv.utils.spin_to_boolean(qv.utils.boolean_to_spin(b0))\n",
    "assert b1 == qv.utils.spin_to_boolean(qv.utils.boolean_to_spin(b1))"
   ]
  },
  {
   "cell_type": "markdown",
   "metadata": {},
   "source": [
    "If we consider that $b$ is a binary number, then we can figure out what number it encodes in base 10 via the following."
   ]
  },
  {
   "cell_type": "code",
   "execution_count": 7,
   "metadata": {},
   "outputs": [
    {
     "data": {
      "text/plain": [
       "37"
      ]
     },
     "execution_count": 7,
     "metadata": {},
     "output_type": "execute_result"
    }
   ],
   "source": [
    "qv.utils.boolean_to_decimal(b0)"
   ]
  },
  {
   "cell_type": "markdown",
   "metadata": {},
   "source": [
    "Similarly, we can take the spin representation of $b$ and convert it to decimal."
   ]
  },
  {
   "cell_type": "code",
   "execution_count": 8,
   "metadata": {},
   "outputs": [
    {
     "data": {
      "text/plain": [
       "37"
      ]
     },
     "execution_count": 8,
     "metadata": {},
     "output_type": "execute_result"
    }
   ],
   "source": [
    "qv.utils.spin_to_decimal(qv.utils.boolean_to_spin(b0))"
   ]
  },
  {
   "cell_type": "markdown",
   "metadata": {},
   "source": [
    "Let's way we have a number $d$ and we want to figure out how to represent it in binary with boolean values."
   ]
  },
  {
   "cell_type": "code",
   "execution_count": 9,
   "metadata": {},
   "outputs": [
    {
     "data": {
      "text/plain": [
       "(1, 0, 1, 0)"
      ]
     },
     "execution_count": 9,
     "metadata": {},
     "output_type": "execute_result"
    }
   ],
   "source": [
    "d = 10\n",
    "qv.utils.decimal_to_boolean(d)"
   ]
  },
  {
   "cell_type": "markdown",
   "metadata": {},
   "source": [
    "This will by default use only as many bits as necessary. But let's say we want to represent it with 7 bits."
   ]
  },
  {
   "cell_type": "code",
   "execution_count": 10,
   "metadata": {},
   "outputs": [
    {
     "data": {
      "text/plain": [
       "(0, 0, 0, 1, 0, 1, 0)"
      ]
     },
     "execution_count": 10,
     "metadata": {},
     "output_type": "execute_result"
    }
   ],
   "source": [
    "qv.utils.decimal_to_boolean(d, num_bits=7)"
   ]
  },
  {
   "cell_type": "markdown",
   "metadata": {},
   "source": [
    "Similarly, we can figure out the spin string."
   ]
  },
  {
   "cell_type": "code",
   "execution_count": 11,
   "metadata": {},
   "outputs": [
    {
     "data": {
      "text/plain": [
       "(-1, 1, -1, 1)"
      ]
     },
     "execution_count": 11,
     "metadata": {},
     "output_type": "execute_result"
    }
   ],
   "source": [
    "qv.utils.decimal_to_spin(d)"
   ]
  },
  {
   "cell_type": "code",
   "execution_count": 12,
   "metadata": {},
   "outputs": [
    {
     "data": {
      "text/plain": [
       "(1, 1, 1, -1, 1, -1, 1)"
      ]
     },
     "execution_count": 12,
     "metadata": {},
     "output_type": "execute_result"
    }
   ],
   "source": [
    "qv.utils.decimal_to_spin(d, num_spins=7)"
   ]
  },
  {
   "cell_type": "markdown",
   "metadata": {},
   "source": [
    "The `num_bits` function will determine how many bits are needed to represent a number in binary."
   ]
  },
  {
   "cell_type": "code",
   "execution_count": 13,
   "metadata": {},
   "outputs": [
    {
     "data": {
      "text/plain": [
       "3"
      ]
     },
     "execution_count": 13,
     "metadata": {},
     "output_type": "execute_result"
    }
   ],
   "source": [
    "qv.utils.num_bits(7)"
   ]
  },
  {
   "cell_type": "markdown",
   "metadata": {},
   "source": [
    "This is a good chance for us to discuss what qubovert calls the `log_trick`. Basically, `log_trick=True` refers to a binary encoding of an integer and `log_trick=False` refers to a (sort of) unary encoding. For example, the encoding of a variable $x$ that can take values between 0 and 7 while setting `log_trick=True` would be $x = \\sum_{i=0}^{3} 2^i x_i$; thus `num_bits(7, log_trick=True) = 3`. The encoding of $x$ with `log_trick=False` would be $x = \\sum_{i=0}^7 x_i$; thus `num_bits(7, log_trick=False) = 7`."
   ]
  },
  {
   "cell_type": "code",
   "execution_count": 14,
   "metadata": {},
   "outputs": [
    {
     "data": {
      "text/plain": [
       "7"
      ]
     },
     "execution_count": 14,
     "metadata": {},
     "output_type": "execute_result"
    }
   ],
   "source": [
    "qv.utils.num_bits(7, log_trick=False)"
   ]
  },
  {
   "cell_type": "markdown",
   "metadata": {},
   "source": [
    "The reason somebody may want to keep `log_trick=True` as it is by default is because it uses less bits to encode an integer. The reason somebody may want to set `log_trick=False` is because it requires no dynamical range of the coefficients. This is sometimes important when running problems on quantum hardware, or even sometimes important just to keep the optimization landscape smoother and thus easier to navigate."
   ]
  },
  {
   "cell_type": "markdown",
   "metadata": {},
   "source": [
    "**A QUBO is a function** $f: \\{0, 1 \\}^n \\to \\mathbb R$ defined by an $n \\times n$ matrix $Q$ so that $$f(x) = x^T Q x = \\sum_{i, j=0}^n x_i x_j Q_{ij}.$$ Consider the QUBO function represented by the $Q$ matrix $$Q = \\left(\\begin{matrix}1&0\\\\-2&3\\end{matrix}\\right).$$"
   ]
  },
  {
   "cell_type": "code",
   "execution_count": 15,
   "metadata": {},
   "outputs": [],
   "source": [
    "Q = [[1, 0], [-2, 3]]"
   ]
  },
  {
   "cell_type": "markdown",
   "metadata": {},
   "source": [
    "Notice this defines the function $$f(x) = x_0 -2x_0x_1 + x_1.$$\n",
    "\n",
    "qubovert respresents QUBO functions a little differently because in typical QUBO problems $Q$ is very sparse and so there is no reason for us to be wasting memory storing a lot of zeros. So instead qubovert represents a QUBO as a dictionary mapping products of labels to their coefficients. Let's look at how qubovert would represent the QUBO defined by $Q$."
   ]
  },
  {
   "cell_type": "code",
   "execution_count": 16,
   "metadata": {},
   "outputs": [
    {
     "name": "stdout",
     "output_type": "stream",
     "text": [
      "{(0,): 1, (0, 1): -2, (1,): 3}\n"
     ]
    }
   ],
   "source": [
    "qubo = qv.utils.matrix_to_qubo(Q)\n",
    "print(qubo)"
   ]
  },
  {
   "cell_type": "markdown",
   "metadata": {},
   "source": [
    "If we want to see a more familiary mathematical expression, we can use the `.pretty_str` method (we can do this because `matrix_to_qubo` actually returns a qubovert type, see a few cells down where I talk about this)."
   ]
  },
  {
   "cell_type": "code",
   "execution_count": 17,
   "metadata": {},
   "outputs": [
    {
     "name": "stdout",
     "output_type": "stream",
     "text": [
      "x(0) - 2 x(0) x(1) + 3 x(1)\n"
     ]
    }
   ],
   "source": [
    "print(qubo.pretty_str())"
   ]
  },
  {
   "cell_type": "markdown",
   "metadata": {},
   "source": [
    "Let's say we want to figure out the value of $f(x)$ if $x$ is the vector $x = \\left(\\begin{matrix}1\\\\0\\end{matrix} \\right)$. If we use the $Q$ matrix, then we could use NumPy."
   ]
  },
  {
   "cell_type": "code",
   "execution_count": 18,
   "metadata": {},
   "outputs": [
    {
     "name": "stdout",
     "output_type": "stream",
     "text": [
      "[[1]]\n"
     ]
    }
   ],
   "source": [
    "import numpy as np\n",
    "\n",
    "x = np.array([[1], [0]])\n",
    "print(x.T @ np.array(Q) @ x)"
   ]
  },
  {
   "cell_type": "markdown",
   "metadata": {},
   "source": [
    "If we instead want to use qubovert's representation, then we can use the `qubo_value` function."
   ]
  },
  {
   "cell_type": "code",
   "execution_count": 19,
   "metadata": {},
   "outputs": [
    {
     "name": "stdout",
     "output_type": "stream",
     "text": [
      "1\n"
     ]
    }
   ],
   "source": [
    "print(qv.utils.qubo_value(x, qubo))"
   ]
  },
  {
   "cell_type": "markdown",
   "metadata": {},
   "source": [
    "Generally, though, we will let `x` be an assignment represented with a Python `dict`, saying that the 0th variable maps to the value 1 and the 1st variable maps the value 0. This will come in handy as we start labeling variables as strings rather than integers."
   ]
  },
  {
   "cell_type": "code",
   "execution_count": 20,
   "metadata": {},
   "outputs": [
    {
     "name": "stdout",
     "output_type": "stream",
     "text": [
      "1\n"
     ]
    }
   ],
   "source": [
    "x = {0: 1, 1: 0}\n",
    "print(qv.utils.qubo_value(x, qubo))"
   ]
  },
  {
   "cell_type": "markdown",
   "metadata": {},
   "source": [
    "The similar functions exist for QUSOs, PUBOs, and PUSOs (`quso_value`, `pubo_value`, and `puso_value`). But there's something else we can do too if we wanted. The `matrix_to_qubo` function actually returns a qubovert type `qv.utils.QUBOMatrix` which is very similar to a Python `dict` but has some extra methods attached to it. I will go into much more detail later about what exactly this object is, but for now let's just take advantage of the fact that it has a `.value` method."
   ]
  },
  {
   "cell_type": "code",
   "execution_count": 21,
   "metadata": {},
   "outputs": [
    {
     "name": "stdout",
     "output_type": "stream",
     "text": [
      "1\n"
     ]
    }
   ],
   "source": [
    "print(qubo.value(x))"
   ]
  },
  {
   "cell_type": "markdown",
   "metadata": {},
   "source": [
    "By the way if we wanted to take a QUBO represented with qubovert and convert it to the matrix representation, we can use the `qubo_to_matrix` function. Notice that the matrices $Q_1$ and $Q_2$ define the same function we were talking about before:\n",
    "\n",
    "$$Q = \\left(\\begin{matrix}1&0\\\\-2&3\\end{matrix}\\right) \\qquad Q_1 = \\left(\\begin{matrix}1&-2\\\\0&3\\end{matrix}\\right) \\qquad Q_2 = \\left(\\begin{matrix}1&-1\\\\-1&3\\end{matrix}\\right)$$\n",
    "\n",
    "$$\\forall x:~~x^T Q x = x^T Q_1 x = x^T Q_2 x$$\n",
    "\n",
    "If you do the multiplication, this is clear. qubovert's representation of QUBOs does not have this degeneracy, it picks a form and sticks with it throughout. So we can actually check that these define the same QUBO."
   ]
  },
  {
   "cell_type": "code",
   "execution_count": 22,
   "metadata": {},
   "outputs": [
    {
     "name": "stdout",
     "output_type": "stream",
     "text": [
      "True\n",
      "True\n"
     ]
    }
   ],
   "source": [
    "Q = [[1, 0], [-2, 3]]\n",
    "Q1 = [[1, -2], [0, 3]]\n",
    "Q2 = [[1, -1], [-1, 3]]\n",
    "\n",
    "qubo = qv.utils.matrix_to_qubo(Q)\n",
    "print(qubo == qv.utils.matrix_to_qubo(Q1))\n",
    "print(qubo == qv.utils.matrix_to_qubo(Q2))"
   ]
  },
  {
   "cell_type": "markdown",
   "metadata": {},
   "source": [
    "Notice that $Q_1$ is *upper-triangular* and $Q_2$ is *symmetric*. We can convert the qubovert representation `qubo` back to a matrix and specifiy which form we want it be it. If we set  `symmetric=False` then we will get the upper-triangular form, and if we set `symmetric=True` then we will get the symmetric form."
   ]
  },
  {
   "cell_type": "code",
   "execution_count": 23,
   "metadata": {},
   "outputs": [
    {
     "name": "stdout",
     "output_type": "stream",
     "text": [
      "True\n",
      "True\n"
     ]
    }
   ],
   "source": [
    "print(Q1 == qv.utils.qubo_to_matrix(qubo, symmetric=False, array=False))\n",
    "print(Q2 == qv.utils.qubo_to_matrix(qubo, symmetric=True, array=False))"
   ]
  },
  {
   "cell_type": "markdown",
   "metadata": {},
   "source": [
    "Notice also that the `array=False` argument means that the function will return a list of lists representing a matrix (the same way we made our matrices above). But if you leave `array=True` then it will return a NumPy array."
   ]
  },
  {
   "cell_type": "code",
   "execution_count": 24,
   "metadata": {},
   "outputs": [
    {
     "name": "stdout",
     "output_type": "stream",
     "text": [
      "[[1.0, -2.0], [0.0, 3.0]]\n",
      "[[ 1. -2.]\n",
      " [ 0.  3.]]\n"
     ]
    }
   ],
   "source": [
    "print(qv.utils.qubo_to_matrix(qubo, array=False))\n",
    "print(qv.utils.qubo_to_matrix(qubo, array=True))"
   ]
  },
  {
   "cell_type": "markdown",
   "metadata": {},
   "source": [
    "I'll discuss most of the rest of the `qubovert.utils` library later in this notebook. In particular, please see the [Advanced details](#Advanced-details) section below for usage of the `solve_bruteforce`, `subgraph`, `subvalue`, and `normalize` functions. I will discuss/use the conversion functions (e.g. `qubo_to_quso`, `puso_to_pubo`, etc.) throughout the rest of the [Motivations for qubovert](#Motivations-for-qubovert) section, and I will mention some important details about them in the [Summary of the main qubovert functionality](#Summary-of-the-main-qubovert-functionality) section below."
   ]
  },
  {
   "cell_type": "markdown",
   "metadata": {},
   "source": [
    "## Motiviation #1: arithmetic\n",
    "\n",
    "The first motivation was that performing arithmetic with dicts is arduous and buggy, and it's often hard to find exactly where a bug is occurring. Consider for example a Polynomial Unconstrained Boolean Optimization (PUBO) problem $F: \\{0, 1 \\}^{n} \\times \\{0, 1 \\}^n \\to \\mathbb R$ whose groundstate encodes the factors of $N$ where $n$ is defined to be the number of bits required to encode integers up to $\\lfloor N / 2 \\rfloor$,\n",
    "\n",
    "$$F(x, y) = \\left(N - \\left(2+\\sum_{i=0}^n 2^i x_i\\right)\\left(2+\\sum_{i=0}^n 2^i y_i\\right) \\right)^2.$$\n",
    "\n",
    "For our example we'll set $N = 9$."
   ]
  },
  {
   "cell_type": "code",
   "execution_count": 25,
   "metadata": {},
   "outputs": [
    {
     "name": "stdout",
     "output_type": "stream",
     "text": [
      "3\n"
     ]
    }
   ],
   "source": [
    "N = 9\n",
    "n = qv.utils.num_bits(N // 2)\n",
    "print(n)"
   ]
  },
  {
   "cell_type": "markdown",
   "metadata": {},
   "source": [
    "If $F(x, y) = 0$, then $x := 2+\\sum_{i=0}^n 2^i x_i$ is a nontrivial factor of $N$ and $y := 2+\\sum_{i=0}^n 2^i y_i$ is a factor. *Of course finding factors in this way is not advised, seeing as PUBOs are in general harder to solve than the factoring problem, and there isn't really a notion of being close to the right solution and so the optimization landscape has no good information to help in finding the groudstate*. Nonetheless, this will serve as an interesting example for much of this notebook.\n",
    "\n",
    "Recall that we generally encode binary functions as Python dictionaries. So for example, something like $$f(x_0, x_1, x_2) = -x_0x_1x_2 + x_0x_1 + 2 x_1 - 3 x_2 + 4$$ would be encoded in Python as \n",
    "\n",
    "    f = {(0, 1, 2): -1, (0, 1): 1, (1,): 2, (2,): -3, (): 4}\n",
    "    \n",
    "Thus to encode $F$ we need to expand it out as\n",
    "\n",
    "$$\n",
    "\\begin{aligned}\n",
    "F(x, y) &= \\left(N - \\left(2+\\sum_{i=0}^n 2^i x_i\\right)\\left(2+\\sum_{i=0}^n 2^i y_i\\right) \\right)^2\\\\\n",
    "&= \\left(N - 4 - 2 \\sum_{i=0}^n 2^i (x_i + y_i) - \\sum_{i, j=0}^n 2^{i+j} x_i y_j \\right)\\left(N - 4 - 2 \\sum_{i=0}^n 2^i (x_i + y_i) - \\sum_{i, j=0}^n 2^{i+j} x_i y_j \\right)\\\\\n",
    "&= \\dots\\\\\n",
    "&= \\dots\n",
    "\\end{aligned}\n",
    "$$\n",
    "\n",
    "Honestly I had the full intention of going through all of that arithmetic but I just really don't want to. **This was the motivation for the `DictArithmetic` object in qubovert**. This object deals with arbitrary arithmetic with dictionaries. It it a direct child class of `dict` as seen by the Method Resolution Order (MRO)."
   ]
  },
  {
   "cell_type": "code",
   "execution_count": 26,
   "metadata": {},
   "outputs": [
    {
     "data": {
      "text/plain": [
       "[qubovert.utils._dict_arithmetic.DictArithmetic, dict, object]"
      ]
     },
     "execution_count": 26,
     "metadata": {},
     "output_type": "execute_result"
    }
   ],
   "source": [
    "qv.utils.DictArithmetic.mro()"
   ]
  },
  {
   "cell_type": "markdown",
   "metadata": {},
   "source": [
    "Most arithmetic operations are defined. For example, `*`, `+`, `-`, `/`, `//`, `**`, `*=`, `+=`, `-=`, `/=`, `//=`, and `**=` are all defined, as well as the `round` method.\n",
    "\n",
    "So let's create $F$ with `DictArithmetic` so that I don't have to go through all of that crazy arithmetic and surely get caught in math and coding bugs. We'll start off by creating each $x_i$ and $y_i$, which will be dictionaries `{('xi',): 1}`."
   ]
  },
  {
   "cell_type": "code",
   "execution_count": 27,
   "metadata": {},
   "outputs": [
    {
     "name": "stdout",
     "output_type": "stream",
     "text": [
      "[{('x0',): 1}, {('x1',): 1}, {('x2',): 1}]\n",
      "[{('y0',): 1}, {('y1',): 1}, {('y2',): 1}]\n"
     ]
    }
   ],
   "source": [
    "x_vars = [qv.utils.DictArithmetic({('x%d' % i,): 1}) for i in range(n)]\n",
    "y_vars = [qv.utils.DictArithmetic({('y%d' % i,): 1}) for i in range(n)]\n",
    "\n",
    "print(x_vars)\n",
    "print(y_vars)"
   ]
  },
  {
   "cell_type": "markdown",
   "metadata": {},
   "source": [
    "Now we can literally just write out $x,y$ as we would with math."
   ]
  },
  {
   "cell_type": "code",
   "execution_count": 28,
   "metadata": {},
   "outputs": [
    {
     "name": "stdout",
     "output_type": "stream",
     "text": [
      "{('x0',): 1, ('x1',): 2, ('x2',): 4, (): 2}\n",
      "{('y0',): 1, ('y1',): 2, ('y2',): 4, (): 2}\n"
     ]
    }
   ],
   "source": [
    "x = 2 + sum(2**i * x_vars[i] for i in range(n))\n",
    "y = 2 + sum(2**i * y_vars[i] for i in range(n))\n",
    "\n",
    "print(x)\n",
    "print(y)"
   ]
  },
  {
   "cell_type": "markdown",
   "metadata": {},
   "source": [
    "And similarly $F$."
   ]
  },
  {
   "cell_type": "code",
   "execution_count": 29,
   "metadata": {},
   "outputs": [
    {
     "name": "stdout",
     "output_type": "stream",
     "text": [
      "{('x0', 'y0', 'x0', 'y0'): 1, ('x0', 'y0', 'x0', 'y1'): 2, ('x0', 'y0', 'x0', 'y2'): 4, ('x0', 'y0', 'x0'): 2, ('x0', 'y0', 'x1', 'y0'): 2, ('x0', 'y0', 'x1', 'y1'): 4, ('x0', 'y0', 'x1', 'y2'): 8, ('x0', 'y0', 'x1'): 4, ('x0', 'y0', 'x2', 'y0'): 4, ('x0', 'y0', 'x2', 'y1'): 8, ('x0', 'y0', 'x2', 'y2'): 16, ('x0', 'y0', 'x2'): 8, ('x0', 'y0', 'y0'): 2, ('x0', 'y0', 'y1'): 4, ('x0', 'y0', 'y2'): 8, ('x0', 'y0'): -6, ('x0', 'y1', 'x0', 'y0'): 2, ('x0', 'y1', 'x0', 'y1'): 4, ('x0', 'y1', 'x0', 'y2'): 8, ('x0', 'y1', 'x0'): 4, ('x0', 'y1', 'x1', 'y0'): 4, ('x0', 'y1', 'x1', 'y1'): 8, ('x0', 'y1', 'x1', 'y2'): 16, ('x0', 'y1', 'x1'): 8, ('x0', 'y1', 'x2', 'y0'): 8, ('x0', 'y1', 'x2', 'y1'): 16, ('x0', 'y1', 'x2', 'y2'): 32, ('x0', 'y1', 'x2'): 16, ('x0', 'y1', 'y0'): 4, ('x0', 'y1', 'y1'): 8, ('x0', 'y1', 'y2'): 16, ('x0', 'y1'): -12, ('x0', 'y2', 'x0', 'y0'): 4, ('x0', 'y2', 'x0', 'y1'): 8, ('x0', 'y2', 'x0', 'y2'): 16, ('x0', 'y2', 'x0'): 8, ('x0', 'y2', 'x1', 'y0'): 8, ('x0', 'y2', 'x1', 'y1'): 16, ('x0', 'y2', 'x1', 'y2'): 32, ('x0', 'y2', 'x1'): 16, ('x0', 'y2', 'x2', 'y0'): 16, ('x0', 'y2', 'x2', 'y1'): 32, ('x0', 'y2', 'x2', 'y2'): 64, ('x0', 'y2', 'x2'): 32, ('x0', 'y2', 'y0'): 8, ('x0', 'y2', 'y1'): 16, ('x0', 'y2', 'y2'): 32, ('x0', 'y2'): -24, ('x0', 'x0', 'y0'): 2, ('x0', 'x0', 'y1'): 4, ('x0', 'x0', 'y2'): 8, ('x0', 'x0'): 4, ('x0', 'x1', 'y0'): 4, ('x0', 'x1', 'y1'): 8, ('x0', 'x1', 'y2'): 16, ('x0', 'x1'): 8, ('x0', 'x2', 'y0'): 8, ('x0', 'x2', 'y1'): 16, ('x0', 'x2', 'y2'): 32, ('x0', 'x2'): 16, ('x0',): -20, ('x1', 'y0', 'x0', 'y0'): 2, ('x1', 'y0', 'x0', 'y1'): 4, ('x1', 'y0', 'x0', 'y2'): 8, ('x1', 'y0', 'x0'): 4, ('x1', 'y0', 'x1', 'y0'): 4, ('x1', 'y0', 'x1', 'y1'): 8, ('x1', 'y0', 'x1', 'y2'): 16, ('x1', 'y0', 'x1'): 8, ('x1', 'y0', 'x2', 'y0'): 8, ('x1', 'y0', 'x2', 'y1'): 16, ('x1', 'y0', 'x2', 'y2'): 32, ('x1', 'y0', 'x2'): 16, ('x1', 'y0', 'y0'): 4, ('x1', 'y0', 'y1'): 8, ('x1', 'y0', 'y2'): 16, ('x1', 'y0'): -12, ('x1', 'y1', 'x0', 'y0'): 4, ('x1', 'y1', 'x0', 'y1'): 8, ('x1', 'y1', 'x0', 'y2'): 16, ('x1', 'y1', 'x0'): 8, ('x1', 'y1', 'x1', 'y0'): 8, ('x1', 'y1', 'x1', 'y1'): 16, ('x1', 'y1', 'x1', 'y2'): 32, ('x1', 'y1', 'x1'): 16, ('x1', 'y1', 'x2', 'y0'): 16, ('x1', 'y1', 'x2', 'y1'): 32, ('x1', 'y1', 'x2', 'y2'): 64, ('x1', 'y1', 'x2'): 32, ('x1', 'y1', 'y0'): 8, ('x1', 'y1', 'y1'): 16, ('x1', 'y1', 'y2'): 32, ('x1', 'y1'): -24, ('x1', 'y2', 'x0', 'y0'): 8, ('x1', 'y2', 'x0', 'y1'): 16, ('x1', 'y2', 'x0', 'y2'): 32, ('x1', 'y2', 'x0'): 16, ('x1', 'y2', 'x1', 'y0'): 16, ('x1', 'y2', 'x1', 'y1'): 32, ('x1', 'y2', 'x1', 'y2'): 64, ('x1', 'y2', 'x1'): 32, ('x1', 'y2', 'x2', 'y0'): 32, ('x1', 'y2', 'x2', 'y1'): 64, ('x1', 'y2', 'x2', 'y2'): 128, ('x1', 'y2', 'x2'): 64, ('x1', 'y2', 'y0'): 16, ('x1', 'y2', 'y1'): 32, ('x1', 'y2', 'y2'): 64, ('x1', 'y2'): -48, ('x1', 'x0', 'y0'): 4, ('x1', 'x0', 'y1'): 8, ('x1', 'x0', 'y2'): 16, ('x1', 'x0'): 8, ('x1', 'x1', 'y0'): 8, ('x1', 'x1', 'y1'): 16, ('x1', 'x1', 'y2'): 32, ('x1', 'x1'): 16, ('x1', 'x2', 'y0'): 16, ('x1', 'x2', 'y1'): 32, ('x1', 'x2', 'y2'): 64, ('x1', 'x2'): 32, ('x1',): -40, ('x2', 'y0', 'x0', 'y0'): 4, ('x2', 'y0', 'x0', 'y1'): 8, ('x2', 'y0', 'x0', 'y2'): 16, ('x2', 'y0', 'x0'): 8, ('x2', 'y0', 'x1', 'y0'): 8, ('x2', 'y0', 'x1', 'y1'): 16, ('x2', 'y0', 'x1', 'y2'): 32, ('x2', 'y0', 'x1'): 16, ('x2', 'y0', 'x2', 'y0'): 16, ('x2', 'y0', 'x2', 'y1'): 32, ('x2', 'y0', 'x2', 'y2'): 64, ('x2', 'y0', 'x2'): 32, ('x2', 'y0', 'y0'): 8, ('x2', 'y0', 'y1'): 16, ('x2', 'y0', 'y2'): 32, ('x2', 'y0'): -24, ('x2', 'y1', 'x0', 'y0'): 8, ('x2', 'y1', 'x0', 'y1'): 16, ('x2', 'y1', 'x0', 'y2'): 32, ('x2', 'y1', 'x0'): 16, ('x2', 'y1', 'x1', 'y0'): 16, ('x2', 'y1', 'x1', 'y1'): 32, ('x2', 'y1', 'x1', 'y2'): 64, ('x2', 'y1', 'x1'): 32, ('x2', 'y1', 'x2', 'y0'): 32, ('x2', 'y1', 'x2', 'y1'): 64, ('x2', 'y1', 'x2', 'y2'): 128, ('x2', 'y1', 'x2'): 64, ('x2', 'y1', 'y0'): 16, ('x2', 'y1', 'y1'): 32, ('x2', 'y1', 'y2'): 64, ('x2', 'y1'): -48, ('x2', 'y2', 'x0', 'y0'): 16, ('x2', 'y2', 'x0', 'y1'): 32, ('x2', 'y2', 'x0', 'y2'): 64, ('x2', 'y2', 'x0'): 32, ('x2', 'y2', 'x1', 'y0'): 32, ('x2', 'y2', 'x1', 'y1'): 64, ('x2', 'y2', 'x1', 'y2'): 128, ('x2', 'y2', 'x1'): 64, ('x2', 'y2', 'x2', 'y0'): 64, ('x2', 'y2', 'x2', 'y1'): 128, ('x2', 'y2', 'x2', 'y2'): 256, ('x2', 'y2', 'x2'): 128, ('x2', 'y2', 'y0'): 32, ('x2', 'y2', 'y1'): 64, ('x2', 'y2', 'y2'): 128, ('x2', 'y2'): -96, ('x2', 'x0', 'y0'): 8, ('x2', 'x0', 'y1'): 16, ('x2', 'x0', 'y2'): 32, ('x2', 'x0'): 16, ('x2', 'x1', 'y0'): 16, ('x2', 'x1', 'y1'): 32, ('x2', 'x1', 'y2'): 64, ('x2', 'x1'): 32, ('x2', 'x2', 'y0'): 32, ('x2', 'x2', 'y1'): 64, ('x2', 'x2', 'y2'): 128, ('x2', 'x2'): 64, ('x2',): -80, ('y0', 'x0', 'y0'): 2, ('y0', 'x0', 'y1'): 4, ('y0', 'x0', 'y2'): 8, ('y0', 'x0'): 4, ('y0', 'x1', 'y0'): 4, ('y0', 'x1', 'y1'): 8, ('y0', 'x1', 'y2'): 16, ('y0', 'x1'): 8, ('y0', 'x2', 'y0'): 8, ('y0', 'x2', 'y1'): 16, ('y0', 'x2', 'y2'): 32, ('y0', 'x2'): 16, ('y0', 'y0'): 4, ('y0', 'y1'): 8, ('y0', 'y2'): 16, ('y0',): -20, ('y1', 'x0', 'y0'): 4, ('y1', 'x0', 'y1'): 8, ('y1', 'x0', 'y2'): 16, ('y1', 'x0'): 8, ('y1', 'x1', 'y0'): 8, ('y1', 'x1', 'y1'): 16, ('y1', 'x1', 'y2'): 32, ('y1', 'x1'): 16, ('y1', 'x2', 'y0'): 16, ('y1', 'x2', 'y1'): 32, ('y1', 'x2', 'y2'): 64, ('y1', 'x2'): 32, ('y1', 'y0'): 8, ('y1', 'y1'): 16, ('y1', 'y2'): 32, ('y1',): -40, ('y2', 'x0', 'y0'): 8, ('y2', 'x0', 'y1'): 16, ('y2', 'x0', 'y2'): 32, ('y2', 'x0'): 16, ('y2', 'x1', 'y0'): 16, ('y2', 'x1', 'y1'): 32, ('y2', 'x1', 'y2'): 64, ('y2', 'x1'): 32, ('y2', 'x2', 'y0'): 32, ('y2', 'x2', 'y1'): 64, ('y2', 'x2', 'y2'): 128, ('y2', 'x2'): 64, ('y2', 'y0'): 16, ('y2', 'y1'): 32, ('y2', 'y2'): 64, ('y2',): -80, (): 25}\n"
     ]
    }
   ],
   "source": [
    "F = (N - x * y) ** 2\n",
    "print(F)"
   ]
  },
  {
   "cell_type": "markdown",
   "metadata": {},
   "source": [
    "*Notice that `DictArithmetic` does not use any simplification assumptions!* It does not assume commutation and will thus differentiate between something like $x_0 x_1$ and $x_1 x_0$. That's why you see terms like `('x0', 'y0', 'x0', 'y0'): 1` which corresponds to $x_0 y_0 x_0 y_0$. But we know that these are boolean variables with each $x_i, y_i \\in \\{0, 1 \\}$, so we know that $x_0 y_0 x_0 y_0 = x_0y_0 = y_0 x_0$. Thus we have the motivation for the `PUBO` object. Let's convert `F` to a `PUBO`."
   ]
  },
  {
   "cell_type": "code",
   "execution_count": 30,
   "metadata": {},
   "outputs": [
    {
     "name": "stdout",
     "output_type": "stream",
     "text": [
      "{('x0', 'y0'): 7, ('y1', 'x0', 'y0'): 20, ('y2', 'x0', 'y0'): 40, ('x0', 'y0', 'x1'): 20, ('y1', 'x0', 'y0', 'x1'): 16, ('y2', 'x0', 'y0', 'x1'): 32, ('x2', 'x0', 'y0'): 40, ('x2', 'y1', 'x0', 'y0'): 32, ('x2', 'y2', 'x0', 'y0'): 64, ('y1', 'x0'): 24, ('y1', 'y2', 'x0'): 80, ('y1', 'x0', 'x1'): 48, ('y1', 'y2', 'x0', 'x1'): 64, ('x2', 'y1', 'x0'): 96, ('x2', 'y1', 'y2', 'x0'): 128, ('y2', 'x0'): 88, ('y2', 'x0', 'x1'): 128, ('x2', 'y2', 'x0'): 256, ('x0',): -16, ('x0', 'x1'): 16, ('x2', 'x0'): 32, ('y0', 'x1'): 24, ('y1', 'y0', 'x1'): 48, ('y2', 'y0', 'x1'): 96, ('x2', 'y0', 'x1'): 80, ('x2', 'y1', 'y0', 'x1'): 64, ('x2', 'y2', 'y0', 'x1'): 128, ('y1', 'x1'): 72, ('y1', 'y2', 'x1'): 192, ('x2', 'y1', 'x1'): 192, ('x2', 'y1', 'y2', 'x1'): 256, ('y2', 'x1'): 240, ('x2', 'y2', 'x1'): 512, ('x1',): -24, ('x2', 'x1'): 64, ('x2', 'y0'): 88, ('x2', 'y1', 'y0'): 128, ('x2', 'y2', 'y0'): 256, ('x2', 'y1'): 240, ('x2', 'y1', 'y2'): 512, ('x2', 'y2'): 736, ('x2',): -16, ('y0',): -16, ('y1', 'y0'): 16, ('y2', 'y0'): 32, ('y1',): -24, ('y1', 'y2'): 64, ('y2',): -16, (): 25}\n"
     ]
    }
   ],
   "source": [
    "F_PUBO = qv.PUBO(F)\n",
    "\n",
    "print(F_PUBO)"
   ]
  },
  {
   "cell_type": "markdown",
   "metadata": {},
   "source": [
    "Notice how much smaller it is, and how it is now fully simplified in its expanded form! Now there is a lot of inheritence going on with the `PUBO` object, but for now I just want you to notice that at the bottom of its MRO we see the `DictArithmetic` working in the background to do all of the arithmetic!"
   ]
  },
  {
   "cell_type": "code",
   "execution_count": 31,
   "metadata": {},
   "outputs": [
    {
     "data": {
      "text/plain": [
       "[qubovert._pubo.PUBO,\n",
       " qubovert.utils._bo_parentclass.BO,\n",
       " qubovert.utils._conversions.Conversions,\n",
       " qubovert.utils._pubomatrix.PUBOMatrix,\n",
       " qubovert.utils._dict_arithmetic.DictArithmetic,\n",
       " dict,\n",
       " object]"
      ]
     },
     "execution_count": 31,
     "metadata": {},
     "output_type": "execute_result"
    }
   ],
   "source": [
    "qv.PUBO.mro()"
   ]
  },
  {
   "cell_type": "markdown",
   "metadata": {},
   "source": [
    "So from now on, we can totally ignore the `DictArithmetic` object and instead start right away with a `PUBO`. We can create variables in the same exact way as before, but replacing `qv.utils.DictArithmetic` with `qv.PUBO`."
   ]
  },
  {
   "cell_type": "code",
   "execution_count": 32,
   "metadata": {},
   "outputs": [
    {
     "name": "stdout",
     "output_type": "stream",
     "text": [
      "{('y1', 'x0', 'y0'): 20, ('y2', 'x0', 'y0'): 40, ('x0', 'y0', 'x1'): 20, ('y1', 'x0', 'y0', 'x1'): 16, ('y2', 'x0', 'y0', 'x1'): 32, ('x2', 'x0', 'y0'): 40, ('x2', 'y1', 'x0', 'y0'): 32, ('x2', 'y2', 'x0', 'y0'): 64, ('y1', 'x0'): 24, ('y1', 'y2', 'x0'): 80, ('y1', 'x0', 'x1'): 48, ('y1', 'y2', 'x0', 'x1'): 64, ('x2', 'y1', 'x0'): 96, ('x2', 'y1', 'y2', 'x0'): 128, ('y2', 'x0'): 88, ('y2', 'x0', 'x1'): 128, ('x2', 'y2', 'x0'): 256, ('x0', 'y0'): 7, ('x0',): -16, ('x0', 'x1'): 16, ('x2', 'x0'): 32, ('y0', 'x1'): 24, ('y1', 'y0', 'x1'): 48, ('y2', 'y0', 'x1'): 96, ('x2', 'y0', 'x1'): 80, ('x2', 'y1', 'y0', 'x1'): 64, ('x2', 'y2', 'y0', 'x1'): 128, ('y1', 'x1'): 72, ('y1', 'y2', 'x1'): 192, ('x2', 'y1', 'x1'): 192, ('x2', 'y1', 'y2', 'x1'): 256, ('y2', 'x1'): 240, ('x2', 'y2', 'x1'): 512, ('x1',): -24, ('x2', 'x1'): 64, ('x2', 'y0'): 88, ('x2', 'y1', 'y0'): 128, ('x2', 'y2', 'y0'): 256, ('x2', 'y1'): 240, ('x2', 'y1', 'y2'): 512, ('x2', 'y2'): 736, ('x2',): -16, ('y0',): -16, ('y1', 'y0'): 16, ('y2', 'y0'): 32, ('y1',): -24, ('y1', 'y2'): 64, ('y2',): -16, (): 25}\n"
     ]
    }
   ],
   "source": [
    "x_vars = [qv.PUBO({('x%d' % i,): 1}) for i in range(n)]\n",
    "y_vars = [qv.PUBO({('y%d' % i,): 1}) for i in range(n)]\n",
    "\n",
    "x = 2 + sum(2**i * x_vars[i] for i in range(n))\n",
    "y = 2 + sum(2**i * y_vars[i] for i in range(n))\n",
    "\n",
    "F = (N - x * y) ** 2\n",
    "print(F)"
   ]
  },
  {
   "cell_type": "code",
   "execution_count": 33,
   "metadata": {},
   "outputs": [
    {
     "data": {
      "text/plain": [
       "True"
      ]
     },
     "execution_count": 33,
     "metadata": {},
     "output_type": "execute_result"
    }
   ],
   "source": [
    "F == F_PUBO"
   ]
  },
  {
   "cell_type": "markdown",
   "metadata": {},
   "source": [
    "One further simplification we could make is to replace\n",
    "\n",
    "    qv.PUBO({(var,): 1})\n",
    "\n",
    "with\n",
    "\n",
    "    qv.PUBO.create_var(var)\n",
    "\n",
    "This will create a `PUBO` object for that variable. We an also do that with the `DictArithmetic` object, and indeed every other qubovert object. This method will also set the name of the variable."
   ]
  },
  {
   "cell_type": "code",
   "execution_count": 34,
   "metadata": {},
   "outputs": [
    {
     "name": "stdout",
     "output_type": "stream",
     "text": [
      "x True {('x',): 1}\n",
      "y True {('y',): 1}\n"
     ]
    }
   ],
   "source": [
    "x = qv.utils.DictArithmetic.create_var('x')\n",
    "y = qv.PUBO.create_var('y')\n",
    "print(x.name, type(x) == qv.utils.DictArithmetic, x)\n",
    "print(y.name, type(y) == qv.PUBO, y)"
   ]
  },
  {
   "cell_type": "markdown",
   "metadata": {},
   "source": [
    "Thus we can make our `F_PUBO` as follows."
   ]
  },
  {
   "cell_type": "code",
   "execution_count": 35,
   "metadata": {},
   "outputs": [
    {
     "name": "stdout",
     "output_type": "stream",
     "text": [
      "{('y1', 'x0', 'y0'): 20, ('y2', 'x0', 'y0'): 40, ('x0', 'y0', 'x1'): 20, ('y1', 'x0', 'y0', 'x1'): 16, ('y2', 'x0', 'y0', 'x1'): 32, ('x2', 'x0', 'y0'): 40, ('x2', 'y1', 'x0', 'y0'): 32, ('x2', 'y2', 'x0', 'y0'): 64, ('y1', 'x0'): 24, ('y1', 'y2', 'x0'): 80, ('y1', 'x0', 'x1'): 48, ('y1', 'y2', 'x0', 'x1'): 64, ('x2', 'y1', 'x0'): 96, ('x2', 'y1', 'y2', 'x0'): 128, ('y2', 'x0'): 88, ('y2', 'x0', 'x1'): 128, ('x2', 'y2', 'x0'): 256, ('x0', 'y0'): 7, ('x0',): -16, ('x0', 'x1'): 16, ('x2', 'x0'): 32, ('y0', 'x1'): 24, ('y1', 'y0', 'x1'): 48, ('y2', 'y0', 'x1'): 96, ('x2', 'y0', 'x1'): 80, ('x2', 'y1', 'y0', 'x1'): 64, ('x2', 'y2', 'y0', 'x1'): 128, ('y1', 'x1'): 72, ('y1', 'y2', 'x1'): 192, ('x2', 'y1', 'x1'): 192, ('x2', 'y1', 'y2', 'x1'): 256, ('y2', 'x1'): 240, ('x2', 'y2', 'x1'): 512, ('x1',): -24, ('x2', 'x1'): 64, ('x2', 'y0'): 88, ('x2', 'y1', 'y0'): 128, ('x2', 'y2', 'y0'): 256, ('x2', 'y1'): 240, ('x2', 'y1', 'y2'): 512, ('x2', 'y2'): 736, ('x2',): -16, ('y0',): -16, ('y1', 'y0'): 16, ('y2', 'y0'): 32, ('y1',): -24, ('y1', 'y2'): 64, ('y2',): -16, (): 25}\n"
     ]
    }
   ],
   "source": [
    "x_vars = [qv.PUBO.create_var('x%d' % i) for i in range(n)]\n",
    "y_vars = [qv.PUBO.create_var('y%d' % i) for i in range(n)]\n",
    "\n",
    "x = 2 + sum(2**i * x_vars[i] for i in range(n))\n",
    "y = 2 + sum(2**i * y_vars[i] for i in range(n))\n",
    "\n",
    "F = (N - x * y) ** 2\n",
    "print(F)"
   ]
  },
  {
   "cell_type": "code",
   "execution_count": 36,
   "metadata": {},
   "outputs": [
    {
     "data": {
      "text/plain": [
       "True"
      ]
     },
     "execution_count": 36,
     "metadata": {},
     "output_type": "execute_result"
    }
   ],
   "source": [
    "F == F_PUBO"
   ]
  },
  {
   "cell_type": "markdown",
   "metadata": {},
   "source": [
    "So that now solves our arithmetic problem! Creating the PUBO of $F$ took 5 easy lines of code with qubovert, whereas without qubovert we would have had to multiply out that really annoying expression, perform the simplification ourselves, and then code it into a `dict` with a bunch of for loops and if statements!"
   ]
  },
  {
   "cell_type": "markdown",
   "metadata": {},
   "source": [
    "## Motivation #2: integer labeling\n",
    "\n",
    "The second motivation for qubovert was the necessity to integer label expressions. Many PUBO solvers only accept PUBOs that are integer labeled because they end up solving your problem via C, C++, or something similar and they use arrays to store all of the information. Arrays need to be indexed by integers! Thus they won't accept a PUBO like `{('x0', 'x1'): 1, ('x1', 'y_1'): -2}, ...`. We instead need to create some sort of enumeration mapping that maps the original string labels to integer labels, and then we need to keep track of this mapping because we will need to map the solution back!\n",
    "\n",
    "We'll use our $F$ from before as an example. Recall that `F` is a `qubovert.PUBO` object, and it has variables labeled `'x0'`, `'y0'`, etc. We can get this to be labeled via integer labels with the `.to_pubo` method."
   ]
  },
  {
   "cell_type": "code",
   "execution_count": 37,
   "metadata": {},
   "outputs": [
    {
     "name": "stdout",
     "output_type": "stream",
     "text": [
      "{(0, 1, 2): 20, (0, 1, 3): 40, (0, 1, 4): 20, (0, 1, 2, 4): 16, (0, 1, 3, 4): 32, (0, 1, 5): 40, (0, 1, 2, 5): 32, (0, 1, 3, 5): 64, (0, 2): 24, (0, 2, 3): 80, (0, 2, 4): 48, (0, 2, 3, 4): 64, (0, 2, 5): 96, (0, 2, 3, 5): 128, (0, 3): 88, (0, 3, 4): 128, (0, 3, 5): 256, (0, 1): 7, (0,): -16, (0, 4): 16, (0, 5): 32, (1, 4): 24, (1, 2, 4): 48, (1, 3, 4): 96, (1, 4, 5): 80, (1, 2, 4, 5): 64, (1, 3, 4, 5): 128, (2, 4): 72, (2, 3, 4): 192, (2, 4, 5): 192, (2, 3, 4, 5): 256, (3, 4): 240, (3, 4, 5): 512, (4,): -24, (4, 5): 64, (1, 5): 88, (1, 2, 5): 128, (1, 3, 5): 256, (2, 5): 240, (2, 3, 5): 512, (3, 5): 736, (5,): -16, (1,): -16, (1, 2): 16, (1, 3): 32, (2,): -24, (2, 3): 64, (3,): -16, (): 25}\n",
      "\n",
      "20 x(0) x(1) x(2) + 40 x(0) x(1) x(3) + 20 x(0) x(1) x(4) + 16 x(0) x(1) x(2) x(4) + 32 x(0) x(1) x(3) x(4) + 40 x(0) x(1) x(5) + 32 x(0) x(1) x(2) x(5) + 64 x(0) x(1) x(3) x(5) + 24 x(0) x(2) + 80 x(0) x(2) x(3) + 48 x(0) x(2) x(4) + 64 x(0) x(2) x(3) x(4) + 96 x(0) x(2) x(5) + 128 x(0) x(2) x(3) x(5) + 88 x(0) x(3) + 128 x(0) x(3) x(4) + 256 x(0) x(3) x(5) + 7 x(0) x(1) - 16 x(0) + 16 x(0) x(4) + 32 x(0) x(5) + 24 x(1) x(4) + 48 x(1) x(2) x(4) + 96 x(1) x(3) x(4) + 80 x(1) x(4) x(5) + 64 x(1) x(2) x(4) x(5) + 128 x(1) x(3) x(4) x(5) + 72 x(2) x(4) + 192 x(2) x(3) x(4) + 192 x(2) x(4) x(5) + 256 x(2) x(3) x(4) x(5) + 240 x(3) x(4) + 512 x(3) x(4) x(5) - 24 x(4) + 64 x(4) x(5) + 88 x(1) x(5) + 128 x(1) x(2) x(5) + 256 x(1) x(3) x(5) + 240 x(2) x(5) + 512 x(2) x(3) x(5) + 736 x(3) x(5) - 16 x(5) - 16 x(1) + 16 x(1) x(2) + 32 x(1) x(3) - 24 x(2) + 64 x(2) x(3) - 16 x(3) + 25\n"
     ]
    }
   ],
   "source": [
    "int_F = F.to_pubo()\n",
    "print(int_F)\n",
    "print()\n",
    "print(int_F.pretty_str())"
   ]
  },
  {
   "cell_type": "markdown",
   "metadata": {},
   "source": [
    "What exactly is `int_F`?"
   ]
  },
  {
   "cell_type": "code",
   "execution_count": 38,
   "metadata": {},
   "outputs": [
    {
     "data": {
      "text/plain": [
       "qubovert.utils._pubomatrix.PUBOMatrix"
      ]
     },
     "execution_count": 38,
     "metadata": {},
     "output_type": "execute_result"
    }
   ],
   "source": [
    "type(int_F)"
   ]
  },
  {
   "cell_type": "markdown",
   "metadata": {},
   "source": [
    "It's a `PUBOMatrix` object. Again we see that at the bottom of its MRO is the `DictArithmetic` class."
   ]
  },
  {
   "cell_type": "code",
   "execution_count": 39,
   "metadata": {},
   "outputs": [
    {
     "data": {
      "text/plain": [
       "[qubovert.utils._pubomatrix.PUBOMatrix,\n",
       " qubovert.utils._dict_arithmetic.DictArithmetic,\n",
       " dict,\n",
       " object]"
      ]
     },
     "execution_count": 39,
     "metadata": {},
     "output_type": "execute_result"
    }
   ],
   "source": [
    "qv.utils.PUBOMatrix.mro()"
   ]
  },
  {
   "cell_type": "markdown",
   "metadata": {},
   "source": [
    "The `PUBOMatrix` encodes PUBOs that are labeled with integer labels."
   ]
  },
  {
   "cell_type": "code",
   "execution_count": 40,
   "metadata": {},
   "outputs": [
    {
     "name": "stdout",
     "output_type": "stream",
     "text": [
      "{(0, 1, 2): 1}\n"
     ]
    }
   ],
   "source": [
    "pubomatrix = qv.utils.PUBOMatrix()\n",
    "pubomatrix[(0, 1, 2)] = 1\n",
    "print(pubomatrix)"
   ]
  },
  {
   "cell_type": "markdown",
   "metadata": {},
   "source": [
    "Just like the `PUBO` object, it will recognize that the variables are boolean and will therefore perform simplifications. For example,"
   ]
  },
  {
   "cell_type": "code",
   "execution_count": 41,
   "metadata": {},
   "outputs": [
    {
     "name": "stdout",
     "output_type": "stream",
     "text": [
      "{(0, 1, 2): 1, (0, 1, 3): -2}\n"
     ]
    }
   ],
   "source": [
    "pubomatrix[(0, 0, 0, 1, 1, 1, 1, 3)] = -2\n",
    "print(pubomatrix)"
   ]
  },
  {
   "cell_type": "code",
   "execution_count": 42,
   "metadata": {},
   "outputs": [
    {
     "name": "stdout",
     "output_type": "stream",
     "text": [
      "{(0, 1, 3): -2}\n"
     ]
    }
   ],
   "source": [
    "pubomatrix[(0, 1, 2, 2, 2, 2, 2, 1, 1, 1, 0, 1, 0)] -= 1\n",
    "print(pubomatrix)"
   ]
  },
  {
   "cell_type": "markdown",
   "metadata": {},
   "source": [
    "But if we try to add a variable label that is not an integer, it will raise an error."
   ]
  },
  {
   "cell_type": "code",
   "execution_count": 43,
   "metadata": {},
   "outputs": [
    {
     "name": "stdout",
     "output_type": "stream",
     "text": [
      "'Key formatted incorrectly, must be tuple of non negative integers'\n"
     ]
    }
   ],
   "source": [
    "pubomatrix = qv.utils.PUBOMatrix()\n",
    "try:\n",
    "    pubomatrix[(0, 'x')] = 1\n",
    "except KeyError as e:\n",
    "    print(e)"
   ]
  },
  {
   "cell_type": "markdown",
   "metadata": {},
   "source": [
    "But of course this works fine with the `PUBO` object!"
   ]
  },
  {
   "cell_type": "code",
   "execution_count": 44,
   "metadata": {},
   "outputs": [
    {
     "name": "stdout",
     "output_type": "stream",
     "text": [
      "{('x', 0): 1}\n"
     ]
    }
   ],
   "source": [
    "pubo = qv.PUBO()\n",
    "pubo[(0, 'x')] = 1\n",
    "print(pubo)"
   ]
  },
  {
   "cell_type": "markdown",
   "metadata": {},
   "source": [
    "So anyways, back to `F` and `int_F`."
   ]
  },
  {
   "cell_type": "code",
   "execution_count": 45,
   "metadata": {},
   "outputs": [
    {
     "name": "stdout",
     "output_type": "stream",
     "text": [
      "F vars: {'x1', 'y2', 'y0', 'x2', 'x0', 'y1'}\n",
      "int_F vars: {0, 1, 2, 3, 4, 5}\n"
     ]
    }
   ],
   "source": [
    "int_F = F.to_pubo()\n",
    "print(\"F vars:\", F.variables)\n",
    "print(\"int_F vars:\", int_F.variables)"
   ]
  },
  {
   "cell_type": "markdown",
   "metadata": {},
   "source": [
    "We can see what each variable in `F` maps to in `int_F`, and vice versa."
   ]
  },
  {
   "cell_type": "code",
   "execution_count": 46,
   "metadata": {},
   "outputs": [
    {
     "name": "stdout",
     "output_type": "stream",
     "text": [
      "F -> int_F: {'x0': 0, 'y0': 1, 'y1': 2, 'y2': 3, 'x1': 4, 'x2': 5}\n",
      "int_F -> F: {0: 'x0', 1: 'y0', 2: 'y1', 3: 'y2', 4: 'x1', 5: 'x2'}\n"
     ]
    }
   ],
   "source": [
    "print(\"F -> int_F:\", F.mapping)\n",
    "print(\"int_F -> F:\", F.reverse_mapping)"
   ]
  },
  {
   "cell_type": "markdown",
   "metadata": {},
   "source": [
    "Now let's say we send away `inf_F` to be solved by some random software package that solves (ie minimizes) PUBOs. Let's simulate that by just using qubovert's bruteforce solver."
   ]
  },
  {
   "cell_type": "code",
   "execution_count": 47,
   "metadata": {},
   "outputs": [
    {
     "name": "stdout",
     "output_type": "stream",
     "text": [
      "{0: 1, 1: 1, 2: 0, 3: 0, 4: 0, 5: 0}\n"
     ]
    }
   ],
   "source": [
    "int_F_solution = int_F.solve_bruteforce()\n",
    "print(int_F_solution)"
   ]
  },
  {
   "cell_type": "markdown",
   "metadata": {},
   "source": [
    "We could of course use `F.reverse_mapping` to convert each of the integer variable names back to their original names, or we can use `F.convert_solution` which does it for us!"
   ]
  },
  {
   "cell_type": "code",
   "execution_count": 48,
   "metadata": {},
   "outputs": [
    {
     "name": "stdout",
     "output_type": "stream",
     "text": [
      "{'x0': 1, 'y0': 1, 'y1': 0, 'y2': 0, 'x1': 0, 'x2': 0}\n"
     ]
    }
   ],
   "source": [
    "F_solution = F.convert_solution(int_F_solution)\n",
    "print(F_solution)"
   ]
  },
  {
   "cell_type": "markdown",
   "metadata": {},
   "source": [
    "Recall that we said that the solution to $F(x, y) = 0$ makes $x := 2 + \\sum_{i=0}^n 2^i x_i$ and $y := 2 + \\sum_{i=0}^n 2^i y_i$ nontrivial factors. Given our assignment of variables in `F_solution` we can calculate these with the `.value` method."
   ]
  },
  {
   "cell_type": "code",
   "execution_count": 49,
   "metadata": {},
   "outputs": [
    {
     "name": "stdout",
     "output_type": "stream",
     "text": [
      "x = 3\n",
      "y = 3\n",
      "F(x, y) = 0\n"
     ]
    }
   ],
   "source": [
    "print(\"x =\", x.value(F_solution))\n",
    "print(\"y =\", y.value(F_solution))\n",
    "print(\"F(x, y) =\", F.value(F_solution))"
   ]
  },
  {
   "cell_type": "markdown",
   "metadata": {},
   "source": [
    "Thus we have that $3 \\times 3 = 9$! Just an FYI for testing purposes, if you really are just using qubovert's bruteforce solver, then you don't have to convert your PUBO to a integer labeled PUBO."
   ]
  },
  {
   "cell_type": "code",
   "execution_count": 50,
   "metadata": {},
   "outputs": [
    {
     "name": "stdout",
     "output_type": "stream",
     "text": [
      "{'x0': 1, 'y0': 1, 'y1': 0, 'y2': 0, 'x1': 0, 'x2': 0}\n",
      "x = 3\n",
      "y = 3\n",
      "F(x, y) = 0\n"
     ]
    }
   ],
   "source": [
    "F_solution = F.solve_bruteforce()\n",
    "print(F_solution)\n",
    "print(\"x =\", x.value(F_solution))\n",
    "print(\"y =\", y.value(F_solution))\n",
    "print(\"F(x, y) =\", F.value(F_solution))"
   ]
  },
  {
   "cell_type": "markdown",
   "metadata": {},
   "source": [
    "Okay cool. But what happens now if an integer labeled PUBO isn't enough...what happens if the solver you are using requires your PUBO to actually be degree 2? In other words, a Quadratic Unconstrained Boolean Optimization (QUBO) problem. Well right now our PUBO $F$ is not a QUBO because it is degree 4!"
   ]
  },
  {
   "cell_type": "code",
   "execution_count": 51,
   "metadata": {},
   "outputs": [
    {
     "data": {
      "text/plain": [
       "4"
      ]
     },
     "execution_count": 51,
     "metadata": {},
     "output_type": "execute_result"
    }
   ],
   "source": [
    "F.degree"
   ]
  },
  {
   "cell_type": "markdown",
   "metadata": {},
   "source": [
    "Indeed if we try to force it be a QUBO we'll get an error!"
   ]
  },
  {
   "cell_type": "code",
   "execution_count": 52,
   "metadata": {},
   "outputs": [
    {
     "name": "stdout",
     "output_type": "stream",
     "text": [
      "'Key formatted incorrectly, must be tuple of <= 2 unique elements. See PUBO for arbitrary numbers of unique elements.'\n"
     ]
    }
   ],
   "source": [
    "try:\n",
    "    qv.QUBO(F)\n",
    "except KeyError as e:\n",
    "    print(e)"
   ]
  },
  {
   "cell_type": "markdown",
   "metadata": {},
   "source": [
    "So how can we do this? Well this brings us to the next motivation."
   ]
  },
  {
   "cell_type": "markdown",
   "metadata": {},
   "source": [
    "## Motivation #3: degree reduction\n",
    "\n",
    "To reduce the degree of a PUBO, we introduce ancilla variables and enforce that they are equal to a product of two real variables by adding a penalty to the PUBO. For example, we note that for a sufficiently large $\\lambda$, the following equality holds:\n",
    "\n",
    "$$\\min_{x, y, z \\in \\{0, 1\\}} x y z = \\min_{x, y, z, a \\in \\{0, 1 \\}}\\left( az + \\lambda f(a, x, y) \\right)$$\n",
    "\n",
    "where $f: \\{0, 1\\} \\times \\{0, 1\\} \\times \\{0, 1\\} \\to \\mathbb R$ is a function such that\n",
    "\n",
    "$$f(a, x, y)~~\\begin{cases}\n",
    "=0&\\text{if }a = xy,\\\\\n",
    ">0&\\text{else,}\n",
    "\\end{cases}$$\n",
    "\n",
    "and, crucially, `f` must be a QUBO! We know of such an `f`. We can access it from the Polynomial Constrained Boolean Optimization (PCBO) object. I'll explain this object in way more detail later! But for now, I just want to use it to show you want `f` looks like. The `add_constraint_eq_AND(a, x, y)` method enforces that $a == x \\land y$."
   ]
  },
  {
   "cell_type": "code",
   "execution_count": 53,
   "metadata": {},
   "outputs": [
    {
     "name": "stdout",
     "output_type": "stream",
     "text": [
      "{'a': 0, 'x': 0, 'y': 0}   -->   0\n",
      "{'a': 0, 'x': 0, 'y': 1}   -->   0\n",
      "{'a': 0, 'x': 1, 'y': 0}   -->   0\n",
      "{'a': 0, 'x': 1, 'y': 1}   -->   1\n",
      "{'a': 1, 'x': 0, 'y': 0}   -->   3\n",
      "{'a': 1, 'x': 0, 'y': 1}   -->   1\n",
      "{'a': 1, 'x': 1, 'y': 0}   -->   1\n",
      "{'a': 1, 'x': 1, 'y': 1}   -->   0\n"
     ]
    }
   ],
   "source": [
    "from itertools import product\n",
    "\n",
    "f = qv.PCBO().add_constraint_eq_AND('a', 'x', 'y')\n",
    "\n",
    "for i, j, k in product((0, 1), repeat=3):\n",
    "    assignment = {'a': i, 'x': j, 'y': k}\n",
    "    print(assignment, '  -->  ', f.value(assignment))"
   ]
  },
  {
   "cell_type": "markdown",
   "metadata": {},
   "source": [
    "But we don't have to deal with going through and picking out products of variables to reduce, keeping track of the new variables we introduce, and adding the right penalties -- that's where qubovert comes in! qubovert will perform degree reduction by trying to find the most common pairs of variables that are together and choosing them to represent as an ancilla.\n",
    "\n",
    "Recall that our PUBO `F` is degree 4. Let's create a PUBO that is degree 3 called `deg_3_F`."
   ]
  },
  {
   "cell_type": "code",
   "execution_count": 54,
   "metadata": {},
   "outputs": [
    {
     "name": "stdout",
     "output_type": "stream",
     "text": [
      "F:\n",
      "   number of variables :  6\n",
      "   degree              :  4\n",
      "   variables           :  {'x1', 'y2', 'y0', 'x2', 'x0', 'y1'}\n",
      "deg_3_F:\n",
      "   number of variables :  10\n",
      "   degree              :  3\n",
      "   variables           :  {0, 1, 2, 3, 4, 5, 6, 7, 8, 9}\n"
     ]
    }
   ],
   "source": [
    "deg_3_F = F.to_pubo(deg=3)\n",
    "\n",
    "print(\"F:\")\n",
    "print(\"   number of variables : \", F.num_binary_variables)\n",
    "print(\"   degree              : \", F.degree)\n",
    "print(\"   variables           : \", F.variables)\n",
    "print(\"deg_3_F:\")\n",
    "print(\"   number of variables : \", deg_3_F.num_binary_variables)\n",
    "print(\"   degree              : \", deg_3_F.degree)\n",
    "print(\"   variables           : \", deg_3_F.variables)"
   ]
  },
  {
   "cell_type": "markdown",
   "metadata": {},
   "source": [
    "A few things to notice. First we did not specify $\\lambda$. That's because qubovert will automatically pick values for you that are *guarenteed* to adequetely enforce the pair reduction constriant. However, if you want to specify $\\lambda$ yourself, you can via the `lam` argument (ie `deg_3_F = F.to_pubo(deg=3, lam=5)`. Indeed for the `lam` argument and a few other optional arguments, please see the [Tips, tricks, and advanced details](#Tips,-tricks,-and-advanced-details) section.\n",
    "\n",
    "Also notice that 4 more variables were introduced and that the variables are now integer labeled. In particular, `deg_3_F` is again a `PUBOMatrix`! We do a similar process now as above to work with `deg_3_F` and convert the solution to this PUBO back to a solution to `F`."
   ]
  },
  {
   "cell_type": "code",
   "execution_count": 55,
   "metadata": {},
   "outputs": [
    {
     "name": "stdout",
     "output_type": "stream",
     "text": [
      "x = 3\n",
      "y = 3\n",
      "F(x, y) = 0\n"
     ]
    }
   ],
   "source": [
    "deg_3_F_solution = deg_3_F.solve_bruteforce()\n",
    "F_solution = F.convert_solution(deg_3_F_solution)\n",
    "\n",
    "print(\"x =\", x.value(F_solution))\n",
    "print(\"y =\", y.value(F_solution))\n",
    "print(\"F(x, y) =\", F.value(F_solution))"
   ]
  },
  {
   "cell_type": "markdown",
   "metadata": {},
   "source": [
    "***A note on degree reduction***\n",
    "\n",
    "Choosing an optimal way of reducing a general PUBO to a QUBO is NP-hard. One basic pattern that qubovert uses is shown in the following example. Consider \n",
    "$$C_3 = -wxy - xyz.$$\n",
    "\n",
    "Using the method discussed above, we can create the QUBO $C_2$ by adding two ancilla variables with\n",
    "\n",
    "$$C_2 = -a_0 y - a_1 z + \\lambda_0 f(a_0, w, x) + \\lambda_1 f(a_1, x, y).$$\n",
    "\n",
    "However, we can do better by noticing that the product $xy$ occurs in both terms. Thus we only need to indroduce one ancilla variable with\n",
    "\n",
    "$$C_2' = -wa - az + \\lambda f(a, x, y).$$\n",
    "\n",
    "This general idea of finding frequently repeated pairs of bits is used by qubovert. However, qubovert's degree reduction is not guarenteed to be optimal."
   ]
  },
  {
   "cell_type": "markdown",
   "metadata": {},
   "source": [
    "Now what if we want to reduce `F` to a QUBO? We could do the same as above, and use `F.to_pubo(deg=3)`. But this will still return a `PUBOMatrix` object. But this is **qubo**vert for crying out loud! We have `QUBOMatrix` objects too! We'll see a little later that sometimes we will prefer to have a `QUBO` or `QUBOMatrix` object as opposed to a `PUBO` or `PUBOMatrix` object. But for now, I'll just show you how to do it. Again, we could provide a `lam` argument in the following method call, but otherwise qubovert picks one out for us."
   ]
  },
  {
   "cell_type": "code",
   "execution_count": 56,
   "metadata": {},
   "outputs": [
    {
     "name": "stdout",
     "output_type": "stream",
     "text": [
      "F:\n",
      "   number of variables :  6\n",
      "   degree              :  4\n",
      "   variables           :  {'x1', 'y2', 'y0', 'x2', 'x0', 'y1'}\n",
      "qubo_F:\n",
      "   number of variables :  13\n",
      "   degree              :  2\n",
      "   variables           :  {0, 1, 2, 3, 4, 5, 6, 7, 8, 9, 10, 11, 12}\n",
      "x = 3\n",
      "y = 3\n",
      "F(x, y) = 0\n"
     ]
    }
   ],
   "source": [
    "qubo_F = F.to_qubo()\n",
    "\n",
    "print(\"F:\")\n",
    "print(\"   number of variables : \", F.num_binary_variables)\n",
    "print(\"   degree              : \", F.degree)\n",
    "print(\"   variables           : \", F.variables)\n",
    "print(\"qubo_F:\")\n",
    "print(\"   number of variables : \", qubo_F.num_binary_variables)\n",
    "print(\"   degree              : \", qubo_F.degree)\n",
    "print(\"   variables           : \", qubo_F.variables)\n",
    "\n",
    "qubo_F_solution = qubo_F.solve_bruteforce()\n",
    "F_solution = F.convert_solution(qubo_F_solution)\n",
    "\n",
    "print(\"x =\", x.value(F_solution))\n",
    "print(\"y =\", y.value(F_solution))\n",
    "print(\"F(x, y) =\", F.value(F_solution))"
   ]
  },
  {
   "cell_type": "markdown",
   "metadata": {},
   "source": [
    "We see that even more variables needed to be introduced to reduce the degree all the way down to 2. You may have noticed solving the QUBO bruteforce took a little longer than solving the other models. That's because we're now at 13 variables! We will quickly lose the ability to do a bruteforce search of the solution space to find the best solution. So instead we might want to find other solvers. The first is a popular one -- D-Wave."
   ]
  },
  {
   "cell_type": "markdown",
   "metadata": {},
   "source": [
    "## Motivation #4: working with D-Wave\n",
    "\n",
    "D-Wave exclusively solves degree 2 binary models, namely QUBOs or QUSOs, where QUSO is exactly the same as QUBO, but \"(B)oolean\" -> \"(S)pin\", thus Quadratic Unconstrained Spin Optimization. Let's go back to our `F` example. We could just use the `F` `PUBO` object that we already have defined above. But just for kicks, let's define it again, just so I can show another nice way of creating PUBOs."
   ]
  },
  {
   "cell_type": "code",
   "execution_count": 57,
   "metadata": {},
   "outputs": [],
   "source": [
    "x = 2 + qv.PUBO({('x%d' % i,): 2**i for i in range(n)})\n",
    "y = 2 + qv.PUBO({('y%d' % i,): 2**i for i in range(n)})\n",
    "F = (N - x * y) ** 2"
   ]
  },
  {
   "cell_type": "markdown",
   "metadata": {},
   "source": [
    "Recall this is a degree 4 PUBO. Let's reduce it to a QUBO with the `.to_qubo` method, then solve it with D-Wave's simulated annealer, then convert the best solution that D-Wave found back to a solution to the original PUBO. Everything below should look very similar! The only new feature is the following. D-Wave defines their QUBOs slightly differently than qubovert does. qubovert encodes terms with a single variable, for example $2x_0$, like `{('x0',): 2}`, whereas D-Wave would encode the same expression as `{('x0', 'x0'): 2}`. Recall that qubovert will explicitly convert D-wave's form to qubovert's form! See for example here:"
   ]
  },
  {
   "cell_type": "code",
   "execution_count": 58,
   "metadata": {},
   "outputs": [
    {
     "name": "stdout",
     "output_type": "stream",
     "text": [
      "{('x0',): 2}\n"
     ]
    }
   ],
   "source": [
    "dwave_term = {('x0', 'x0'): 2}\n",
    "qubovert_term = qv.QUBO(dwave_term)\n",
    "print(qubovert_term)"
   ]
  },
  {
   "cell_type": "markdown",
   "metadata": {},
   "source": [
    "We can get D-Wave's form back via the `.Q` property."
   ]
  },
  {
   "cell_type": "code",
   "execution_count": 59,
   "metadata": {},
   "outputs": [
    {
     "name": "stdout",
     "output_type": "stream",
     "text": [
      "{('x0', 'x0'): 2}\n"
     ]
    }
   ],
   "source": [
    "print(qubovert_term.Q)"
   ]
  },
  {
   "cell_type": "markdown",
   "metadata": {},
   "source": [
    "Note though that this means that an offset term in a QUBO will be ignored when converting it to D-Wave's form!"
   ]
  },
  {
   "cell_type": "code",
   "execution_count": 60,
   "metadata": {},
   "outputs": [
    {
     "name": "stdout",
     "output_type": "stream",
     "text": [
      "qubovert's QUBO :  {('x0',): 1, ('x0', 'x1'): 2, (): -1}\n",
      "D-Wave's QUBO   :  {('x0', 'x0'): 1, ('x0', 'x1'): 2}\n",
      "offset          :  -1\n"
     ]
    }
   ],
   "source": [
    "qv_qubo = qv.QUBO() + {('x0',): 1, ('x0', 'x1'): 2, (): -1}\n",
    "print(\"qubovert's QUBO : \", qv_qubo)\n",
    "print(\"D-Wave's QUBO   : \", qv_qubo.Q)\n",
    "print(\"offset          : \" , qv_qubo.offset)"
   ]
  },
  {
   "cell_type": "markdown",
   "metadata": {},
   "source": [
    "Always keep this in mind when working with D-Wave. Okay well now we can go right ahead and do it. First we recreate the QUBO with the `F.to_qubo()` method. Then we convert it to D-Wave's form via the `.Q` property."
   ]
  },
  {
   "cell_type": "code",
   "execution_count": 61,
   "metadata": {},
   "outputs": [
    {
     "name": "stdout",
     "output_type": "stream",
     "text": [
      "{(6, 6): 816, (0, 1): 279, (0, 6): -544, (1, 6): -544, (2, 6): 20, (3, 6): 40, (4, 6): 20, (7, 7): 2127, (2, 4): 781, (2, 7): -1418, (4, 7): -1418, (6, 7): 16, (8, 8): 2511, (3, 4): 1077, (3, 8): -1674, (4, 8): -1674, (6, 8): 32, (5, 6): 40, (9, 9): 2220, (2, 5): 980, (2, 9): -1480, (5, 9): -1480, (6, 9): 32, (10, 10): 3282, (3, 5): 1830, (3, 10): -2188, (5, 10): -2188, (6, 10): 64, (0, 2): 445, (11, 11): 1263, (0, 11): -842, (2, 11): -842, (3, 11): 80, (4, 11): 48, (8, 11): 64, (5, 11): 96, (10, 11): 128, (0, 3): 88, (0, 8): 128, (0, 10): 256, (0, 0): -16, (0, 4): 16, (0, 5): 32, (1, 4): 299, (1, 7): 48, (1, 8): 96, (12, 12): 825, (1, 12): -550, (4, 12): -550, (5, 12): 80, (9, 12): 64, (10, 12): 128, (3, 7): 192, (5, 7): 192, (7, 10): 256, (5, 8): 512, (4, 4): -24, (4, 5): 64, (1, 5): 88, (1, 9): 128, (1, 10): 256, (3, 9): 512, (5, 5): -16, (1, 1): -16, (1, 2): 16, (1, 3): 32, (2, 2): -24, (2, 3): 64, (3, 3): -16}\n"
     ]
    }
   ],
   "source": [
    "qubo_F = F.to_qubo()\n",
    "dwave_F = qubo_F.Q\n",
    "print(dwave_F)"
   ]
  },
  {
   "cell_type": "markdown",
   "metadata": {},
   "source": [
    "Next we solve the QUBO with D-Wave's simulated annealer by sampling 1000 times."
   ]
  },
  {
   "cell_type": "code",
   "execution_count": 62,
   "metadata": {},
   "outputs": [
    {
     "name": "stdout",
     "output_type": "stream",
     "text": [
      "dwave_F_solution : {0: 1, 1: 1, 2: 0, 3: 0, 4: 0, 5: 0, 6: 1, 7: 0, 8: 0, 9: 0, 10: 0, 11: 0, 12: 0}\n",
      "Resulting F value: 0.0\n"
     ]
    }
   ],
   "source": [
    "# !pip install dwave-neal\n",
    "from neal import SimulatedAnnealingSampler as SAS  # D-Wave's simluated annealing\n",
    "\n",
    "res = SAS().sample_qubo(dwave_F, num_reads=1000)\n",
    "dwave_F_solution = res.first.sample\n",
    "\n",
    "print(\"dwave_F_solution :\", dwave_F_solution)\n",
    "print(\"Resulting F value:\", res.first.energy + qubo_F.offset)"
   ]
  },
  {
   "cell_type": "markdown",
   "metadata": {},
   "source": [
    "Next we'll use the `F.convert_solution` function to convert this back to our original variables."
   ]
  },
  {
   "cell_type": "code",
   "execution_count": 63,
   "metadata": {},
   "outputs": [
    {
     "name": "stdout",
     "output_type": "stream",
     "text": [
      "F_solution = {'x0': 1, 'y0': 1, 'y1': 0, 'y2': 0, 'x1': 0, 'x2': 0}\n",
      "x = 3\n",
      "y = 3\n",
      "F(x, y) = 0\n"
     ]
    }
   ],
   "source": [
    "F_solution = F.convert_solution(dwave_F_solution)\n",
    "\n",
    "print(\"F_solution =\", F_solution)\n",
    "print(\"x =\", x.value(F_solution))\n",
    "print(\"y =\", y.value(F_solution))\n",
    "print(\"F(x, y) =\", F.value(F_solution))"
   ]
  },
  {
   "cell_type": "markdown",
   "metadata": {},
   "source": [
    "And we're done. Now let's do the same exact thing, but this time by converting the PUBO to a QUSO with the `.to_quso` method. Note that this method will reduce the degree of the PUBO to quadratic just like the `.to_qubo` method did, and it will convert the resulting QUBO to QUSO by replacing each variable $x \\in \\{0, 1 \\}$ with $z \\in \\{1, -1 \\}$ via $x = \\frac{1-z}{2}$."
   ]
  },
  {
   "cell_type": "code",
   "execution_count": 64,
   "metadata": {},
   "outputs": [
    {
     "name": "stdout",
     "output_type": "stream",
     "text": [
      "True\n"
     ]
    }
   ],
   "source": [
    "quso_F = F.to_quso()\n",
    "print(quso_F == qv.utils.qubo_to_quso(F.to_qubo()))"
   ]
  },
  {
   "cell_type": "markdown",
   "metadata": {},
   "source": [
    "Finally, similar to the `.Q` property with QUBOs, D-Wave accepts a different form for QUSOs than qubovert's form. They accept a dictionary representing the linear terms $h$ and a dictionary representing the spin couplings $J$. We can get these with the `quso.h` and `quso.J` properties. Note just like before that we will ignore the offset!"
   ]
  },
  {
   "cell_type": "code",
   "execution_count": 65,
   "metadata": {},
   "outputs": [
    {
     "name": "stdout",
     "output_type": "stream",
     "text": [
      "offset        :  4547.75\n",
      "\n",
      "linear terms  :  {6: -202.0, 0: 43.5, 1: -29.0, 2: 370.5, 3: -5.25, 4: 346.25, 7: -530.5, 8: -626.5, 5: -53.5, 9: -554.0, 10: -819.0, 11: -314.5, 12: -205.5}\n",
      "\n",
      "couplng terms :  {(0, 1): 69.75, (0, 6): -136.0, (1, 6): -136.0, (2, 6): 5.0, (3, 6): 10.0, (4, 6): 5.0, (2, 4): 195.25, (2, 7): -354.5, (4, 7): -354.5, (6, 7): 4.0, (3, 4): 269.25, (3, 8): -418.5, (4, 8): -418.5, (6, 8): 8.0, (5, 6): 10.0, (2, 5): 245.0, (2, 9): -370.0, (5, 9): -370.0, (6, 9): 8.0, (3, 5): 457.5, (3, 10): -547.0, (5, 10): -547.0, (6, 10): 16.0, (0, 2): 111.25, (0, 11): -210.5, (2, 11): -210.5, (3, 11): 20.0, (4, 11): 12.0, (8, 11): 16.0, (5, 11): 24.0, (10, 11): 32.0, (0, 3): 22.0, (0, 8): 32.0, (0, 10): 64.0, (0, 4): 4.0, (0, 5): 8.0, (1, 4): 74.75, (1, 7): 12.0, (1, 8): 24.0, (1, 12): -137.5, (4, 12): -137.5, (5, 12): 20.0, (9, 12): 16.0, (10, 12): 32.0, (3, 7): 48.0, (5, 7): 48.0, (7, 10): 64.0, (5, 8): 128.0, (4, 5): 16.0, (1, 5): 22.0, (1, 9): 32.0, (1, 10): 64.0, (3, 9): 128.0, (1, 2): 4.0, (1, 3): 8.0, (2, 3): 16.0}\n"
     ]
    }
   ],
   "source": [
    "print(\"offset        : \", quso_F.offset)\n",
    "print()\n",
    "print(\"linear terms  : \", quso_F.h)\n",
    "print()\n",
    "print(\"couplng terms : \", quso_F.J)"
   ]
  },
  {
   "cell_type": "markdown",
   "metadata": {},
   "source": [
    "Next we solve the QUSO with D-Wave's simulated annealer by sampling 1000 times."
   ]
  },
  {
   "cell_type": "code",
   "execution_count": 66,
   "metadata": {},
   "outputs": [
    {
     "name": "stdout",
     "output_type": "stream",
     "text": [
      "quso_F_solution : {0: -1, 1: -1, 2: 1, 3: 1, 4: 1, 5: 1, 6: -1, 7: 1, 8: 1, 9: 1, 10: 1, 11: 1, 12: 1}\n",
      "Resulting F value: 0.0\n",
      "Should also equal this: 0.0\n"
     ]
    }
   ],
   "source": [
    "res = SAS().sample_ising(quso_F.h, quso_F.J, num_reads=1000)\n",
    "quso_F_solution = res.first.sample\n",
    "\n",
    "print(\"quso_F_solution :\", quso_F_solution)\n",
    "print(\"Resulting F value:\", res.first.energy + quso_F.offset)\n",
    "print(\"Should also equal this:\", quso_F.value(quso_F_solution))"
   ]
  },
  {
   "cell_type": "markdown",
   "metadata": {},
   "source": [
    "Notice now the solution has -1's and 1's! We'll use the `F.convert_solution` function to convert this back to our original variables."
   ]
  },
  {
   "cell_type": "code",
   "execution_count": 67,
   "metadata": {},
   "outputs": [
    {
     "name": "stdout",
     "output_type": "stream",
     "text": [
      "F_solution = {'x0': 1, 'y0': 1, 'y1': 0, 'y2': 0, 'x1': 0, 'x2': 0}\n",
      "x = 3\n",
      "y = 3\n",
      "F(x, y) = 0\n"
     ]
    }
   ],
   "source": [
    "F_solution = F.convert_solution(quso_F_solution, spin=True)\n",
    "\n",
    "print(\"F_solution =\", F_solution)\n",
    "print(\"x =\", x.value(F_solution))\n",
    "print(\"y =\", y.value(F_solution))\n",
    "print(\"F(x, y) =\", F.value(F_solution))"
   ]
  },
  {
   "cell_type": "markdown",
   "metadata": {},
   "source": [
    "The `convert_solution` method takes us back to 0's and 1's. We set the `spin=True` flag to indicate that we are inputting a spin solution as opposed to a boolean solution."
   ]
  },
  {
   "cell_type": "markdown",
   "metadata": {},
   "source": [
    "Awesome, now we've taken a PUBO, reduced it to a QUBO and to a QUSO, solved those with D-Wave's simulated annealer (we could have just as easily solved them with D-Wave's quantum hardware), and then converted the solutions back to what we were originally interested in. But why did we do the reduction step in the first place? It was because D-Wave's simulated annealer would only accept quadratic functions, ie QUBOs and QUSOs. But what if we want to run simulated annealing on PUBOs and PUSOs (yep, you guessed it, Polynomial Unconstrained Spin Optimization problems)? This is precisely the next motivation for creating qubovert."
   ]
  },
  {
   "cell_type": "markdown",
   "metadata": {},
   "source": [
    "## Motivation #5: simulated annealing\n",
    "\n",
    "The simulated annealing library in qubovert is written in C so it is quite fast, and wrapped in Python so it is easy to use. I won't go into too much detail on the simulated annealing functionality; a good example can be found <a href=\"https://github.com/jtiosue/qubovert/blob/master/notebook_examples/Annealing.ipynb\">here</a> that goes into detail on some of the advanced annealing features. For now I'll just continue with our factoring example.\n",
    "\n",
    "We'll start off by directly annealing the PUBO `F` 1000 times. We can access the best sample with the `.best` attribute."
   ]
  },
  {
   "cell_type": "code",
   "execution_count": 68,
   "metadata": {},
   "outputs": [
    {
     "name": "stdout",
     "output_type": "stream",
     "text": [
      "  state: {'y1': 0, 'x0': 1, 'y0': 1, 'y2': 0, 'x1': 0, 'x2': 0}\n",
      "  value: 0\n",
      "   spin: False\n",
      "\n",
      "F_solution = {'y1': 0, 'x0': 1, 'y0': 1, 'y2': 0, 'x1': 0, 'x2': 0}\n",
      "x = 3\n",
      "y = 3\n",
      "F(x, y) = 0\n"
     ]
    }
   ],
   "source": [
    "res = qv.sim.anneal_pubo(F, num_anneals=1000)\n",
    "print(res.best)\n",
    "print()\n",
    "\n",
    "F_solution = res.best.state\n",
    "print(\"F_solution =\", F_solution)\n",
    "print(\"x =\", x.value(F_solution))\n",
    "print(\"y =\", y.value(F_solution))\n",
    "print(\"F(x, y) =\", F.value(F_solution))"
   ]
  },
  {
   "cell_type": "markdown",
   "metadata": {},
   "source": [
    "If we look at the length of `res`, we can see there are 1000 elements for the 1000 anneals."
   ]
  },
  {
   "cell_type": "code",
   "execution_count": 69,
   "metadata": {},
   "outputs": [
    {
     "data": {
      "text/plain": [
       "1000"
      ]
     },
     "execution_count": 69,
     "metadata": {},
     "output_type": "execute_result"
    }
   ],
   "source": [
    "len(res)"
   ]
  },
  {
   "cell_type": "markdown",
   "metadata": {},
   "source": [
    "Let's filter out all of the samples that do not satisfy $xy = N$."
   ]
  },
  {
   "cell_type": "code",
   "execution_count": 70,
   "metadata": {},
   "outputs": [
    {
     "data": {
      "text/plain": [
       "286"
      ]
     },
     "execution_count": 70,
     "metadata": {},
     "output_type": "execute_result"
    }
   ],
   "source": [
    "filtered_res = res.filter_states(lambda state: x.value(state) * y.value(state) == N)\n",
    "len(filtered_res)"
   ]
  },
  {
   "cell_type": "markdown",
   "metadata": {},
   "source": [
    "We can sort the results by their value, and then iterate through them."
   ]
  },
  {
   "cell_type": "code",
   "execution_count": 71,
   "metadata": {},
   "outputs": [],
   "source": [
    "filtered_res.sort()\n",
    "for sample in filtered_res:\n",
    "    # do stuff with sample.value, sample.state\n",
    "    pass"
   ]
  },
  {
   "cell_type": "markdown",
   "metadata": {},
   "source": [
    "Let's plot what the *filtered* output spectrum looks like."
   ]
  },
  {
   "cell_type": "code",
   "execution_count": 72,
   "metadata": {},
   "outputs": [
    {
     "data": {
      "image/png": "[encoded data removed]",
      "text/plain": [
       "<Figure size 432x288 with 1 Axes>"
      ]
     },
     "metadata": {
      "needs_background": "light"
     },
     "output_type": "display_data"
    }
   ],
   "source": [
    "# !pip install matplotlib\n",
    "%matplotlib inline\n",
    "import matplotlib.pyplot as plt\n",
    "\n",
    "plt.hist([sample.value for sample in filtered_res])\n",
    "plt.xlabel(\"$F$\")\n",
    "plt.ylabel(\"counts\")\n",
    "plt.title(\"Values of $F$ that satisfy $xy = N$\")\n",
    "plt.show()"
   ]
  },
  {
   "cell_type": "markdown",
   "metadata": {},
   "source": [
    "Well obviously everything is lying on $F(x, y) = 0$ because we've already filtered out all of the states that do not satisfy $F(x, y) = 0$! How about we plot the *unfiltered* output."
   ]
  },
  {
   "cell_type": "code",
   "execution_count": 73,
   "metadata": {},
   "outputs": [
    {
     "data": {
      "image/png": "[encoded data removed]",
      "text/plain": [
       "<Figure size 432x288 with 1 Axes>"
      ]
     },
     "metadata": {
      "needs_background": "light"
     },
     "output_type": "display_data"
    }
   ],
   "source": [
    "plt.hist([sample.value for sample in res])\n",
    "plt.xlabel(\"$F$\")\n",
    "plt.ylabel(\"counts\")\n",
    "plt.title(\"Values of $F$ sampled\")\n",
    "plt.show()"
   ]
  },
  {
   "cell_type": "markdown",
   "metadata": {},
   "source": [
    "One thing to know is that qubovert's implementation of simulated annealing for QUBOs is *faster* than for PUBOs. This is because of the way that it calculates the change in energy from flipping a bit. So sometimes, depending on the problem, it is actually faster to convert your PUBO to a QUBO, run simulated annealing, and then convert the result back. We show how to do that here."
   ]
  },
  {
   "cell_type": "code",
   "execution_count": 74,
   "metadata": {},
   "outputs": [
    {
     "name": "stdout",
     "output_type": "stream",
     "text": [
      "  state: {0: 1, 1: 1, 2: 0, 3: 0, 4: 0, 5: 0, 6: 1, 7: 0, 8: 0, 9: 0, 10: 0, 11: 0, 12: 0}\n",
      "  value: 0\n",
      "   spin: False\n"
     ]
    }
   ],
   "source": [
    "qubo_F = F.to_qubo()\n",
    "res = qv.sim.anneal_qubo(qubo_F, num_anneals=1000)\n",
    "print(res.best)"
   ]
  },
  {
   "cell_type": "markdown",
   "metadata": {},
   "source": [
    "Now our variables are labeled with integer variables, so how do we go back to the original variables?"
   ]
  },
  {
   "cell_type": "code",
   "execution_count": 75,
   "metadata": {},
   "outputs": [
    {
     "name": "stdout",
     "output_type": "stream",
     "text": [
      "F_solution = {'x0': 1, 'y0': 1, 'y1': 0, 'y2': 0, 'x1': 0, 'x2': 0}\n",
      "x = 3\n",
      "y = 3\n",
      "F(x, y) = 0\n"
     ]
    }
   ],
   "source": [
    "F_solution = F.convert_solution(res.best.state)\n",
    "\n",
    "print(\"F_solution =\", F_solution)\n",
    "print(\"x =\", x.value(F_solution))\n",
    "print(\"y =\", y.value(F_solution))\n",
    "print(\"F(x, y) =\", F.value(F_solution))"
   ]
  },
  {
   "cell_type": "markdown",
   "metadata": {},
   "source": [
    "If we want to convert *all* of the states in the anneal result, we can use the `convert_states` method."
   ]
  },
  {
   "cell_type": "code",
   "execution_count": 76,
   "metadata": {},
   "outputs": [
    {
     "name": "stdout",
     "output_type": "stream",
     "text": [
      "  state: {'x0': 1, 'y0': 1, 'y1': 0, 'y2': 0, 'x1': 0, 'x2': 0}\n",
      "  value: 0\n",
      "   spin: False\n"
     ]
    }
   ],
   "source": [
    "converted_res = res.convert_states(F.convert_solution)\n",
    "print(converted_res.best)"
   ]
  },
  {
   "cell_type": "markdown",
   "metadata": {},
   "source": [
    "We could then filter if we wanted to."
   ]
  },
  {
   "cell_type": "code",
   "execution_count": 77,
   "metadata": {},
   "outputs": [
    {
     "name": "stdout",
     "output_type": "stream",
     "text": [
      "1000\n",
      "75\n"
     ]
    }
   ],
   "source": [
    "print(len(converted_res))\n",
    "filtered_res = converted_res.filter_states(lambda state: x.value(state) * y.value(state) == N)\n",
    "print(len(filtered_res))"
   ]
  },
  {
   "cell_type": "markdown",
   "metadata": {},
   "source": [
    "It's not surprising that less of the solutions satisfy $xy=N$ because the QUBO form has a much larger solution space because of the extra variables! So even if it is *faster* to run `anneal_qubo`, it is not always *better*. This is why `anneal_pubo` is so important.\n",
    "\n",
    "The `anneal_qubo` and `anneal_pubo` functions actually just convert the QUBO and PUBO to a QUSO and PUSO respectively, solve those with `anneal_quso` and `anneal_puso`, and then convert the solution back to boolean form. So if you have a spin function, then don't convert it to boolean form before solving it with simulated annealing!\n",
    "\n",
    "For completeness, let's show the many ways we could find the groundstate of $F$ if we were to convert it to a PUSO. First let's convert it to a `PUSOMatrix` via the `to_puso` method solve it with `anneal_puso`, convert the solutions to boolean with the `.to_boolean` method, and then convert the solutions back to be labeled by the original labels with the `F.convert_solution` method. This is one major theme of qubovert; whenever any of the `.to_qubo`, `.to_quso`, `.to_pubo`, or `.to_puso` methods are used, they should always be acompanied by the `.convert_solution` method!"
   ]
  },
  {
   "cell_type": "code",
   "execution_count": 78,
   "metadata": {},
   "outputs": [
    {
     "name": "stdout",
     "output_type": "stream",
     "text": [
      "  state: {'x0': 1, 'y0': 1, 'y1': 0, 'y2': 0, 'x1': 0, 'x2': 0}\n",
      "  value: 0\n",
      "   spin: False\n",
      "282\n"
     ]
    }
   ],
   "source": [
    "puso_F = F.to_puso()\n",
    "puso_res = qv.sim.anneal_puso(puso_F, num_anneals=1000)\n",
    "F_res = puso_res.to_boolean()\n",
    "converted_res = F_res.convert_states(F.convert_solution)\n",
    "filtered_res = converted_res.filter_states(lambda state: x.value(state) * y.value(state) == N)\n",
    "print(filtered_res.best)\n",
    "print(len(filtered_res))"
   ]
  },
  {
   "cell_type": "markdown",
   "metadata": {},
   "source": [
    "Next we'll explicitly convert `F` to be a PUSO, solve it with `anneal_puso`, and then convert the results to boolean via the `.to_boolean` method. By the way, there is also a `.to_spin` method that would take boolean results to spin results, but of course we don't need that here."
   ]
  },
  {
   "cell_type": "code",
   "execution_count": 79,
   "metadata": {},
   "outputs": [
    {
     "name": "stdout",
     "output_type": "stream",
     "text": [
      "  state: {'y1': 0, 'x0': 1, 'y0': 1, 'y2': 0, 'x1': 0, 'x2': 0}\n",
      "  value: 0\n",
      "   spin: False\n",
      "290\n"
     ]
    }
   ],
   "source": [
    "puso_F = qv.utils.pubo_to_puso(F)\n",
    "puso_res = qv.sim.anneal_puso(puso_F, num_anneals=1000)\n",
    "F_res = puso_res.to_boolean()\n",
    "filtered_res = F_res.filter_states(lambda state: x.value(state) * y.value(state) == N)\n",
    "print(filtered_res.best)\n",
    "print(len(filtered_res))"
   ]
  },
  {
   "cell_type": "markdown",
   "metadata": {},
   "source": [
    "Finally, we'll convert `F` to a QUSO via the `.to_quso` method, solve it with `anneal_quso`, and then convert the solutions back."
   ]
  },
  {
   "cell_type": "code",
   "execution_count": 80,
   "metadata": {},
   "outputs": [
    {
     "name": "stdout",
     "output_type": "stream",
     "text": [
      "  state: {'x0': 1, 'y0': 1, 'y1': 0, 'y2': 0, 'x1': 0, 'x2': 0}\n",
      "  value: 0\n",
      "   spin: False\n",
      "61\n"
     ]
    }
   ],
   "source": [
    "quso_F = F.to_quso()\n",
    "res = qv.sim.anneal_quso(quso_F, num_anneals=1000)\n",
    "qubo_res = res.to_boolean()\n",
    "converted_res = qubo_res.convert_states(F.convert_solution)\n",
    "filtered_res = converted_res.filter_states(lambda state: x.value(state) * y.value(state) == N)\n",
    "print(filtered_res.best)\n",
    "print(len(filtered_res))"
   ]
  },
  {
   "cell_type": "markdown",
   "metadata": {},
   "source": [
    "So there's our quick overview of the `qubovert.sim` library. We'll discuss it a little bit more later, and again see [this notebook](https://github.com/jtiosue/qubovert/blob/master/notebook_examples/Annealing.ipynb) for a discussion on advanced annealing. One theme that we've come across many times now is that *whenever any of the `.to_qubo`, `.to_quso`, `.to_pubo`, or `.to_puso` methods are used, they should always be acompanied by the `.convert_solution` method!*"
   ]
  },
  {
   "cell_type": "markdown",
   "metadata": {},
   "source": [
    "## Motivation #6: boolean logic\n",
    "\n",
    "This wasn't exactly an initial motivation for qubovert, but it came up as a prerequisite to dealing with constraints with the `qubovert.PCBO` object. So we'll take a very quick detour to talk about the `qubovert.sat` library that we'll be useful to know about for moving on the the next section about [constraints and ancillas](#Motivation-#7:-constraints-and-ancillas).\n",
    "\n",
    "The `qubovert.sat` library is for managing pseudo-boolean functions for boolean logic. Consider the AND gate on variables $v_1, \\dots, v_n$:\n",
    "\n",
    "$$\\text{AND}:\\{0, 1 \\} \\times \\dots \\times \\{0, 1 \\}\\to \\{0, 1 \\} \\qquad s.t. \\quad \\text{AND}(v_1, \\dots, v_n) = \\begin{cases}\n",
    "1&\\text{if }\\forall i: v_i = 1\\\\\n",
    "0&\\text{else}\n",
    "\\end{cases}$$\n",
    "\n",
    "Indeed the AND function is a PUBO. Let's start off with four boolean variables $w, x, y, z$. We see that AND$(x, y) = xy$."
   ]
  },
  {
   "cell_type": "code",
   "execution_count": 81,
   "metadata": {},
   "outputs": [
    {
     "name": "stdout",
     "output_type": "stream",
     "text": [
      "{('x', 'y'): 1}\n",
      "\n",
      "{'x': 0, 'y': 0}  -->  0\n",
      "{'x': 0, 'y': 1}  -->  0\n",
      "{'x': 1, 'y': 0}  -->  0\n",
      "{'x': 1, 'y': 1}  -->  1\n"
     ]
    }
   ],
   "source": [
    "from itertools import product\n",
    "\n",
    "AND = qv.sat.AND('x', 'y')\n",
    "print(AND)\n",
    "print()\n",
    "\n",
    "for i, j in product((0, 1), repeat=2):\n",
    "    assignment = {'x': i, 'y': j}\n",
    "    print(assignment, \" --> \", AND.value(assignment))"
   ]
  },
  {
   "cell_type": "markdown",
   "metadata": {},
   "source": [
    "Similarly, AND$(w, x, y, z) = wxyz$."
   ]
  },
  {
   "cell_type": "code",
   "execution_count": 82,
   "metadata": {},
   "outputs": [
    {
     "name": "stdout",
     "output_type": "stream",
     "text": [
      "{('x', 'w', 'y', 'z'): 1}\n",
      "\n",
      "{'w': 0, 'x': 0, 'y': 0, 'z': 0}  -->  0\n",
      "{'w': 0, 'x': 0, 'y': 0, 'z': 1}  -->  0\n",
      "{'w': 0, 'x': 0, 'y': 1, 'z': 0}  -->  0\n",
      "{'w': 0, 'x': 0, 'y': 1, 'z': 1}  -->  0\n",
      "{'w': 0, 'x': 1, 'y': 0, 'z': 0}  -->  0\n",
      "{'w': 0, 'x': 1, 'y': 0, 'z': 1}  -->  0\n",
      "{'w': 0, 'x': 1, 'y': 1, 'z': 0}  -->  0\n",
      "{'w': 0, 'x': 1, 'y': 1, 'z': 1}  -->  0\n",
      "{'w': 1, 'x': 0, 'y': 0, 'z': 0}  -->  0\n",
      "{'w': 1, 'x': 0, 'y': 0, 'z': 1}  -->  0\n",
      "{'w': 1, 'x': 0, 'y': 1, 'z': 0}  -->  0\n",
      "{'w': 1, 'x': 0, 'y': 1, 'z': 1}  -->  0\n",
      "{'w': 1, 'x': 1, 'y': 0, 'z': 0}  -->  0\n",
      "{'w': 1, 'x': 1, 'y': 0, 'z': 1}  -->  0\n",
      "{'w': 1, 'x': 1, 'y': 1, 'z': 0}  -->  0\n",
      "{'w': 1, 'x': 1, 'y': 1, 'z': 1}  -->  1\n"
     ]
    }
   ],
   "source": [
    "AND = qv.sat.AND('w', 'x', 'y', 'z')\n",
    "print(AND)\n",
    "print()\n",
    "\n",
    "for i, j, k, l in product((0, 1), repeat=4):\n",
    "    assignment = {'w': i, 'x': j, 'y': k, 'z': l}\n",
    "    print(assignment, \" --> \", AND.value(assignment))"
   ]
  },
  {
   "cell_type": "markdown",
   "metadata": {},
   "source": [
    "Notice that the `qubovert.sat.AND` function took in a bunch of boolean variable labels, and outputted a PUBO whose value was the AND of the variables. But more generally, the AND function can take in boolean *expressions*. For example, consider the following logical expression,\n",
    "\n",
    "$$C: (x, y, z) \\to (\\overline{\\bar x \\land y \\land \\overline{x \\land z}}) \\lor (\\bar z \\land y).$$"
   ]
  },
  {
   "cell_type": "code",
   "execution_count": 83,
   "metadata": {
    "scrolled": true
   },
   "outputs": [
    {
     "name": "stdout",
     "output_type": "stream",
     "text": [
      "Forumla\n",
      "C(x, y, z) = {(): 1, ('x', 'y', 'z'): 1, ('y', 'z'): -1}\n",
      "\n",
      "Values\n",
      "{'x': 0, 'y': 0, 'z': 0}  -->  C = 1\n",
      "{'x': 0, 'y': 0, 'z': 1}  -->  C = 1\n",
      "{'x': 0, 'y': 1, 'z': 0}  -->  C = 1\n",
      "{'x': 0, 'y': 1, 'z': 1}  -->  C = 0\n",
      "{'x': 1, 'y': 0, 'z': 0}  -->  C = 1\n",
      "{'x': 1, 'y': 0, 'z': 1}  -->  C = 1\n",
      "{'x': 1, 'y': 1, 'z': 0}  -->  C = 1\n",
      "{'x': 1, 'y': 1, 'z': 1}  -->  C = 1\n"
     ]
    }
   ],
   "source": [
    "C = qv.sat.OR(\n",
    "    qv.sat.NAND(\n",
    "        qv.sat.NOT('x'), \n",
    "        'y', qv.sat.\n",
    "        NAND('x', 'z')\n",
    "    ), qv.sat.AND(\n",
    "        qv.sat.NOT('z'), \n",
    "        'y'\n",
    "    )\n",
    ")\n",
    "\n",
    "print(\"Forumla\")\n",
    "print(\"C(x, y, z) =\", C)\n",
    "print()\n",
    "\n",
    "print(\"Values\")\n",
    "for i, j, k in product((0, 1), repeat=3):\n",
    "    assignment = {'x': i, 'y': j, 'z': k}\n",
    "    print(assignment, ' --> ', 'C =', C.value(assignment))"
   ]
  },
  {
   "cell_type": "markdown",
   "metadata": {},
   "source": [
    "We can see that qubovert automatically simplifies the expression, and that the formula for $C$ is simply\n",
    "\n",
    "$$C = 1 + xyz - yz.$$\n",
    "\n",
    "In other words,\n",
    "\n",
    "$$C: (x, y, z) \\to \\overline{ \\bar x \\land y \\land z}.$$"
   ]
  },
  {
   "cell_type": "markdown",
   "metadata": {},
   "source": [
    "I won't go over any more of the functions, but you can see them all here. Again, they have good docstrings so just use `help(function_name)` to learn about them."
   ]
  },
  {
   "cell_type": "code",
   "execution_count": 84,
   "metadata": {},
   "outputs": [
    {
     "data": {
      "text/plain": [
       "('BUFFER', 'NOT', 'AND', 'NAND', 'OR', 'NOR', 'XOR', 'XNOR')"
      ]
     },
     "execution_count": 84,
     "metadata": {},
     "output_type": "execute_result"
    }
   ],
   "source": [
    "qv.sat.__all__"
   ]
  },
  {
   "cell_type": "markdown",
   "metadata": {},
   "source": [
    "Most of them accept any number of arguments."
   ]
  },
  {
   "cell_type": "code",
   "execution_count": 85,
   "metadata": {},
   "outputs": [
    {
     "name": "stdout",
     "output_type": "stream",
     "text": [
      "{(): 1}\n",
      "{('x',): 1}\n",
      "{('x', 'y'): 1}\n",
      "{('x', 'y', 'z'): 1}\n"
     ]
    }
   ],
   "source": [
    "print(qv.sat.AND())\n",
    "print(qv.sat.AND('x'))\n",
    "print(qv.sat.AND('x', 'y'))\n",
    "print(qv.sat.AND('x', 'y', 'z'))"
   ]
  },
  {
   "cell_type": "markdown",
   "metadata": {},
   "source": [
    "**One very important note!** SAT functions take labels and expressions, so it will consider a 0 or a 1 as a label not an expression! Let me explain. If I wanted to do the OR of $x$ and $y$, there are two ways that I can do that. The first is to explictly send in the labels `'x'` and `'y'`."
   ]
  },
  {
   "cell_type": "code",
   "execution_count": 86,
   "metadata": {},
   "outputs": [
    {
     "data": {
      "text/plain": [
       "{('x',): 1, ('x', 'y'): -1, ('y',): 1}"
      ]
     },
     "execution_count": 86,
     "metadata": {},
     "output_type": "execute_result"
    }
   ],
   "source": [
    "qv.sat.OR('x', 'y')"
   ]
  },
  {
   "cell_type": "markdown",
   "metadata": {},
   "source": [
    "The second is to create the PUBOs representing the variables $x$ and $y$."
   ]
  },
  {
   "cell_type": "code",
   "execution_count": 87,
   "metadata": {},
   "outputs": [
    {
     "data": {
      "text/plain": [
       "{('x',): 1, ('x', 'y'): -1, ('y',): 1}"
      ]
     },
     "execution_count": 87,
     "metadata": {},
     "output_type": "execute_result"
    }
   ],
   "source": [
    "x = {('x',): 1}\n",
    "y = {('y',): 1}\n",
    "\n",
    "qv.sat.OR(x, y)"
   ]
  },
  {
   "cell_type": "markdown",
   "metadata": {},
   "source": [
    "The reason we would want to the latter is so that we can send in expressions rather than just variables."
   ]
  },
  {
   "cell_type": "code",
   "execution_count": 88,
   "metadata": {},
   "outputs": [
    {
     "name": "stdout",
     "output_type": "stream",
     "text": [
      "{('w', 'z'): 1}\n",
      "{('x',): 1, ('x', 'y'): -1, ('y',): 1, ('x', 'w', 'z'): -1, ('x', 'w', 'y', 'z'): 1, ('w', 'y', 'z'): -1, ('w', 'z'): 1}\n"
     ]
    }
   ],
   "source": [
    "ex = qv.sat.AND('w', 'z')\n",
    "print(ex)\n",
    "print(qv.sat.OR('x', 'y', ex))"
   ]
  },
  {
   "cell_type": "markdown",
   "metadata": {},
   "source": [
    "But qubovert allows any hashable object to be a label of a variable. So for example we can AND two variables $x_0$ and $x_1$ that we label in qubovert simply by the integers 0 and 1."
   ]
  },
  {
   "cell_type": "code",
   "execution_count": 89,
   "metadata": {},
   "outputs": [
    {
     "name": "stdout",
     "output_type": "stream",
     "text": [
      "{(0, 1): 1}\n",
      "{(0, 1): 1}\n"
     ]
    }
   ],
   "source": [
    "print(qv.sat.AND(0, 1))\n",
    "print(qv.sat.AND({(0,): 1}, {(1,): 1}))"
   ]
  },
  {
   "cell_type": "markdown",
   "metadata": {},
   "source": [
    "This may be unexpected behavior if you are not aware. $x \\land y$ evaluates to 0 if either or both $x = 0$ or $y = 0$. Consider the following cell. You may naively think that these should output the same thing. But they don't! That's because the arguments of the SAT functions are *always treated as variable labels!*"
   ]
  },
  {
   "cell_type": "code",
   "execution_count": 90,
   "metadata": {},
   "outputs": [
    {
     "name": "stdout",
     "output_type": "stream",
     "text": [
      "0\n",
      "{(0, 1): 1}\n"
     ]
    }
   ],
   "source": [
    "print(qv.sat.AND('x', 'y').value({'x': 0, 'y': 1}))\n",
    "print(qv.sat.AND(0, 1))"
   ]
  },
  {
   "cell_type": "markdown",
   "metadata": {},
   "source": [
    "If you want to compute a SAT expression of a bunch of variables and values, then consider using `subvalue`. In the following example, we'll take the AND of $w, x, y$, and then replace $w$ with the value 1 but leave $x$ and $y$ as variables. The resulting expression will just be the AND of $x$ and $y$."
   ]
  },
  {
   "cell_type": "code",
   "execution_count": 91,
   "metadata": {},
   "outputs": [
    {
     "name": "stdout",
     "output_type": "stream",
     "text": [
      "{('x', 'w', 'y'): 1}\n",
      "{('x', 'y'): 1}\n"
     ]
    }
   ],
   "source": [
    "ex = qv.sat.AND('w', 'x', 'y')\n",
    "print(ex)\n",
    "print(ex.subvalue({'w': 1}))"
   ]
  },
  {
   "cell_type": "markdown",
   "metadata": {},
   "source": [
    "In the following example, we'll take the AND of $w, x, y$, and then replace $w$ with the value 0 but leave $x$ and $y$ as variables. The resulting expression will just be the PUBO representing 0 because there is no assignment of $x$ and $y$ to make AND$(w, x, y) = 1$ when $w = 0$."
   ]
  },
  {
   "cell_type": "code",
   "execution_count": 92,
   "metadata": {},
   "outputs": [
    {
     "name": "stdout",
     "output_type": "stream",
     "text": [
      "{('x', 'w', 'y'): 1}\n",
      "{}\n"
     ]
    }
   ],
   "source": [
    "ex = qv.sat.AND('w', 'x', 'y')\n",
    "print(ex)\n",
    "print(ex.subvalue({'w': 0}))"
   ]
  },
  {
   "cell_type": "markdown",
   "metadata": {},
   "source": [
    "Indeed we can substitute $x$ and $y$ with values and we'll always get zero."
   ]
  },
  {
   "cell_type": "code",
   "execution_count": 93,
   "metadata": {},
   "outputs": [
    {
     "name": "stdout",
     "output_type": "stream",
     "text": [
      "{'x': 0, 'y': 0}  -->  0\n",
      "{'x': 0, 'y': 1}  -->  0\n",
      "{'x': 1, 'y': 0}  -->  0\n",
      "{'x': 1, 'y': 1}  -->  0\n"
     ]
    }
   ],
   "source": [
    "ex = qv.sat.AND('w', 'x', 'y').subvalue({'w': 0})\n",
    "\n",
    "for i, j in product((0, 1), repeat=2):\n",
    "    assignment = {'x': i, 'y': j}\n",
    "    print(assignment, ' --> ', ex.value(assignment))"
   ]
  },
  {
   "cell_type": "markdown",
   "metadata": {},
   "source": [
    "Okay that's our brief aside on boolean logic with qubovert! This will be necessary to know for our next section on adding constraints."
   ]
  },
  {
   "cell_type": "markdown",
   "metadata": {},
   "source": [
    "## Motivation #7: constraints and ancillas\n",
    "\n",
    "The next motivation for making qubovert was to implement constraints. Oftentimes constraints introduce ancilla variables, and in my experience keeping track of these ancillas can cause a lot of bugs and ugly code. This section will serve as a brief introduction to Polynomial Constrained Boolean Optimization (PCBO) problems, and as usual most of what I show here has analagous usage for Polynomial Constrained Spin Optimization (PCSO) problems (except for the boolean logic). I will not go into very much detail for now; at the end of this section I will list some of the remaining sections in this notebook that are particularly useful for working with PCBOs and PCSOs. With all that being said, let's get started.\n",
    "\n",
    "Let's say that we have a PUBO that we want to minimize\n",
    "\n",
    "$$P(x) = -\\sum_{i=0}^{4}x_ix_{i+1}.$$"
   ]
  },
  {
   "cell_type": "code",
   "execution_count": 94,
   "metadata": {},
   "outputs": [
    {
     "name": "stdout",
     "output_type": "stream",
     "text": [
      "-x(0) x(1) - x(1) x(2) - x(2) x(3) - x(3) x(4) - x(4) x(5)\n"
     ]
    }
   ],
   "source": [
    "xs = [qv.PUBO({(i,): 1}) for i in range(6)]\n",
    "P = -sum(xs[i] * xs[i+1] for i in range(5))\n",
    "print(P.pretty_str())"
   ]
  },
  {
   "cell_type": "markdown",
   "metadata": {},
   "source": [
    "In addition, suppose that we want to minimize $P$ subject to two constraints;\n",
    "1. the first constraint will be that there are never three 1's in a row, ie $$C_1(x) := \\sum_{i=0}^{3}x_i x_{i+1}x_{i+2} = 0;$$\n",
    "2. the second constraint will be that $$C_2(x) := \\sum_{i=0}^5 x_i - 3 \\leq 0.$$\n",
    "\n",
    "Let's create $C_1$ and $C_2$."
   ]
  },
  {
   "cell_type": "code",
   "execution_count": 95,
   "metadata": {},
   "outputs": [
    {
     "name": "stdout",
     "output_type": "stream",
     "text": [
      "C1 = x(0) x(1) x(2) + x(1) x(2) x(3) + x(2) x(3) x(4) + x(3) x(4) x(5)\n",
      "C2 = x(0) + x(1) + x(2) + x(3) + x(4) + x(5) - 3\n"
     ]
    }
   ],
   "source": [
    "C1 = sum(xs[i] * xs[i+1] * xs[i+2] for i in range(4))\n",
    "C2 = sum(xs) - 3\n",
    "\n",
    "print(\"C1 =\", C1.pretty_str())\n",
    "print(\"C2 =\", C2.pretty_str())"
   ]
  },
  {
   "cell_type": "markdown",
   "metadata": {},
   "source": [
    "Our method to enforce these constraints will be to add penalties weighted by Lagrange multipliers to $P$. Suppose there existed functions $f_1 : \\{0, 1 \\}^6 \\to \\mathbb R$ and $f_2: \\{0, 1 \\}^6 \\to \\mathbb R$ such that\n",
    "\n",
    "$$f_1(x) \\begin{cases}=0&\\text{if } C_1(x) = 0\\\\ >0&\\text{else}\\end{cases} \\qquad f_2(x) \\begin{cases}=0&\\text{if } C_2(x) \\leq 0\\\\ >0&\\text{else}\\end{cases}$$\n",
    "\n",
    "Then we can see that the solution to our constrained problem is the solution to the following unconstrained problem:\n",
    "\n",
    "$$\\min_{x} P(x) \\text{ s.t. } \\left\\{C_1(x) =0, C_2(x) \\leq 0\\right\\} = \\lim_{\\lambda_1, \\lambda_2 \\to \\infty}\\min_x \\left(P(x) + \\lambda_1 f_1(x) + \\lambda_2 f_2(x) \\right).$$\n",
    "\n",
    "Now we just need to find a satisfying $f_1$ and $f_2$. Well notice that $f_1(x) = C_1(x)$ satisfies the criteria. Okay great, now what about $f_2$? This one is a little more difficult, but let me just get straight to the point. Consider that we introduce ancilla boolean variables $a_0$ and $a_1$ and we set \n",
    "\n",
    "$$f_2(x, a) = \\left(C_2(x) + a_0 + 2a_1\\right)^2.$$\n",
    "\n",
    "Note that $\\min_x C_2(x) = -3$. Thus for every $x$ that satisfies $C_2(x) \\leq 0$, there exists a value of $a_0$ and $a_1$ such that $f_2(x, a) = 0$. Now our unconstrained problem has two extra variables and needs to be modified accordingly as\n",
    "\n",
    "$$\\min_{x} P(x) \\text{ s.t. } \\left\\{C_1(x) =0, C_2(x) \\leq 0\\right\\} = \\lim_{\\lambda_1, \\lambda_2 \\to \\infty}\\min_{x, a} \\left(P(x) + \\lambda_1 f_1(x) + \\lambda_2 f_2(x, a) \\right).$$\n",
    "\n",
    "In general, setting the Lagrange multipliers $\\lambda_1$ and $\\lambda_2$ is a relatively hard task, and the values that give the best performance depends on the solver that you are using. Too small and they will not adequetely enforce the constraints; too large and they make the optimization landscape very hard to traverse and thus it is very hard to find the true minimum. For simiplicity for this example, let's just set them both equal to 10."
   ]
  },
  {
   "cell_type": "code",
   "execution_count": 96,
   "metadata": {},
   "outputs": [],
   "source": [
    "lam1 = lam2 = 10"
   ]
  },
  {
   "cell_type": "markdown",
   "metadata": {},
   "source": [
    "We can create the unconstrained PUBO $U$ that solves our PUBO as follows. The reason that I name $a_0, a_1$ as `'__a0', '__a1'` will become clear in a few cells."
   ]
  },
  {
   "cell_type": "code",
   "execution_count": 97,
   "metadata": {},
   "outputs": [],
   "source": [
    "a0, a1 = qv.PUBO.create_var('__a0'), qv.PUBO.create_var('__a1')\n",
    "U = P + lam1 * C1 + lam2 * (C2 + a0 + 2*a1)**2"
   ]
  },
  {
   "cell_type": "markdown",
   "metadata": {},
   "source": [
    "Let's solve $U$ bruteforce and see if all of the constraints are satisfied."
   ]
  },
  {
   "cell_type": "code",
   "execution_count": 98,
   "metadata": {},
   "outputs": [
    {
     "name": "stdout",
     "output_type": "stream",
     "text": [
      "C1 satisfied? True\n",
      "C2 satisfied? True\n"
     ]
    }
   ],
   "source": [
    "sol = U.solve_bruteforce()\n",
    "print(\"C1 satisfied?\", C1.value(sol) == 0)\n",
    "print(\"C2 satisfied?\", C2.value(sol) <= 0)"
   ]
  },
  {
   "cell_type": "markdown",
   "metadata": {},
   "source": [
    "You can imagine that as you start to introduce more and more constraints (especially inequality constraints since they often introduce ancilla variables) that we'd like a nice automated way to keep track of all of the ancilla variables and all of the constraints so that we can easily see if the constraints are satisfied. That's where the `PCBO` object comes in. Let's look at the MRO."
   ]
  },
  {
   "cell_type": "code",
   "execution_count": 99,
   "metadata": {},
   "outputs": [
    {
     "data": {
      "text/plain": [
       "[qubovert._pcbo.PCBO,\n",
       " qubovert._pubo.PUBO,\n",
       " qubovert.utils._bo_parentclass.BO,\n",
       " qubovert.utils._conversions.Conversions,\n",
       " qubovert.utils._pubomatrix.PUBOMatrix,\n",
       " qubovert.utils._dict_arithmetic.DictArithmetic,\n",
       " dict,\n",
       " object]"
      ]
     },
     "execution_count": 99,
     "metadata": {},
     "output_type": "execute_result"
    }
   ],
   "source": [
    "qv.PCBO.mro()"
   ]
  },
  {
   "cell_type": "markdown",
   "metadata": {},
   "source": [
    "It inherits directly from the `PUBO` class. Let me convert `P` (which is currently a `PUBO` object) to a `PCBO` object. Then let's add our constraints that $C_1(x) = 0$ and $C_2(x) \\leq 0$."
   ]
  },
  {
   "cell_type": "code",
   "execution_count": 100,
   "metadata": {},
   "outputs": [
    {
     "name": "stdout",
     "output_type": "stream",
     "text": [
      "{(0, 1): 19, (1, 2): 19, (2, 3): 19, (3, 4): 19, (4, 5): 19, (0, 1, 2): 10, (1, 2, 3): 10, (2, 3, 4): 10, (3, 4, 5): 10, (0,): -50, (0, 2): 20, (0, 3): 20, (0, 4): 20, (0, 5): 20, (0, '__a0'): 20, ('__a1', 0): 40, (1,): -50, (1, 3): 20, (1, 4): 20, (1, 5): 20, (1, '__a0'): 20, ('__a1', 1): 40, (2,): -50, (2, 4): 20, (2, 5): 20, (2, '__a0'): 20, ('__a1', 2): 40, (3,): -50, (3, 5): 20, (3, '__a0'): 20, ('__a1', 3): 40, (4,): -50, (4, '__a0'): 20, ('__a1', 4): 40, (5,): -50, (5, '__a0'): 20, ('__a1', 5): 40, (): 90, ('__a0',): -50, ('__a1',): -80, ('__a1', '__a0'): 40}\n"
     ]
    }
   ],
   "source": [
    "P_pcbo = qv.PCBO(P)\n",
    "P_pcbo.add_constraint_eq_zero(C1, lam=lam1)\n",
    "P_pcbo.add_constraint_le_zero(C2, lam=lam2)\n",
    "print(P_pcbo)"
   ]
  },
  {
   "cell_type": "markdown",
   "metadata": {},
   "source": [
    "Notice that our `PCBO` object was automatically updated. You can see that new variables were added."
   ]
  },
  {
   "cell_type": "code",
   "execution_count": 101,
   "metadata": {},
   "outputs": [
    {
     "data": {
      "text/plain": [
       "{0, 1, 2, 3, 4, 5, '__a0', '__a1'}"
      ]
     },
     "execution_count": 101,
     "metadata": {},
     "output_type": "execute_result"
    }
   ],
   "source": [
    "P_pcbo.variables"
   ]
  },
  {
   "cell_type": "markdown",
   "metadata": {},
   "source": [
    "qubovert automatically adds the penalties to the function, and it labels the ancillas with the prefix `'__a'`. Let's check that our new `PCBO` is doing exactly what we doing before with $U$."
   ]
  },
  {
   "cell_type": "code",
   "execution_count": 102,
   "metadata": {},
   "outputs": [
    {
     "data": {
      "text/plain": [
       "True"
      ]
     },
     "execution_count": 102,
     "metadata": {},
     "output_type": "execute_result"
    }
   ],
   "source": [
    "P_pcbo == U"
   ]
  },
  {
   "cell_type": "markdown",
   "metadata": {},
   "source": [
    "So what's really nice about this object is that it keeps track of ancillas and will automatically add the penalty terms to the function. What is also very nice is that it keeps track of all of the constraints."
   ]
  },
  {
   "cell_type": "code",
   "execution_count": 103,
   "metadata": {},
   "outputs": [
    {
     "data": {
      "text/plain": [
       "{'eq': [{(0, 1, 2): 1, (1, 2, 3): 1, (2, 3, 4): 1, (3, 4, 5): 1}],\n",
       " 'le': [{(0,): 1, (1,): 1, (2,): 1, (3,): 1, (4,): 1, (5,): 1, (): -3}]}"
      ]
     },
     "execution_count": 103,
     "metadata": {},
     "output_type": "execute_result"
    }
   ],
   "source": [
    "P_pcbo.constraints"
   ]
  },
  {
   "cell_type": "markdown",
   "metadata": {},
   "source": [
    "Notice that's $C_1$ and $C_2$! Because it keeps track of all of the constraints, it can tell us if a proposed solution satisfies all of the constraints via the `.is_solution_valid` method."
   ]
  },
  {
   "cell_type": "code",
   "execution_count": 104,
   "metadata": {},
   "outputs": [
    {
     "name": "stdout",
     "output_type": "stream",
     "text": [
      "{0: 0, 1: 0, 2: 0, 3: 0, 4: 1, 5: 1, '__a0': 1, '__a1': 0}\n",
      "True\n"
     ]
    }
   ],
   "source": [
    "sol = P_pcbo.solve_bruteforce()\n",
    "print(sol)\n",
    "print(P_pcbo.is_solution_valid(sol))"
   ]
  },
  {
   "cell_type": "markdown",
   "metadata": {},
   "source": [
    "It may be kind of annoying to your that our solution still contains ancilla information even though we don't necessarily care about those ancillas. To remove the ancillas from the solution, we can do"
   ]
  },
  {
   "cell_type": "code",
   "execution_count": 105,
   "metadata": {},
   "outputs": [
    {
     "data": {
      "text/plain": [
       "{0: 0, 1: 0, 2: 0, 3: 0, 4: 1, 5: 1}"
      ]
     },
     "execution_count": 105,
     "metadata": {},
     "output_type": "execute_result"
    }
   ],
   "source": [
    "P_pcbo.remove_ancilla_from_solution(sol)"
   ]
  },
  {
   "cell_type": "markdown",
   "metadata": {},
   "source": [
    "Now what if we want to solve this problem with qubovert's PUBO simulated annealer? Well let's do that here."
   ]
  },
  {
   "cell_type": "code",
   "execution_count": 106,
   "metadata": {},
   "outputs": [
    {
     "name": "stdout",
     "output_type": "stream",
     "text": [
      "solutions that satisfy all of the constraints:\n",
      "\n",
      "AnnealResults\n",
      "\n",
      "  state: {0: 1, 1: 0, 2: 0, 3: 1, 4: 1, 5: 0}\n",
      "  value: -1\n",
      "   spin: False\n",
      "\n",
      "  state: {0: 0, 1: 0, 2: 1, 3: 0, 4: 1, 5: 1}\n",
      "  value: -1\n",
      "   spin: False\n",
      "\n",
      "  state: {0: 0, 1: 0, 2: 0, 3: 0, 4: 1, 5: 1}\n",
      "  value: -1\n",
      "   spin: False\n",
      "\n",
      "  state: {0: 0, 1: 0, 2: 0, 3: 0, 4: 0, 5: 1}\n",
      "  value: 0\n",
      "   spin: False\n",
      "\n",
      "  state: {0: 0, 1: 1, 2: 0, 3: 1, 4: 0, 5: 0}\n",
      "  value: 0\n",
      "   spin: False\n"
     ]
    }
   ],
   "source": [
    "res = qv.sim.anneal_pubo(P_pcbo, num_anneals=5)\n",
    "no_ancilla = res.convert_states(P_pcbo.remove_ancilla_from_solution)\n",
    "satisfy_constraints = no_ancilla.filter_states(P_pcbo.is_solution_valid)\n",
    "print(\"solutions that satisfy all of the constraints:\\n\")\n",
    "print(satisfy_constraints)"
   ]
  },
  {
   "cell_type": "markdown",
   "metadata": {},
   "source": [
    "What if we want to solve it with qubovert's QUSO simulated annealer?"
   ]
  },
  {
   "cell_type": "code",
   "execution_count": 107,
   "metadata": {},
   "outputs": [
    {
     "name": "stdout",
     "output_type": "stream",
     "text": [
      "solutions that satisfy all of the constraints:\n",
      "\n",
      "AnnealResults\n",
      "\n",
      "  state: {0: 1, 1: 0, 2: 1, 3: 0, 4: 0, 5: 1}\n",
      "  value: 0\n",
      "   spin: True\n",
      "\n",
      "  state: {0: 1, 1: 1, 2: 0, 3: 0, 4: 0, 5: 0}\n",
      "  value: -1\n",
      "   spin: True\n",
      "\n",
      "  state: {0: 0, 1: 0, 2: 1, 3: 0, 4: 1, 5: 1}\n",
      "  value: -1\n",
      "   spin: True\n",
      "\n",
      "  state: {0: 1, 1: 0, 2: 1, 3: 0, 4: 1, 5: 0}\n",
      "  value: 0\n",
      "   spin: True\n",
      "\n",
      "  state: {0: 0, 1: 1, 2: 0, 3: 0, 4: 0, 5: 0}\n",
      "  value: 0\n",
      "   spin: True\n"
     ]
    }
   ],
   "source": [
    "res = qv.sim.anneal_quso(P_pcbo.to_quso(), num_anneals=5)\n",
    "converted_res = res.convert_states(P_pcbo.convert_solution)\n",
    "no_ancilla = converted_res.convert_states(P_pcbo.remove_ancilla_from_solution)\n",
    "satisfy_constraints = no_ancilla.filter_states(P_pcbo.is_solution_valid)\n",
    "print(\"solutions that satisfy all of the constraints:\\n\")\n",
    "print(satisfy_constraints)"
   ]
  },
  {
   "cell_type": "markdown",
   "metadata": {},
   "source": [
    "As always, since we used a `.to_` method (ie `.to_quso`), we *must* use the `.convert_solution` method.\n",
    "\n",
    "Let's do one more example. This time instead of starting off with a PUBO and then converting to a PCBO, let's start right away with PCBO variables. To create a `PCBO` variable, you could do exactly what we've been doing with all the other objects; \n",
    "\n",
    "    x = qv.PCBO({('x',): 1})\n",
    "\n",
    "or similarly,\n",
    "\n",
    "    x = qv.PCBO.create_var('x')\n",
    "    \n",
    "But given how often we do this, qubovert has a function for that, namely `qv.boolean_var('x')` which is exactly the same as `qv.PCBO.create_var`, including setting the name attribute."
   ]
  },
  {
   "cell_type": "code",
   "execution_count": 108,
   "metadata": {},
   "outputs": [
    {
     "name": "stdout",
     "output_type": "stream",
     "text": [
      "True\n",
      "True\n",
      "None x x\n"
     ]
    }
   ],
   "source": [
    "x0 = qv.PCBO({('x',): 1})\n",
    "x1 = qv.PCBO.create_var('x')\n",
    "x2 = qv.boolean_var('x')\n",
    "print(type(x0) == type(x1) == type(x2))\n",
    "print(x0 == x1 == x2)\n",
    "print(x0.name, x1.name, x2.name)"
   ]
  },
  {
   "cell_type": "markdown",
   "metadata": {},
   "source": [
    "But you could manually set the name for `x0` if you wanted to."
   ]
  },
  {
   "cell_type": "code",
   "execution_count": 109,
   "metadata": {},
   "outputs": [
    {
     "name": "stdout",
     "output_type": "stream",
     "text": [
      "x\n"
     ]
    }
   ],
   "source": [
    "x0.name = 'x'\n",
    "print(x0.name)"
   ]
  },
  {
   "cell_type": "markdown",
   "metadata": {},
   "source": [
    "By the way, an analogous function exists `qv.spin_var` that creates a PCSO spin variable instead of a PCBO boolean variable. Anyways, let's create a list of 5 boolean variables."
   ]
  },
  {
   "cell_type": "code",
   "execution_count": 110,
   "metadata": {},
   "outputs": [],
   "source": [
    "xs = [qv.boolean_var('x%d' % i) for i in range(5)]"
   ]
  },
  {
   "cell_type": "markdown",
   "metadata": {},
   "source": [
    "Suppose that we want to minimize $-\\sum_i x_i$ subject to the constraints that\n",
    "\n",
    "$$x_0 \\oplus x_1 = x_3, \\quad 3x_0+2x_1+4x_3>3, \\quad (x_2 \\lor \\bar x_4) \\land (\\bar x_1 \\lor x_3) = 1.$$\n",
    "\n",
    "As we did before, we'll arbitrarily set the Lagrange multipliers for each of these constraints; we'll just set all of them to 10. This is quite easy to do. Then we'll get a bunch of info."
   ]
  },
  {
   "cell_type": "code",
   "execution_count": 111,
   "metadata": {},
   "outputs": [
    {
     "name": "stdout",
     "output_type": "stream",
     "text": [
      "Number of variables         :  8\n",
      "Number of ancilla variables :  3\n",
      "Degree                      :  4\n",
      "Variables                   :  {'__a2', 'x2', 'x4', '__a1', 'x3', '__a0', 'x1', 'x0'}\n",
      "Number of terms             :  30\n"
     ]
    }
   ],
   "source": [
    "pcbo = -sum(xs)\n",
    "pcbo.add_constraint_eq_XOR(\n",
    "    xs[3], xs[0], xs[1],\n",
    "    lam=10\n",
    ").add_constraint_gt_zero(\n",
    "    3*xs[0] + 2*xs[1] + 4*xs[3] - 3,\n",
    "    lam=10\n",
    ").add_constraint_AND(\n",
    "    qv.sat.OR(xs[2], qv.sat.NOT(xs[4])),\n",
    "    qv.sat.OR(qv.sat.NOT(xs[1]), xs[3]),\n",
    "    lam=10\n",
    ")\n",
    "\n",
    "print(\"Number of variables         : \", pcbo.num_binary_variables)\n",
    "print(\"Number of ancilla variables : \", pcbo.num_ancillas)\n",
    "print(\"Degree                      : \", pcbo.degree)\n",
    "print(\"Variables                   : \", pcbo.variables)\n",
    "print(\"Number of terms             : \", pcbo.num_terms)"
   ]
  },
  {
   "cell_type": "markdown",
   "metadata": {},
   "source": [
    "What I think is cool about this is that creating the PCBO with qubovert is as easy as it is (*or easier*) to write it down in math. We don't even have to worry about any of the ancillas, we can literally just write down our function to minimize and then tack on the constraints. In addition, since the constraints themselves don't depend on ancillas we can use the `.is_solution_valid` method without specifying ancilla values. As an example, let's just create a random assignment and see if it satisfies."
   ]
  },
  {
   "cell_type": "code",
   "execution_count": 112,
   "metadata": {},
   "outputs": [
    {
     "name": "stdout",
     "output_type": "stream",
     "text": [
      "False\n"
     ]
    }
   ],
   "source": [
    "assignment = {'x0': 0, 'x1': 0, 'x2': 1, 'x3': 0, 'x4': 1}\n",
    "print(pcbo.is_solution_valid(assignment))"
   ]
  },
  {
   "cell_type": "markdown",
   "metadata": {},
   "source": [
    "What if we want to figure out which constraint it violates? Well we can look at the `constraints` dictionary."
   ]
  },
  {
   "cell_type": "code",
   "execution_count": 113,
   "metadata": {},
   "outputs": [
    {
     "name": "stdout",
     "output_type": "stream",
     "text": [
      "{'eq': [{('x0',): 1, ('x0', 'x1'): -2, ('x1',): 1, ('x3',): -1}, {('x2', 'x1', 'x4'): 1, ('x2', 'x4'): -1, ('x2', 'x1', 'x3', 'x4'): -1, ('x1', 'x4'): -1, ('x4',): 1, ('x1', 'x3', 'x4'): 1, ('x1',): 1, ('x1', 'x3'): -1}], 'gt': [{('x0',): 3, ('x1',): 2, ('x3',): 4, (): -3}]}\n"
     ]
    }
   ],
   "source": [
    "constraints = pcbo.constraints\n",
    "print(constraints)"
   ]
  },
  {
   "cell_type": "markdown",
   "metadata": {},
   "source": [
    "First let's check the equality constraints."
   ]
  },
  {
   "cell_type": "code",
   "execution_count": 114,
   "metadata": {},
   "outputs": [],
   "source": [
    "for c in constraints['eq']:\n",
    "    if c.value(assignment) != 0:\n",
    "        print(\"Not satisfied:\", c)"
   ]
  },
  {
   "cell_type": "markdown",
   "metadata": {},
   "source": [
    "Looks like all of the equality constraints are satisfied. So it must be the $>$ constraint."
   ]
  },
  {
   "cell_type": "code",
   "execution_count": 115,
   "metadata": {},
   "outputs": [
    {
     "name": "stdout",
     "output_type": "stream",
     "text": [
      "Not satisfied: {('x0',): 3, ('x1',): 2, ('x3',): 4, (): -3}\n"
     ]
    }
   ],
   "source": [
    "for c in constraints['gt']:\n",
    "    if c.value(assignment) != 0:\n",
    "        print(\"Not satisfied:\", c)"
   ]
  },
  {
   "cell_type": "markdown",
   "metadata": {},
   "source": [
    "Finally, let's just quickly convert this to a QUBO, solve it with D-Wave's simulated annealer, convert it back, and then check if the constraints are satisfied. As always, since we used a `.to_` method (ie `.to_qubo`), we *must* use the `.convert_solution` method."
   ]
  },
  {
   "cell_type": "code",
   "execution_count": 116,
   "metadata": {},
   "outputs": [
    {
     "name": "stdout",
     "output_type": "stream",
     "text": [
      "Number of variables         :  8\n",
      "Number of variables in qubo :  11\n",
      "Solution                    :  {'x0': 0, 'x1': 1, 'x2': 1, 'x3': 1, 'x4': 1, '__a0': 0, '__a1': 1, '__a2': 0}\n",
      "Solution without ancilla    :  {'x0': 0, 'x1': 1, 'x2': 1, 'x3': 1, 'x4': 1}\n",
      "Are constraints satisfied?  :  True\n",
      "Value                       :  -4\n"
     ]
    }
   ],
   "source": [
    "from neal import SimulatedAnnealingSampler\n",
    "\n",
    "qubo = pcbo.to_qubo()\n",
    "res = SimulatedAnnealingSampler().sample_qubo(qubo.Q, num_reads=10)\n",
    "best_solution = res.first.sample\n",
    "\n",
    "converted_solution = pcbo.convert_solution(best_solution)\n",
    "print(\"Number of variables         : \", pcbo.num_binary_variables)\n",
    "print(\"Number of variables in qubo : \", qubo.num_binary_variables)\n",
    "print(\"Solution                    : \", converted_solution)\n",
    "print(\"Solution without ancilla    : \", pcbo.remove_ancilla_from_solution(converted_solution))\n",
    "print(\"Are constraints satisfied?  : \", pcbo.is_solution_valid(converted_solution))\n",
    "print(\"Value                       : \", pcbo.value(converted_solution))"
   ]
  },
  {
   "cell_type": "markdown",
   "metadata": {},
   "source": [
    "So that's my brief introduction to constraints with qubovert. I think it's pretty cool because we have a bunch of constraints going on, a bunch of ancillas being added for those constraints, and a bunch of ancillas being added when reducing the degree and making the problem into a QUBO. But we can pretty much forget about ancillas altogether because qubovert does all of the work for us internally. The `PCBO` and `PCSO` objects are really the culmination of a lot of work in qubovert; you can see this by looking at their MRO and how they build on everything we've talked about so far.\n",
    "\n",
    "I didn't mention all of the available constraint methods; please see the documentation. Please see the remainder of this notebook for more info, in particular the following sections:\n",
    "\n",
    "- [Tip #1: using symbols](#Tip-#1:-using-symbols), where I discuss among other things how to use symbols as Lagrange multipliers for constraints;\n",
    "- [Tip #2: keeping functions and constraints separate with PCBOs and PCSOs](#Tip-#2:-keeping-functions-and-constraints-separate-with-PCBOs-and-PCSOs), where I discuss a way to deal with constraints that is slightly different than the way I show in this section;\n",
    "- [Tip #3: bounds as a constraint argument](#Tip-#3:-bounds-as-a-constraint-argument), where I discuss when/how to supply the `bounds` keyword when calling the constraint methods;\n",
    "- [Tip #4: log_trick as a constraint argument](#Tip-#4:-log_trick-as-a-constraint-argument), where I discuss when/how to supply the `log_trick` keyword when calling the constraint methods;\n",
    "- [Tip #5: special constraints](#Tip-#5:-special-constraints), where I discuss how qubovert recognizes certain special constraint forms;\n",
    "- [Tip #8: bruteforce solver options](#Tip-#8:-bruteforce-solver-options), where I disucss how to use qubovert bruteforce solver functionality when using constraints.\n",
    "- [Tip #13: using constraints without adding penalties](#Tip-#13:-using-constraints-without-adding-penalties), where I discuss how to use constraints with PCBOs and PCSOs if you don't want to automatically add the penalty terms to the function."
   ]
  },
  {
   "cell_type": "markdown",
   "metadata": {},
   "source": [
    "## Motivation #8: common binary problems\n",
    "\n",
    "The final motivation for qubovert that I'll mention was actually historically the first motivation. One of the goals of qubovert is to have a bunch of commonly used problems implemented. This is what the `problems` library is for."
   ]
  },
  {
   "cell_type": "code",
   "execution_count": 117,
   "metadata": {},
   "outputs": [
    {
     "data": {
      "text/plain": [
       "('BILP',\n",
       " 'JobSequencing',\n",
       " 'SetCover',\n",
       " 'VertexCover',\n",
       " 'NumberPartitioning',\n",
       " 'GraphPartitioning',\n",
       " 'AlternatingSectorsChain')"
      ]
     },
     "execution_count": 117,
     "metadata": {},
     "output_type": "execute_result"
    }
   ],
   "source": [
    "qv.problems.__all__"
   ]
  },
  {
   "cell_type": "markdown",
   "metadata": {},
   "source": [
    "At the moment, there are not too many there, but hopefully there will be more soon. Presently, the `problems` library is split into two subcategories."
   ]
  },
  {
   "cell_type": "code",
   "execution_count": 118,
   "metadata": {},
   "outputs": [
    {
     "name": "stdout",
     "output_type": "stream",
     "text": [
      "Benchmarking     : ('AlternatingSectorsChain',)\n",
      "NP-Hard problems : ('BILP', 'JobSequencing', 'SetCover', 'VertexCover', 'NumberPartitioning', 'GraphPartitioning')\n"
     ]
    }
   ],
   "source": [
    "print(\"Benchmarking     :\", qv.problems.benchmarking.__all__)\n",
    "print(\"NP-Hard problems :\", qv.problems.np.__all__)"
   ]
  },
  {
   "cell_type": "markdown",
   "metadata": {},
   "source": [
    "I won't go into detail about all of these, but the general way to use all of these is the same, and please use the `help` function as all of the docstrings are very descriptive. If you look, for example, at one of their MRO."
   ]
  },
  {
   "cell_type": "code",
   "execution_count": 119,
   "metadata": {},
   "outputs": [
    {
     "data": {
      "text/plain": [
       "[qubovert.problems.np.covering._set_cover.SetCover,\n",
       " qubovert.problems._problem_parentclass.Problem,\n",
       " qubovert.utils._conversions.Conversions,\n",
       " object]"
      ]
     },
     "execution_count": 119,
     "metadata": {},
     "output_type": "execute_result"
    }
   ],
   "source": [
    "qv.problems.SetCover.mro()"
   ]
  },
  {
   "cell_type": "code",
   "execution_count": 120,
   "metadata": {},
   "outputs": [
    {
     "data": {
      "text/plain": [
       "[qubovert.problems.np.bilp._bilp.BILP,\n",
       " qubovert.problems._problem_parentclass.Problem,\n",
       " qubovert.utils._conversions.Conversions,\n",
       " object]"
      ]
     },
     "execution_count": 120,
     "metadata": {},
     "output_type": "execute_result"
    }
   ],
   "source": [
    "qv.problems.BILP.mro()"
   ]
  },
  {
   "cell_type": "markdown",
   "metadata": {},
   "source": [
    "We see that they all inherit from the `qv.problems.Problem` parent class. The basic usage of these classes is to set up the problem, use their `.to_qubo` and `.to_quso` methods to create QUBOs and QUSOs that encode the problem, solve the QUBO or QUSO however you'd like, and then convert the solution back to a meaningful result. Let's just do an example with Graph Partitioning. Rather than typing out exactly what Graph Partitioning is, let me just print out the class docstring since I already wrote it!"
   ]
  },
  {
   "cell_type": "code",
   "execution_count": 121,
   "metadata": {},
   "outputs": [
    {
     "name": "stdout",
     "output_type": "stream",
     "text": [
      "GraphPartitioning.\n",
      "\n",
      "    Class to manage converting (Weighted) Graph Partitioning to and from its\n",
      "    QUBO and QUSO formluations. Based on the paper \"Ising formulations of many\n",
      "    NP problems\", hereforth designated [Lucas].\n",
      "\n",
      "    The goal of the Graph Partitioning problem is to partition the verticies\n",
      "    of a graph into two equal subsets such that the number of edges (or the\n",
      "    total weight of the edges) connecting the two subsets is minimized.\n",
      "\n",
      "    GraphPartitioning inherits some methods and attributes from the Problem\n",
      "    class. See ``help(qubovert.problems.Problem)``.\n",
      "\n",
      "    Example\n",
      "    -------\n",
      "    >>> from qubovert.problems import GraphPartitioning\n",
      "    >>> from any_module import qubo_solver\n",
      "    >>> # or you can use my bruteforce solver...\n",
      "    >>> # from qubovert.utils import solve_qubo_bruteforce as qubo_solver\n",
      "    >>> edges = {(\"a\", \"b\"), (\"a\", \"c\"), (\"c\", \"d\"),\n",
      "                 (\"b\", \"c\"), (\"e\", \"f\"), (\"d\", \"e\")}\n",
      "    >>> problem = GraphPartitioning(edges)\n",
      "    >>> Q = problem.to_qubo()\n",
      "    >>> obj, sol = qubo_solver(Q)\n",
      "    >>> solution = problem.convert_solution(sol)\n",
      "\n",
      "    >>> print(solution)\n",
      "    ({'a', 'b', 'c'}, {'d', 'e', 'f'})\n",
      "\n",
      "    >>> print(problem.is_solution_valid(solution))\n",
      "    True\n",
      "\n",
      "    This is True since the number of vertices in the first partition is equal\n",
      "    to the number of vertices in the second partition.\n",
      "\n",
      "    >>> print(obj)\n",
      "    1\n",
      "\n",
      "    This is 1 because there is 1 edge connecting the partitions.\n",
      "\n",
      "    \n"
     ]
    }
   ],
   "source": [
    "print(qv.problems.GraphPartitioning.__doc__)"
   ]
  },
  {
   "cell_type": "markdown",
   "metadata": {},
   "source": [
    "So let's follow the example and do something similar. Let's consider a random fully-connected weighted graph on 6 vertices. We'll represent this graph by a dictionary where the keys are edges and the values are the corresponding weights."
   ]
  },
  {
   "cell_type": "code",
   "execution_count": 122,
   "metadata": {},
   "outputs": [],
   "source": [
    "import random\n",
    "\n",
    "graph = {\n",
    "    (i, j): random.random()\n",
    "    for i in range(6) for j in range(i+1, 6)\n",
    "}\n",
    "problem = qv.problems.GraphPartitioning(graph)"
   ]
  },
  {
   "cell_type": "markdown",
   "metadata": {},
   "source": [
    "We can look at some properties of the graph, for example the degree of the graph (the maximum number of edges going into any node). Since our graph is fully-connected with 6 nodes, this should be 5."
   ]
  },
  {
   "cell_type": "code",
   "execution_count": 123,
   "metadata": {},
   "outputs": [
    {
     "data": {
      "text/plain": [
       "5"
      ]
     },
     "execution_count": 123,
     "metadata": {},
     "output_type": "execute_result"
    }
   ],
   "source": [
    "problem.degree"
   ]
  },
  {
   "cell_type": "markdown",
   "metadata": {},
   "source": [
    "We can also look at the number of variables that will be in the resulting QUBO or QUSO."
   ]
  },
  {
   "cell_type": "code",
   "execution_count": 124,
   "metadata": {},
   "outputs": [
    {
     "data": {
      "text/plain": [
       "6"
      ]
     },
     "execution_count": 124,
     "metadata": {},
     "output_type": "execute_result"
    }
   ],
   "source": [
    "problem.num_binary_variables"
   ]
  },
  {
   "cell_type": "markdown",
   "metadata": {},
   "source": [
    "Since there are 6, this means that there are no ancilla because we have one variable per node. Okay let's go about solving this problem with qubovert's bruteforce solver. Let's show three ways to do this.\n",
    "\n",
    "**First way.**"
   ]
  },
  {
   "cell_type": "code",
   "execution_count": 125,
   "metadata": {},
   "outputs": [
    {
     "name": "stdout",
     "output_type": "stream",
     "text": [
      "({2, 3, 5}, {0, 1, 4})\n",
      "is solution valid : True\n"
     ]
    }
   ],
   "source": [
    "solution = problem.solve_bruteforce()\n",
    "print(solution)\n",
    "print(\"is solution valid :\", problem.is_solution_valid(solution))"
   ]
  },
  {
   "cell_type": "markdown",
   "metadata": {},
   "source": [
    "**Second way.**"
   ]
  },
  {
   "cell_type": "code",
   "execution_count": 126,
   "metadata": {},
   "outputs": [
    {
     "name": "stdout",
     "output_type": "stream",
     "text": [
      "qubo solution     : {0: 0, 1: 0, 2: 1, 3: 1, 4: 0, 5: 1}\n",
      "qubo value        : 4.5603838088336985\n",
      "Solution          : ({2, 3, 5}, {0, 1, 4})\n",
      "is solution valid : True\n"
     ]
    }
   ],
   "source": [
    "qubo = problem.to_qubo()\n",
    "qubo_solution = qubo.solve_bruteforce()\n",
    "print(\"qubo solution     :\", qubo_solution)\n",
    "print(\"qubo value        :\", qubo.value(qubo_solution))\n",
    "problem_solution = problem.convert_solution(qubo_solution)\n",
    "print(\"Solution          :\", problem_solution)\n",
    "print(\"is solution valid :\", problem.is_solution_valid(problem_solution))"
   ]
  },
  {
   "cell_type": "markdown",
   "metadata": {},
   "source": [
    "**Third way**."
   ]
  },
  {
   "cell_type": "code",
   "execution_count": 127,
   "metadata": {},
   "outputs": [
    {
     "name": "stdout",
     "output_type": "stream",
     "text": [
      "qubo solution : {0: 0, 1: 0, 2: 1, 3: 1, 4: 0, 5: 1}\n",
      "qubo value    : 4.5603838088336985\n",
      "Solution      : ({2, 3, 5}, {0, 1, 4})\n",
      "is solution valid : True\n"
     ]
    }
   ],
   "source": [
    "qubo = problem.to_qubo()\n",
    "val, qubo_solution = qv.utils.solve_qubo_bruteforce(qubo)\n",
    "print(\"qubo solution :\", qubo_solution)\n",
    "print(\"qubo value    :\", val)\n",
    "problem_solution = problem.convert_solution(qubo_solution)\n",
    "print(\"Solution      :\", problem_solution)\n",
    "print(\"is solution valid :\", problem.is_solution_valid(problem_solution))"
   ]
  },
  {
   "cell_type": "markdown",
   "metadata": {},
   "source": [
    "Of course we could have used the `.to_quso` method instead and solved the QUSO. Notice again the reoccuring theme that the `.to_qubo` method returns a `QUBOMatrix` and that *the `.to_` methods should always be accompanied by the `.convert_solution` method*. For the Graph Partitioning problem, the `.convert_solution` method takes the solution to the QUBO or QUSO and converts it to something meaninful, namely a tuple of sets where each set represents a partition of nodes. The `.is_solution_valid` method checks if the partition sizes are equal. The value of the QUBO for a particular pair of partitions is the total weight of edges passing through the partition plus a penalty for if the two partitions are not the same size. So we can see that the following are equal."
   ]
  },
  {
   "cell_type": "code",
   "execution_count": 128,
   "metadata": {},
   "outputs": [
    {
     "name": "stdout",
     "output_type": "stream",
     "text": [
      "4.560383808833699\n"
     ]
    }
   ],
   "source": [
    "print(sum(\n",
    "    v for k, v in graph.items() if (\n",
    "        k[0] in problem_solution[0] and k[1] in problem_solution[1]\n",
    "    ) or (\n",
    "        k[0] in problem_solution[1] and k[1] in problem_solution[0]\n",
    "    )\n",
    "))"
   ]
  },
  {
   "cell_type": "markdown",
   "metadata": {},
   "source": [
    "By the way if you look at the docstring for the `.to_quso` method you'll see that for both the `.to_qubo` and `.to_quso` methods you can adjust the Lagrange multipliers that they use. But if you don't supply any then they are chosen by default.\n",
    "\n",
    "The basic process for all of the problems is the same. We'll do one more quick example. Consider Set Cover."
   ]
  },
  {
   "cell_type": "code",
   "execution_count": 129,
   "metadata": {},
   "outputs": [
    {
     "name": "stdout",
     "output_type": "stream",
     "text": [
      "SetCover.\n",
      "\n",
      "    Class to manage converting (Weighted) Set Cover to and from its QUBO and\n",
      "    QUSO formluations. Based on the paper \"Ising formulations of many\n",
      "    NP problems\", hereforth designated as [Lucas].\n",
      "\n",
      "    The goal of the SetCover problem is to find the smallest number of subsets\n",
      "    of U in V such that union over the elements equals U. The goal of the\n",
      "    Weghted SetCover problem is to find the smallest weight of subsets of U\n",
      "    in V such that union over the elements equals U, where each element in V\n",
      "    has an associated weight.\n",
      "\n",
      "    This class inherits some methods and attributes from the\n",
      "    ``qubovert.problems.Problem`` class.\n",
      "\n",
      "    Example\n",
      "    -------\n",
      "    >>> from qubovert.problems import SetCover\n",
      "    >>> from any_module import qubo_solver\n",
      "    >>> # or you can use my bruteforce solver...\n",
      "    >>> # from qubovert.utils import solve_qubo_bruteforce as qubo_solver\n",
      "    >>> U = {\"a\", \"b\", \"c\", \"d\"}\n",
      "    >>> V = [{\"a\", \"b\"}, {\"a\", \"c\"}, {\"c\", \"d\"}]\n",
      "    >>> problem = SetCover(U, V)\n",
      "    >>> Q = problem.to_qubo()\n",
      "    >>> obj, sol = qubo_solver(Q)\n",
      "    >>> solution = problem.convert_solution(sol)\n",
      "\n",
      "    >>> print(solution)\n",
      "    {0, 2}\n",
      "    >>> print(problem.is_solution_valid(solution))\n",
      "    True  # since V[0] + V[2] covers all of U\n",
      "    >>> print(obj == len(solution))\n",
      "    True\n",
      "\n",
      "    \n"
     ]
    }
   ],
   "source": [
    "print(qv.problems.SetCover.__doc__)"
   ]
  },
  {
   "cell_type": "markdown",
   "metadata": {},
   "source": [
    "Let's consider we want to cover the set $\\{0, 1, \\dots, 7 \\}$ with the 5 smaller subsets $\\{0, 5, 6 \\}, \\{0, 1, 4, 7 \\}, \\{2, 6, 7 \\}, \\{1, 4, 5, 6, 7 \\}$."
   ]
  },
  {
   "cell_type": "code",
   "execution_count": 130,
   "metadata": {},
   "outputs": [],
   "source": [
    "U = set(range(8))\n",
    "V = [{0, 5, 6}, {0, 1, 4, 7}, {2, 6, 7}, {1, 4, 5, 6, 7}]\n",
    "problem = qv.problems.SetCover(U, V)"
   ]
  },
  {
   "cell_type": "markdown",
   "metadata": {},
   "source": [
    "First let's make sure that the problem is actually solvable. Thus we want to know if $U$ is coverable by subsets in $V$."
   ]
  },
  {
   "cell_type": "code",
   "execution_count": 131,
   "metadata": {},
   "outputs": [
    {
     "data": {
      "text/plain": [
       "False"
      ]
     },
     "execution_count": 131,
     "metadata": {},
     "output_type": "execute_result"
    }
   ],
   "source": [
    "problem.is_coverable()"
   ]
  },
  {
   "cell_type": "markdown",
   "metadata": {},
   "source": [
    "We see it's not coverable because there is never a $3$ in any of the subsets! Okay let's add another subset $\\{3\\}$ to the mix."
   ]
  },
  {
   "cell_type": "code",
   "execution_count": 132,
   "metadata": {},
   "outputs": [
    {
     "name": "stdout",
     "output_type": "stream",
     "text": [
      "True\n"
     ]
    }
   ],
   "source": [
    "V.append({3})\n",
    "problem = qv.problems.SetCover(U, V)\n",
    "print(problem.is_coverable())"
   ]
  },
  {
   "cell_type": "markdown",
   "metadata": {},
   "source": [
    "Okay we're good to go. Now let's solve it with qubovert's simulated annealer."
   ]
  },
  {
   "cell_type": "code",
   "execution_count": 133,
   "metadata": {},
   "outputs": [
    {
     "name": "stdout",
     "output_type": "stream",
     "text": [
      "QUSO solution     : {0: 1, 1: -1, 2: -1, 3: -1, 4: -1, 5: 1, 6: -1, 7: 1, 8: 1, 9: -1, 10: 1, 11: -1, 12: 1, 13: 1, 14: 1, 15: 1, 16: 1, 17: 1, 18: 1, 19: 1, 20: -1, 21: 1, 22: 1, 23: 1, 24: 1, 25: 1, 26: 1, 27: 1, 28: 1}\n",
      "QUSO value        : 4.0\n",
      "problem solution  : {1, 2, 3, 4}\n",
      "is solution valid : True\n"
     ]
    }
   ],
   "source": [
    "solution = qv.sim.anneal_quso(problem.to_quso(), num_anneals=100).best\n",
    "print(\"QUSO solution     :\", solution.state)\n",
    "print(\"QUSO value        :\", solution.value)\n",
    "problem_solution = problem.convert_solution(solution.state, spin=True)\n",
    "print(\"problem solution  :\", problem_solution)\n",
    "print(\"is solution valid :\", problem.is_solution_valid(problem_solution))"
   ]
  },
  {
   "cell_type": "markdown",
   "metadata": {},
   "source": [
    "We can see that the `.convert_solution` method converts a QUBO or QUSO solution to a set that indicates which subsets are in the cover. The `.is_solution_valid` method checks if the union of all of these subsets equals $U$. With the `problem_solution` we can see which subsets are in the cover as follows."
   ]
  },
  {
   "cell_type": "code",
   "execution_count": 134,
   "metadata": {},
   "outputs": [
    {
     "name": "stdout",
     "output_type": "stream",
     "text": [
      "{0, 1, 4, 7}\n",
      "{2, 6, 7}\n",
      "{1, 4, 5, 6, 7}\n",
      "{3}\n"
     ]
    }
   ],
   "source": [
    "for i in problem_solution:\n",
    "    print(V[i])"
   ]
  },
  {
   "cell_type": "markdown",
   "metadata": {},
   "source": [
    "We can indeed see that their union gives $U$."
   ]
  },
  {
   "cell_type": "code",
   "execution_count": 135,
   "metadata": {},
   "outputs": [
    {
     "name": "stdout",
     "output_type": "stream",
     "text": [
      "True\n"
     ]
    }
   ],
   "source": [
    "subsets = set()\n",
    "for i in problem_solution:\n",
    "    subsets |= V[i]  # | is union of sets\n",
    "print(subsets == U)"
   ]
  },
  {
   "cell_type": "markdown",
   "metadata": {},
   "source": [
    "---\n",
    "# Summary of the main qubovert functionality\n",
    "\n",
    "99% of what you'll do with qubovert will be everything above. In this summary section, I will note some things that I mentioned somewhere above in a hopefully concise manner. To see how all of this comes together in a typical workflow, please see the [notebook](https://github.com/jtiosue/qubovert/tree/master/notebook_examples) on my GitHub repository.\n",
    "\n",
    "\n",
    "1. Most of what I showed above was for boolean funcions, e.g. QUBOs, PUBOs, and PCBOs. But everything that is written for boolean functions also works for spin functions (besides the boolean logic, ie the `qv.sat` library and the boolean logic constraint methods for PCBOs) by basically replacing B with S everywhere and replacing `qv.boolean_var` with `qv.spin_var`.\n",
    "2. The `qv.boolean_var` and `qv.spin_var` functions is often the starting point of working with qubovert, though it doesn't always have to be. `x = qv.boolean_var(label)` simply returns a PCBO object `qv.PCBO({(label,): 1})` with the added attribute `x.name` will return `label`. Similarly, `z = qv.spin_var(label)` simply returns a PCSO object `qv.PCSO({(label,): 1})` with the added attribute `z.name` will return `label`. \n",
    "3. Variable labels in qubovert can generally be any hashable type. However, if you are using the Matrix objects then they must be integers.\n",
    "4. All of the `.to_` methods return Matrix objects (e.g. `.to_qubo` return a `QUBOMatrix` object) which are integer labeled. Whenever a `.to_` method is used, it should be accompanied by the `.convert_solution` method.\n",
    "5. The `.to_` methods are designed to enumerate a function and reduce the degree if need be. If you for example have a PUBO object and you want to convert it to a PUSO, you have two options. The first is to use the `.to_puso` method; this is fine *as long as* you use the `.convert_solution` method everywhere. This option is great if you are planning on solving the resulting `PUSOMatrix` directly. But if you want to do more with the PUSO after converting it from the PUBO, then you should use the second option, which is to use the `qv.utils.pubo_to_puso` function. If you have a `qv.PUBO` object, then `qv.utils.pubo_to_puso` will return a `qv.PUSO` object with *all the same variables*. So no enumeration will be done and you can forget about the PUBOs `.convert_solution` method because the resulting PUSO object will have its own enumeration mapping. The same applies for converting PUSOs to PUBOs, QUBOs to QUSOs, and QUSOs to QUBOs. But if you are planning on converting PUBOs to QUBOs/QUSOs or PUSOs to QUBOs/QUSOs, then you will need to use the `.to_` methods because they perform the degree reduction and will therefore have to introduce new variables which will use the internal enumeration mapping.\n",
    "6. Whenever working with D-Wave, you'll have to deal with the fact that D-Wave represents their QUBOs and QUSOs differently than qubovert. If you have a `QUBO` or `QUBOMatrix` object in qubovert, then to get it into a form that D-Wave uses you can use the `.Q` property. If you have a `QUSO` or `QUSOMatrix` object in qubovert, then to get it into a form that D-Wave uses (note that D-Wave calls QUSOs \"ising\") you can get the linear terms with the `.h` property and the coupling terms with the `.J` property. Note that D-Wave ignores constant terms, so the output of the `.Q`, `.h`, and `.J` properties will not contain constant terms. You can get the constant term of a function with the `.offset` property, or by accessing the empty tuple key `()`. \n",
    "7. PCBOs and PCSOs add ancillas and penalties automatically. Since they add penalties automatically, you can sometimes treat them like PUBOs and PUSOs respectively. For example, if a solver accepts arbitrary PUBOs that can be labeled with anything, then you can send the PCBO directly into this solver. However, if a solver requires integer labels, then you should use the `.to_` methods. After using the `.convert_solution` method, you can use the `.is_solution_valid` method to see if all of the constraints are satisfied. To get rid of the ancilla information from a solution to the model, you can use `qv.PCBO.remove_ancilla_from_solution` staticmethod. To see all of the constraints, see the `.constraints` property.\n",
    "8. The utility functions work with any `dict` type. So if you don't want to use qubovert to help with formulating problems but instead already have you problem formulated in a pure `dict` (ie not a `qv.QUBO` or other object), then you can still use most of the functions. For example, the `qv.utils.pubo_value`, `qv.utils.quso_value`, etc. function will work. Similarly, the `qv.utils.subgraph`, `qv.utils.subvalue`, `qv.utils.normalize`, and `qv.utils.solve_..._bruteforce` functions will work. But if you have qubovert objects, then you can still use those if you want, or you can just use their respective methods. So you can use the `.value` method, or the `.subgraph`, `.subvalue`, `.normalize`, and `.solve_bruteforce` methods.\n",
    "9. There is *a lot* of documentation for everything. Use `help` to figure out what any function, method, or object does.\n",
    "\n",
    "You may encounter some seemingly unexpected behavior when using qubovert, so please the next section. I will also touch on some advanced details later, so please check out the [Tips, tricks, and advanced details](#Tips,-tricks,-and-advanced-details) section as well."
   ]
  },
  {
   "cell_type": "markdown",
   "metadata": {},
   "source": [
    "---\n",
    "# Possible unexpected behavior\n",
    "\n",
    "As I mentioned in the [Summary](#Summary-of-the-main-qubovert-functionality) section above, most of what you need to know about qubovert is somewhere above. There are some more advanced things that you can used that are in the next section [Tips, tricks, and advanced details](#Tips,-tricks,-and-advanced-details). Along with these come some things that you may need to be weary of. If you understand how qubovert works and how it is coded, then this behavior will not come as a surprise. I will mention some of the possibly confusing behavior below, explain why it happens, and explain what to do to get around it."
   ]
  },
  {
   "cell_type": "markdown",
   "metadata": {},
   "source": [
    "## Possible unexpected behavior #0: accessing keys out of order will automatically reorder\n",
    "\n",
    "As you have probably already noticed, qubovert represents boolean and spin function in upper-triangular form. What this means is that there is preferred ordering of the elements in the dictionaries. For example, consider creating a QUBO $2x_1x_0$."
   ]
  },
  {
   "cell_type": "code",
   "execution_count": 136,
   "metadata": {},
   "outputs": [
    {
     "data": {
      "text/plain": [
       "{(0, 1): 2}"
      ]
     },
     "execution_count": 136,
     "metadata": {},
     "output_type": "execute_result"
    }
   ],
   "source": [
    "qv.QUBO({(1, 0): 2})"
   ]
  },
  {
   "cell_type": "markdown",
   "metadata": {},
   "source": [
    "qubovert automatically converts this to $2x_0x_1$. Similarly, let's say we make the QUBO $xy+yx$."
   ]
  },
  {
   "cell_type": "code",
   "execution_count": 137,
   "metadata": {},
   "outputs": [
    {
     "data": {
      "text/plain": [
       "{('x', 'y'): 2}"
      ]
     },
     "execution_count": 137,
     "metadata": {},
     "output_type": "execute_result"
    }
   ],
   "source": [
    "qv.QUBO({('x', 'y'): 1, ('y', 'x'): 1})"
   ]
  },
  {
   "cell_type": "markdown",
   "metadata": {},
   "source": [
    "qubovert automatically picks an ordering and then sticks to it. qubovert picks the ordering of the variables via the function `qubovert.utils.hash_function`. This is not particularly important, but if you are curious you can check there. Since that function uses Python's built-in function `hash`, the ordering of variable names may actually be different through Python sessions, but it will always be the same during the same session. This is because Python's `hash` function picks a seed when you start a Python session and that seed is fixed throughout the session.\n",
    "\n",
    "All that aside, please pay attention to the following example. I will create the QUBO $2x_0 x_1$."
   ]
  },
  {
   "cell_type": "code",
   "execution_count": 138,
   "metadata": {},
   "outputs": [
    {
     "name": "stdout",
     "output_type": "stream",
     "text": [
      "{(0, 1): 2}\n",
      "2 x(0) x(1)\n"
     ]
    }
   ],
   "source": [
    "qubo = qv.QUBO({(0, 1): 2})\n",
    "print(qubo)\n",
    "print(qubo.pretty_str())"
   ]
  },
  {
   "cell_type": "markdown",
   "metadata": {},
   "source": [
    "Checkout what happens when I access the keys of the dictionary."
   ]
  },
  {
   "cell_type": "code",
   "execution_count": 139,
   "metadata": {},
   "outputs": [
    {
     "name": "stdout",
     "output_type": "stream",
     "text": [
      "0\n",
      "0\n",
      "2\n",
      "2\n"
     ]
    }
   ],
   "source": [
    "print(qubo[(0,)])\n",
    "print(qubo[(1,)])\n",
    "print(qubo[(0, 1)])\n",
    "print(qubo[(1, 0)])"
   ]
  },
  {
   "cell_type": "markdown",
   "metadata": {},
   "source": [
    "Did you see what happened? It says that the key `(1, 0)` in `qubo` has a coefficient 2, even though that key is not in the dictionary! The reason this happens is because when you try to access a key in the QUBO dictionary, *it automatically reorders it before checking if that key exists in the QUBO*. By the way, this is true of all the qubovert dictionaries (e.g. PUBOs, QUSOs, etc.).\n",
    "\n",
    "The result of all of this is that the following cell yields the wrong value!"
   ]
  },
  {
   "cell_type": "code",
   "execution_count": 140,
   "metadata": {},
   "outputs": [
    {
     "name": "stdout",
     "output_type": "stream",
     "text": [
      "4\n"
     ]
    }
   ],
   "source": [
    "assignment = {0: 1, 1: 1}\n",
    "print(sum(\n",
    "    assignment[i] * assignment[j] * qubo[(i, j)]\n",
    "    for i in qubo.variables for j in qubo.variables\n",
    "))"
   ]
  },
  {
   "cell_type": "markdown",
   "metadata": {},
   "source": [
    "It really should be the following."
   ]
  },
  {
   "cell_type": "code",
   "execution_count": 141,
   "metadata": {},
   "outputs": [
    {
     "data": {
      "text/plain": [
       "2"
      ]
     },
     "execution_count": 141,
     "metadata": {},
     "output_type": "execute_result"
    }
   ],
   "source": [
    "qubo.value(assignment)"
   ]
  },
  {
   "cell_type": "markdown",
   "metadata": {},
   "source": [
    "Long story short, you should always use the `.items` method of the dictionary to access the elements, otherwise you may get the result from above. In fact the `qubo.value` method just does the following."
   ]
  },
  {
   "cell_type": "code",
   "execution_count": 142,
   "metadata": {},
   "outputs": [
    {
     "name": "stdout",
     "output_type": "stream",
     "text": [
      "2\n"
     ]
    }
   ],
   "source": [
    "s = 0\n",
    "for k, v in qubo.items():\n",
    "    if len(k) == 0:  # offset\n",
    "        s += v\n",
    "    elif len(k) == 1:\n",
    "        s += assignment[k[0]] * v\n",
    "    elif len(k) == 2:\n",
    "        s += assignment[k[0]] * assignment[k[1]] * v\n",
    "print(s)"
   ]
  },
  {
   "cell_type": "markdown",
   "metadata": {},
   "source": [
    "But all qubovert objects have useful methods like `.value` defined, so you shouldn't ever really need to do something like this. But if you ever want to use a qubovert object like a dictionary for whatever reason, just be wary of the behavior above."
   ]
  },
  {
   "cell_type": "markdown",
   "metadata": {},
   "source": [
    "## Possible unexpected behavior #1: setting versus adding\n",
    "\n",
    "Very similar to above is the situation where you want set the $xy$ and $yx$ coefficient in a qubovert model. See the following for example."
   ]
  },
  {
   "cell_type": "code",
   "execution_count": 143,
   "metadata": {},
   "outputs": [
    {
     "name": "stdout",
     "output_type": "stream",
     "text": [
      "{('x', 'y'): 1}\n"
     ]
    }
   ],
   "source": [
    "pubo = qv.PUBO()\n",
    "pubo[('x', 'y')] = 1\n",
    "pubo[('y', 'x')] = 1\n",
    "print(pubo)"
   ]
  },
  {
   "cell_type": "markdown",
   "metadata": {},
   "source": [
    "Recall what I said earlier, that whenever you try to set or access a key, qubovert objects will automatically order them in the ordering `qv.utils.hash_function` sets. That's why this example differs from the following."
   ]
  },
  {
   "cell_type": "code",
   "execution_count": 144,
   "metadata": {},
   "outputs": [
    {
     "name": "stdout",
     "output_type": "stream",
     "text": [
      "{('x', 'y'): 2}\n"
     ]
    }
   ],
   "source": [
    "d = {}\n",
    "d[('x', 'y')] = 1\n",
    "d[('y', 'x')] = 1\n",
    "print(qv.PUBO(d))"
   ]
  },
  {
   "cell_type": "markdown",
   "metadata": {},
   "source": [
    "The way to get around this is to always use the inplace operators! Instead of setting an element with `=`, use `+=`; qubovert objects won't raise a `KeyError` if the key doesn't exist, instead they will return that the key has a coefficient of 0. So we resolve the above problem like this."
   ]
  },
  {
   "cell_type": "code",
   "execution_count": 145,
   "metadata": {},
   "outputs": [
    {
     "name": "stdout",
     "output_type": "stream",
     "text": [
      "{('x', 'y'): 2}\n"
     ]
    }
   ],
   "source": [
    "pubo = qv.PUBO()\n",
    "pubo[('x', 'y')] += 1\n",
    "pubo[('y', 'x')] += 1\n",
    "print(pubo)"
   ]
  },
  {
   "cell_type": "markdown",
   "metadata": {},
   "source": [
    "## Possible unexpected behavior #2: internal misinformation\n",
    "\n",
    "Recall our example from above with $xy+yx$."
   ]
  },
  {
   "cell_type": "code",
   "execution_count": 146,
   "metadata": {},
   "outputs": [
    {
     "data": {
      "text/plain": [
       "{('x', 'y'): 2}"
      ]
     },
     "execution_count": 146,
     "metadata": {},
     "output_type": "execute_result"
    }
   ],
   "source": [
    "qv.QUBO({('x', 'y'): 1, ('y', 'x'): 1})"
   ]
  },
  {
   "cell_type": "markdown",
   "metadata": {},
   "source": [
    "What happens if we change the sign, so that it's $xy-yx$."
   ]
  },
  {
   "cell_type": "code",
   "execution_count": 147,
   "metadata": {},
   "outputs": [
    {
     "name": "stdout",
     "output_type": "stream",
     "text": [
      "{}\n"
     ]
    }
   ],
   "source": [
    "qubo = qv.QUBO({('x', 'y'): 1, ('y', 'x'): -1})\n",
    "print(qubo)"
   ]
  },
  {
   "cell_type": "markdown",
   "metadata": {},
   "source": [
    "In other works, $xy - yx = 0$, which is exactly what we want. But let's see what happens when we look at some of the information that the QUBO object provides for us."
   ]
  },
  {
   "cell_type": "code",
   "execution_count": 148,
   "metadata": {},
   "outputs": [
    {
     "name": "stdout",
     "output_type": "stream",
     "text": [
      "degree           :  2\n",
      "variables        :  {'y', 'x'}\n",
      "num of variables :  2\n"
     ]
    }
   ],
   "source": [
    "print(\"degree           : \", qubo.degree)\n",
    "print(\"variables        : \", qubo.variables)\n",
    "print(\"num of variables : \", qubo.num_binary_variables)"
   ]
  },
  {
   "cell_type": "markdown",
   "metadata": {},
   "source": [
    "Notice that it still says that there are two variables in the QUBO and that the QUBO is degree two even though the actual function is just the constant 0! Let's consider the more complicated example here."
   ]
  },
  {
   "cell_type": "code",
   "execution_count": 149,
   "metadata": {},
   "outputs": [
    {
     "name": "stdout",
     "output_type": "stream",
     "text": [
      "{('x',): 1, ('y',): -1, ('z',): 1, ('x', 'z'): 1}\n"
     ]
    }
   ],
   "source": [
    "x = qv.QUBO.create_var('x')\n",
    "y = qv.QUBO.create_var('y')\n",
    "z = qv.QUBO.create_var('z')\n",
    "\n",
    "qubo = x - y + z\n",
    "qubo += x * z\n",
    "print(qubo)"
   ]
  },
  {
   "cell_type": "markdown",
   "metadata": {},
   "source": [
    "Now we'll get rid of the `y` term by adding $y$."
   ]
  },
  {
   "cell_type": "code",
   "execution_count": 150,
   "metadata": {},
   "outputs": [
    {
     "name": "stdout",
     "output_type": "stream",
     "text": [
      "{('x',): 1, ('z',): 1, ('x', 'z'): 1}\n"
     ]
    }
   ],
   "source": [
    "qubo += y\n",
    "print(qubo)"
   ]
  },
  {
   "cell_type": "markdown",
   "metadata": {},
   "source": [
    "Now we look at the info."
   ]
  },
  {
   "cell_type": "code",
   "execution_count": 151,
   "metadata": {},
   "outputs": [
    {
     "name": "stdout",
     "output_type": "stream",
     "text": [
      "degree           :  2\n",
      "variables        :  {'y', 'x', 'z'}\n",
      "num of variables :  3\n"
     ]
    }
   ],
   "source": [
    "print(\"degree           : \", qubo.degree)\n",
    "print(\"variables        : \", qubo.variables)\n",
    "print(\"num of variables : \", qubo.num_binary_variables)"
   ]
  },
  {
   "cell_type": "markdown",
   "metadata": {},
   "source": [
    "Again it still says that $y$ is there even though it is no longer in the function. The reason qubovert does this is because it assumes that since you added $y$ to the QUBO in the first place, that must be a variable you are interested in, and so it doesn't forget about it. But now let's look at the mapping from variables to integer labels."
   ]
  },
  {
   "cell_type": "code",
   "execution_count": 152,
   "metadata": {},
   "outputs": [
    {
     "data": {
      "text/plain": [
       "{'x': 0, 'y': 1, 'z': 2}"
      ]
     },
     "execution_count": 152,
     "metadata": {},
     "output_type": "execute_result"
    }
   ],
   "source": [
    "qubo.mapping"
   ]
  },
  {
   "cell_type": "markdown",
   "metadata": {},
   "source": [
    "This means that when we use the `.to_qubo` method (or the `.to_quso`, `.to_puso`, or `.to_pubo` methods) it will adhere to the mappings, and will completely skip `1` in the enumeration!"
   ]
  },
  {
   "cell_type": "code",
   "execution_count": 153,
   "metadata": {},
   "outputs": [
    {
     "name": "stdout",
     "output_type": "stream",
     "text": [
      "{(0,): 1, (2,): 1, (0, 2): 1}\n"
     ]
    }
   ],
   "source": [
    "qubomatrix = qubo.to_qubo()\n",
    "print(qubomatrix)"
   ]
  },
  {
   "cell_type": "markdown",
   "metadata": {},
   "source": [
    "Often times when you send a QUBO to a solver, you will need to enumerate it; this is precisely what the `.to_qubo` method is for. But some solvers may take this and assume that the maximum label indicates how many variables there are."
   ]
  },
  {
   "cell_type": "code",
   "execution_count": 154,
   "metadata": {},
   "outputs": [
    {
     "name": "stdout",
     "output_type": "stream",
     "text": [
      "2\n",
      "3\n"
     ]
    }
   ],
   "source": [
    "print(qubomatrix.num_binary_variables)\n",
    "print(qubomatrix.max_index + 1)"
   ]
  },
  {
   "cell_type": "markdown",
   "metadata": {},
   "source": [
    "Anyways long story short just look out for this. If you want to ensure that in a case like this the QUBO totally forgets that $y$ even exists, then you can use the `.refresh` method."
   ]
  },
  {
   "cell_type": "code",
   "execution_count": 155,
   "metadata": {},
   "outputs": [
    {
     "name": "stdout",
     "output_type": "stream",
     "text": [
      "Before adding y:\n",
      "     {('x',): 1, ('y',): -1, ('z',): 1, ('x', 'z'): 1}\n",
      "     variables     :  {'y', 'x', 'z'}\n",
      "     mapping       :  {'x': 0, 'y': 1, 'z': 2}\n",
      "     num variables :  3\n",
      "     degree        :  2\n",
      "\n",
      "After adding y:\n",
      "     {('x',): 1, ('z',): 1, ('x', 'z'): 1}\n",
      "     variables     :  {'y', 'x', 'z'}\n",
      "     mapping       :  {'x': 0, 'y': 1, 'z': 2}\n",
      "     num variables :  3\n",
      "     degree        :  2\n",
      "\n",
      "After refresh:\n",
      "     {('x',): 1, ('z',): 1, ('x', 'z'): 1}\n",
      "     {('x',): 1, ('z',): 1, ('x', 'z'): 1}\n",
      "     variables     :  {'x', 'z'}\n",
      "     mapping       :  {'x': 0, 'z': 1}\n",
      "     num variables :  2\n",
      "     degree        :  2\n",
      "\n"
     ]
    }
   ],
   "source": [
    "qubo = x - y + z + x * z\n",
    "print(\"Before adding y:\")\n",
    "print(\"    \", qubo)\n",
    "print(\"     variables     : \", qubo.variables)\n",
    "print(\"     mapping       : \", qubo.mapping)\n",
    "print(\"     num variables : \", qubo.num_binary_variables)\n",
    "print(\"     degree        : \", qubo.degree)\n",
    "print()\n",
    "\n",
    "qubo += y\n",
    "print(\"After adding y:\")\n",
    "print(\"    \", qubo)\n",
    "print(\"     variables     : \", qubo.variables)\n",
    "print(\"     mapping       : \", qubo.mapping)\n",
    "print(\"     num variables : \", qubo.num_binary_variables)\n",
    "print(\"     degree        : \", qubo.degree)\n",
    "print()\n",
    "\n",
    "qubo.refresh()\n",
    "print(\"After refresh:\")\n",
    "print(\"    \", qubo)\n",
    "print(\"    \", qubo)\n",
    "print(\"     variables     : \", qubo.variables)\n",
    "print(\"     mapping       : \", qubo.mapping)\n",
    "print(\"     num variables : \", qubo.num_binary_variables)\n",
    "print(\"     degree        : \", qubo.degree)\n",
    "print()"
   ]
  },
  {
   "cell_type": "markdown",
   "metadata": {},
   "source": [
    "**The reason that this is important** is because it can sometimes cause issues! Most notably it can cause issues when using the `.solve_bruteforce` method, or when using qubovert's simulated annealing. Let's consider the above example where we subtract $y$ and then add it back causing the internal misinformation."
   ]
  },
  {
   "cell_type": "code",
   "execution_count": 156,
   "metadata": {},
   "outputs": [],
   "source": [
    "qubo = x - y + z + x * z\n",
    "qubo += y"
   ]
  },
  {
   "cell_type": "markdown",
   "metadata": {},
   "source": [
    "Let's see what happens when we convert this to a `QUBOMatrix`, solve it with bruteforce, and then try to convert it back."
   ]
  },
  {
   "cell_type": "code",
   "execution_count": 157,
   "metadata": {},
   "outputs": [
    {
     "name": "stdout",
     "output_type": "stream",
     "text": [
      "qubomatrix: {(0,): 1, (2,): 1, (0, 2): 1}\n",
      "qubomatrix solution: {0: 0, 2: 0}\n",
      "KeyError: 1\n"
     ]
    }
   ],
   "source": [
    "qubomatrix = qubo.to_qubo()\n",
    "print(\"qubomatrix:\", qubomatrix)\n",
    "sol = qubomatrix.solve_bruteforce()\n",
    "print(\"qubomatrix solution:\", sol)\n",
    "\n",
    "try:\n",
    "    print(\"converted solution:\", qubo.convert_solution(sol))\n",
    "except KeyError as e:\n",
    "    print(\"KeyError:\", e)"
   ]
  },
  {
   "cell_type": "markdown",
   "metadata": {},
   "source": [
    "Can you see why this happens? It is because `qubo` thinks that there three variables to be looking for. So the `.convert_solution` method tries to use the `qubo.reverse_mapping` dictionary."
   ]
  },
  {
   "cell_type": "code",
   "execution_count": 158,
   "metadata": {},
   "outputs": [
    {
     "data": {
      "text/plain": [
       "{0: 'x', 1: 'y', 2: 'z'}"
      ]
     },
     "execution_count": 158,
     "metadata": {},
     "output_type": "execute_result"
    }
   ],
   "source": [
    "qubo.reverse_mapping"
   ]
  },
  {
   "cell_type": "markdown",
   "metadata": {},
   "source": [
    "But `qubomatrix` doesn't have the variable labeled by `1`! So when the `.convert_solution` method tries to convert all variables labeled by `1` back to `y`, we get a KeyError! Depending on what you are doing, this may or may not be desired behavior. But again the way around it is to refresh the QUBO."
   ]
  },
  {
   "cell_type": "code",
   "execution_count": 159,
   "metadata": {},
   "outputs": [
    {
     "name": "stdout",
     "output_type": "stream",
     "text": [
      "qubomatrix: {(0,): 1, (1,): 1, (0, 1): 1}\n",
      "qubomatrix solution: {0: 0, 1: 0}\n",
      "converted solution: {'x': 0, 'z': 0}\n"
     ]
    }
   ],
   "source": [
    "qubo.refresh()\n",
    "qubomatrix = qubo.to_qubo()\n",
    "print(\"qubomatrix:\", qubomatrix)\n",
    "sol = qubomatrix.solve_bruteforce()\n",
    "print(\"qubomatrix solution:\", sol)\n",
    "\n",
    "try:\n",
    "    print(\"converted solution:\", qubo.convert_solution(sol))\n",
    "except KeyError as e:\n",
    "    print(\"KeyError:\", e)"
   ]
  },
  {
   "cell_type": "markdown",
   "metadata": {},
   "source": [
    "## Possible unexpected behavior #3: mapping mismatch\n",
    "\n",
    "qubovert creates an enumeration mapping while the dictionary is being created. Whenever it encounters a new variable, it adds it to the mapping with the next available integer. As an example, let's create the PUSO $x + yz - z$ where recall for spin variables $x, y, z \\in \\{1, -1 \\}$. We'll create it two ways:\n",
    "\n",
    "$$P_1 = x + yz - z \\qquad P_2 = yz - z + x$$\n",
    "\n",
    "Of course these two are equal!"
   ]
  },
  {
   "cell_type": "code",
   "execution_count": 160,
   "metadata": {},
   "outputs": [
    {
     "name": "stdout",
     "output_type": "stream",
     "text": [
      "True\n"
     ]
    }
   ],
   "source": [
    "x, y, z = qv.spin_var('x'), qv.spin_var('y'), qv.spin_var('z')\n",
    "\n",
    "P1 = x + y*z - z\n",
    "P2 = y*z - z + x\n",
    "\n",
    "print(P1 == P2)"
   ]
  },
  {
   "cell_type": "markdown",
   "metadata": {},
   "source": [
    "But what happens if enumerate these to with the `.to_puso` method?"
   ]
  },
  {
   "cell_type": "code",
   "execution_count": 161,
   "metadata": {},
   "outputs": [
    {
     "name": "stdout",
     "output_type": "stream",
     "text": [
      "False\n"
     ]
    }
   ],
   "source": [
    "print(P1.to_puso() == P2.to_puso())"
   ]
  },
  {
   "cell_type": "markdown",
   "metadata": {},
   "source": [
    "Why are they different? Well it's because their internal enumeration mappings are different because they encountered the variables in a different order."
   ]
  },
  {
   "cell_type": "code",
   "execution_count": 162,
   "metadata": {},
   "outputs": [
    {
     "name": "stdout",
     "output_type": "stream",
     "text": [
      "{'x': 0, 'y': 1, 'z': 2}\n",
      "{'y': 0, 'z': 1, 'x': 2}\n"
     ]
    }
   ],
   "source": [
    "print(P1.mapping)\n",
    "print(P2.mapping)"
   ]
  },
  {
   "cell_type": "markdown",
   "metadata": {},
   "source": [
    "Now of course none of this really matters as long as you always use the `.convert_solution` method."
   ]
  },
  {
   "cell_type": "code",
   "execution_count": 163,
   "metadata": {},
   "outputs": [
    {
     "name": "stdout",
     "output_type": "stream",
     "text": [
      "Enumerated solution to P1 : {0: -1, 1: -1, 2: 1}\n",
      "Enumerated solution to P2 : {0: -1, 1: 1, 2: -1}\n",
      "\n",
      "Converted solution to P1  : {'x': -1, 'y': -1, 'z': 1}\n",
      "Converted solution to P2  : {'y': -1, 'z': 1, 'x': -1}\n"
     ]
    }
   ],
   "source": [
    "p1_pusomatrix_solution = P1.to_puso().solve_bruteforce()\n",
    "p2_pusomatrix_solution = P2.to_puso().solve_bruteforce()\n",
    "\n",
    "print(\"Enumerated solution to P1 :\", p1_pusomatrix_solution)\n",
    "print(\"Enumerated solution to P2 :\", p2_pusomatrix_solution)\n",
    "print()\n",
    "\n",
    "p1_converted_solution = P1.convert_solution(p1_pusomatrix_solution)\n",
    "p2_converted_solution = P2.convert_solution(p2_pusomatrix_solution)\n",
    "\n",
    "print(\"Converted solution to P1  :\", p1_converted_solution)\n",
    "print(\"Converted solution to P2  :\", p2_converted_solution)"
   ]
  },
  {
   "cell_type": "markdown",
   "metadata": {},
   "source": [
    "We see that the converted solution is the same, which is all we really care about! But if you do for some reason want the enumeration mappings to be the same, then you can use the `.set_mapping` method. So let's do the same thing as above, but this time set the mappings to be equal."
   ]
  },
  {
   "cell_type": "code",
   "execution_count": 164,
   "metadata": {},
   "outputs": [
    {
     "name": "stdout",
     "output_type": "stream",
     "text": [
      "Enumerated solution to P1 : {0: -1, 1: -1, 2: 1}\n",
      "Enumerated solution to P2 : {0: -1, 1: -1, 2: 1}\n",
      "\n",
      "Converted solution to P1  : {'x': -1, 'y': -1, 'z': 1}\n",
      "Converted solution to P2  : {'x': -1, 'y': -1, 'z': 1}\n"
     ]
    }
   ],
   "source": [
    "P2.set_mapping(P1.mapping)\n",
    "\n",
    "p1_pusomatrix_solution = P1.to_puso().solve_bruteforce()\n",
    "p2_pusomatrix_solution = P2.to_puso().solve_bruteforce()\n",
    "\n",
    "print(\"Enumerated solution to P1 :\", p1_pusomatrix_solution)\n",
    "print(\"Enumerated solution to P2 :\", p2_pusomatrix_solution)\n",
    "print()\n",
    "\n",
    "p1_converted_solution = P1.convert_solution(p1_pusomatrix_solution)\n",
    "p2_converted_solution = P2.convert_solution(p2_pusomatrix_solution)\n",
    "\n",
    "print(\"Converted solution to P1  :\", p1_converted_solution)\n",
    "print(\"Converted solution to P2  :\", p2_converted_solution)"
   ]
  },
  {
   "cell_type": "markdown",
   "metadata": {},
   "source": [
    "Now we see that both the enumerated and converted solutions are the same. Again though we come to the very common theme that *nothing can go wrong if you always use the `.convert_solution` method whenever you use the `.to_` methods*.\n",
    "\n",
    "Another very similar thing you may come across happens when you are using integers to label your function. So for example, let's consider the PUSO $z_0 + z_1 + z_2$ where we will label $z_i$ in Python simply as `i`. We will consider the two PUSOs\n",
    "\n",
    "$$2z_0 + z_1 + z_2 \\qquad z_2 + z_1 + 2z_0$$"
   ]
  },
  {
   "cell_type": "code",
   "execution_count": 165,
   "metadata": {},
   "outputs": [
    {
     "name": "stdout",
     "output_type": "stream",
     "text": [
      "True\n"
     ]
    }
   ],
   "source": [
    "z = [qv.spin_var(i) for i in range(3)]\n",
    "puso1 = 2*z[0] + z[1] + z[2]\n",
    "puso2 = z[2] + z[1] + 2*z[0]\n",
    "\n",
    "print(puso1 == puso2)"
   ]
  },
  {
   "cell_type": "markdown",
   "metadata": {},
   "source": [
    "What happens when we use the `.to_puso` method?"
   ]
  },
  {
   "cell_type": "code",
   "execution_count": 166,
   "metadata": {},
   "outputs": [
    {
     "name": "stdout",
     "output_type": "stream",
     "text": [
      "puso1           :  {(0,): 2, (1,): 1, (2,): 1}\n",
      "puso1.to_puso() :  {(0,): 2, (1,): 1, (2,): 1}\n",
      "puso2           :  {(2,): 1, (1,): 1, (0,): 2}\n",
      "puso2.to_puso() :  {(0,): 1, (1,): 1, (2,): 2}\n"
     ]
    }
   ],
   "source": [
    "print(\"puso1           : \", puso1)\n",
    "print(\"puso1.to_puso() : \", puso1.to_puso())\n",
    "print(\"puso2           : \", puso2)\n",
    "print(\"puso2.to_puso() : \", puso2.to_puso())"
   ]
  },
  {
   "cell_type": "markdown",
   "metadata": {},
   "source": [
    "We again see that the order of the when variables were introduced affects the enumeration mapping. Of course (sorry to repeat myself, but it's important) *nothing can go wrong if you always use the `.convert_solution` method whenever you use the `.to_` methods*. I won't show it again here, since it should be clear. Anyways if you want both to be enumerated exactly the same in increasing order, you can set the mapping."
   ]
  },
  {
   "cell_type": "code",
   "execution_count": 167,
   "metadata": {},
   "outputs": [
    {
     "name": "stdout",
     "output_type": "stream",
     "text": [
      "puso1           :  {(0,): 2, (1,): 1, (2,): 1}\n",
      "puso1.to_puso() :  {(0,): 2, (1,): 1, (2,): 1}\n",
      "puso2           :  {(2,): 1, (1,): 1, (0,): 2}\n",
      "puso2.to_puso() :  {(2,): 1, (1,): 1, (0,): 2}\n"
     ]
    }
   ],
   "source": [
    "puso1.set_mapping({0: 0, 1: 1, 2: 2})\n",
    "puso2.set_mapping({0: 0, 1: 1, 2: 2})\n",
    "\n",
    "print(\"puso1           : \", puso1)\n",
    "print(\"puso1.to_puso() : \", puso1.to_puso())\n",
    "print(\"puso2           : \", puso2)\n",
    "print(\"puso2.to_puso() : \", puso2.to_puso())"
   ]
  },
  {
   "cell_type": "markdown",
   "metadata": {},
   "source": [
    "It may seem kind of annoying that when you only use integer labels they can still be mapped to a totally different integer with the enumeration. But this is just the nature of the flexibility that comes with qubovert, because you are allowed to have both integer and non-integer labels."
   ]
  },
  {
   "cell_type": "code",
   "execution_count": 168,
   "metadata": {},
   "outputs": [
    {
     "name": "stdout",
     "output_type": "stream",
     "text": [
      "{(0,): 2, (1,): 1, (2,): 1, ('x',): 1}\n"
     ]
    }
   ],
   "source": [
    "print(puso1 + {('x',): 1})"
   ]
  },
  {
   "cell_type": "markdown",
   "metadata": {},
   "source": [
    "If you don't want to deal with this enumeration buisness when you are only using integer labels, then consider using the Matrix objects, which do not keep track of an internal enumeration mapping and instead only allow integer labels."
   ]
  },
  {
   "cell_type": "code",
   "execution_count": 169,
   "metadata": {},
   "outputs": [
    {
     "name": "stdout",
     "output_type": "stream",
     "text": [
      "No enumeration mapping with PUSOMatrix!\n"
     ]
    }
   ],
   "source": [
    "pusomatrix = qv.utils.PUSOMatrix(puso1)\n",
    "try:\n",
    "    pusomatrix.mapping\n",
    "except AttributeError:\n",
    "    print(\"No enumeration mapping with PUSOMatrix!\")"
   ]
  },
  {
   "cell_type": "markdown",
   "metadata": {},
   "source": [
    "Otherwise, you can set the mapping as we showed below (I should also mention that you can set the reverse mapping if you want with `.set_reverse_mapping`). But really you just make sure that you *always use the `.convert_solution` method whenever you use any of the `.to_` methods!*"
   ]
  },
  {
   "cell_type": "markdown",
   "metadata": {},
   "source": [
    "## Possible unexpected behavior #4: SAT function inputs\n",
    "\n",
    "I already talked about this in the [Motivation #6: boolean logic](#Motivation-#6:-boolean-logic) section above, but I sort of classify it as possibly unexpected behavior, so I'll talk about it again here. SAT functions takes labels and expressions, so it will consider a 0 or a 1 as a label not an expression! Let me explain. If I wanted to do the OR of $x$ and $y$, there are two ways that I can do that. The first is to explictly send in the labels `'x'` and `'y'`."
   ]
  },
  {
   "cell_type": "code",
   "execution_count": 170,
   "metadata": {},
   "outputs": [
    {
     "data": {
      "text/plain": [
       "{('x',): 1, ('x', 'y'): -1, ('y',): 1}"
      ]
     },
     "execution_count": 170,
     "metadata": {},
     "output_type": "execute_result"
    }
   ],
   "source": [
    "qv.sat.OR('x', 'y')"
   ]
  },
  {
   "cell_type": "markdown",
   "metadata": {},
   "source": [
    "The second is to create the PUBOs representing the variables $x$ and $y$."
   ]
  },
  {
   "cell_type": "code",
   "execution_count": 171,
   "metadata": {},
   "outputs": [
    {
     "data": {
      "text/plain": [
       "{('x',): 1, ('x', 'y'): -1, ('y',): 1}"
      ]
     },
     "execution_count": 171,
     "metadata": {},
     "output_type": "execute_result"
    }
   ],
   "source": [
    "x = {('x',): 1}\n",
    "y = {('y',): 1}\n",
    "\n",
    "qv.sat.OR(x, y)"
   ]
  },
  {
   "cell_type": "markdown",
   "metadata": {},
   "source": [
    "The reason we would want to the latter is so that we can send in expressions rather than just variables."
   ]
  },
  {
   "cell_type": "code",
   "execution_count": 172,
   "metadata": {},
   "outputs": [
    {
     "name": "stdout",
     "output_type": "stream",
     "text": [
      "{('w', 'z'): 1}\n",
      "{('x',): 1, ('x', 'y'): -1, ('y',): 1, ('x', 'w', 'z'): -1, ('x', 'w', 'y', 'z'): 1, ('w', 'y', 'z'): -1, ('w', 'z'): 1}\n"
     ]
    }
   ],
   "source": [
    "ex = qv.sat.AND('w', 'z')\n",
    "print(ex)\n",
    "print(qv.sat.OR('x', 'y', ex))"
   ]
  },
  {
   "cell_type": "markdown",
   "metadata": {},
   "source": [
    "But qubovert allows any hashable object to be a label of a variable. So for example we can AND two variables $x_0$ and $x_1$ that we label in qubovert simply by the integers 0 and 1."
   ]
  },
  {
   "cell_type": "code",
   "execution_count": 173,
   "metadata": {},
   "outputs": [
    {
     "name": "stdout",
     "output_type": "stream",
     "text": [
      "{(0, 1): 1}\n",
      "{(0, 1): 1}\n"
     ]
    }
   ],
   "source": [
    "print(qv.sat.AND(0, 1))\n",
    "print(qv.sat.AND({(0,): 1}, {(1,): 1}))"
   ]
  },
  {
   "cell_type": "markdown",
   "metadata": {},
   "source": [
    "This may be unexpected behavior if you are not aware. $x \\land y$ evaluates to 0 if either or both $x = 0$ or $y = 0$. Consider the following cell. You may naively think that these should output the same thing. But they don't! That's because the arguments of the SAT functions are *always treated as variable labels!*"
   ]
  },
  {
   "cell_type": "code",
   "execution_count": 174,
   "metadata": {},
   "outputs": [
    {
     "name": "stdout",
     "output_type": "stream",
     "text": [
      "0\n",
      "{(0, 1): 1}\n"
     ]
    }
   ],
   "source": [
    "print(qv.sat.AND('x', 'y').value({'x': 0, 'y': 1}))\n",
    "print(qv.sat.AND(0, 1))"
   ]
  },
  {
   "cell_type": "markdown",
   "metadata": {},
   "source": [
    "If you want to compute a SAT expression of a bunch of variables and values, then consider using `subvalue`. In the following example, we'll take the AND of $w, x, y$, and then replace $w$ with the value 1 but leave $x$ and $y$ as variables. The resulting expression will just be the AND of $x$ and $y$."
   ]
  },
  {
   "cell_type": "code",
   "execution_count": 175,
   "metadata": {},
   "outputs": [
    {
     "name": "stdout",
     "output_type": "stream",
     "text": [
      "{('x', 'w', 'y'): 1}\n",
      "{('x', 'y'): 1}\n"
     ]
    }
   ],
   "source": [
    "ex = qv.sat.AND('w', 'x', 'y')\n",
    "print(ex)\n",
    "print(ex.subvalue({'w': 1}))"
   ]
  },
  {
   "cell_type": "markdown",
   "metadata": {},
   "source": [
    "In the following example, we'll take the AND of $w, x, y$, and then replace $w$ with the value 0 but leave $x$ and $y$ as variables. The resulting expression will just be the PUBO representing 0 because there is no assignment of $x$ and $y$ to make AND$(w, x, y) = 1$ when $w = 0$."
   ]
  },
  {
   "cell_type": "code",
   "execution_count": 176,
   "metadata": {},
   "outputs": [
    {
     "name": "stdout",
     "output_type": "stream",
     "text": [
      "{('x', 'w', 'y'): 1}\n",
      "{}\n"
     ]
    }
   ],
   "source": [
    "ex = qv.sat.AND('w', 'x', 'y')\n",
    "print(ex)\n",
    "print(ex.subvalue({'w': 0}))"
   ]
  },
  {
   "cell_type": "markdown",
   "metadata": {},
   "source": [
    "Indeed we can substitute $x$ and $y$ with values and we'll always get zero."
   ]
  },
  {
   "cell_type": "code",
   "execution_count": 177,
   "metadata": {},
   "outputs": [
    {
     "name": "stdout",
     "output_type": "stream",
     "text": [
      "{'x': 0, 'y': 0}  -->  0\n",
      "{'x': 0, 'y': 1}  -->  0\n",
      "{'x': 1, 'y': 0}  -->  0\n",
      "{'x': 1, 'y': 1}  -->  0\n"
     ]
    }
   ],
   "source": [
    "ex = qv.sat.AND('w', 'x', 'y').subvalue({'w': 0})\n",
    "\n",
    "for i, j in product((0, 1), repeat=2):\n",
    "    assignment = {'x': i, 'y': j}\n",
    "    print(assignment, ' --> ', ex.value(assignment))"
   ]
  },
  {
   "cell_type": "markdown",
   "metadata": {},
   "source": [
    "---\n",
    "# Tips, tricks, and advanced details\n",
    "\n",
    "I'll show some things that you may not need to know for adequete usage of qubovert, but it may be useful and/or helpful to know about them."
   ]
  },
  {
   "cell_type": "markdown",
   "metadata": {},
   "source": [
    "## Tip #0: use in-place arithmetic, especially for large functions\n",
    "\n",
    "Consider the time difference between two ways of creating the same boolean function $\\sum_{i=0}^{999} x_i$."
   ]
  },
  {
   "cell_type": "code",
   "execution_count": 178,
   "metadata": {},
   "outputs": [
    {
     "name": "stdout",
     "output_type": "stream",
     "text": [
      "Method 0: 4.472064733505249\n",
      "Method 1: 0.007885932922363281\n",
      "Method 2: 0.007630825042724609\n"
     ]
    }
   ],
   "source": [
    "import time\n",
    "\n",
    "xs = [qv.boolean_var(i) for i in range(1000)]\n",
    "\n",
    "t0 = time.time()\n",
    "pubo0 = sum(xs)\n",
    "print(\"Method 0:\", time.time() - t0)\n",
    "\n",
    "t0 = time.time()\n",
    "pubo1 = 0\n",
    "for x in xs:\n",
    "    pubo1 += x\n",
    "print(\"Method 1:\", time.time() - t0)\n",
    "\n",
    "t0 = time.time()\n",
    "pubo2 = qv.PCBO({(i,): 1 for i in range(1000)})\n",
    "print(\"Method 2:\", time.time() - t0)"
   ]
  },
  {
   "cell_type": "markdown",
   "metadata": {},
   "source": [
    "The second two methods are orders of magnitude faster. This is because whenver you do not do in-place arithmetic, many copying operations occur. For example, consider the following example."
   ]
  },
  {
   "cell_type": "code",
   "execution_count": 179,
   "metadata": {},
   "outputs": [],
   "source": [
    "x, y, z = qv.boolean_var('x'), qv.boolean_var('y'), qv.boolean_var('z')\n",
    "pubo = x + y + z"
   ]
  },
  {
   "cell_type": "markdown",
   "metadata": {},
   "source": [
    "The way `x + y` is performed is by copying `x` and then adding `y` to it. Then the way `(x+y) + z` is performed is by copying `(x+y)` and then adding `z` to it. *These copying operations are necessary because Python dictionaries and thus qubovert objects are mutable!* This sort of copying does not occur when you perform arithmetic with immutable objects (such as integers and floats). The way around all of this copying is to instead do the following."
   ]
  },
  {
   "cell_type": "code",
   "execution_count": 180,
   "metadata": {},
   "outputs": [],
   "source": [
    "pubo = 0\n",
    "pubo += x\n",
    "pubo += y\n",
    "pubo += z"
   ]
  },
  {
   "cell_type": "markdown",
   "metadata": {},
   "source": [
    "In this case, *only one copy is performed*. The first two lines are equivalent to `pubo = x.copy()`. Then for the remaining lines the `pubo` objects is updated in-place, and the `y` and `z` objects do not need to be copied.\n",
    "\n",
    "**Conclusion**\n",
    "Using one-line arithmetic is often very convenient and makes code very nice and pretty. For example, being able to add a constraint like `model = qv.PCBO().add_constraint_gt_zero(sum(i * x[i] for i in range(10)))` is clean and makes a lot of sense. For small functions this will work completely find, and I do it all of the time. But if you are working with large functions and you care about the time it takes to create the function, use in-place arithmetic. Or, for a simple example like the one I just showed, you could instead do `model = qv.PCBO().add_constraint_gt_zero({(i,): i for i in range(10)})`."
   ]
  },
  {
   "cell_type": "markdown",
   "metadata": {},
   "source": [
    "## Tip #1: using symbols\n",
    "\n",
    "You can use Sympy symbols anywhere you want in qubovert. Let me show an example, and then I'll show what I think is the primary use case for symbols."
   ]
  },
  {
   "cell_type": "code",
   "execution_count": 181,
   "metadata": {},
   "outputs": [
    {
     "name": "stdout",
     "output_type": "stream",
     "text": [
      "{('x',): A, ('y',): B, ('x', 'y'): A*B**2, (): -A*B**2} \n",
      "\n",
      "A = 2       --->   {('x',): 2.0, ('y',): B, ('x', 'y'): 2*B**2, (): -2*B**2}\n",
      "B = -3      --->   {('x',): A, ('y',): -3.0, ('x', 'y'): 9*A, (): -9*A}\n",
      "A=1, B=-.2  --->   {('x',): 1.0, ('y',): -0.2, ('x', 'y'): 0.04000000000000001, (): -0.04000000000000001}\n"
     ]
    }
   ],
   "source": [
    "# !pip install sympy>=1.6\n",
    "from sympy import Symbol\n",
    "\n",
    "A, B = Symbol('A'), Symbol('B')\n",
    "x, y = qv.boolean_var('x'), qv.boolean_var('y')\n",
    "function = A * x + B * y + A * B**2 * (x * y - 1)\n",
    "\n",
    "print(function, \"\\n\")\n",
    "print(\"A = 2       --->  \", function.subs({A: 2}))\n",
    "print(\"B = -3      --->  \", function.subs({B: -3}))\n",
    "print(\"A=1, B=-.2  --->  \", function.subs({A: 1, B:-.2}))"
   ]
  },
  {
   "cell_type": "markdown",
   "metadata": {},
   "source": [
    "Let's round the latter to three decimal places."
   ]
  },
  {
   "cell_type": "code",
   "execution_count": 182,
   "metadata": {},
   "outputs": [
    {
     "name": "stdout",
     "output_type": "stream",
     "text": [
      "A=1, B=-.2  --->   {('x',): 1.0, ('y',): -0.2, ('x', 'y'): 0.04, (): -0.04}\n"
     ]
    }
   ],
   "source": [
    "print(\"A=1, B=-.2  --->  \", round(function.subs({A: 1, B:-.2}), 3))"
   ]
  },
  {
   "cell_type": "markdown",
   "metadata": {},
   "source": [
    "The output of the `.subs` method is another qubovert object. So we can use all the things we want to with it, such as `.value`, `.solve_bruteforce`, etc. Okay now let's get into what I believe to be the main use case for symbols: Lagrange multipliers. Let's just make some arbitrary PCBO with one constraint where we use a symbol as the penalty value."
   ]
  },
  {
   "cell_type": "code",
   "execution_count": 183,
   "metadata": {},
   "outputs": [
    {
     "name": "stdout",
     "output_type": "stream",
     "text": [
      "Number of variables total   :  34\n",
      "Number of ancilla variables :  4\n",
      "Degree of the function      :  2\n"
     ]
    }
   ],
   "source": [
    "import random\n",
    "\n",
    "xs = [qv.boolean_var(i) for i in range(30)]\n",
    "lam = Symbol(\"lam\")\n",
    "\n",
    "model = sum(x * (.99 - random.random()) for x in xs)\n",
    "model.add_constraint_le_zero(\n",
    "    sum(xs) - 10, lam=lam\n",
    ").add_constraint_XOR(\n",
    "    xs[0], xs[1], lam=lam\n",
    ").add_constraint_OR(\n",
    "    xs[5], xs[9], lam=lam\n",
    ").add_constraint_eq_AND(\n",
    "    xs[10], xs[15], xs[17], lam=lam\n",
    ")\n",
    "print(\"Number of variables total   : \", model.num_binary_variables)\n",
    "print(\"Number of ancilla variables : \", model.num_ancillas)\n",
    "print(\"Degree of the function      : \", model.degree)"
   ]
  },
  {
   "cell_type": "markdown",
   "metadata": {},
   "source": [
    "Let's convert it to `QUSOMatrix`."
   ]
  },
  {
   "cell_type": "code",
   "execution_count": 184,
   "metadata": {},
   "outputs": [],
   "source": [
    "quso = model.to_quso()"
   ]
  },
  {
   "cell_type": "markdown",
   "metadata": {},
   "source": [
    "Now we'll solve it with qubovert's simulated annealing for various values of $\\lambda$. We'll plot the fraction of solutions that simulated returns that are valid as a function of $\\lambda$."
   ]
  },
  {
   "cell_type": "code",
   "execution_count": 185,
   "metadata": {},
   "outputs": [
    {
     "data": {
      "image/png": "[encoded data removed]",
      "text/plain": [
       "<Figure size 432x288 with 1 Axes>"
      ]
     },
     "metadata": {
      "needs_background": "light"
     },
     "output_type": "display_data"
    }
   ],
   "source": [
    "lambdas = np.linspace(.1, 2, 10)\n",
    "fraction_valid_solutions = []\n",
    "\n",
    "for l in lambdas:\n",
    "    res = qv.sim.anneal_quso(quso.subs({lam: l}), num_anneals=100)\n",
    "    # convert the solution to the QUSOMatrix to the solution to the original model\n",
    "    converted = res.convert_states(lambda s: model.convert_solution(s, spin=True))\n",
    "    # filter out the solutions that violate the constraints\n",
    "    valid = converted.filter_states(model.is_solution_valid)\n",
    "    \n",
    "    fraction_valid_solutions.append(len(valid) / len(res))\n",
    "\n",
    "plt.plot(lambdas, fraction_valid_solutions, 'o-')\n",
    "plt.xlabel(\"$\\lambda$\")\n",
    "plt.ylabel(\"fraction of valid solutions found\")\n",
    "plt.show()"
   ]
  },
  {
   "cell_type": "markdown",
   "metadata": {},
   "source": [
    "There is one slight thing to watch out for. I do not consider this unexpected behavior or a bug because it really makes perfect sense why it would happen, and indeed I think it *should* happen. Nonetheless it may catch you by surprise if you're not ready for it. And this is the fact that if you were try to do exact as above but with $\\lambda = 0$ then you will get a KeyError."
   ]
  },
  {
   "cell_type": "code",
   "execution_count": 186,
   "metadata": {},
   "outputs": [
    {
     "name": "stdout",
     "output_type": "stream",
     "text": [
      "KeyError: 30\n"
     ]
    }
   ],
   "source": [
    "res = qv.sim.anneal_quso(quso.subs({lam: 0}), num_anneals=100)\n",
    "try:\n",
    "    converted = res.convert_states(lambda s: model.convert_solution(s, spin=True))\n",
    "except KeyError as e:\n",
    "    print(\"KeyError:\", e)"
   ]
  },
  {
   "cell_type": "markdown",
   "metadata": {},
   "source": [
    "The reason this happens is because the `model.convert_solution` method is looking for all the ancilla variable values, but the output of the simulated annealer will not have these because they don't exist when $\\lambda = 0$! Ie:"
   ]
  },
  {
   "cell_type": "code",
   "execution_count": 187,
   "metadata": {},
   "outputs": [
    {
     "name": "stdout",
     "output_type": "stream",
     "text": [
      "{0, 1, 2, 3, 4, 5, 6, 7, 8, 9, 10, 11, 12, 13, 14, 15, 16, 17, 18, 19, 20, 21, 22, 23, 24, 25, 26, 27, 28, 29, '__a3', '__a0', '__a1', '__a2'}\n",
      "\n",
      "{0, 1, 2, 3, 4, 5, 6, 7, 8, 9, 10, 11, 12, 13, 14, 15, 16, 17, 18, 19, 20, 21, 22, 23, 24, 25, 26, 27, 28, 29}\n"
     ]
    }
   ],
   "source": [
    "print(model.variables)\n",
    "print()\n",
    "print(model.subs({lam: 0}).variables)"
   ]
  },
  {
   "cell_type": "markdown",
   "metadata": {},
   "source": [
    "**So you just always need to watch out for situations when** *using the `.subs` method with symbols may completely change the structure of your problem, changing which variables are involved in the problem.*"
   ]
  },
  {
   "cell_type": "markdown",
   "metadata": {},
   "source": [
    "By the way, there is a `.simplify` method to simplify objects that use symbols."
   ]
  },
  {
   "cell_type": "code",
   "execution_count": 188,
   "metadata": {},
   "outputs": [
    {
     "name": "stdout",
     "output_type": "stream",
     "text": [
      "{('x',): (A + B)**2, ('y',): A*B + B**2 + B}\n",
      "\n",
      "{('x',): 1.0*(A + B)**2, ('y',): 1.0*B*(A + B + 1)}\n"
     ]
    }
   ],
   "source": [
    "x, y = qv.boolean_var('x'), qv.boolean_var('y')\n",
    "P = (A+B)**2 * x + y*(A*B + B + B**2)\n",
    "print(P)\n",
    "print()\n",
    "P.simplify()\n",
    "print(P)"
   ]
  },
  {
   "cell_type": "markdown",
   "metadata": {},
   "source": [
    "## Tip #2: keeping functions and constraints separate with PCBOs and PCSOs.\n",
    "\n",
    "I made the design choice to *automatically add penalty terms to PCBOs and PCSOs*, a choice that I still sometimes second-guess. This often leads to come confusion, because it makes it *feel* like PCBOs and PCSOs are just PUBOs and PUSOs. So for example, if I want to minimize $\\sum_{i=0}^5 x_i$ subject to the constraint that $\\sum_{i=0}^4 x_i x_{i+1} \\leq 1$, we can do the following."
   ]
  },
  {
   "cell_type": "code",
   "execution_count": 189,
   "metadata": {},
   "outputs": [
    {
     "name": "stdout",
     "output_type": "stream",
     "text": [
      "x(0) + x(1) + x(2) + x(3) + x(4) + x(5) + (lam) x(0) x(1) x(2) + (lam) x(0) x(1) x(2) x(3) + (lam) x(0) x(1) x(3) x(4) + (lam) x(0) x(1) x(4) x(5) + (lam) x(1) x(2) x(3) + (lam) x(1) x(2) x(3) x(4) + (lam) x(1) x(2) x(4) x(5) + (lam) x(2) x(3) x(4) + (lam) x(2) x(3) x(4) x(5) + (lam) x(3) x(4) x(5)\n"
     ]
    }
   ],
   "source": [
    "from sympy import Symbol\n",
    "\n",
    "lam = Symbol('lam')\n",
    "x = [qv.boolean_var(i) for i in range(6)]\n",
    "model = sum(x)\n",
    "model.add_constraint_le_zero(sum(x[i] * x[i+1] for i in range(5)) - 1, lam=lam)\n",
    "print(model.pretty_str())"
   ]
  },
  {
   "cell_type": "markdown",
   "metadata": {},
   "source": [
    "We see that the penalty term that enforces the constraint has already been added to the function. So model is already in PUBO form. Oftentimes you may want to access only the objective function or only the penalty function. Of course there are many ways to do this. First, if you ever want to access just the objective function, you can substitute $\\lambda = 0$."
   ]
  },
  {
   "cell_type": "code",
   "execution_count": 190,
   "metadata": {},
   "outputs": [
    {
     "name": "stdout",
     "output_type": "stream",
     "text": [
      "x(0) + x(1) + x(2) + x(3) + x(4) + x(5)\n"
     ]
    }
   ],
   "source": [
    "objective = model.subs({lam: 0})\n",
    "print(objective.pretty_str())"
   ]
  },
  {
   "cell_type": "markdown",
   "metadata": {},
   "source": [
    "But the best way to separate functions and constraints is to just keep them separate to start with! Consider the modified example here."
   ]
  },
  {
   "cell_type": "code",
   "execution_count": 191,
   "metadata": {},
   "outputs": [
    {
     "name": "stdout",
     "output_type": "stream",
     "text": [
      "objective function :  x(0) + x(1) + x(2) + x(3) + x(4) + x(5)\n",
      "penalty function   :  (lam) x(0) x(1) x(2) + (lam) x(0) x(1) x(2) x(3) + (lam) x(0) x(1) x(3) x(4) + (lam) x(0) x(1) x(4) x(5) + (lam) x(1) x(2) x(3) + (lam) x(1) x(2) x(3) x(4) + (lam) x(1) x(2) x(4) x(5) + (lam) x(2) x(3) x(4) + (lam) x(2) x(3) x(4) x(5) + (lam) x(3) x(4) x(5)\n"
     ]
    }
   ],
   "source": [
    "x = [qv.boolean_var(i) for i in range(6)]\n",
    "objective_function = sum(x)\n",
    "penalty_function = qv.PCBO().add_constraint_le_zero(sum(x[i] * x[i+1] for i in range(5)) - 1, lam=lam)\n",
    "\n",
    "print(\"objective function : \", objective_function.pretty_str())\n",
    "print(\"penalty function   : \", penalty_function.pretty_str())"
   ]
  },
  {
   "cell_type": "markdown",
   "metadata": {},
   "source": [
    "If you want to get the value of the objective function, you can do `objective_function.value`. If you want to see if a solution satisfies the constraints, you can use `penalty_function.is_solution_valid`."
   ]
  },
  {
   "cell_type": "code",
   "execution_count": 192,
   "metadata": {},
   "outputs": [
    {
     "name": "stdout",
     "output_type": "stream",
     "text": [
      "3\n",
      "True\n"
     ]
    }
   ],
   "source": [
    "solution = {0: 0, 1: 0, 2: 1, 3: 1, 4: 0, 5: 1}\n",
    "print(objective_function.value(solution))\n",
    "print(penalty_function.is_solution_valid(solution))"
   ]
  },
  {
   "cell_type": "markdown",
   "metadata": {},
   "source": [
    "## Tip #3: bounds as a constraint argument\n",
    "\n",
    "PCBOs and PCSOs have the six constraint methods `.add_constraint_blank_zero(expression)`, where `blank` is one of `eq`, `ne`, `lt`, `le`, `gt`, `ge` (the PCBO object also has boolean logic constraints, but those are unimportant for this tip). As we saw earlier, something like `.add_constraint_le_zero(expression)` will add a penalty to the function that enforces that a valid solution will satisfy `expression <= 0`. It does this by trying to determine what the maximum and minimum values are that `expression` can take, and adding the appropriate number of ancillas to convert the inequality constraint into an equality constraint with these ancillas. In particular it uses the `qv.utils.approximate_pubo_extrema`, `qv.utils.approximate_puso_extrema`, `qv.utils.approximate_qubo_extrema`, and `qv.utils.approximate_quso_extrema` functions to put bounds on the maximum and minimum values that the expression can take. For many expressions, these functions work great, but sometimes they get it very wrong! Consider the simple example $$P = \\sum_{i=0}^{9}x_i - 5,$$ which can takes values from -5 to 5."
   ]
  },
  {
   "cell_type": "code",
   "execution_count": 193,
   "metadata": {},
   "outputs": [
    {
     "name": "stdout",
     "output_type": "stream",
     "text": [
      "(-5, 5)\n"
     ]
    }
   ],
   "source": [
    "P = sum(qv.boolean_var(i) for i in range(10)) - 5\n",
    "print(qv.utils.approximate_pubo_extrema(P))"
   ]
  },
  {
   "cell_type": "markdown",
   "metadata": {},
   "source": [
    "It gets it right, which means that if we were to put $P$ into the `.add_constraint_le_zero` method, it would use the right amount of ancillas, namely $\\lceil \\log_2 5 \\rceil = 3$."
   ]
  },
  {
   "cell_type": "code",
   "execution_count": 194,
   "metadata": {},
   "outputs": [
    {
     "data": {
      "text/plain": [
       "3"
      ]
     },
     "execution_count": 194,
     "metadata": {},
     "output_type": "execute_result"
    }
   ],
   "source": [
    "qv.PCBO().add_constraint_le_zero(P).num_ancillas"
   ]
  },
  {
   "cell_type": "markdown",
   "metadata": {},
   "source": [
    "But what if we try to do $$P = \\sum_{i=0}^{8} (1-x_i)x_{i+1} - 3.$$"
   ]
  },
  {
   "cell_type": "code",
   "execution_count": 195,
   "metadata": {},
   "outputs": [],
   "source": [
    "P = sum((1-qv.boolean_var(i)) * qv.boolean_var(i+1) for i in range(9)) - 3"
   ]
  },
  {
   "cell_type": "markdown",
   "metadata": {},
   "source": [
    "We can figure out the true upper and lower bounds by doing the following."
   ]
  },
  {
   "cell_type": "code",
   "execution_count": 196,
   "metadata": {},
   "outputs": [
    {
     "name": "stdout",
     "output_type": "stream",
     "text": [
      "minimum value: -3\n",
      "maximum value: 2\n"
     ]
    }
   ],
   "source": [
    "print(\"minimum value:\", P.value(P.solve_bruteforce()))\n",
    "print(\"maximum value:\", P.value((-P).solve_bruteforce()))"
   ]
  },
  {
   "cell_type": "markdown",
   "metadata": {},
   "source": [
    "But let's see what the approximate function gives."
   ]
  },
  {
   "cell_type": "code",
   "execution_count": 197,
   "metadata": {},
   "outputs": [
    {
     "data": {
      "text/plain": [
       "(-12, 6)"
      ]
     },
     "execution_count": 197,
     "metadata": {},
     "output_type": "execute_result"
    }
   ],
   "source": [
    "qv.utils.approximate_pubo_extrema(P)"
   ]
  },
  {
   "cell_type": "markdown",
   "metadata": {},
   "source": [
    "This is very off! However, it *does* bound $P$, just not very tightly. Since it bounds $P$, it will suffice when using the constraint methods, but it will result in an unneccessary number of ancilla variables. Because of the true bounds $(-3, 2)$, we should only need $\\lceil \\log2 3 \\rceil = 2$ ancilla variables for the $\\leq$ constraint, but let's see what i actually gives us."
   ]
  },
  {
   "cell_type": "code",
   "execution_count": 198,
   "metadata": {},
   "outputs": [
    {
     "data": {
      "text/plain": [
       "4"
      ]
     },
     "execution_count": 198,
     "metadata": {},
     "output_type": "execute_result"
    }
   ],
   "source": [
    "qv.PCBO().add_constraint_le_zero(P).num_ancillas"
   ]
  },
  {
   "cell_type": "markdown",
   "metadata": {},
   "source": [
    "That's one too many. To fix this, we can supply the bounds ourselves if we know them."
   ]
  },
  {
   "cell_type": "code",
   "execution_count": 199,
   "metadata": {},
   "outputs": [
    {
     "data": {
      "text/plain": [
       "2"
      ]
     },
     "execution_count": 199,
     "metadata": {},
     "output_type": "execute_result"
    }
   ],
   "source": [
    "qv.PCBO().add_constraint_le_zero(P, bounds=(-3, 2)).num_ancillas"
   ]
  },
  {
   "cell_type": "markdown",
   "metadata": {},
   "source": [
    "In general, if you know the bounds on your constraints, you should supply them. Because it will either ensure that you are using the smallest number of ancillas, or even if qubovert by default gets it right it will slightly speed up the computation because the `add_constraint_...` method will not call the `qv.utils.approximate_..._extrema` method."
   ]
  },
  {
   "cell_type": "markdown",
   "metadata": {},
   "source": [
    "## Tip #4: log_trick as constraint argument\n",
    "\n",
    "Consider adding a penalty to an objective function that enforces that an expression $P$ equals zero. As we discussed above, a possible penalty function is $\\lambda P^2$ where $\\lambda$ is a sufficiently large Lagrange multiplier. When we enforce inequality constraints, we first convert them to equality constraints. Let's consider the example of adding the constraint $$P = \\sum_{i=0}^{19}x_i - 10 \\leq 0.$$"
   ]
  },
  {
   "cell_type": "code",
   "execution_count": 200,
   "metadata": {},
   "outputs": [],
   "source": [
    "P = sum(qv.boolean_var(i) for i in range(20)) - 10"
   ]
  },
  {
   "cell_type": "markdown",
   "metadata": {},
   "source": [
    "By default, qubovert will use a penalty function of the form $$\\left(\\sum_{i=0}^{19}x_i - 10 + \\sum_{j=0}^3 2^j a_j \\right)^2$$ where each $a_j$ is an ancilla variable, thus using four ancillas. The ancillas encode an integer in binary using $\\sim \\log_2(- \\min P)$ ancillas; thus we call this the `log_trick`."
   ]
  },
  {
   "cell_type": "code",
   "execution_count": 201,
   "metadata": {},
   "outputs": [
    {
     "name": "stdout",
     "output_type": "stream",
     "text": [
      "4\n"
     ]
    }
   ],
   "source": [
    "penalty = qv.PCBO().add_constraint_le_zero(P)\n",
    "print(penalty.num_ancillas)"
   ]
  },
  {
   "cell_type": "markdown",
   "metadata": {},
   "source": [
    "Sometimes though you many not want such a large dynamical range of the coefficients in the penalty."
   ]
  },
  {
   "cell_type": "code",
   "execution_count": 202,
   "metadata": {},
   "outputs": [
    {
     "data": {
      "text/plain": [
       "{-96, -64, -36, -19, 2, 4, 8, 16, 32, 64, 100}"
      ]
     },
     "execution_count": 202,
     "metadata": {},
     "output_type": "execute_result"
    }
   ],
   "source": [
    "set(penalty.values())"
   ]
  },
  {
   "cell_type": "markdown",
   "metadata": {},
   "source": [
    "We can see that the coefficients range from $-96$ to $100$, and particular this range would grow as the number of terms in the constraint grows. Let's say you want to solve this problem with D-Wave's quantum hardware -- their quantum annealer has $\\lesssim 6$ bits of precision! If you want to be able to resolve integers between $-96$ and $100$ you need $\\sim \\log_2(196) \\approx 8$ bits of precision. So this already cannot be represented on D-Wave's hardware even though it's such a tiny example The way around this is to not use a binary encoding of integers with the ancillas. We would like to have a penalty like \n",
    "\n",
    "$$\\left(\\sum_{i=0}^{19}x_i - \\sum_{j=0}^{9} a_j\\right)^2.$$\n",
    "\n",
    "This uses way more ancilla variables, but the dynamical range required to respresent the coefficients will be independent of the constraint size. We can access this form of the constraint by setting `log_trick=False`."
   ]
  },
  {
   "cell_type": "code",
   "execution_count": 203,
   "metadata": {},
   "outputs": [
    {
     "name": "stdout",
     "output_type": "stream",
     "text": [
      "Number of ancillas :  10\n",
      "Coefficients       :  {1, 2, -2}\n"
     ]
    }
   ],
   "source": [
    "penalty = qv.PCBO().add_constraint_le_zero(P, log_trick=False)\n",
    "print(\"Number of ancillas : \", penalty.num_ancillas)\n",
    "print(\"Coefficients       : \", set(penalty.values()))"
   ]
  },
  {
   "cell_type": "markdown",
   "metadata": {},
   "source": [
    "In general whenever you are working with D-Wave's hardware, you will almost always want to set `log_trick=False`. Similarly, sometimes it is also best to do this when you are working with simulated annealing, but it really depends. By the way, there is also the `log_trick` argument in the `qv.integer_var` function, which indicates how to encode an integer variable. Here we'll show how to encode a integer variable $v$ with and without the `log_trick` using 5 bits."
   ]
  },
  {
   "cell_type": "code",
   "execution_count": 204,
   "metadata": {},
   "outputs": [
    {
     "name": "stdout",
     "output_type": "stream",
     "text": [
      "log_trick=True  :  {('v0',): 1, ('v1',): 2, ('v2',): 4, ('v3',): 8, ('v4',): 16}\n",
      "log_trick=False :  {('v0',): 1, ('v1',): 1, ('v2',): 1, ('v3',): 1, ('v4',): 1}\n"
     ]
    }
   ],
   "source": [
    "print(\"log_trick=True  : \", qv.integer_var('v', 5))\n",
    "print(\"log_trick=False : \", qv.integer_var('v', 5, log_trick=False))"
   ]
  },
  {
   "cell_type": "markdown",
   "metadata": {},
   "source": [
    "## Tip #5: special constraints\n",
    "\n",
    "As usual, I will be talking about PCBOs in this section, but most of what I say also applies to PCSOs. Let's start of by considering the `.add_constraint_eq_zero(P, **kwargs)` method. This method will add a constraint to the model that enforces that the PUBO $P = 0$. Most of the time, this means adding a penalty of the form $\\lambda P^2$. So let's consider the example of $P = x_0 + x_1 - 2x_2$."
   ]
  },
  {
   "cell_type": "code",
   "execution_count": 205,
   "metadata": {},
   "outputs": [
    {
     "name": "stdout",
     "output_type": "stream",
     "text": [
      "True\n"
     ]
    }
   ],
   "source": [
    "from sympy import Symbol\n",
    "\n",
    "lam = Symbol('lam')\n",
    "xs = [qv.boolean_var(i) for i in range(3)]\n",
    "\n",
    "P = xs[0] + xs[1] - 2 * xs[2]\n",
    "\n",
    "print(qv.PCBO().add_constraint_eq_zero(P, lam=lam) == lam * P**2)"
   ]
  },
  {
   "cell_type": "markdown",
   "metadata": {},
   "source": [
    "Indeed we see that the penalty is simply $\\lambda P^2$. But qubovert will also check the form of $P$ to see if it can do a little bit better. So consider instead the example $P = x_0 + x_1 + x_2$. We can see that this is just saying that $x_0, x_1$ and $x_2$ need to be zero since none of them can be negative. Thus $P \\geq 0$, and there is no need to square $P$ to create the penalty. Indeed, we can just add a penalty $\\lambda P$."
   ]
  },
  {
   "cell_type": "code",
   "execution_count": 206,
   "metadata": {},
   "outputs": [
    {
     "name": "stdout",
     "output_type": "stream",
     "text": [
      "True\n"
     ]
    }
   ],
   "source": [
    "P = sum(xs)\n",
    "print(qv.PCBO().add_constraint_eq_zero(P, lam=lam) == lam * P)"
   ]
  },
  {
   "cell_type": "markdown",
   "metadata": {},
   "source": [
    "Similarly, if $P = -x_0 - x_1 - x_2$ then we can just add a penalty $-\\lambda P$."
   ]
  },
  {
   "cell_type": "code",
   "execution_count": 207,
   "metadata": {},
   "outputs": [
    {
     "name": "stdout",
     "output_type": "stream",
     "text": [
      "True\n"
     ]
    }
   ],
   "source": [
    "P = -sum(xs)\n",
    "print(qv.PCBO().add_constraint_eq_zero(P, lam=lam) == -lam * P)"
   ]
  },
  {
   "cell_type": "markdown",
   "metadata": {},
   "source": [
    "Let me show one more example of the equality constraint and then move on. Consider the constraint that $P = 0$ where\n",
    "\n",
    "$$P = x_2 - x_0 x_1.$$\n",
    "\n",
    "$P$ can take on values in $\\{-1, 0, 1 \\}$, thus naively we may think that we need to add a penalty $\\lambda P^2$. But recall the constraint `.add_constraint_eq_AND(c, a, b)` which enforces that $c = a\\land b$. This constraint came up in the context of PUBO degree recution. We can enforce that $c = a \\land b$ with a degree 2 term whereas $P^2$ is degree 3. Fortunately, qubovert will recognize that $P$ is of this form and will automatically use the better penalty."
   ]
  },
  {
   "cell_type": "code",
   "execution_count": 208,
   "metadata": {},
   "outputs": [
    {
     "name": "stdout",
     "output_type": "stream",
     "text": [
      "(3*lam) x(2) + (lam) x(0) x(1) + (-2*lam) x(0) x(2) + (-2*lam) x(1) x(2)\n",
      "True\n",
      "2\n",
      "3\n"
     ]
    }
   ],
   "source": [
    "P = xs[2] - xs[0] * xs[1]\n",
    "\n",
    "penalty = qv.PCBO().add_constraint_eq_zero(P, lam=lam)\n",
    "\n",
    "print(penalty.pretty_str())\n",
    "print(penalty == qv.PCBO().add_constraint_eq_AND(xs[2], xs[0], xs[1], lam=lam))\n",
    "print(penalty.degree)\n",
    "print((P**2).degree)"
   ]
  },
  {
   "cell_type": "markdown",
   "metadata": {},
   "source": [
    "And of course we could similarly change the sign of $P$ and get the same result."
   ]
  },
  {
   "cell_type": "code",
   "execution_count": 209,
   "metadata": {},
   "outputs": [
    {
     "name": "stdout",
     "output_type": "stream",
     "text": [
      "(3*lam) x(2) + (lam) x(0) x(1) + (-2*lam) x(0) x(2) + (-2*lam) x(1) x(2)\n",
      "True\n",
      "2\n",
      "3\n"
     ]
    }
   ],
   "source": [
    "P = -xs[2] + xs[0] * xs[1]\n",
    "\n",
    "penalty = qv.PCBO().add_constraint_eq_zero(P, lam=lam)\n",
    "\n",
    "print(penalty.pretty_str())\n",
    "print(penalty == qv.PCBO().add_constraint_eq_AND(xs[2], xs[0], xs[1], lam=lam))\n",
    "print(penalty.degree)\n",
    "print((P**2).degree)"
   ]
  },
  {
   "cell_type": "markdown",
   "metadata": {},
   "source": [
    "Okay let's move onto inequality constraints. I won't show all of the special constraints that qubovert looks out for. Let me just show one inequality constraint. Consider the constraint that\n",
    "\n",
    "$$P \\leq 0.$$\n",
    "\n",
    "A general way to enforce this constraint is as follows:\n",
    "1. Determine a lower bound on the value that $P$ can take; call this bound $P_\\ell$, if $P_\\ell \\geq 0$ then we're done.\n",
    "2. Add ancilla variables and encode an integer that can take values from $0$ to $-P_\\ell$; call this encoding $\\alpha$ (it will be a weighted sum of boolean variables).\n",
    "3. Enforce that $P + \\alpha = 0$ by adding a penalty term $\\lambda (P + \\alpha)^2$ to the model. This way, there will exist an assignment of values of the variables encoding $\\alpha$ such that $P+\\alpha = 0$.\n",
    "\n",
    "qubovert usually does this procedure, but sometimes we can do better than this. Consider \n",
    "\n",
    "$$P = \\sum_{i=0}^{4}x_i - 1 \\leq 0.$$\n",
    "\n",
    "According to our generic procedure above, we would introduce an ancilla boolean variable $\\alpha$ and add a penalty term $\\lambda(P + \\alpha)^2$. But we can actually don't have to introduce an ancilla variable at all. The penalty\n",
    "\n",
    "$$\\lambda \\left(\\sum_{i=0}^{3}\\sum_{j=i+1}^{4}x_i x_{j} \\right)$$\n",
    "\n",
    "is sufficient. And indeed qubovert will recognize this constraint and use the special penalty."
   ]
  },
  {
   "cell_type": "code",
   "execution_count": 210,
   "metadata": {},
   "outputs": [
    {
     "name": "stdout",
     "output_type": "stream",
     "text": [
      "{(0, 1): lam, (0, 2): lam, (0, 3): lam, (0, 4): lam, (1, 2): lam, (1, 3): lam, (1, 4): lam, (2, 3): lam, (2, 4): lam, (3, 4): lam}\n"
     ]
    }
   ],
   "source": [
    "xs = [qv.boolean_var(i) for i in range(5)]\n",
    "P = sum(xs) - 1\n",
    "print(qv.PCBO().add_constraint_le_zero(P, lam=lam))"
   ]
  },
  {
   "cell_type": "markdown",
   "metadata": {},
   "source": [
    "In summary, qubovert recognizes a handful of special constraints for which it will not apply the generic constraint procedure. One of the goals of qubovert is to become a good repository of special constraints, so I plan to continue adding these as I find them."
   ]
  },
  {
   "cell_type": "markdown",
   "metadata": {},
   "source": [
    "## Tip #6: setting penalty in degree reduction\n",
    "\n",
    "When performing the degree reduction from, say, a PUBO to QUBO, qubovert tries to find the pairs of variables that occur together the most and then define ancillas that are then enforced to be equal to the product of each pair. This was discussed earlier in this notebook. Let's look at a simple example."
   ]
  },
  {
   "cell_type": "code",
   "execution_count": 211,
   "metadata": {},
   "outputs": [
    {
     "name": "stdout",
     "output_type": "stream",
     "text": [
      "x(0) x(1) x(2)\n"
     ]
    }
   ],
   "source": [
    "P = qv.boolean_var(0) * qv.boolean_var(1) * qv.boolean_var(2)\n",
    "P.set_mapping({0: 0, 1: 1, 2: 2}) # enforce simple integer enumeration for viewing pleasure\n",
    "print(P.pretty_str())"
   ]
  },
  {
   "cell_type": "markdown",
   "metadata": {},
   "source": [
    "Now what happens if we reduce it to a QUBO."
   ]
  },
  {
   "cell_type": "code",
   "execution_count": 212,
   "metadata": {},
   "outputs": [
    {
     "name": "stdout",
     "output_type": "stream",
     "text": [
      "6 x(3) + 2 x(0) x(1) - 4 x(0) x(3) - 4 x(1) x(3) + x(2) x(3)\n"
     ]
    }
   ],
   "source": [
    "qubo = P.to_qubo()\n",
    "print(qubo.pretty_str())"
   ]
  },
  {
   "cell_type": "markdown",
   "metadata": {},
   "source": [
    "What happened was that we introduced a new variable `3` and enforced that it was equal to the product of the variables `0` and `1` with a penalty factor of `2`. See here."
   ]
  },
  {
   "cell_type": "code",
   "execution_count": 213,
   "metadata": {},
   "outputs": [
    {
     "name": "stdout",
     "output_type": "stream",
     "text": [
      "True\n"
     ]
    }
   ],
   "source": [
    "d = qv.boolean_var(2) * qv.boolean_var(3)\n",
    "d.add_constraint_eq_AND(3, 0, 1, lam=2)\n",
    "print(d == qubo)"
   ]
  },
  {
   "cell_type": "markdown",
   "metadata": {},
   "source": [
    "The `lam` argument in the `.to_qubo` and `.to_pubo` method is chosen automatically. Please read the docstring for more details. But long story short, the default `lam` is usually pretty good. But if you want to change it, you have two options. The first is to provide a number or symbol."
   ]
  },
  {
   "cell_type": "code",
   "execution_count": 214,
   "metadata": {},
   "outputs": [
    {
     "name": "stdout",
     "output_type": "stream",
     "text": [
      "(3*lam) x(3) + (lam) x(0) x(1) + (-2*lam) x(0) x(3) + (-2*lam) x(1) x(3) + x(2) x(3)\n"
     ]
    }
   ],
   "source": [
    "from sympy import Symbol\n",
    "\n",
    "lam = Symbol('lam')\n",
    "qubo = P.to_qubo(lam=lam)\n",
    "print(qubo.pretty_str())"
   ]
  },
  {
   "cell_type": "markdown",
   "metadata": {},
   "source": [
    "Then you can use the `.subs` method as we discussed before to replace the symbol with a number. To use a number right away:"
   ]
  },
  {
   "cell_type": "code",
   "execution_count": 215,
   "metadata": {},
   "outputs": [
    {
     "name": "stdout",
     "output_type": "stream",
     "text": [
      "15 x(3) + 5 x(0) x(1) - 10 x(0) x(3) - 10 x(1) x(3) + x(2) x(3)\n"
     ]
    }
   ],
   "source": [
    "qubo = P.to_qubo(lam=5)\n",
    "print(qubo.pretty_str())"
   ]
  },
  {
   "cell_type": "markdown",
   "metadata": {},
   "source": [
    "The second option is to use a function. This function performs as follows. Assume that you define a function $f:\\mathbb R \\to \\mathbb R$. When qubovert encounters a term like $c x_0 x_1 x_2$ (where $c$ is a coefficient), it will define a new variable $x_3$ to encode the product $x_0x_1$ and turn this term into\n",
    "\n",
    "$$c x_2 x_3 + f(c)\\left(3 x_3 + x_0 x_1 - 2 x_0 x_3 - 2 x_1 x_3\\right).$$\n",
    "\n",
    "By default, qubovert sets $f$ (ie the argument `lam`) as $f(c) = 1+|c|$, but you can change that. For example:"
   ]
  },
  {
   "cell_type": "code",
   "execution_count": 216,
   "metadata": {},
   "outputs": [
    {
     "name": "stdout",
     "output_type": "stream",
     "text": [
      "9 x(3) + 3 x(0) x(1) - 6 x(0) x(3) - 6 x(1) x(3) + x(2) x(3)\n"
     ]
    }
   ],
   "source": [
    "qubo = P.to_qubo(lam=lambda c: 2 + abs(c))\n",
    "print(qubo.pretty_str())"
   ]
  },
  {
   "cell_type": "markdown",
   "metadata": {},
   "source": [
    "Note that in the former case where we set `lam` equal to a number or symbol, qubovert just converts this to the constant function `lambda c: lam`. There is one more gritty detail to know about the degree reduction procedure; the function $f$ will be supplied everytime an ancilla is used, even if it has been used before. Consider the following PUBO,\n",
    "\n",
    "$$P = x_0x_1(a x_2 + b x_3) \\qquad a, b \\in \\mathbb R.$$\n",
    "\n",
    "When we perform a degree reduction on this PUBO and we supply a penalty function $f$ (or just leave it as the default $f(c) = 1 + |c|$), qubovert will recognize that the product $x_0 x_1$ occurs most often, and will therefore introduce the variable $x_4$ to encode the product $x_0 x_1$. Then, since $x_4$ will be used twice, the constraint that $x_4 = x_0x_1$ will be enforce twice. Thus the resulting QUBO will be\n",
    "\n",
    "$$Q = x_4(ax_2 + bx_3) + \\left(f(a) + f(b)\\right)\\left(3 x_4 + x_0 x_1 - 2 x_0 x_4 - 2 x_1 x_4\\right).$$\n",
    "\n",
    "Let's show this example where we set $f(c) = |c|$."
   ]
  },
  {
   "cell_type": "code",
   "execution_count": 217,
   "metadata": {},
   "outputs": [
    {
     "name": "stdout",
     "output_type": "stream",
     "text": [
      "P = (a) x(0) x(1) x(2) + (b) x(0) x(1) x(3)\n",
      "\n",
      "Q = (3*Abs(a) + 3*Abs(b)) x(4) + (Abs(a) + Abs(b)) x(0) x(1) + (-2*Abs(a) - 2*Abs(b)) x(0) x(4) + (-2*Abs(a) - 2*Abs(b)) x(1) x(4) + (a) x(2) x(4) + (b) x(3) x(4)\n"
     ]
    }
   ],
   "source": [
    "x0, x1 = qv.boolean_var(0), qv.boolean_var(1)\n",
    "x2, x3 = qv.boolean_var(2), qv.boolean_var(3)\n",
    "a, b = Symbol('a'), Symbol('b')\n",
    "f = lambda c: abs(c)\n",
    "\n",
    "P = x0 * x1 * (a * x2 + b * x3)\n",
    "P.set_mapping(enumerate(range(4))) # enforce simple integer enumeration for viewing pleasure\n",
    "\n",
    "print(\"P =\", P.pretty_str())\n",
    "print()\n",
    "\n",
    "Q = P.to_qubo(lam=f)\n",
    "print(\"Q =\", Q.pretty_str())"
   ]
  },
  {
   "cell_type": "markdown",
   "metadata": {},
   "source": [
    "Let's see if this matches what we thought it would be."
   ]
  },
  {
   "cell_type": "code",
   "execution_count": 218,
   "metadata": {},
   "outputs": [
    {
     "name": "stdout",
     "output_type": "stream",
     "text": [
      "True\n"
     ]
    }
   ],
   "source": [
    "x4 = qv.boolean_var(4)\n",
    "\n",
    "what_we_thought = (\n",
    "    x4 * (a*x2 + b*x3) + \n",
    "    (f(a) + f(b)) * qv.PCBO().add_constraint_eq_AND(x4, x0, x1)\n",
    ")\n",
    "print(what_we_thought == Q)"
   ]
  },
  {
   "cell_type": "markdown",
   "metadata": {},
   "source": [
    "Okay I'm not sure if all that detail is necessary to put here, but it's here now so hopefully it's useful. As always, all of this info is the docstrings."
   ]
  },
  {
   "cell_type": "markdown",
   "metadata": {},
   "source": [
    "## Tip #7: manually choosing pairs for degree reduction\n",
    "\n",
    "When performing the degree reduction from, say, a PUBO to QUBO, qubovert tries to find the pairs of variables that occur together the most and then define ancillas that are then enforced to be equal to the product of each pair. This was discussed earlier in this notebook. However, finding the *optimal* variables to pair together is in general a NP-Hard problem (because it can be reduced to a Vertex Cover problem). Therefore, qubovert's method will not always do as well as we can do. Though it usually does pretty well, let me show you an example of where we can actually do better than qubovert. Consider the function\n",
    "$$P = \\left(\\sum_{i=0}^8 x_i \\bar x_{i+1} + x_9\\right)^2.$$"
   ]
  },
  {
   "cell_type": "code",
   "execution_count": 219,
   "metadata": {},
   "outputs": [
    {
     "data": {
      "text/plain": [
       "4"
      ]
     },
     "execution_count": 219,
     "metadata": {},
     "output_type": "execute_result"
    }
   ],
   "source": [
    "xs = [qv.boolean_var('x%d' % i) for i in range(10)]\n",
    "P = sum(xs[i] * qv.sat.NOT(xs[i+1]) for i in range(9)) + xs[9]\n",
    "P **= 2\n",
    "P.degree"
   ]
  },
  {
   "cell_type": "markdown",
   "metadata": {},
   "source": [
    "Let's say we now reduce this to a QUBO and check how many extra variables it introduces to achieve the degree reduction."
   ]
  },
  {
   "cell_type": "code",
   "execution_count": 220,
   "metadata": {},
   "outputs": [
    {
     "data": {
      "text/plain": [
       "14"
      ]
     },
     "execution_count": 220,
     "metadata": {},
     "output_type": "execute_result"
    }
   ],
   "source": [
    "P.to_qubo().num_binary_variables - P.num_binary_variables"
   ]
  },
  {
   "cell_type": "markdown",
   "metadata": {},
   "source": [
    "You may be able to already tell a better way to choose the pairs, namely nearest neighbors! Let's see how many extra variables are added in the degree reduction if we tell qubovert to look for pairs of variables that are nearest neighbors."
   ]
  },
  {
   "cell_type": "code",
   "execution_count": 221,
   "metadata": {},
   "outputs": [
    {
     "data": {
      "text/plain": [
       "9"
      ]
     },
     "execution_count": 221,
     "metadata": {},
     "output_type": "execute_result"
    }
   ],
   "source": [
    "pairs = {(xs[i].name, xs[i+1].name) for i in range(9)}\n",
    "P.to_qubo(pairs=pairs).num_binary_variables - P.num_binary_variables"
   ]
  },
  {
   "cell_type": "markdown",
   "metadata": {},
   "source": [
    "That's five less. This example illistrates that qubovert's degree reduction is not necessarily optimal! So if you are able to figure out a better way of selecting pairs for the degree reduction then you should supply those pairs to the `.to_` methods."
   ]
  },
  {
   "cell_type": "markdown",
   "metadata": {},
   "source": [
    "## Tip #8: bruteforce solver options\n",
    "\n",
    "As is almost always the case throughout all of qubovert, most of the functions in the `qubovert.utils` library will work with generic Python dictionaries and with qubovert objects. But for convenience, you can access the utilities as methods for Python objects. So for example, let's say you have some generic spin function\n",
    "$$S = \\sum_{i=0}^8 z_iz_{i+1} \\qquad z_i \\in \\{1, -1 \\}.$$"
   ]
  },
  {
   "cell_type": "code",
   "execution_count": 222,
   "metadata": {},
   "outputs": [
    {
     "name": "stdout",
     "output_type": "stream",
     "text": [
      "{(0, 1): 1, (1, 2): 1, (2, 3): 1, (3, 4): 1, (4, 5): 1, (5, 6): 1, (6, 7): 1, (7, 8): 1, (8, 9): 1}\n",
      "\n",
      "z(0) z(1) + z(1) z(2) + z(2) z(3) + z(3) z(4) + z(4) z(5) + z(5) z(6) + z(6) z(7) + z(7) z(8) + z(8) z(9)\n"
     ]
    }
   ],
   "source": [
    "z = [qv.spin_var(i) for i in range(10)]\n",
    "S = sum(z[i] * z[i+1] for i in range(9))\n",
    "print(S)\n",
    "print()\n",
    "print(S.pretty_str())"
   ]
  },
  {
   "cell_type": "markdown",
   "metadata": {},
   "source": [
    "We know that `S` is a `qubovert.PCSO` object. But just to demonstrate that the bruteforce utility will work with generic dictionaries, let's convert it to a plain `dict`."
   ]
  },
  {
   "cell_type": "code",
   "execution_count": 223,
   "metadata": {},
   "outputs": [
    {
     "name": "stdout",
     "output_type": "stream",
     "text": [
      "{(0, 1): 1, (1, 2): 1, (2, 3): 1, (3, 4): 1, (4, 5): 1, (5, 6): 1, (6, 7): 1, (7, 8): 1, (8, 9): 1}\n"
     ]
    }
   ],
   "source": [
    "S_dict = dict(S)\n",
    "print(S_dict)"
   ]
  },
  {
   "cell_type": "markdown",
   "metadata": {},
   "source": [
    "With the plain dictionary, we can solve this QUSO or PUSO (it is both of these) with the `solve_quso_bruteforce` or `solve_puso_bruteforce` functions."
   ]
  },
  {
   "cell_type": "code",
   "execution_count": 224,
   "metadata": {},
   "outputs": [
    {
     "name": "stdout",
     "output_type": "stream",
     "text": [
      "value :  -9\n",
      "state :  {0: 1, 1: -1, 2: 1, 3: -1, 4: 1, 5: -1, 6: 1, 7: -1, 8: 1, 9: -1}\n"
     ]
    }
   ],
   "source": [
    "value, state = qv.utils.solve_puso_bruteforce(S_dict)\n",
    "print(\"value : \", value)\n",
    "print(\"state : \", state)"
   ]
  },
  {
   "cell_type": "markdown",
   "metadata": {},
   "source": [
    "Solve bruteforce minimizes the function. Now we can do a very similar thing with `S`, the PCSO object, by using the `.solve_bruteforce` method. Of course we could also use the utility function, but this may be cleaner."
   ]
  },
  {
   "cell_type": "code",
   "execution_count": 225,
   "metadata": {},
   "outputs": [
    {
     "name": "stdout",
     "output_type": "stream",
     "text": [
      "value :  -9\n",
      "state :  {0: 1, 1: -1, 2: 1, 3: -1, 4: 1, 5: -1, 6: 1, 7: -1, 8: 1, 9: -1}\n"
     ]
    }
   ],
   "source": [
    "state = S.solve_bruteforce()\n",
    "print(\"value : \", S.value(state))\n",
    "print(\"state : \", state)"
   ]
  },
  {
   "cell_type": "markdown",
   "metadata": {},
   "source": [
    "If you're looking carefully, you'll notice that the solution to $S$ is degenerate. So let's see how we can get all the solutions that give the same minimum value."
   ]
  },
  {
   "cell_type": "code",
   "execution_count": 226,
   "metadata": {},
   "outputs": [
    {
     "name": "stdout",
     "output_type": "stream",
     "text": [
      "value  :  -9\n",
      "states : \n",
      "    {0: 1, 1: -1, 2: 1, 3: -1, 4: 1, 5: -1, 6: 1, 7: -1, 8: 1, 9: -1}\n",
      "    {0: -1, 1: 1, 2: -1, 3: 1, 4: -1, 5: 1, 6: -1, 7: 1, 8: -1, 9: 1}\n"
     ]
    }
   ],
   "source": [
    "value, states = qv.utils.solve_puso_bruteforce(S_dict, all_solutions=True)\n",
    "print(\"value  : \", value)\n",
    "print(\"states : \")\n",
    "for state in states:\n",
    "    print(\"   \", state)"
   ]
  },
  {
   "cell_type": "markdown",
   "metadata": {},
   "source": [
    "Now let's do the same thing with the method."
   ]
  },
  {
   "cell_type": "code",
   "execution_count": 227,
   "metadata": {},
   "outputs": [
    {
     "name": "stdout",
     "output_type": "stream",
     "text": [
      "value  :  -9\n",
      "states : \n",
      "    {0: 1, 1: -1, 2: 1, 3: -1, 4: 1, 5: -1, 6: 1, 7: -1, 8: 1, 9: -1}\n",
      "    {0: -1, 1: 1, 2: -1, 3: 1, 4: -1, 5: 1, 6: -1, 7: 1, 8: -1, 9: 1}\n"
     ]
    }
   ],
   "source": [
    "states = S.solve_bruteforce(all_solutions=True)\n",
    "print(\"value  : \", S.value(states[0]))\n",
    "print(\"states : \")\n",
    "for state in states:\n",
    "    print(\"   \", state)"
   ]
  },
  {
   "cell_type": "markdown",
   "metadata": {},
   "source": [
    "Okay finally let's provide constraints. Let's say that we only consider solutions valid if spin 0 and spin 1 are the same sign."
   ]
  },
  {
   "cell_type": "code",
   "execution_count": 228,
   "metadata": {},
   "outputs": [
    {
     "name": "stdout",
     "output_type": "stream",
     "text": [
      "value  :  -7\n",
      "states : \n",
      "    {0: 1, 1: 1, 2: -1, 3: 1, 4: -1, 5: 1, 6: -1, 7: 1, 8: -1, 9: 1}\n",
      "    {0: -1, 1: -1, 2: 1, 3: -1, 4: 1, 5: -1, 6: 1, 7: -1, 8: 1, 9: -1}\n"
     ]
    }
   ],
   "source": [
    "value, states = qv.utils.solve_puso_bruteforce(\n",
    "    S_dict, all_solutions=True,\n",
    "    valid=lambda s: s[0] == s[1]\n",
    ")\n",
    "print(\"value  : \", value)\n",
    "print(\"states : \")\n",
    "for state in states:\n",
    "    print(\"   \", state)"
   ]
  },
  {
   "cell_type": "markdown",
   "metadata": {},
   "source": [
    "Notice however that *we cannot do the same thing with the method*."
   ]
  },
  {
   "cell_type": "code",
   "execution_count": 229,
   "metadata": {},
   "outputs": [
    {
     "name": "stdout",
     "output_type": "stream",
     "text": [
      "TypeError: solve_bruteforce() got an unexpected keyword argument 'valid'\n"
     ]
    }
   ],
   "source": [
    "try:\n",
    "    states = S.solve_bruteforce(\n",
    "        all_solutions=True,\n",
    "        valid=lambda s: s[0] == s[1]\n",
    "    )\n",
    "except TypeError as e:\n",
    "    print(\"TypeError:\", e)"
   ]
  },
  {
   "cell_type": "markdown",
   "metadata": {},
   "source": [
    "This is because `S` is a qubovert object and thus has an `.is_solution_valid` method. Since in this case `S` is a `PCSO`object, the `.is_solution_valid` method will check to make sure all of the inputted constraints are satisfed. When you call `.solve_bruteforce` it actually calls `qv.utils.solve_puso_bruteforce` and automatically suppiles the `valid` argument to be `S.is_solution_valid`. Thus if you want `.solve_bruteforce` to ensure that a constraint is satisfied, you need to add the constraint to the `PCSO` object. Even if you were to, for example, enforce the constraint with a penalty factor $\\lambda = 0$, the `.solve_bruteforce` method will still ensure that the constraint is satisfied."
   ]
  },
  {
   "cell_type": "code",
   "execution_count": 230,
   "metadata": {},
   "outputs": [
    {
     "name": "stdout",
     "output_type": "stream",
     "text": [
      "{(0, 1): 1, (1, 2): 1, (2, 3): 1, (3, 4): 1, (4, 5): 1, (5, 6): 1, (6, 7): 1, (7, 8): 1, (8, 9): 1}\n",
      "\n",
      "value  :  -7\n",
      "states : \n",
      "    {0: 1, 1: 1, 2: -1, 3: 1, 4: -1, 5: 1, 6: -1, 7: 1, 8: -1, 9: 1}\n",
      "    {0: -1, 1: -1, 2: 1, 3: -1, 4: 1, 5: -1, 6: 1, 7: -1, 8: 1, 9: -1}\n"
     ]
    }
   ],
   "source": [
    "S.add_constraint_eq_zero(z[0] - z[1], lam=0)\n",
    "print(S)\n",
    "print()\n",
    "states = S.solve_bruteforce(all_solutions=True)\n",
    "print(\"value  : \", S.value(states[0]))\n",
    "print(\"states : \")\n",
    "for state in states:\n",
    "    print(\"   \", state)"
   ]
  },
  {
   "cell_type": "markdown",
   "metadata": {},
   "source": [
    "Notice that since we set `lam=0` the actual function is not changed! But the internal constraints are updated and thus `.solve_bruteforcd` will satisfy them."
   ]
  },
  {
   "cell_type": "code",
   "execution_count": 231,
   "metadata": {},
   "outputs": [
    {
     "data": {
      "text/plain": [
       "{'eq': [{(0,): 1, (1,): -1}]}"
      ]
     },
     "execution_count": 231,
     "metadata": {},
     "output_type": "execute_result"
    }
   ],
   "source": [
    "S.constraints"
   ]
  },
  {
   "cell_type": "markdown",
   "metadata": {},
   "source": [
    "## Tip #9: normalizing problems\n",
    "\n",
    "Often times when working with boolean or spin functions, you may want to normalize the coefficients so they lie within some range. This is especially true when you're working with D-Wave and you are using their embedder to embed QUBO or Ising problems onto their hardware graph. If you just have a plan old `dict`, then you can use the `normalize` utility function."
   ]
  },
  {
   "cell_type": "code",
   "execution_count": 232,
   "metadata": {},
   "outputs": [
    {
     "name": "stdout",
     "output_type": "stream",
     "text": [
      "{(0, 0): 0.0, (0, 1): 0.0, (0, 2): 0.0, (0, 3): 0.0, (0, 4): 0.0, (1, 0): 0.0, (1, 1): 0.0625, (1, 2): 0.125, (1, 3): 0.1875, (1, 4): 0.25, (2, 0): 0.0, (2, 1): 0.125, (2, 2): 0.25, (2, 3): 0.375, (2, 4): 0.5, (3, 0): 0.0, (3, 1): 0.1875, (3, 2): 0.375, (3, 3): 0.5625, (3, 4): 0.75, (4, 0): 0.0, (4, 1): 0.25, (4, 2): 0.5, (4, 3): 0.75, (4, 4): 1.0}\n"
     ]
    }
   ],
   "source": [
    "function = {(i, j): i * j for i in range(5) for j in range(5)}\n",
    "print(qv.utils.normalize(function))"
   ]
  },
  {
   "cell_type": "markdown",
   "metadata": {},
   "source": [
    "This will make it so that the coefficients of the function lie within $[-1, 1]$. If you'd rather them lie within $[-2, 2]$, then you can supply an additional argument."
   ]
  },
  {
   "cell_type": "code",
   "execution_count": 233,
   "metadata": {},
   "outputs": [
    {
     "name": "stdout",
     "output_type": "stream",
     "text": [
      "{(0, 0): 0.0, (0, 1): 0.0, (0, 2): 0.0, (0, 3): 0.0, (0, 4): 0.0, (1, 0): 0.0, (1, 1): 0.125, (1, 2): 0.25, (1, 3): 0.375, (1, 4): 0.5, (2, 0): 0.0, (2, 1): 0.25, (2, 2): 0.5, (2, 3): 0.75, (2, 4): 1.0, (3, 0): 0.0, (3, 1): 0.375, (3, 2): 0.75, (3, 3): 1.125, (3, 4): 1.5, (4, 0): 0.0, (4, 1): 0.5, (4, 2): 1.0, (4, 3): 1.5, (4, 4): 2.0}\n"
     ]
    }
   ],
   "source": [
    "print(qv.utils.normalize(function, 2))"
   ]
  },
  {
   "cell_type": "markdown",
   "metadata": {},
   "source": [
    "If you have a qubovert type, such as a `qv.QUBO` object, then you can use the `normalize` utility function if you want. Or if you want to update your object in-place, you can use the `.normalize` method."
   ]
  },
  {
   "cell_type": "code",
   "execution_count": 234,
   "metadata": {},
   "outputs": [
    {
     "name": "stdout",
     "output_type": "stream",
     "text": [
      "{(1,): 0.041666666666666664, (1, 2): 0.16666666666666666, (1, 3): 0.25, (1, 4): 0.3333333333333333, (2,): 0.16666666666666666, (2, 3): 0.5, (2, 4): 0.6666666666666666, (3,): 0.375, (3, 4): 1.0, (4,): 0.6666666666666666}\n"
     ]
    }
   ],
   "source": [
    "qubo = qv.QUBO(function)\n",
    "qubo.normalize()\n",
    "print(qubo)"
   ]
  },
  {
   "cell_type": "markdown",
   "metadata": {},
   "source": [
    "Again, if you wanted instead for the coefficients to lie with say $[-5.5, 5.5]$, then you can do the following."
   ]
  },
  {
   "cell_type": "code",
   "execution_count": 235,
   "metadata": {},
   "outputs": [
    {
     "name": "stdout",
     "output_type": "stream",
     "text": [
      "{(1,): 0.22916666666666666, (1, 2): 0.9166666666666666, (1, 3): 1.375, (1, 4): 1.8333333333333333, (2,): 0.9166666666666666, (2, 3): 2.75, (2, 4): 3.6666666666666665, (3,): 2.0625, (3, 4): 5.5, (4,): 3.6666666666666665}\n"
     ]
    }
   ],
   "source": [
    "qubo.normalize(5.5)\n",
    "print(qubo)"
   ]
  },
  {
   "cell_type": "markdown",
   "metadata": {},
   "source": [
    "You can see that with the normalization you may want to round the coefficients."
   ]
  },
  {
   "cell_type": "code",
   "execution_count": 236,
   "metadata": {},
   "outputs": [
    {
     "name": "stdout",
     "output_type": "stream",
     "text": [
      "{(1,): 0.23, (1, 2): 0.92, (1, 3): 1.38, (1, 4): 1.83, (2,): 0.92, (2, 3): 2.75, (2, 4): 3.67, (3,): 2.06, (3, 4): 5.5, (4,): 3.67}\n"
     ]
    }
   ],
   "source": [
    "print(round(qubo, 2))"
   ]
  },
  {
   "cell_type": "markdown",
   "metadata": {},
   "source": [
    "## Tip #10: getting subvalues\n",
    "\n",
    "Consider that you have the function\n",
    "$$d(x_0, x_1, x_2, x_3, a, b) = x_0x_1 - 3x_0x_2x_3 + 5 + a b x_0 - a + 4b.$$"
   ]
  },
  {
   "cell_type": "code",
   "execution_count": 237,
   "metadata": {},
   "outputs": [],
   "source": [
    "d = {\n",
    "    (0, 1): 1, (0, 2, 3): -3, (): 5,\n",
    "    ('a', 'b', 0): 4, ('a',): -1, ('b',): 4\n",
    "}"
   ]
  },
  {
   "cell_type": "markdown",
   "metadata": {},
   "source": [
    "Let's say that we want to set $x_0 = 1$, $b = 0$, and $x_2 = -2$. The resulting function then is\n",
    "\n",
    "$$d'(x_1, x_3, a) = d(1, x_1, -2, x_3, a, 0) = x_1 + 6x_3 + 5 -a.$$\n",
    "\n",
    "We can get $d'$ with the `subvalue` function."
   ]
  },
  {
   "cell_type": "code",
   "execution_count": 238,
   "metadata": {},
   "outputs": [
    {
     "name": "stdout",
     "output_type": "stream",
     "text": [
      "{(1,): 1, (3,): 6, (): 5.0, ('a',): -1.0}\n"
     ]
    }
   ],
   "source": [
    "values = {0: 1, 'b': 0, 2: -2}\n",
    "d_prime = qv.utils.subvalue(values, d)\n",
    "print(d_prime)"
   ]
  },
  {
   "cell_type": "markdown",
   "metadata": {},
   "source": [
    "Notice that the `subvalue` function will work with `dict`s, and it will also work with all qubovert objects because they are just subclasses of `dict`s! But when you have a qubovert object, you can instead just use the `.subvalue` method. For example, cosider that $d$ is a PUBO."
   ]
  },
  {
   "cell_type": "code",
   "execution_count": 239,
   "metadata": {},
   "outputs": [
    {
     "name": "stdout",
     "output_type": "stream",
     "text": [
      "{(0, 1): 1, (0, 2, 3): -3, (): 5, ('b', 0, 'a'): 4, ('a',): -1, ('b',): 4}\n"
     ]
    }
   ],
   "source": [
    "d_pubo = qv.PUBO(d)\n",
    "print(d_pubo)"
   ]
  },
  {
   "cell_type": "markdown",
   "metadata": {},
   "source": [
    "We can get the PUBO object representing $d'$ with the following."
   ]
  },
  {
   "cell_type": "code",
   "execution_count": 240,
   "metadata": {},
   "outputs": [
    {
     "name": "stdout",
     "output_type": "stream",
     "text": [
      "{(1,): 1, (3,): 6, (): 5.0, ('a',): -1.0}\n"
     ]
    }
   ],
   "source": [
    "d_pubo_prime = d_pubo.subvalue(values)\n",
    "print(d_pubo_prime)"
   ]
  },
  {
   "cell_type": "markdown",
   "metadata": {},
   "source": [
    "Notice that the `PUBO.subvalue` method will allow you to supply values that are not boolean! Similarly, the `PUSO.subvalue` method will allow you to supply values that are not spins. Use your discretion when using this method in terms of what values you provide.\n",
    "\n",
    "Let me show a simple example of using the `subvalue`. Let's consider the 3SAT problem\n",
    "\n",
    "$$(x_0 \\lor x_1 \\lor \\bar x_3) \\land (x_0 \\lor \\bar x_2 \\lor x_3) \\land (\\bar x_0 \\lor \\bar x_1 \\lor x_3).$$\n",
    "\n",
    "We'll create a PUBO object prepresenting it. Notice that we make the expression negative. This is because qubovert considers solving a problem to be minimizing it. But the 3SAT problem is solved if it is equal to 1, and not satisfied if it is equal to 0. Thus we negate the whole expression."
   ]
  },
  {
   "cell_type": "code",
   "execution_count": 241,
   "metadata": {},
   "outputs": [],
   "source": [
    "P = -qv.sat.AND(\n",
    "    qv.sat.OR(0, 1, qv.sat.NOT(3)),\n",
    "    qv.sat.OR(0, qv.sat.NOT(2), 3),\n",
    "    qv.sat.OR(qv.sat.NOT(0), qv.sat.NOT(1), 3)\n",
    ")"
   ]
  },
  {
   "cell_type": "markdown",
   "metadata": {},
   "source": [
    "Let's iterate through the two possible values for $x_0$, and then solve the resulting problem. I don't really know why you'd want to do that, but it's just an example of usage."
   ]
  },
  {
   "cell_type": "code",
   "execution_count": 242,
   "metadata": {},
   "outputs": [
    {
     "name": "stdout",
     "output_type": "stream",
     "text": [
      "If x0 = 0 then:\n",
      "    {1: 0, 3: 0, 2: 0} satisfies\n",
      "    {1: 1, 3: 0, 2: 0} satisfies\n",
      "    {1: 1, 3: 1, 2: 0} satisfies\n",
      "    {1: 1, 3: 1, 2: 1} satisfies\n",
      "If x0 = 1 then:\n",
      "    {3: 0, 1: 0, 2: 1} satisfies\n",
      "    {3: 1, 1: 0, 2: 0} satisfies\n",
      "    {3: 1, 1: 0, 2: 1} satisfies\n",
      "    {3: 1, 1: 1, 2: 0} satisfies\n",
      "    {3: 1, 1: 1, 2: 1} satisfies\n"
     ]
    }
   ],
   "source": [
    "for v in (0, 1):\n",
    "    sols = P.subvalue({0: v}).solve_bruteforce(True)\n",
    "    print(\"If x0 =\", v, \"then:\")\n",
    "    for sol in sols:\n",
    "        print(\"   \", sol, \"satisfies\")"
   ]
  },
  {
   "cell_type": "markdown",
   "metadata": {},
   "source": [
    "Note that that this example is not particularly useful, but you could imagine doing a similar process with a decomposition solver.\n",
    "\n",
    "**In summary**, the `subvalue` function and `.subvalue` method are used to supply values for any of the variables of a model, and they will output the resulting model. This differs from the `pubo_value`, `puso_value`, etc functions and the `.value` method because these require you to supply values for *all* of the variables and will thus return a number, whereas the `subvalue` functionality allows you to supply values for any number of the variables and will output an object representing the resulting model."
   ]
  },
  {
   "cell_type": "markdown",
   "metadata": {},
   "source": [
    "## Tip #11: getting subgraphs\n",
    "\n",
    "Let's consider that we have the same function as above,\n",
    "\n",
    "$$d(x_0, x_1, x_2, x_3, a, b) = x_0x_1 - 3x_0x_2x_3 + 5 + a b x_0 - a + 4b.$$"
   ]
  },
  {
   "cell_type": "code",
   "execution_count": 243,
   "metadata": {},
   "outputs": [],
   "source": [
    "d = {\n",
    "    (0, 1): 1, (0, 2, 3): -3, (): 5,\n",
    "    ('a', 'b', 0): 4, ('a',): -1, ('b',): 4\n",
    "}"
   ]
  },
  {
   "cell_type": "markdown",
   "metadata": {},
   "source": [
    "Now what if want the same function but that only includes the variables $x_0, a, b$ with all other variables set to $0$."
   ]
  },
  {
   "cell_type": "code",
   "execution_count": 244,
   "metadata": {},
   "outputs": [
    {
     "name": "stdout",
     "output_type": "stream",
     "text": [
      "{('a', 'b', 0): 4.0, ('a',): -1.0, ('b',): 4.0}\n"
     ]
    }
   ],
   "source": [
    "include = {0, 'a', 'b'}\n",
    "print(qv.utils.subgraph(d, include))"
   ]
  },
  {
   "cell_type": "markdown",
   "metadata": {},
   "source": [
    "The difference between `subvalue` and `subgraph` is basically that with `subvalue` we were saying \"replace these variables with these values\", whereas with `subgraph` we are saying \"only include these variables\". The input into `subgraph` tells what variables we care about, and note that constant terms that are input are always ignored.\n",
    "\n",
    "If we wanted to do the same thing, ie only include the variables $x_0, a, b$, but this time set the other variables to 1, then we can use the `connection` optional argument."
   ]
  },
  {
   "cell_type": "code",
   "execution_count": 245,
   "metadata": {},
   "outputs": [
    {
     "name": "stdout",
     "output_type": "stream",
     "text": [
      "{(0,): -2, ('a', 'b', 0): 4.0, ('a',): -1.0, ('b',): 4.0}\n"
     ]
    }
   ],
   "source": [
    "connections = {1: 1, 2: 1, 3: 1}\n",
    "print(qv.utils.subgraph(d, include, connections))"
   ]
  },
  {
   "cell_type": "markdown",
   "metadata": {},
   "source": [
    "Now let's consider if we convert it to a PUBO and use the `.subgraph` method."
   ]
  },
  {
   "cell_type": "code",
   "execution_count": 246,
   "metadata": {},
   "outputs": [
    {
     "name": "stdout",
     "output_type": "stream",
     "text": [
      "{('b', 0, 'a'): 4.0, ('a',): -1.0, ('b',): 4.0}\n"
     ]
    }
   ],
   "source": [
    "d_pubo = qv.PUBO(d)\n",
    "print(d_pubo.subgraph(include))"
   ]
  },
  {
   "cell_type": "code",
   "execution_count": 247,
   "metadata": {},
   "outputs": [
    {
     "name": "stdout",
     "output_type": "stream",
     "text": [
      "{(0,): -2, ('b', 0, 'a'): 4.0, ('a',): -1.0, ('b',): 4.0}\n"
     ]
    }
   ],
   "source": [
    "print(d_pubo.subgraph(include, connections))"
   ]
  },
  {
   "cell_type": "markdown",
   "metadata": {},
   "source": [
    "The `subgraph` and `subvalue` function and methods are obviously very closely related. I would recommend mostly just sticking with the `subvalue` function."
   ]
  },
  {
   "cell_type": "markdown",
   "metadata": {},
   "source": [
    "## Tip #12: using the AnnealResults object\n",
    "\n",
    "I haven't gone over anything more than basic annealing functionality, and I won't go over it in this tutorial. Please see the [annealing notebook](https://github.com/jtiosue/qubovert/blob/master/notebook_examples/Annealing.ipynb) for more advanced usage. In this section, I will show some convenient features that the `AnnealResults` object has. To start off, let's look at its MRO."
   ]
  },
  {
   "cell_type": "code",
   "execution_count": 248,
   "metadata": {},
   "outputs": [
    {
     "data": {
      "text/plain": [
       "[qubovert.sim._anneal_results.AnnealResults, list, object]"
      ]
     },
     "execution_count": 248,
     "metadata": {},
     "output_type": "execute_result"
    }
   ],
   "source": [
    "qv.sim.AnnealResults.mro()"
   ]
  },
  {
   "cell_type": "markdown",
   "metadata": {},
   "source": [
    "You can see that it is a direct descendent of Python's builtin `list` object, and indeed you can do almost all the same operations with an `AnnealResults` object that you can with a `list`. Let's begin by creating two `AnnealResults` objects by simply getting the output of an anneal. We don't really care what the model is so we'll just create some arbitrary edge set and create a Vertex Cover instance. I will seed random so that this notebook is reproducible."
   ]
  },
  {
   "cell_type": "code",
   "execution_count": 249,
   "metadata": {},
   "outputs": [],
   "source": [
    "import random\n",
    "random.seed(123)\n",
    "\n",
    "edges = {\n",
    "    (i, j) \n",
    "    for i in range(10) for j in range(i+1, 10)\n",
    "    if random.random() < .5\n",
    "}\n",
    "problem = qv.problems.VertexCover(edges)"
   ]
  },
  {
   "cell_type": "markdown",
   "metadata": {},
   "source": [
    "Okay cool now we have an arbitrary problem in hand. Let's use `anneal_quso` and `anneal_qubo` on the respective QUSO and QUBO. I will seed the simulated annealer so that this notebook is reproducible. I will also make the anneal duration absurdly short because for this example I don't want the simulated annealer to get the answer right every time!"
   ]
  },
  {
   "cell_type": "code",
   "execution_count": 250,
   "metadata": {},
   "outputs": [
    {
     "name": "stdout",
     "output_type": "stream",
     "text": [
      "5 5\n"
     ]
    }
   ],
   "source": [
    "quso_res = qv.sim.anneal_quso(problem.to_quso(), num_anneals=5, anneal_duration=2, seed=4)\n",
    "qubo_res = qv.sim.anneal_qubo(problem.to_qubo(), num_anneals=5, anneal_duration=2, seed=13)\n",
    "\n",
    "print(len(quso_res), len(qubo_res))"
   ]
  },
  {
   "cell_type": "markdown",
   "metadata": {},
   "source": [
    "Let's look at the best sample from both of these."
   ]
  },
  {
   "cell_type": "code",
   "execution_count": 251,
   "metadata": {},
   "outputs": [
    {
     "name": "stdout",
     "output_type": "stream",
     "text": [
      "Best quso result:\n",
      "  state: {0: -1, 1: -1, 2: -1, 3: 1, 4: -1, 5: 1, 6: 1, 7: -1, 8: -1, 9: 1}\n",
      "  value: 6\n",
      "   spin: True\n",
      "\n",
      "Best qubo result:\n",
      "  state: {0: 1, 1: 1, 2: 1, 3: 1, 4: 1, 5: 1, 6: 0, 7: 0, 8: 1, 9: 0}\n",
      "  value: 7\n",
      "   spin: False\n"
     ]
    }
   ],
   "source": [
    "print(\"Best quso result:\")\n",
    "print(quso_res.best)\n",
    "print()\n",
    "print(\"Best qubo result:\")\n",
    "print(qubo_res.best)"
   ]
  },
  {
   "cell_type": "markdown",
   "metadata": {},
   "source": [
    "Well it's kind of annoying that we are keeping track of two results right? So let's add them together. But we shouldn't deal with one of the being boolean and one of the spin, so let's convert the `quso_res` to boolean, and then add it to `qubo_res`."
   ]
  },
  {
   "cell_type": "code",
   "execution_count": 252,
   "metadata": {},
   "outputs": [
    {
     "name": "stdout",
     "output_type": "stream",
     "text": [
      "10\n"
     ]
    }
   ],
   "source": [
    "combined_res = qubo_res + quso_res.to_boolean()\n",
    "print(len(combined_res))"
   ]
  },
  {
   "cell_type": "markdown",
   "metadata": {},
   "source": [
    "Alright cool now we have everything in one place. Let's just print out the whole combined result."
   ]
  },
  {
   "cell_type": "code",
   "execution_count": 253,
   "metadata": {},
   "outputs": [
    {
     "name": "stdout",
     "output_type": "stream",
     "text": [
      "AnnealResults\n",
      "\n",
      "  state: {0: 1, 1: 1, 2: 1, 3: 1, 4: 1, 5: 1, 6: 0, 7: 0, 8: 1, 9: 0}\n",
      "  value: 7\n",
      "   spin: False\n",
      "\n",
      "  state: {0: 1, 1: 1, 2: 1, 3: 1, 4: 1, 5: 1, 6: 0, 7: 0, 8: 0, 9: 1}\n",
      "  value: 7\n",
      "   spin: False\n",
      "\n",
      "  state: {0: 1, 1: 1, 2: 1, 3: 1, 4: 1, 5: 1, 6: 0, 7: 0, 8: 1, 9: 0}\n",
      "  value: 7\n",
      "   spin: False\n",
      "\n",
      "  state: {0: 1, 1: 1, 2: 1, 3: 1, 4: 0, 5: 1, 6: 0, 7: 1, 8: 1, 9: 0}\n",
      "  value: 7\n",
      "   spin: False\n",
      "\n",
      "  state: {0: 1, 1: 1, 2: 1, 3: 1, 4: 0, 5: 1, 6: 0, 7: 1, 8: 1, 9: 0}\n",
      "  value: 7\n",
      "   spin: False\n",
      "\n",
      "  state: {0: 1, 1: 1, 2: 1, 3: 0, 4: 0, 5: 1, 6: 0, 7: 1, 8: 1, 9: 0}\n",
      "  value: 8\n",
      "   spin: False\n",
      "\n",
      "  state: {0: 1, 1: 1, 2: 1, 3: 0, 4: 1, 5: 0, 6: 0, 7: 1, 8: 1, 9: 0}\n",
      "  value: 6\n",
      "   spin: False\n",
      "\n",
      "  state: {0: 1, 1: 1, 2: 1, 3: 1, 4: 0, 5: 1, 6: 0, 7: 1, 8: 1, 9: 0}\n",
      "  value: 7\n",
      "   spin: False\n",
      "\n",
      "  state: {0: 1, 1: 1, 2: 1, 3: 1, 4: 1, 5: 1, 6: 0, 7: 0, 8: 0, 9: 1}\n",
      "  value: 7\n",
      "   spin: False\n",
      "\n",
      "  state: {0: 1, 1: 1, 2: 1, 3: 1, 4: 0, 5: 1, 6: 0, 7: 1, 8: 0, 9: 1}\n",
      "  value: 7\n",
      "   spin: False\n"
     ]
    }
   ],
   "source": [
    "print(combined_res)"
   ]
  },
  {
   "cell_type": "markdown",
   "metadata": {},
   "source": [
    "Notice that it is not in order of increasing values! If you want it to be, you can call the `.sort` method."
   ]
  },
  {
   "cell_type": "code",
   "execution_count": 254,
   "metadata": {},
   "outputs": [],
   "source": [
    "combined_res.sort()"
   ]
  },
  {
   "cell_type": "markdown",
   "metadata": {},
   "source": [
    "Now if you iterate through it, you will iterate from best to worst solution. Okay so now each sample in the combined result has a state that represents the Vertex Cover somehow. Exactly how it is represented can be seen with the `problem.convert_solution` method. So let's go through and apply that method to every state in the result."
   ]
  },
  {
   "cell_type": "code",
   "execution_count": 255,
   "metadata": {},
   "outputs": [
    {
     "name": "stdout",
     "output_type": "stream",
     "text": [
      "AnnealResults\n",
      "\n",
      "  state: {0, 1, 2, 4, 7, 8}\n",
      "  value: 6\n",
      "   spin: False\n",
      "\n",
      "  state: {0, 1, 2, 3, 4, 5, 8}\n",
      "  value: 7\n",
      "   spin: False\n",
      "\n",
      "  state: {0, 1, 2, 3, 4, 5, 9}\n",
      "  value: 7\n",
      "   spin: False\n",
      "\n",
      "  state: {0, 1, 2, 3, 4, 5, 8}\n",
      "  value: 7\n",
      "   spin: False\n",
      "\n",
      "  state: {0, 1, 2, 3, 5, 7, 8}\n",
      "  value: 7\n",
      "   spin: False\n",
      "\n",
      "  state: {0, 1, 2, 3, 5, 7, 8}\n",
      "  value: 7\n",
      "   spin: False\n",
      "\n",
      "  state: {0, 1, 2, 3, 5, 7, 8}\n",
      "  value: 7\n",
      "   spin: False\n",
      "\n",
      "  state: {0, 1, 2, 3, 4, 5, 9}\n",
      "  value: 7\n",
      "   spin: False\n",
      "\n",
      "  state: {0, 1, 2, 3, 5, 7, 9}\n",
      "  value: 7\n",
      "   spin: False\n",
      "\n",
      "  state: {0, 1, 2, 5, 7, 8}\n",
      "  value: 8\n",
      "   spin: False\n"
     ]
    }
   ],
   "source": [
    "converted_res = combined_res.convert_states(problem.convert_solution)\n",
    "print(converted_res)"
   ]
  },
  {
   "cell_type": "markdown",
   "metadata": {},
   "source": [
    "So now the state of each sample is a set indicating which nodes of our graph are included in the Vertex Cover. Let's filter all of the ones that are invalid. For example, it looks like the last one will probably not satisfy the Vertex Cover condition that every edge is adjacent to one node included in the cover."
   ]
  },
  {
   "cell_type": "code",
   "execution_count": 256,
   "metadata": {},
   "outputs": [
    {
     "name": "stdout",
     "output_type": "stream",
     "text": [
      "AnnealResults\n",
      "\n",
      "  state: {0, 1, 2, 4, 7, 8}\n",
      "  value: 6\n",
      "   spin: False\n",
      "\n",
      "  state: {0, 1, 2, 3, 4, 5, 8}\n",
      "  value: 7\n",
      "   spin: False\n",
      "\n",
      "  state: {0, 1, 2, 3, 4, 5, 9}\n",
      "  value: 7\n",
      "   spin: False\n",
      "\n",
      "  state: {0, 1, 2, 3, 4, 5, 8}\n",
      "  value: 7\n",
      "   spin: False\n",
      "\n",
      "  state: {0, 1, 2, 3, 5, 7, 8}\n",
      "  value: 7\n",
      "   spin: False\n",
      "\n",
      "  state: {0, 1, 2, 3, 5, 7, 8}\n",
      "  value: 7\n",
      "   spin: False\n",
      "\n",
      "  state: {0, 1, 2, 3, 5, 7, 8}\n",
      "  value: 7\n",
      "   spin: False\n",
      "\n",
      "  state: {0, 1, 2, 3, 4, 5, 9}\n",
      "  value: 7\n",
      "   spin: False\n",
      "\n",
      "  state: {0, 1, 2, 3, 5, 7, 9}\n",
      "  value: 7\n",
      "   spin: False\n"
     ]
    }
   ],
   "source": [
    "filtered_res = converted_res.filter_states(problem.is_solution_valid)\n",
    "print(filtered_res)"
   ]
  },
  {
   "cell_type": "markdown",
   "metadata": {},
   "source": [
    "Indeed we were right, the last solution was invalid. So that's the basic usage of this object. But let's go even more. Say for example that you wanted to filter out any solutions that did not include node 7 in their cover."
   ]
  },
  {
   "cell_type": "code",
   "execution_count": 257,
   "metadata": {},
   "outputs": [
    {
     "name": "stdout",
     "output_type": "stream",
     "text": [
      "AnnealResults\n",
      "\n",
      "  state: {0, 1, 2, 4, 7, 8}\n",
      "  value: 6\n",
      "   spin: False\n",
      "\n",
      "  state: {0, 1, 2, 3, 5, 7, 8}\n",
      "  value: 7\n",
      "   spin: False\n",
      "\n",
      "  state: {0, 1, 2, 3, 5, 7, 8}\n",
      "  value: 7\n",
      "   spin: False\n",
      "\n",
      "  state: {0, 1, 2, 3, 5, 7, 8}\n",
      "  value: 7\n",
      "   spin: False\n",
      "\n",
      "  state: {0, 1, 2, 3, 5, 7, 9}\n",
      "  value: 7\n",
      "   spin: False\n"
     ]
    }
   ],
   "source": [
    "require_node_7 = filtered_res.filter_states(lambda state: 7 in state)\n",
    "print(require_node_7)"
   ]
  },
  {
   "cell_type": "markdown",
   "metadata": {},
   "source": [
    "We got rid of even more. Now let's say that we want to change the values so that they indicate indicate how many more elements are included in the cover than the best solution that we found. The `AnnealResults` object is basically a beefed-up list of `AnnealResult` objects. So the `.apply_function` method will iterate through all of the elements and replace each `AnnealResult` object with one that you provide."
   ]
  },
  {
   "cell_type": "code",
   "execution_count": 258,
   "metadata": {},
   "outputs": [
    {
     "name": "stdout",
     "output_type": "stream",
     "text": [
      "AnnealResults\n",
      "\n",
      "  state: {0, 1, 2, 4, 7, 8}\n",
      "  value: 0\n",
      "   spin: False\n",
      "\n",
      "  state: {0, 1, 2, 3, 5, 7, 8}\n",
      "  value: 1\n",
      "   spin: False\n",
      "\n",
      "  state: {0, 1, 2, 3, 5, 7, 8}\n",
      "  value: 1\n",
      "   spin: False\n",
      "\n",
      "  state: {0, 1, 2, 3, 5, 7, 8}\n",
      "  value: 1\n",
      "   spin: False\n",
      "\n",
      "  state: {0, 1, 2, 3, 5, 7, 9}\n",
      "  value: 1\n",
      "   spin: False\n"
     ]
    }
   ],
   "source": [
    "new_values = require_node_7.apply_function(\n",
    "    lambda r: qv.sim.AnnealResult(\n",
    "        value=r.value-require_node_7.best.value, state=r.state, spin=r.spin\n",
    "    )\n",
    ")\n",
    "print(new_values)"
   ]
  },
  {
   "cell_type": "markdown",
   "metadata": {},
   "source": [
    "Finally, let's get rid of all the results that don't have value 0."
   ]
  },
  {
   "cell_type": "code",
   "execution_count": 259,
   "metadata": {},
   "outputs": [
    {
     "name": "stdout",
     "output_type": "stream",
     "text": [
      "AnnealResults\n",
      "\n",
      "  state: {0, 1, 2, 4, 7, 8}\n",
      "  value: 0\n",
      "   spin: False\n"
     ]
    }
   ],
   "source": [
    "only_val_0 = new_values.filter(lambda r: r.value == 0)\n",
    "print(only_val_0)"
   ]
  },
  {
   "cell_type": "markdown",
   "metadata": {},
   "source": [
    "Okay I think that's enough of that for now."
   ]
  },
  {
   "cell_type": "markdown",
   "metadata": {},
   "source": [
    "## Tip #13: using constraints without adding penalties\n",
    "\n",
    "When adding constraints to PCBOs and PCSOs, the corresponding penalty functions are automatically added to the function. If you don't want this to happen but you still want to keep track of constraints with qubovert, then you can go one of two routes. The first option is what I discusses in the section above titled [Tip #2: keeping functions and constraints separate with PCBOs and PCSOs](#Tip-#2:-keeping-functions-and-constraints-separate-with-PCBOs-and-PCSOs). Another option that I'll talk about here is simply to set the Lagrange multiplier equal to zero. So for example consider that you want to minimize \n",
    "\n",
    "$$P = -\\sum_{i=0}^3 x_ix_{i+1}$$\n",
    "\n",
    "subject to the constraint that\n",
    "\n",
    "$$\\sum_{i=0}^4 x_i \\leq 2.$$\n",
    "\n",
    "If you don't want the penalty function to be added to your objective but you want to still be able to use the `.is_solution_valid` method to check on the constraints, then you could do the following."
   ]
  },
  {
   "cell_type": "code",
   "execution_count": 260,
   "metadata": {},
   "outputs": [
    {
     "name": "stdout",
     "output_type": "stream",
     "text": [
      "P before adding constraint\n",
      "{(0, 1): -1, (1, 2): -1, (2, 3): -1, (3, 4): -1}\n",
      "\n",
      "P after adding constraint\n",
      "{(0, 1): -1, (1, 2): -1, (2, 3): -1, (3, 4): -1}\n"
     ]
    }
   ],
   "source": [
    "xs = [qv.boolean_var(i) for i in range(5)]\n",
    "P = -sum(xs[i] * xs[i+1] for i in range(4))\n",
    "print(\"P before adding constraint\")\n",
    "print(P)\n",
    "print()\n",
    "P.add_constraint_le_zero(sum(xs) - 2, lam=0)\n",
    "print(\"P after adding constraint\")\n",
    "print(P)"
   ]
  },
  {
   "cell_type": "markdown",
   "metadata": {},
   "source": [
    "But now the `constraints` dictionary will be updated."
   ]
  },
  {
   "cell_type": "code",
   "execution_count": 261,
   "metadata": {},
   "outputs": [
    {
     "data": {
      "text/plain": [
       "{'le': [{(0,): 1, (1,): 1, (2,): 1, (3,): 1, (4,): 1, (): -2}]}"
      ]
     },
     "execution_count": 261,
     "metadata": {},
     "output_type": "execute_result"
    }
   ],
   "source": [
    "P.constraints"
   ]
  },
  {
   "cell_type": "markdown",
   "metadata": {},
   "source": [
    "And indeed you can check if a candidate solution is valid."
   ]
  },
  {
   "cell_type": "code",
   "execution_count": 262,
   "metadata": {},
   "outputs": [
    {
     "data": {
      "text/plain": [
       "False"
      ]
     },
     "execution_count": 262,
     "metadata": {},
     "output_type": "execute_result"
    }
   ],
   "source": [
    "P.is_solution_valid({0: 1, 1: 1, 2: 1, 3: 1, 4: 1})"
   ]
  },
  {
   "cell_type": "markdown",
   "metadata": {},
   "source": [
    "## Tip #14: creating variables\n",
    "\n",
    "You've seen many times in this notebook expressions of the form\n",
    "\n",
    "    x = qv.PUSO({('x',): 1})\n",
    "    y = qv.utils.QUBOMatrix({(0,): 1})\n",
    "\n",
    "etc. These create a variable of the desired type. We can do this slightly cleaner and set the `name` property automatically with the `.create_var` classmethod."
   ]
  },
  {
   "cell_type": "code",
   "execution_count": 263,
   "metadata": {},
   "outputs": [
    {
     "name": "stdout",
     "output_type": "stream",
     "text": [
      "x True {('x',): 1}\n",
      "0 True {(0,): 1}\n"
     ]
    }
   ],
   "source": [
    "x = qv.PUSO.create_var('x')\n",
    "y = qv.utils.QUBOMatrix.create_var(0)\n",
    "\n",
    "print(x.name, type(x) == qv.PUSO, x)\n",
    "print(y.name, type(y) == qv.utils.QUBOMatrix, y)"
   ]
  },
  {
   "cell_type": "markdown",
   "metadata": {},
   "source": [
    "## Tip #15: integer variables\n",
    "\n",
    "I already sort of showed the usage of integer variables, but let me quickly show it one more time. Let's come full circle and end this notebook in approximately the same way that we started it, by discussing the factoring example.\n",
    "\n",
    "Consider for example a problem $F: \\{0, 1 \\}^{n} \\times \\{0, 1 \\}^n \\to \\mathbb R$ whose groundstate encodes the factors of $N$,\n",
    "\n",
    "$$F(x, y) = \\left(N - xy \\right)^2.$$\n",
    "\n",
    "For our example we'll set $N = 9$. We'll consider encoding the variable integers $x$ and $y$ in two ways. First with the log encoding,\n",
    "\n",
    "$$x = 2+\\sum_{i} 2^i x_i, \\qquad y = 2+\\sum_{i} 2^i y_i.$$\n",
    "\n",
    "$x$ and $y$ must be able to take values up to $\\lfloor N / 2 \\rfloor$."
   ]
  },
  {
   "cell_type": "code",
   "execution_count": 264,
   "metadata": {},
   "outputs": [
    {
     "name": "stdout",
     "output_type": "stream",
     "text": [
      "x = {('x0',): 1, ('x1',): 2, ('x2',): 4, (): 2}\n",
      "y = {('y0',): 1, ('y1',): 2, ('y2',): 4, (): 2}\n"
     ]
    }
   ],
   "source": [
    "N = 9\n",
    "n = qv.utils.num_bits(N // 2)\n",
    "x = 2 + qv.integer_var('x', n)\n",
    "y = 2 + qv.integer_var('y', n)\n",
    "F = (N - x * y) ** 2\n",
    "\n",
    "print(\"x =\", x)\n",
    "print(\"y =\", y)"
   ]
  },
  {
   "cell_type": "markdown",
   "metadata": {},
   "source": [
    "Now we can do all the normal things with `F`. I won't go over it all again, let's just bruteforce solve it."
   ]
  },
  {
   "cell_type": "code",
   "execution_count": 265,
   "metadata": {},
   "outputs": [
    {
     "name": "stdout",
     "output_type": "stream",
     "text": [
      "x = 3\n",
      "y = 3\n",
      "F(x, y) = 0\n"
     ]
    }
   ],
   "source": [
    "sol = F.solve_bruteforce()\n",
    "print(\"x =\", x.value(sol))\n",
    "print(\"y =\", y.value(sol))\n",
    "print(\"F(x, y) =\", F.value(sol))"
   ]
  },
  {
   "cell_type": "markdown",
   "metadata": {},
   "source": [
    "Recall though that sometimes we don't like the log encoding because it requires high precision for large problems (recall for example D-Wave has very limited precision). So for the second encoding of $x$ and $y$, let's turn the log encoding off."
   ]
  },
  {
   "cell_type": "code",
   "execution_count": 266,
   "metadata": {},
   "outputs": [
    {
     "name": "stdout",
     "output_type": "stream",
     "text": [
      "x = {('x0',): 1, ('x1',): 1, ('x2',): 1, (): 2}\n",
      "y = {('y0',): 1, ('y1',): 1, ('y2',): 1, (): 2}\n"
     ]
    }
   ],
   "source": [
    "x = 2 + qv.integer_var('x', n, log_trick=False)\n",
    "y = 2 + qv.integer_var('y', n, log_trick=False)\n",
    "F = (N - x * y) ** 2\n",
    "\n",
    "print(\"x =\", x)\n",
    "print(\"y =\", y)"
   ]
  },
  {
   "cell_type": "markdown",
   "metadata": {},
   "source": [
    "For this problem it didn't affect the number of variables, but it usually will (as $N$ gets larger)."
   ]
  },
  {
   "cell_type": "code",
   "execution_count": 267,
   "metadata": {},
   "outputs": [
    {
     "name": "stdout",
     "output_type": "stream",
     "text": [
      "x = 3\n",
      "y = 3\n",
      "F(x, y) = 0\n"
     ]
    }
   ],
   "source": [
    "sol = F.solve_bruteforce()\n",
    "print(\"x =\", x.value(sol))\n",
    "print(\"y =\", y.value(sol))\n",
    "print(\"F(x, y) =\", F.value(sol))"
   ]
  },
  {
   "cell_type": "markdown",
   "metadata": {},
   "source": [
    "---\n",
    "# Conclusion\n",
    "\n",
    "I hope this is helpful. Feel free to suggest edits or request additions."
   ]
  },
  {
   "cell_type": "markdown",
   "metadata": {},
   "source": [
    "<a href=\"#Introduction\">Back to top</a>"
   ]
  }
 ],
 "metadata": {
  "kernelspec": {
   "display_name": "Python 3",
   "language": "python",
   "name": "python3"
  },
  "language_info": {
   "codemirror_mode": {
    "name": "ipython",
    "version": 3
   },
   "file_extension": ".py",
   "mimetype": "text/x-python",
   "name": "python",
   "nbconvert_exporter": "python",
   "pygments_lexer": "ipython3",
   "version": "3.6.9"
  }
 },
 "nbformat": 4,
 "nbformat_minor": 2
}
