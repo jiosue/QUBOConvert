{
 "cells": [
  {
   "cell_type": "markdown",
   "metadata": {},
   "source": [
    "# 3-SAT with qubovert"
   ]
  },
  {
   "cell_type": "markdown",
   "metadata": {},
   "source": [
    "We'll first solve a 3-SAT problem with the `PUBO` and `BooleanConstraints` class, and then solve it using the `qubovert.sat` library.\n",
    "\n",
    "**Contents**\n",
    "\n",
    "1. <a href=\"#PCBO\">Solving 3-SAT with `qubovert.BooleanConstraints`</a>\n",
    "2. <a href=\"#sat\">Solving 3-SAT with the `qubovert.sat` library</a>\n",
    "3. <a href=\"#combo\">Solving 3-SAT with both!</a> (best)"
   ]
  },
  {
   "cell_type": "markdown",
   "metadata": {},
   "source": [
    "*qubovert* must be pip installed."
   ]
  },
  {
   "cell_type": "markdown",
   "metadata": {},
   "source": [
    "<div id=\"PCBO\" />\n",
    "    \n",
    "## Solving 3-SAT with `qubovert.BooleanConstraints`\n",
    "\n",
    "Create a BooleanConstraints object"
   ]
  },
  {
   "cell_type": "code",
   "execution_count": 1,
   "metadata": {},
   "outputs": [],
   "source": [
    "from qubovert import BooleanConstraints\n",
    "\n",
    "H = BooleanConstraints()"
   ]
  },
  {
   "cell_type": "markdown",
   "metadata": {},
   "source": [
    "Let's try to encode the optimization problem of finding a satisfying assignment of $C$, where\n",
    "\n",
    "$$C = c_0 \\land c_1 \\land c_2$$\n",
    "\n",
    "where each $c_i$ is an OR clause of three variables:\n",
    "\n",
    "$$c_0 = x_0 \\lor x_1 \\lor x_3, \\quad c_1 = x_1 \\lor \\lnot x_2 \\lor \\lnot x_3, \\quad c_2 = \\lnot x_0 \\lor x_2 \\lor \\lnot x_3.$$\n",
    "\n",
    "Let's add these clauses to the PCBO."
   ]
  },
  {
   "cell_type": "markdown",
   "metadata": {},
   "source": [
    "We begin by adding constraints to enforce the NOTs."
   ]
  },
  {
   "cell_type": "code",
   "execution_count": 2,
   "metadata": {},
   "outputs": [
    {
     "name": "stdout",
     "output_type": "stream",
     "text": [
      "CONSTRAINTS\n",
      "eq :  {('x_0',): -1, (): 1, ('-x_0',): -1}\n",
      "eq :  {('x_2',): -1, (): 1, ('-x_2',): -1}\n",
      "eq :  {('x_3',): -1, (): 1, ('-x_3',): -1}\n"
     ]
    }
   ],
   "source": [
    "H.add_constraint_eq_NOT(\"x_0\", \"-x_0\")\n",
    "H.add_constraint_eq_NOT(\"x_2\", \"-x_2\")\n",
    "H.add_constraint_eq_NOT(\"x_3\", \"-x_3\")\n",
    "print(H)"
   ]
  },
  {
   "cell_type": "markdown",
   "metadata": {},
   "source": [
    "Now let's add the clauses (reproduced here for reference).\n",
    "\n",
    "$$c_0 = x_0 \\lor x_1 \\lor x_3, \\quad c_1 = x_1 \\lor \\lnot x_2 \\lor \\lnot x_3, \\quad c_2 = \\lnot x_0 \\lor x_2 \\lor \\lnot x_3.$$"
   ]
  },
  {
   "cell_type": "code",
   "execution_count": 3,
   "metadata": {},
   "outputs": [
    {
     "name": "stdout",
     "output_type": "stream",
     "text": [
      "CONSTRAINTS\n",
      "eq :  {('x_0',): -1, (): 1, ('-x_0',): -1}\n",
      "eq :  {('x_2',): -1, (): 1, ('-x_2',): -1}\n",
      "eq :  {('x_3',): -1, (): 1, ('-x_3',): -1}\n",
      "eq :  {('x_0',): -1, ('x_0', 'x_1'): 1, ('x_1',): -1, ('x_0', 'x_3'): 1, ('x_0', 'x_1', 'x_3'): -1, ('x_1', 'x_3'): 1, ('x_3',): -1, (): 1}\n",
      "eq :  {('x_1',): -1, ('-x_2', 'x_1'): 1, ('-x_2',): -1, ('-x_3', 'x_1'): 1, ('-x_2', '-x_3', 'x_1'): -1, ('-x_2', '-x_3'): 1, ('-x_3',): -1, (): 1}\n",
      "eq :  {('-x_0',): -1, ('-x_0', 'x_2'): 1, ('x_2',): -1, ('-x_0', '-x_3'): 1, ('-x_0', '-x_3', 'x_2'): -1, ('-x_3', 'x_2'): 1, ('-x_3',): -1, (): 1}\n"
     ]
    }
   ],
   "source": [
    "H.add_constraint_OR(\"x_0\", \"x_1\", \"x_3\")\n",
    "H.add_constraint_OR(\"x_1\", \"-x_2\", \"-x_3\")\n",
    "H.add_constraint_OR(\"-x_0\", \"x_2\", \"-x_3\")\n",
    "print(H)"
   ]
  },
  {
   "cell_type": "markdown",
   "metadata": {},
   "source": [
    "To convert this to an unconstrained optimization problem, we get the penalty function from the constraints object. The penalty is positive whenever the constraints are violated, and zero otherwise."
   ]
  },
  {
   "cell_type": "code",
   "execution_count": 4,
   "metadata": {},
   "outputs": [
    {
     "name": "stdout",
     "output_type": "stream",
     "text": [
      "{('-x_0', 'x_0'): 2, ('x_0',): -2, (): 6, ('-x_0',): -2, ('-x_2', 'x_2'): 2, ('x_2',): -2, ('-x_2',): -2, ('-x_3', 'x_3'): 2, ('x_3',): -2, ('-x_3',): -3, ('x_0', 'x_1'): 1, ('x_1',): -2, ('x_0', 'x_3'): 1, ('x_0', 'x_1', 'x_3'): -1, ('x_1', 'x_3'): 1, ('-x_2', 'x_1'): 1, ('-x_3', 'x_1'): 1, ('-x_2', '-x_3', 'x_1'): -1, ('-x_2', '-x_3'): 1, ('-x_0', 'x_2'): 1, ('-x_0', '-x_3'): 1, ('-x_0', '-x_3', 'x_2'): -1, ('-x_3', 'x_2'): 1}\n"
     ]
    }
   ],
   "source": [
    "penalty = H.to_penalty()\n",
    "print(penalty)"
   ]
  },
  {
   "cell_type": "markdown",
   "metadata": {},
   "source": [
    "Here we see the full PUBO representing the problem. Let's solve it by bruteforce."
   ]
  },
  {
   "cell_type": "code",
   "execution_count": 5,
   "metadata": {},
   "outputs": [
    {
     "name": "stdout",
     "output_type": "stream",
     "text": [
      "number of variables: 7\n",
      "number of solutions: 10\n"
     ]
    }
   ],
   "source": [
    "print(\"number of variables:\", penalty.num_binary_variables)\n",
    "H_solutions = penalty.solve_bruteforce(all_solutions=True)\n",
    "print(\"number of solutions:\", len(H_solutions))"
   ]
  },
  {
   "cell_type": "markdown",
   "metadata": {},
   "source": [
    "We see there are 10 possible solutions to this 3-SAT problem."
   ]
  },
  {
   "cell_type": "markdown",
   "metadata": {},
   "source": [
    "Now let's solve this problem with a generic QUBO solver. Notice that the degree of problem is more than two, making `penalty` not a natural Quadratic Unconstrained Boolean Optimization Problem (QUBO)."
   ]
  },
  {
   "cell_type": "code",
   "execution_count": 6,
   "metadata": {},
   "outputs": [
    {
     "data": {
      "text/plain": [
       "3"
      ]
     },
     "execution_count": 6,
     "metadata": {},
     "output_type": "execute_result"
    }
   ],
   "source": [
    "penalty.degree"
   ]
  },
  {
   "cell_type": "markdown",
   "metadata": {},
   "source": [
    "We can convert it to a QUBO (note that there are some options for the reduction from PUBO to QUBO, see the `penalty.to_qubo` method for details). Ancilla bits will need to be added, and bit labels are mapped to integers."
   ]
  },
  {
   "cell_type": "code",
   "execution_count": 7,
   "metadata": {},
   "outputs": [
    {
     "name": "stdout",
     "output_type": "stream",
     "text": [
      "{(0, 1): 2, (1,): -2, (0,): -2, (2, 3): 2, (3,): -2, (2,): -2, (4, 5): 2, (5,): -2, (4,): -3, (1, 6): 1, (6,): -2, (1, 5): 3, (7,): 6, (1, 7): -4, (5, 7): -4, (6, 7): -1, (5, 6): 1, (2, 6): 1, (4, 6): 1, (8,): 6, (2, 4): 3, (2, 8): -4, (4, 8): -4, (6, 8): -1, (0, 3): 3, (0, 4): 1, (9,): 6, (0, 9): -4, (3, 9): -4, (4, 9): -1, (3, 4): 1, (): 6}\n"
     ]
    }
   ],
   "source": [
    "qubo = penalty.to_qubo()\n",
    "print(qubo)"
   ]
  },
  {
   "cell_type": "markdown",
   "metadata": {},
   "source": [
    "For testing purposes, let's solve this with bruteforce. Notice how we remap the QUBO solution to the PUBO solution with `penalty.convert_solution(x)`."
   ]
  },
  {
   "cell_type": "code",
   "execution_count": 8,
   "metadata": {},
   "outputs": [
    {
     "name": "stdout",
     "output_type": "stream",
     "text": [
      "number of variables: 10\n",
      "number of solutions: 10\n",
      "Q solutions do match the H solutions\n"
     ]
    }
   ],
   "source": [
    "print(\"number of variables:\", qubo.num_binary_variables)\n",
    "Q_solutions = [penalty.convert_solution(x) for x in qubo.solve_bruteforce(all_solutions=True)]\n",
    "print(\"number of solutions:\", len(Q_solutions))\n",
    "print(\"Q solutions\", \"do\" if Q_solutions == H_solutions else \"do not\", \"match the H solutions\")"
   ]
  },
  {
   "cell_type": "markdown",
   "metadata": {},
   "source": [
    "Now let's solve the QUBO with D'Wave's simulated annealer."
   ]
  },
  {
   "cell_type": "code",
   "execution_count": 9,
   "metadata": {},
   "outputs": [],
   "source": [
    "#!pip install dwave-neal\n",
    "from neal import SimulatedAnnealingSampler\n",
    "\n",
    "sampler = SimulatedAnnealingSampler()"
   ]
  },
  {
   "cell_type": "markdown",
   "metadata": {},
   "source": [
    "Note that their software package takes in a specific form for QUBOs, namely, the keys of the dictionary must be two element tuples. This form can be accessed from `qubo` with `qubo.Q`."
   ]
  },
  {
   "cell_type": "code",
   "execution_count": 10,
   "metadata": {},
   "outputs": [
    {
     "name": "stdout",
     "output_type": "stream",
     "text": [
      "objective function: 0.0 \n",
      "\n",
      "qubo solution: {0: 0, 1: 1, 2: 0, 3: 1, 4: 1, 5: 0, 6: 1, 7: 0, 8: 0, 9: 0} \n",
      "\n",
      "solution: {'-x_0': 0, 'x_0': 1, '-x_2': 0, 'x_2': 1, '-x_3': 1, 'x_3': 0, 'x_1': 1}\n",
      "objective function: 0 \n",
      "\n",
      "The solution is valid\n"
     ]
    }
   ],
   "source": [
    "qubo_sample = sampler.sample_qubo(qubo.Q, num_reads=500)\n",
    "print(\"objective function:\", qubo_sample.first.energy + qubo.offset, \"\\n\")\n",
    "\n",
    "qubo_solution = qubo_sample.first.sample\n",
    "print(\"qubo solution:\", qubo_solution, \"\\n\")\n",
    "\n",
    "solution = penalty.convert_solution(qubo_solution)\n",
    "print(\"solution:\", solution)\n",
    "print(\"objective function:\", penalty.value(solution), \"\\n\")\n",
    "\n",
    "print(\"The solution is\", \"valid\" if H.is_solution_valid(solution) else \"invalid\")"
   ]
  },
  {
   "cell_type": "markdown",
   "metadata": {},
   "source": [
    "Notice that `H.is_solution_valid` checks if all the constraints are satisfied.\n",
    "\n",
    "Now we'll solve an QUSO formulation of our problem."
   ]
  },
  {
   "cell_type": "code",
   "execution_count": 11,
   "metadata": {},
   "outputs": [
    {
     "name": "stdout",
     "output_type": "stream",
     "text": [
      "{(0, 1): 0.5, (0,): 0.5, (1,): 0.5, (2, 3): 0.5, (2,): 0.5, (3,): 0.5, (4, 5): 0.5, (5,): 0.5, (1, 6): 0.25, (6,): 0.5, (1, 5): 0.75, (7,): -0.75, (1, 7): -1.0, (5, 7): -1.0, (6, 7): -0.25, (5, 6): 0.25, (2, 6): 0.25, (4, 6): 0.25, (8,): -0.75, (2, 4): 0.75, (2, 8): -1.0, (4, 8): -1.0, (4,): 0.75, (6, 8): -0.25, (0, 3): 0.75, (0, 4): 0.25, (9,): -0.75, (0, 9): -1.0, (3, 9): -1.0, (4, 9): -0.25, (3, 4): 0.25, (): 6}\n"
     ]
    }
   ],
   "source": [
    "L = penalty.to_quso()\n",
    "print(L)"
   ]
  },
  {
   "cell_type": "markdown",
   "metadata": {},
   "source": [
    "Similar to their QUBO solver, D'Wave's QUSO solver accepts a specific form for QUSO models, namely a linear term dictionary and a quadratic term dictionary. These can be accessed with `L.h` and `L.J`."
   ]
  },
  {
   "cell_type": "code",
   "execution_count": 12,
   "metadata": {},
   "outputs": [
    {
     "name": "stdout",
     "output_type": "stream",
     "text": [
      "objective function: 0.0 \n",
      "\n",
      "quso solution: {0: -1, 1: 1, 2: -1, 3: 1, 4: -1, 5: 1, 6: -1, 7: 1, 8: -1, 9: 1} \n",
      "\n",
      "pcbo solution: {'-x_0': 1, 'x_0': 0, '-x_2': 1, 'x_2': 0, '-x_3': 1, 'x_3': 0, 'x_1': 1}\n",
      "objective function: 0 \n",
      "\n",
      "The solution is valid\n"
     ]
    }
   ],
   "source": [
    "quso_sample = sampler.sample_ising(L.h, L.J, num_reads=500)\n",
    "print(\"objective function:\", quso_sample.first.energy + L.offset, \"\\n\")\n",
    "\n",
    "quso_solution = quso_sample.first.sample\n",
    "print(\"quso solution:\", quso_solution, \"\\n\")\n",
    "\n",
    "solution = penalty.convert_solution(quso_solution)\n",
    "print(\"pcbo solution:\", solution)\n",
    "print(\"objective function:\", penalty.value(solution), \"\\n\")\n",
    "\n",
    "print(\"The solution is\", \"valid\" if H.is_solution_valid(solution) else \"invalid\")"
   ]
  },
  {
   "cell_type": "markdown",
   "metadata": {},
   "source": [
    "We see that the solution is again valid."
   ]
  },
  {
   "cell_type": "markdown",
   "metadata": {},
   "source": [
    "<div id=\"sat\" />\n",
    "\n",
    "## Solving 3-SAT with the `qubovert.sat` library\n",
    "\n",
    "Here we will use the ``qubovert.sat`` library to do a better job encoding the 3-SAT problem discussed above, and reproduced below.\n",
    "\n",
    "Find a satisfying assignment of $C$, where\n",
    "\n",
    "$$C = c_0 \\land c_1 \\land c_2$$\n",
    "\n",
    "where each $c_i$ is an OR clause of three variables:\n",
    "\n",
    "$$c_0 = x_0 \\lor x_1 \\lor x_3, \\quad c_1 = x_1 \\lor \\lnot x_2 \\lor \\lnot x_3, \\quad c_2 = \\lnot x_0 \\lor x_2 \\lor \\lnot x_3.$$"
   ]
  },
  {
   "cell_type": "code",
   "execution_count": 13,
   "metadata": {},
   "outputs": [
    {
     "name": "stdout",
     "output_type": "stream",
     "text": [
      "{('x_0',): 1, ('x_0', 'x_3'): -2, ('x_0', 'x_1'): -1, ('x_1',): 1, ('x_1', 'x_3'): -1, ('x_0', 'x_1', 'x_3'): 1, ('x_3',): 1, ('x_0', 'x_2', 'x_3'): 1, ('x_1', 'x_2', 'x_3'): 1, ('x_2', 'x_3'): -1}\n"
     ]
    }
   ],
   "source": [
    "from qubovert.sat import AND, OR, NOT\n",
    "\n",
    "c0 = OR('x_0', 'x_1', 'x_3')\n",
    "c1 = OR('x_1', NOT('x_2'), NOT('x_3'))\n",
    "c2 = OR(NOT('x_0'), 'x_2', NOT('x_3'))\n",
    "\n",
    "C = AND(c0, c1, c2)\n",
    "print(C)"
   ]
  },
  {
   "cell_type": "markdown",
   "metadata": {},
   "source": [
    "``C`` is a ``qubovert.PUBO`` object that is representing the boolean expression $C$. It is 1 for a satisfying solution, and 0 otherwise. Thus, we want to minimize ``P = -C``."
   ]
  },
  {
   "cell_type": "code",
   "execution_count": 14,
   "metadata": {},
   "outputs": [
    {
     "name": "stdout",
     "output_type": "stream",
     "text": [
      "Number of variables: 4\n",
      "degree: 3\n"
     ]
    }
   ],
   "source": [
    "P = -C\n",
    "print(\"Number of variables:\", P.num_binary_variables)\n",
    "print(\"degree:\", P.degree)"
   ]
  },
  {
   "cell_type": "markdown",
   "metadata": {},
   "source": [
    "Let's do the same as before and solve ``P`` bruteforce."
   ]
  },
  {
   "cell_type": "code",
   "execution_count": 15,
   "metadata": {},
   "outputs": [
    {
     "name": "stdout",
     "output_type": "stream",
     "text": [
      "number of valid solutions: 10\n"
     ]
    }
   ],
   "source": [
    "solutions = P.solve_bruteforce(all_solutions=True)\n",
    "print(\"number of valid solutions:\", len(solutions))"
   ]
  },
  {
   "cell_type": "markdown",
   "metadata": {},
   "source": [
    "Now let's solve the QUBO with D'Wave's simulated annealer."
   ]
  },
  {
   "cell_type": "code",
   "execution_count": 16,
   "metadata": {},
   "outputs": [
    {
     "name": "stdout",
     "output_type": "stream",
     "text": [
      "Number of QUBO variables: 6 \n",
      "\n",
      "qubo solution: {0: 0, 1: 1, 2: 0, 3: 1, 4: 1, 5: 0, 6: 1, 7: 0, 8: 0, 9: 0}\n",
      "qubo objective function: -1.0 \n",
      "\n",
      "pubo solution: {'x_0': 0, 'x_3': 1, 'x_1': 0, 'x_2': 1}\n",
      "pubo objective function: 0 \n",
      "\n",
      "C objective function (1 if satisfying else 0): 0 \n",
      "\n"
     ]
    }
   ],
   "source": [
    "Q = P.to_qubo()\n",
    "\n",
    "print(\"Number of QUBO variables:\", Q.num_binary_variables, \"\\n\")\n",
    "\n",
    "qubo_solution = qubo_sample.first.sample\n",
    "print(\"qubo solution:\", qubo_solution)\n",
    "\n",
    "qubo_sample = sampler.sample_qubo(Q.Q, num_reads=500)\n",
    "print(\"qubo objective function:\", qubo_sample.first.energy + Q.offset, \"\\n\")\n",
    "\n",
    "solution = P.convert_solution(qubo_solution)\n",
    "print(\"pubo solution:\", solution)\n",
    "print(\"pubo objective function:\", P.value(solution), \"\\n\")\n",
    "\n",
    "print(\"C objective function (1 if satisfying else 0):\", C.value(solution), \"\\n\")"
   ]
  },
  {
   "cell_type": "markdown",
   "metadata": {},
   "source": [
    "Notice that the QUBO formulation also has many less variables than before. \n",
    "\n",
    "Now let's solve the QUSO."
   ]
  },
  {
   "cell_type": "code",
   "execution_count": 17,
   "metadata": {},
   "outputs": [
    {
     "name": "stdout",
     "output_type": "stream",
     "text": [
      "Number of QUSO variables: 6 \n",
      "\n",
      "quso solution: {0: -1, 1: 1, 2: -1, 3: 1, 4: -1, 5: 1, 6: -1, 7: 1, 8: -1, 9: 1}\n",
      "quso objective function: -1.0 \n",
      "\n",
      "pubo solution: {'x_0': 1, 'x_3': 0, 'x_1': 1, 'x_2': 0}\n",
      "pubo objective function: -1 \n",
      "\n",
      "C objective function (1 if satisfying else 0): 1 \n",
      "\n"
     ]
    }
   ],
   "source": [
    "L = P.to_quso()\n",
    "\n",
    "print(\"Number of QUSO variables:\", L.num_binary_variables, \"\\n\")\n",
    "\n",
    "quso_solution = quso_sample.first.sample\n",
    "print(\"quso solution:\", quso_solution)\n",
    "\n",
    "quso_sample = sampler.sample_ising(L.h, L.J, num_reads=500)\n",
    "print(\"quso objective function:\", quso_sample.first.energy + L.offset, \"\\n\")\n",
    "\n",
    "solution = P.convert_solution(quso_solution)\n",
    "print(\"pubo solution:\", solution)\n",
    "print(\"pubo objective function:\", P.value(solution), \"\\n\")\n",
    "\n",
    "print(\"C objective function (1 if satisfying else 0):\", C.value(solution), \"\\n\")"
   ]
  },
  {
   "cell_type": "markdown",
   "metadata": {},
   "source": [
    "Thus we have solved the 3-SAT problem! If we wanted to, for example, minimize some other PUBO ``W`` subject to the constraint that ``C`` is satisfied, then we could simply add a penalty ``1 - C`` to ``W``. Ie the minimum of ``W + lam * (1 - C)`` will satisfy ``C == 1`` provided that ``lam`` is large enough."
   ]
  },
  {
   "cell_type": "markdown",
   "metadata": {},
   "source": [
    "<div id=\"combo\" />\n",
    "\n",
    "## Solving 3-SAT with both!\n",
    "\n",
    "Here we show a different way to encode the 3-SAT problem. We reproduce the problem here again.\n",
    "\n",
    "Find a satisfying assignment of $C$, where\n",
    "\n",
    "$$C = c_0 \\land c_1 \\land c_2$$\n",
    "\n",
    "where each $c_i$ is an OR clause of three variables:\n",
    "\n",
    "$$c_0 = x_0 \\lor x_1 \\lor x_3, \\quad c_1 = x_1 \\lor \\lnot x_2 \\lor \\lnot x_3, \\quad c_2 = \\lnot x_0 \\lor x_2 \\lor \\lnot x_3.$$"
   ]
  },
  {
   "cell_type": "code",
   "execution_count": 18,
   "metadata": {},
   "outputs": [
    {
     "name": "stdout",
     "output_type": "stream",
     "text": [
      "degree: 4\n",
      "num variables: 7\n",
      "num of solutions: 10\n"
     ]
    }
   ],
   "source": [
    "from qubovert import BooleanConstraints\n",
    "from qubovert.sat import NOT\n",
    "\n",
    "H = BooleanConstraints().add_constraint_eq_OR(\n",
    "    'c0', 'x0', 'x1', 'x3'\n",
    ").add_constraint_eq_OR(\n",
    "    'c1', 'x1', NOT('x2'), NOT('x3')\n",
    ").add_constraint_eq_OR(\n",
    "    'c2', NOT('x0'), 'x2', NOT('x3')\n",
    ").add_constraint_AND(\n",
    "    'c0', 'c1', 'c2'\n",
    ")\n",
    "penalty = H.to_penalty()\n",
    "\n",
    "print(\"degree:\", penalty.degree)\n",
    "print(\"num variables:\", penalty.num_binary_variables)\n",
    "print(\"num of solutions:\",\n",
    "      len(penalty.solve_bruteforce(all_solutions=True, valid=H.is_solution_valid))\n",
    ")"
   ]
  },
  {
   "cell_type": "markdown",
   "metadata": {},
   "source": [
    "`penalty` is a PUBO object, so we can do all the same things as we did in the previous sections. Ie convert to a QUBO or QUSO and solve."
   ]
  }
 ],
 "metadata": {
  "kernelspec": {
   "display_name": "Python 3",
   "language": "python",
   "name": "python3"
  },
  "language_info": {
   "codemirror_mode": {
    "name": "ipython",
    "version": 3
   },
   "file_extension": ".py",
   "mimetype": "text/x-python",
   "name": "python",
   "nbconvert_exporter": "python",
   "pygments_lexer": "ipython3",
   "version": "3.6.9"
  }
 },
 "nbformat": 4,
 "nbformat_minor": 2
}
