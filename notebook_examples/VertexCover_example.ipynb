{
 "cells": [
  {
   "cell_type": "markdown",
   "metadata": {},
   "source": [
    "# Vertex Cover with qubovert"
   ]
  },
  {
   "cell_type": "markdown",
   "metadata": {},
   "source": [
    "We'll first solve a Vertex Cover problem with the `PCBO` class, and then solve it using the `qubovert.problems` library.\n",
    "\n",
    "**Contents**\n",
    "\n",
    "1. <a href=\"#PCBO\">Solving Vertex Cover with `qubovert.PCBO`</a>\n",
    "2. <a href=\"#problems\">Solving Vertex Cover with the `qubovert.problems` library</a>"
   ]
  },
  {
   "cell_type": "markdown",
   "metadata": {},
   "source": [
    "*qubovert* must be pip installed."
   ]
  },
  {
   "cell_type": "markdown",
   "metadata": {},
   "source": [
    "The goal of the VertexCover problem is to find the smallest number of verticies that can be colored such that every edge of the graph is incident to a colored vertex. Let's begin by making a random graph (seed random for consistent results)."
   ]
  },
  {
   "cell_type": "code",
   "execution_count": 1,
   "metadata": {},
   "outputs": [
    {
     "name": "stdout",
     "output_type": "stream",
     "text": [
      "{(4, 7), (2, 6), (6, 9), (6, 8), (4, 5), (5, 6), (7, 9), (8, 9), (0, 6), (1, 5), (1, 8), (3, 6), (0, 4), (0, 9), (0, 3), (0, 8), (3, 4), (5, 8), (3, 5)}\n"
     ]
    }
   ],
   "source": [
    "import random\n",
    "random.seed(0)\n",
    "\n",
    "n, p = 10, 0.5\n",
    "\n",
    "vertices = set(range(n))\n",
    "edges = set((i, j) for i in range(n) for j in range(i+1, n) if random.random() <= p)\n",
    "print(edges)"
   ]
  },
  {
   "cell_type": "markdown",
   "metadata": {},
   "source": [
    "<div id=\"PCBO\" />\n",
    "    \n",
    "## Solving Vertex Cover with `qubovert.PCBO`\n",
    "\n",
    "See \n",
    "    \n",
    "    Andrew Lucas. Ising formulations of many np problems. Frontiers in Physics, 2:5, 2014.\n",
    "\n",
    "for a good review on converting common NP problems to QUBOs.\n",
    "    \n",
    "\n",
    "Create a Polynomial Constrained Boolean Optimization (``PCBO``) object."
   ]
  },
  {
   "cell_type": "code",
   "execution_count": 2,
   "metadata": {},
   "outputs": [],
   "source": [
    "from qubovert import PCBO\n",
    "\n",
    "H = PCBO()"
   ]
  },
  {
   "cell_type": "markdown",
   "metadata": {},
   "source": [
    "Let each vertex be a boolean variable that is 1 if it is colored, otherwise 0. Then we want to minimize the number of colored vertices:"
   ]
  },
  {
   "cell_type": "code",
   "execution_count": 3,
   "metadata": {},
   "outputs": [],
   "source": [
    "for i in vertices:\n",
    "    H[(i,)] += 1\n",
    "    \n",
    "# another equivalent way to create H is the following\n",
    "\n",
    "# from qubovert import boolean_var\n",
    "# for i in verticies:\n",
    "#     H += boolean_var(i)"
   ]
  },
  {
   "cell_type": "markdown",
   "metadata": {},
   "source": [
    "Now we want to enforce the constraint that every edge is adjacent to at least one colored vertex. The `PCBO.add_constraint_OR(*variables, lam)` method makes it favorable for the OR of the variables to be 1, by penalizing those bit assignments that violate the OR clause with a positive penalty `lam`. For now, we will define a symbol `lam` that we can tune easily later to find the right value."
   ]
  },
  {
   "cell_type": "code",
   "execution_count": 4,
   "metadata": {},
   "outputs": [],
   "source": [
    "# !pip install sympy\n",
    "from sympy import Symbol\n",
    "\n",
    "lam = Symbol(\"lam\")\n",
    "\n",
    "for i, j in edges:\n",
    "    H.add_constraint_OR(i, j, lam=lam)"
   ]
  },
  {
   "cell_type": "code",
   "execution_count": 5,
   "metadata": {},
   "outputs": [
    {
     "name": "stdout",
     "output_type": "stream",
     "text": [
      "{'eq': [{(4,): -1, (4, 7): 1, (7,): -1, (): 1}, {(2,): -1, (2, 6): 1, (6,): -1, (): 1}, {(6,): -1, (6, 9): 1, (9,): -1, (): 1}, {(6,): -1, (6, 8): 1, (8,): -1, (): 1}, {(4,): -1, (4, 5): 1, (5,): -1, (): 1}, {(5,): -1, (5, 6): 1, (6,): -1, (): 1}, {(7,): -1, (7, 9): 1, (9,): -1, (): 1}, {(8,): -1, (8, 9): 1, (9,): -1, (): 1}, {(0,): -1, (0, 6): 1, (6,): -1, (): 1}, {(1,): -1, (1, 5): 1, (5,): -1, (): 1}, {(1,): -1, (1, 8): 1, (8,): -1, (): 1}, {(3,): -1, (3, 6): 1, (6,): -1, (): 1}, {(0,): -1, (0, 4): 1, (4,): -1, (): 1}, {(0,): -1, (0, 9): 1, (9,): -1, (): 1}, {(0,): -1, (0, 3): 1, (3,): -1, (): 1}, {(0,): -1, (0, 8): 1, (8,): -1, (): 1}, {(3,): -1, (3, 4): 1, (4,): -1, (): 1}, {(5,): -1, (5, 8): 1, (8,): -1, (): 1}, {(3,): -1, (3, 5): 1, (5,): -1, (): 1}]} \n",
      "\n",
      "Equality constraints:\n",
      "\n",
      "{(4,): -1, (4, 7): 1, (7,): -1, (): 1} \n",
      "\n",
      "{(2,): -1, (2, 6): 1, (6,): -1, (): 1} \n",
      "\n",
      "{(6,): -1, (6, 9): 1, (9,): -1, (): 1} \n",
      "\n",
      "{(6,): -1, (6, 8): 1, (8,): -1, (): 1} \n",
      "\n",
      "{(4,): -1, (4, 5): 1, (5,): -1, (): 1} \n",
      "\n",
      "{(5,): -1, (5, 6): 1, (6,): -1, (): 1} \n",
      "\n",
      "{(7,): -1, (7, 9): 1, (9,): -1, (): 1} \n",
      "\n",
      "{(8,): -1, (8, 9): 1, (9,): -1, (): 1} \n",
      "\n",
      "{(0,): -1, (0, 6): 1, (6,): -1, (): 1} \n",
      "\n",
      "{(1,): -1, (1, 5): 1, (5,): -1, (): 1} \n",
      "\n",
      "{(1,): -1, (1, 8): 1, (8,): -1, (): 1} \n",
      "\n",
      "{(3,): -1, (3, 6): 1, (6,): -1, (): 1} \n",
      "\n",
      "{(0,): -1, (0, 4): 1, (4,): -1, (): 1} \n",
      "\n",
      "{(0,): -1, (0, 9): 1, (9,): -1, (): 1} \n",
      "\n",
      "{(0,): -1, (0, 3): 1, (3,): -1, (): 1} \n",
      "\n",
      "{(0,): -1, (0, 8): 1, (8,): -1, (): 1} \n",
      "\n",
      "{(3,): -1, (3, 4): 1, (4,): -1, (): 1} \n",
      "\n",
      "{(5,): -1, (5, 8): 1, (8,): -1, (): 1} \n",
      "\n",
      "{(3,): -1, (3, 5): 1, (5,): -1, (): 1} \n",
      "\n"
     ]
    }
   ],
   "source": [
    "print(H.constraints, \"\\n\")\n",
    "print(\"Equality constraints:\\n\")\n",
    "for x in H.constraints.get(\"eq\", []):\n",
    "    print(x, \"\\n\")"
   ]
  },
  {
   "cell_type": "markdown",
   "metadata": {},
   "source": [
    "Notice that the constraints are automatically added to the objective function. The `'eq'` key of the constraints dictionary indicates that the quantity equals zero. Other possible keys are `'lt'`, `'le'`, `'gt'`, `'ge'`, and `'ne'`. See the docstrings for `PCBO.add_constraint_eq_zero`, `PCBO.add_constraint_lt_zero`, `PCBO.add_constraint_le_zero`, `PCBO.add_constraint_gt_zero`, `PCBO.add_constraint_ge_zero`, and `PCBO.add_constraint_ne_zero` for info.\n",
    "\n",
    "Here is the final PUBO formulation of the problem. Finding the solution is equivalent to minimizing it as `lam` goes to infinity."
   ]
  },
  {
   "cell_type": "code",
   "execution_count": 6,
   "metadata": {},
   "outputs": [
    {
     "name": "stdout",
     "output_type": "stream",
     "text": [
      "{(0,): 1 - 5*lam, (1,): 1 - 2*lam, (2,): 1 - lam, (3,): 1 - 4*lam, (4,): 1 - 4*lam, (5,): 1 - 5*lam, (6,): 1 - 6*lam, (7,): 1 - 2*lam, (8,): 1 - 5*lam, (9,): 1 - 4*lam, (4, 7): lam, (): 19*lam, (2, 6): lam, (6, 9): lam, (6, 8): lam, (4, 5): lam, (5, 6): lam, (7, 9): lam, (8, 9): lam, (0, 6): lam, (1, 5): lam, (1, 8): lam, (3, 6): lam, (0, 4): lam, (0, 9): lam, (0, 3): lam, (0, 8): lam, (3, 4): lam, (5, 8): lam, (3, 5): lam} \n",
      "\n",
      "Number of variables: 10\n",
      "degree: 2\n"
     ]
    }
   ],
   "source": [
    "print(H, \"\\n\")\n",
    "print(\"Number of variables:\", H.num_binary_variables)\n",
    "print(\"degree:\", H.degree)"
   ]
  },
  {
   "cell_type": "markdown",
   "metadata": {},
   "source": [
    "Here we see the full PUBO representing the PCBO. Let's solve it bruteforce to make sure everything is working well. `H.solve_bruteforce` will ensure that all the constraints are satisfied."
   ]
  },
  {
   "cell_type": "code",
   "execution_count": 7,
   "metadata": {},
   "outputs": [
    {
     "name": "stdout",
     "output_type": "stream",
     "text": [
      "{0: 0, 1: 0, 2: 0, 3: 1, 4: 1, 5: 1, 6: 1, 7: 0, 8: 1, 9: 1}\n",
      "{0: 0, 1: 1, 2: 0, 3: 1, 4: 1, 5: 0, 6: 1, 7: 0, 8: 1, 9: 1}\n",
      "{0: 1, 1: 0, 2: 0, 3: 0, 4: 1, 5: 1, 6: 1, 7: 0, 8: 1, 9: 1}\n",
      "{0: 1, 1: 0, 2: 0, 3: 0, 4: 1, 5: 1, 6: 1, 7: 1, 8: 1, 9: 0}\n",
      "{0: 1, 1: 0, 2: 0, 3: 1, 4: 0, 5: 1, 6: 1, 7: 1, 8: 1, 9: 0}\n",
      "{0: 1, 1: 1, 2: 0, 3: 0, 4: 1, 5: 1, 6: 1, 7: 0, 8: 0, 9: 1}\n"
     ]
    }
   ],
   "source": [
    "H_solutions = H.solve_bruteforce(all_solutions=True)\n",
    "for sol in H_solutions:\n",
    "    print(sol)"
   ]
  },
  {
   "cell_type": "markdown",
   "metadata": {},
   "source": [
    "We see there are 6 possible solutions to this Vertex Cover problem."
   ]
  },
  {
   "cell_type": "markdown",
   "metadata": {},
   "source": [
    "Now let's solve this problem with a generic QUBO solver. Since the degree of this PCBO is 2, it is already in fact a QUBO. However, let's still do the following steps, since they work in general even when the degree is larger than 2."
   ]
  },
  {
   "cell_type": "code",
   "execution_count": 8,
   "metadata": {},
   "outputs": [
    {
     "name": "stdout",
     "output_type": "stream",
     "text": [
      "{(0,): 1 - 5*lam, (1,): 1 - 2*lam, (2,): 1 - lam, (3,): 1 - 4*lam, (4,): 1 - 4*lam, (5,): 1 - 5*lam, (6,): 1 - 6*lam, (7,): 1 - 2*lam, (8,): 1 - 5*lam, (9,): 1 - 4*lam, (4, 7): lam, (2, 6): lam, (6, 9): lam, (6, 8): lam, (4, 5): lam, (5, 6): lam, (7, 9): lam, (8, 9): lam, (0, 6): lam, (1, 5): lam, (1, 8): lam, (3, 6): lam, (0, 4): lam, (0, 9): lam, (0, 3): lam, (0, 8): lam, (3, 4): lam, (5, 8): lam, (3, 5): lam, (): 19*lam}\n"
     ]
    }
   ],
   "source": [
    "Q = H.to_qubo()\n",
    "print(Q)"
   ]
  },
  {
   "cell_type": "markdown",
   "metadata": {},
   "source": [
    "For testing purposes, let's solve this with bruteforce to see what the proper value of `lam` should be to enforce the constraints. Notice how we remap the QUBO solution to the PCBO solution with `H.convert_solution(x)`. Also note that although the `H.solve_bruteforce` method ensured that the solutions satisfied all the constraints, the `Q.solve_bruteforce` method will not! This is because the `Q` is a QUBO object which is unconstrained, whereas the `H` is a PCBO object which is allowed to be constrained."
   ]
  },
  {
   "cell_type": "code",
   "execution_count": 9,
   "metadata": {
    "scrolled": false
   },
   "outputs": [
    {
     "name": "stdout",
     "output_type": "stream",
     "text": [
      "lam 1\n",
      "\t {0: 0, 1: 0, 2: 0, 3: 0, 4: 1, 5: 1, 6: 1, 7: 0, 8: 1, 9: 1} is invalid\n",
      "\t {0: 0, 1: 0, 2: 0, 3: 1, 4: 1, 5: 0, 6: 1, 7: 0, 8: 1, 9: 1} is invalid\n",
      "\t {0: 0, 1: 0, 2: 0, 3: 1, 4: 1, 5: 1, 6: 1, 7: 0, 8: 1, 9: 1} is valid\n",
      "\t {0: 0, 1: 1, 2: 0, 3: 1, 4: 1, 5: 0, 6: 1, 7: 0, 8: 1, 9: 1} is valid\n",
      "\t {0: 1, 1: 0, 2: 0, 3: 0, 4: 0, 5: 1, 6: 1, 7: 1, 8: 1, 9: 0} is invalid\n",
      "\t {0: 1, 1: 0, 2: 0, 3: 0, 4: 1, 5: 1, 6: 1, 7: 0, 8: 0, 9: 1} is invalid\n",
      "\t {0: 1, 1: 0, 2: 0, 3: 0, 4: 1, 5: 1, 6: 1, 7: 0, 8: 1, 9: 0} is invalid\n",
      "\t {0: 1, 1: 0, 2: 0, 3: 0, 4: 1, 5: 1, 6: 1, 7: 0, 8: 1, 9: 1} is valid\n",
      "\t {0: 1, 1: 0, 2: 0, 3: 0, 4: 1, 5: 1, 6: 1, 7: 1, 8: 1, 9: 0} is valid\n",
      "\t {0: 1, 1: 0, 2: 0, 3: 1, 4: 0, 5: 1, 6: 1, 7: 1, 8: 1, 9: 0} is valid\n",
      "\t {0: 1, 1: 1, 2: 0, 3: 0, 4: 1, 5: 1, 6: 1, 7: 0, 8: 0, 9: 1} is valid\n",
      "\n",
      "lam 2\n",
      "\t {0: 0, 1: 0, 2: 0, 3: 1, 4: 1, 5: 1, 6: 1, 7: 0, 8: 1, 9: 1} is valid\n",
      "\t {0: 0, 1: 1, 2: 0, 3: 1, 4: 1, 5: 0, 6: 1, 7: 0, 8: 1, 9: 1} is valid\n",
      "\t {0: 1, 1: 0, 2: 0, 3: 0, 4: 1, 5: 1, 6: 1, 7: 0, 8: 1, 9: 1} is valid\n",
      "\t {0: 1, 1: 0, 2: 0, 3: 0, 4: 1, 5: 1, 6: 1, 7: 1, 8: 1, 9: 0} is valid\n",
      "\t {0: 1, 1: 0, 2: 0, 3: 1, 4: 0, 5: 1, 6: 1, 7: 1, 8: 1, 9: 0} is valid\n",
      "\t {0: 1, 1: 1, 2: 0, 3: 0, 4: 1, 5: 1, 6: 1, 7: 0, 8: 0, 9: 1} is valid\n",
      "\n",
      "lam 3\n",
      "\t {0: 0, 1: 0, 2: 0, 3: 1, 4: 1, 5: 1, 6: 1, 7: 0, 8: 1, 9: 1} is valid\n",
      "\t {0: 0, 1: 1, 2: 0, 3: 1, 4: 1, 5: 0, 6: 1, 7: 0, 8: 1, 9: 1} is valid\n",
      "\t {0: 1, 1: 0, 2: 0, 3: 0, 4: 1, 5: 1, 6: 1, 7: 0, 8: 1, 9: 1} is valid\n",
      "\t {0: 1, 1: 0, 2: 0, 3: 0, 4: 1, 5: 1, 6: 1, 7: 1, 8: 1, 9: 0} is valid\n",
      "\t {0: 1, 1: 0, 2: 0, 3: 1, 4: 0, 5: 1, 6: 1, 7: 1, 8: 1, 9: 0} is valid\n",
      "\t {0: 1, 1: 1, 2: 0, 3: 0, 4: 1, 5: 1, 6: 1, 7: 0, 8: 0, 9: 1} is valid\n",
      "\n"
     ]
    }
   ],
   "source": [
    "for l in (1, 2, 3):\n",
    "    Q_temp = Q.subs({lam: l})\n",
    "    solutions = Q_temp.solve_bruteforce(all_solutions=True)\n",
    "    solutions = [H.convert_solution(x) for x in solutions]\n",
    "    print('lam', l)\n",
    "    for s in solutions:\n",
    "        print(\"\\t\", s, \"is\", \"valid\" if H.is_solution_valid(s) else \"invalid\")\n",
    "    print()"
   ]
  },
  {
   "cell_type": "markdown",
   "metadata": {},
   "source": [
    "We see that `lam = 2` is sufficient to enforce the constraints, and we get back the same results as from the PCBO solve. So let's update our QUBO."
   ]
  },
  {
   "cell_type": "code",
   "execution_count": 10,
   "metadata": {},
   "outputs": [],
   "source": [
    "Q_good = Q.subs({lam: 2})"
   ]
  },
  {
   "cell_type": "markdown",
   "metadata": {},
   "source": [
    "Now let's solve the QUBO with D'Wave's simulated annealer."
   ]
  },
  {
   "cell_type": "code",
   "execution_count": 11,
   "metadata": {},
   "outputs": [],
   "source": [
    "#!pip install dwave-neal\n",
    "from neal import SimulatedAnnealingSampler\n",
    "\n",
    "sampler = SimulatedAnnealingSampler()"
   ]
  },
  {
   "cell_type": "markdown",
   "metadata": {},
   "source": [
    "Note that their software package takes in a specific form for QUBOs, namely, the keys of the dictionary must be two element tuples. This form can be accessed from `Q` with `Q.Q` and from `Q_good` with `Q_good.Q`."
   ]
  },
  {
   "cell_type": "code",
   "execution_count": 12,
   "metadata": {},
   "outputs": [
    {
     "name": "stdout",
     "output_type": "stream",
     "text": [
      "objective function: 6.0 \n",
      "\n",
      "qubo solution: {0: 1, 1: 0, 2: 0, 3: 1, 4: 0, 5: 1, 6: 1, 7: 1, 8: 1, 9: 0} \n",
      "\n",
      "pcbo solution: {0: 1, 1: 0, 2: 0, 3: 1, 4: 0, 5: 1, 6: 1, 7: 1, 8: 1, 9: 0}\n",
      "objective function: 6 \n",
      "\n",
      "The solution is valid\n"
     ]
    }
   ],
   "source": [
    "qubo_sample = sampler.sample_qubo(Q_good.Q, num_reads=500)\n",
    "print(\"objective function:\", qubo_sample.first.energy + Q_good.offset, \"\\n\")\n",
    "\n",
    "qubo_solution = qubo_sample.first.sample\n",
    "print(\"qubo solution:\", qubo_solution, \"\\n\")\n",
    "\n",
    "solution = H.convert_solution(qubo_solution)\n",
    "print(\"pcbo solution:\", solution)\n",
    "print(\"objective function:\", H.value(solution), \"\\n\")\n",
    "\n",
    "print(\"The solution is\", \"valid\" if H.is_solution_valid(solution) else \"invalid\")"
   ]
  },
  {
   "cell_type": "markdown",
   "metadata": {},
   "source": [
    "Notice that `H.is_solution_valid` checks if all the constraints are satisfied. Notice also that the objective function is equal to the number of colred edges.\n",
    "\n",
    "Now we'll solve an QUSO formulation of our problem."
   ]
  },
  {
   "cell_type": "code",
   "execution_count": 13,
   "metadata": {},
   "outputs": [
    {
     "name": "stdout",
     "output_type": "stream",
     "text": [
      "{(0,): 2.0, (): 14.5, (1,): 0.5, (3,): 1.5, (4,): 1.5, (5,): 2.0, (6,): 2.5, (7,): 0.5, (8,): 2.0, (9,): 1.5, (4, 7): 0.5, (2, 6): 0.5, (6, 9): 0.5, (6, 8): 0.5, (4, 5): 0.5, (5, 6): 0.5, (7, 9): 0.5, (8, 9): 0.5, (0, 6): 0.5, (1, 5): 0.5, (1, 8): 0.5, (3, 6): 0.5, (0, 4): 0.5, (0, 9): 0.5, (0, 3): 0.5, (0, 8): 0.5, (3, 4): 0.5, (5, 8): 0.5, (3, 5): 0.5}\n"
     ]
    }
   ],
   "source": [
    "L = H.to_quso().subs({lam: 2})\n",
    "# note that we cannot do H.subs({lam: 2}).to_quso()!! This is because H.subs({lam: 2})\n",
    "# creates a new PCBO object, and it's mapping from variables labels to integers may be\n",
    "# different than H's mapping. For example, try H.mapping == H.subs({lam: 2}).mapping a\n",
    "# few times. They will often be different.\n",
    "print(L)"
   ]
  },
  {
   "cell_type": "markdown",
   "metadata": {},
   "source": [
    "Similar to their QUBO solver, D'Wave's QUSO solver accepts a specific form for QUSO models, namely a linear term dictionary and a quadratic term dictionary. These can be accessed with `L.h` and `L.J`."
   ]
  },
  {
   "cell_type": "code",
   "execution_count": 14,
   "metadata": {},
   "outputs": [
    {
     "name": "stdout",
     "output_type": "stream",
     "text": [
      "objective function: 6.0 \n",
      "\n",
      "quso solution: {0: 1, 1: -1, 2: 1, 3: -1, 4: -1, 5: 1, 6: -1, 7: 1, 8: -1, 9: -1} \n",
      "\n",
      "pcbo solution: {0: 0, 1: 1, 2: 0, 3: 1, 4: 1, 5: 0, 6: 1, 7: 0, 8: 1, 9: 1}\n",
      "objective function: 6 \n",
      "\n",
      "The solution is valid\n"
     ]
    }
   ],
   "source": [
    "quso_sample = sampler.sample_ising(L.h, L.J, num_reads=500)\n",
    "print(\"objective function:\", quso_sample.first.energy + L.offset, \"\\n\")\n",
    "\n",
    "quso_solution = quso_sample.first.sample\n",
    "print(\"quso solution:\", quso_solution, \"\\n\")\n",
    "\n",
    "solution = H.convert_solution(quso_solution)\n",
    "print(\"pcbo solution:\", solution)\n",
    "print(\"objective function:\", H.value(solution), \"\\n\")\n",
    "\n",
    "print(\"The solution is\", \"valid\" if H.is_solution_valid(solution) else \"invalid\")"
   ]
  },
  {
   "cell_type": "markdown",
   "metadata": {},
   "source": [
    "We see that the solution is again valid."
   ]
  },
  {
   "cell_type": "markdown",
   "metadata": {},
   "source": [
    "<div id=\"problems\" />\n",
    "\n",
    "## Solving Vertex Cover with the `qubovert.problems` library\n",
    "\n",
    "Here we will use the ``qubovert.problems`` library to abstract away all the thinking involved in formulating the Vertex Cover problem. Begin by importing the `VertexCover` class."
   ]
  },
  {
   "cell_type": "code",
   "execution_count": 15,
   "metadata": {},
   "outputs": [],
   "source": [
    "from qubovert.problems import VertexCover\n",
    "\n",
    "problem = VertexCover(edges)"
   ]
  },
  {
   "cell_type": "markdown",
   "metadata": {},
   "source": [
    "Let's solve it bruteforce to make sure everything is working."
   ]
  },
  {
   "cell_type": "code",
   "execution_count": 16,
   "metadata": {},
   "outputs": [
    {
     "name": "stdout",
     "output_type": "stream",
     "text": [
      "[{3, 4, 5, 6, 8, 9}, {1, 3, 4, 6, 8, 9}, {0, 4, 5, 6, 8, 9}, {0, 4, 5, 6, 7, 8}, {0, 3, 5, 6, 7, 8}, {0, 1, 4, 5, 6, 9}]\n"
     ]
    }
   ],
   "source": [
    "print(problem.solve_bruteforce(all_solutions=True))"
   ]
  },
  {
   "cell_type": "markdown",
   "metadata": {},
   "source": [
    "Notice how the format of each solution is a set of vertices, indicating which vertices to color. Again we find 6 valid solutions as we did with the PCBO method above."
   ]
  },
  {
   "cell_type": "markdown",
   "metadata": {},
   "source": [
    "Now let's solve the QUBO with D'Wave's simulated annealer. The `problem.to_qubo` method takes in as an argument some lagrange multipliers for the QUBO formulation, but if left blank they are automatically formed to enforce the constraints."
   ]
  },
  {
   "cell_type": "code",
   "execution_count": 17,
   "metadata": {},
   "outputs": [
    {
     "name": "stdout",
     "output_type": "stream",
     "text": [
      "Number of QUBO variables: 10 \n",
      "\n",
      "qubo solution: {0: 1, 1: 0, 2: 0, 3: 1, 4: 0, 5: 1, 6: 1, 7: 1, 8: 1, 9: 0}\n",
      "qubo objective function: 6.0 \n",
      "\n",
      "problem solution (which vertices to cover): {0, 3, 5, 6, 7, 8} \n",
      "\n",
      "The solution is valid\n"
     ]
    }
   ],
   "source": [
    "Q = problem.to_qubo()\n",
    "\n",
    "print(\"Number of QUBO variables:\", Q.num_binary_variables, \"\\n\")\n",
    "\n",
    "qubo_solution = qubo_sample.first.sample\n",
    "print(\"qubo solution:\", qubo_solution)\n",
    "\n",
    "qubo_sample = sampler.sample_qubo(Q.Q, num_reads=500)\n",
    "print(\"qubo objective function:\", qubo_sample.first.energy + Q.offset, \"\\n\")\n",
    "\n",
    "solution = problem.convert_solution(qubo_solution)\n",
    "print(\"problem solution (which vertices to cover):\", solution, \"\\n\")\n",
    "\n",
    "print(\"The solution is\", \"valid\" if problem.is_solution_valid(solution) else \"invalid\")"
   ]
  },
  {
   "cell_type": "markdown",
   "metadata": {},
   "source": [
    "Note that the QUBO solution that maps integers 0 through 9 to values 0 or 1 may have a different mapping. Ie the QUBO label 0 may not actually correspond to vertex 0, this is why it is crucial to use the `problem.convert_solution` method!\n",
    "\n",
    "Now let's solve the QUSO."
   ]
  },
  {
   "cell_type": "code",
   "execution_count": 18,
   "metadata": {},
   "outputs": [
    {
     "name": "stdout",
     "output_type": "stream",
     "text": [
      "Number of QUSO variables: 10 \n",
      "\n",
      "quso solution: {0: 1, 1: -1, 2: 1, 3: -1, 4: -1, 5: 1, 6: -1, 7: 1, 8: -1, 9: -1}\n",
      "quso objective function: 6.0 \n",
      "\n",
      "problem solution: {1, 3, 4, 6, 8, 9} \n",
      "\n",
      "The solution is valid\n"
     ]
    }
   ],
   "source": [
    "L = problem.to_quso()\n",
    "\n",
    "print(\"Number of QUSO variables:\", L.num_binary_variables, \"\\n\")\n",
    "\n",
    "quso_solution = quso_sample.first.sample\n",
    "print(\"quso solution:\", quso_solution)\n",
    "\n",
    "quso_sample = sampler.sample_ising(L.h, L.J, num_reads=500)\n",
    "print(\"quso objective function:\", quso_sample.first.energy + L.offset, \"\\n\")\n",
    "\n",
    "solution = problem.convert_solution(quso_solution)\n",
    "print(\"problem solution:\", solution, \"\\n\")\n",
    "\n",
    "print(\"The solution is\", \"valid\" if problem.is_solution_valid(solution) else \"invalid\")"
   ]
  },
  {
   "cell_type": "markdown",
   "metadata": {},
   "source": [
    "Thus we have solved the Vertex Cover problem!"
   ]
  }
 ],
 "metadata": {
  "kernelspec": {
   "display_name": "Python 3",
   "language": "python",
   "name": "python3"
  },
  "language_info": {
   "codemirror_mode": {
    "name": "ipython",
    "version": 3
   },
   "file_extension": ".py",
   "mimetype": "text/x-python",
   "name": "python",
   "nbconvert_exporter": "python",
   "pygments_lexer": "ipython3",
   "version": "3.6.9"
  }
 },
 "nbformat": 4,
 "nbformat_minor": 2
}
