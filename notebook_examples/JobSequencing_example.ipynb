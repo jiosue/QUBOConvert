{
 "cells": [
  {
   "cell_type": "markdown",
   "metadata": {},
   "source": [
    "# Job Sequencing example with the `qubovert.problems` library"
   ]
  },
  {
   "cell_type": "markdown",
   "metadata": {},
   "source": [
    "*qubovert* must be pip installed."
   ]
  },
  {
   "cell_type": "markdown",
   "metadata": {},
   "source": [
    "Import the Job Sequencing problem from the `qubovert.problems` module."
   ]
  },
  {
   "cell_type": "code",
   "execution_count": 2,
   "metadata": {},
   "outputs": [],
   "source": [
    "from qubovert.problems import JobSequencing"
   ]
  },
  {
   "cell_type": "markdown",
   "metadata": {},
   "source": [
    "Let's create a Job Sequencing problem. We have three jobs that each take a certain amount of time.\n",
    "\n",
    "- Job 1 takes 2 timesteps.\n",
    "- Job 2 takes 3 timesteps.\n",
    "- Job 3 takes 1 timesteps.\n",
    "\n",
    "And we have two employees that can cover these jobs."
   ]
  },
  {
   "cell_type": "code",
   "execution_count": 3,
   "metadata": {},
   "outputs": [],
   "source": [
    "job_lengths = {\"job1\": 2, \"job2\": 3, \"job3\": 1}\n",
    "num_workers = 2"
   ]
  },
  {
   "cell_type": "markdown",
   "metadata": {},
   "source": [
    "The goal is to minimize the amount of time the worker who works the longest works, subject to the constraint that each job is covered exactly once."
   ]
  },
  {
   "cell_type": "code",
   "execution_count": 4,
   "metadata": {},
   "outputs": [],
   "source": [
    "problem = JobSequencing(job_lengths, num_workers)"
   ]
  },
  {
   "cell_type": "markdown",
   "metadata": {},
   "source": [
    "To ensure everything is working, let's solve this problem bruteforce."
   ]
  },
  {
   "cell_type": "code",
   "execution_count": 5,
   "metadata": {},
   "outputs": [
    {
     "name": "stdout",
     "output_type": "stream",
     "text": [
      "[({'job2'}, {'job3', 'job1'}), ({'job3', 'job1'}, {'job2'})]\n"
     ]
    }
   ],
   "source": [
    "solutions = problem.solve_bruteforce(all_solutions=True)\n",
    "print(solutions)"
   ]
  },
  {
   "cell_type": "markdown",
   "metadata": {},
   "source": [
    "We see there are two possible solutions, where one worker gets jobs 1 and 3 and the other worker gets job 2. This means that the worker who works the longest works 3 timesteps, which is indeed the minimum.\n",
    "\n",
    "Let's convert this problem to a QUBO and solve it with D'Wave's simulated annealer."
   ]
  },
  {
   "cell_type": "code",
   "execution_count": 6,
   "metadata": {},
   "outputs": [],
   "source": [
    "#!pip install dwave-neal\n",
    "from neal import SimulatedAnnealingSampler\n",
    "\n",
    "sampler = SimulatedAnnealingSampler()"
   ]
  },
  {
   "cell_type": "markdown",
   "metadata": {},
   "source": [
    "Note that their software package takes in a specific form for QUBOs, namely, the keys of the dictionary must be two element tuples. This form can be accessed from `Q` with `Q.Q`."
   ]
  },
  {
   "cell_type": "code",
   "execution_count": 7,
   "metadata": {},
   "outputs": [
    {
     "name": "stdout",
     "output_type": "stream",
     "text": [
      "Number of qubo variables: 10 \n",
      "\n",
      "objective function: 3.0 \n",
      "\n",
      "qubo solution: {0: 0, 1: 1, 2: 1, 3: 0, 4: 0, 5: 1, 6: 0, 7: 0, 8: 0, 9: 0} \n",
      "\n",
      "problem solution: ({'job2'}, {'job3', 'job1'}) \n",
      "\n",
      "The solution is valid\n"
     ]
    }
   ],
   "source": [
    "# to_qubo takes lagrange multipliers as option arguments. see the docstring for info.\n",
    "Q = problem.to_qubo()\n",
    "\n",
    "# or problem.num_binary_variables\n",
    "print(\"Number of qubo variables:\", Q.num_binary_variables, \"\\n\")\n",
    "\n",
    "qubo_sample = sampler.sample_qubo(Q.Q, num_reads=500)\n",
    "print(\"objective function:\", qubo_sample.first.energy + Q.offset, \"\\n\")\n",
    "\n",
    "qubo_solution = qubo_sample.first.sample\n",
    "print(\"qubo solution:\", qubo_solution, \"\\n\")\n",
    "\n",
    "solution = problem.convert_solution(qubo_solution)\n",
    "print(\"problem solution:\", solution, \"\\n\")\n",
    "\n",
    "print(\"The solution is\", \"valid\" if problem.is_solution_valid(solution) else \"invalid\")"
   ]
  },
  {
   "cell_type": "markdown",
   "metadata": {},
   "source": [
    "Notice that the solution is valid because each job is covered exactly once. Also notice that the objective function is equal to `max(sum(job_lengths[i] for i in x) for x in solution)`, ie the duration of the longest workers schedule.\n",
    "\n",
    "Now let's solve the QUSO formulation to confirm we get the same thing."
   ]
  },
  {
   "cell_type": "code",
   "execution_count": 8,
   "metadata": {},
   "outputs": [
    {
     "name": "stdout",
     "output_type": "stream",
     "text": [
      "Number of quso variables: 10 \n",
      "\n",
      "objective function: 3.0 \n",
      "\n",
      "quso solution: {0: 1, 1: -1, 2: -1, 3: 1, 4: 1, 5: -1, 6: 1, 7: 1, 8: 1, 9: 1} \n",
      "\n",
      "problem solution: ({'job2'}, {'job3', 'job1'}) \n",
      "\n",
      "The solution is valid\n"
     ]
    }
   ],
   "source": [
    "# to_quso takes lagrange multipliers as option arguments. see the docstring for info.\n",
    "L = problem.to_quso()\n",
    "\n",
    "# or problem.num_binary_variables\n",
    "print(\"Number of quso variables:\", L.num_binary_variables, \"\\n\")\n",
    "\n",
    "quso_sample = sampler.sample_ising(L.h, L.J, num_reads=500)\n",
    "print(\"objective function:\", quso_sample.first.energy + L.offset, \"\\n\")\n",
    "\n",
    "quso_solution = quso_sample.first.sample\n",
    "print(\"quso solution:\", quso_solution, \"\\n\")\n",
    "\n",
    "solution = problem.convert_solution(quso_solution)\n",
    "print(\"problem solution:\", solution, \"\\n\")\n",
    "\n",
    "print(\"The solution is\", \"valid\" if problem.is_solution_valid(solution) else \"invalid\")"
   ]
  },
  {
   "cell_type": "markdown",
   "metadata": {},
   "source": [
    "Indeed we get the same result!"
   ]
  }
 ],
 "metadata": {
  "kernelspec": {
   "display_name": "Python 3",
   "language": "python",
   "name": "python3"
  },
  "language_info": {
   "codemirror_mode": {
    "name": "ipython",
    "version": 3
   },
   "file_extension": ".py",
   "mimetype": "text/x-python",
   "name": "python",
   "nbconvert_exporter": "python",
   "pygments_lexer": "ipython3",
   "version": "3.7.2"
  }
 },
 "nbformat": 4,
 "nbformat_minor": 2
}
