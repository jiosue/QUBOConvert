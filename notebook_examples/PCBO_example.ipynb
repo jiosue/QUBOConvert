{
 "cells": [
  {
   "cell_type": "markdown",
   "metadata": {},
   "source": [
    "# Polynomial Constrained Boolean Optimization (PCBO) problems with qubovert"
   ]
  },
  {
   "cell_type": "markdown",
   "metadata": {},
   "source": [
    "*qubovert* must be pip installed."
   ]
  },
  {
   "cell_type": "markdown",
   "metadata": {},
   "source": [
    "Import `boolean_var` from `qubovert`. This will create Polynomial Constrained Boolean Optimization (PCBO) objects."
   ]
  },
  {
   "cell_type": "code",
   "execution_count": 2,
   "metadata": {},
   "outputs": [],
   "source": [
    "from qubovert import boolean_var"
   ]
  },
  {
   "cell_type": "markdown",
   "metadata": {},
   "source": [
    "Let's try to encode the optimization problem of finding the minimum of $C$, where\n",
    "\n",
    "$$C = x_0 x_1 - 2x_1 + x_1 x_2 x_3.$$"
   ]
  },
  {
   "cell_type": "code",
   "execution_count": 3,
   "metadata": {},
   "outputs": [
    {
     "name": "stdout",
     "output_type": "stream",
     "text": [
      "{('x0', 'x1'): 1, ('x1',): -2, ('x3', 'x2', 'x1'): 1}\n"
     ]
    }
   ],
   "source": [
    "# create the variables\n",
    "x = [boolean_var(\"x%d\" % i) for i in range(4)]\n",
    "\n",
    "C = x[0] * x[1] - 2 * x[1] + x[1] * x[2] * x[3]\n",
    "\n",
    "print(C)"
   ]
  },
  {
   "cell_type": "markdown",
   "metadata": {},
   "source": [
    "And we subject $C$ to the constraints\n",
    "\n",
    "$$x_0 \\oplus x_1 = x_3, \\quad 3x_0 + 2x_1 + 4x_3 < 7, \\quad {\\rm and} \\quad x_0 x_1 = x_3 - x_2.$$\n",
    "\n",
    "To enforce the constraints, we will pick a symbol $\\lambda$ that we can tune as we like later."
   ]
  },
  {
   "cell_type": "code",
   "execution_count": 4,
   "metadata": {},
   "outputs": [
    {
     "name": "stdout",
     "output_type": "stream",
     "text": [
      "{('x0', 'x1'): 11*lam + 1, ('x1',): -19*lam - 2, ('x3', 'x2', 'x1'): 1, ('x0',): -26*lam, ('x3', 'x0'): 22*lam, ('x3', 'x0', 'x1'): 2*lam, ('x3', 'x1'): 14*lam, ('x3',): -30*lam, ('__a0', 'x0'): 6*lam, ('x0', '__a1'): 12*lam, ('x0', '__a2'): 24*lam, ('__a0', 'x1'): 4*lam, ('__a1', 'x1'): 8*lam, ('__a2', 'x1'): 16*lam, ('__a0', 'x3'): 8*lam, ('x3', '__a1'): 16*lam, ('x3', '__a2'): 32*lam, (): 36*lam, ('__a0',): -11*lam, ('__a1',): -20*lam, ('__a2',): -32*lam, ('__a0', '__a1'): 4*lam, ('__a0', '__a2'): 8*lam, ('__a1', '__a2'): 16*lam, ('x0', 'x2', 'x1'): 2*lam, ('x3', 'x2'): -2*lam, ('x2',): lam}\n"
     ]
    }
   ],
   "source": [
    "#!pip install sympy\n",
    "from sympy import Symbol\n",
    "\n",
    "lam = Symbol(\"lam\", real=True, positive=True)\n",
    "\n",
    "C.add_constraint_eq_XOR(\n",
    "    x[3], x[0], x[1],\n",
    "    lam=lam\n",
    ").add_constraint_lt_zero(\n",
    "    3 * x[0] + 2 * x[1] + 4 * x[3] - 7,\n",
    "    lam=lam\n",
    ").add_constraint_eq_zero(\n",
    "    x[0] * x[1] - x[3] + x[2],\n",
    "    lam=lam\n",
    ")\n",
    "\n",
    "print(C)"
   ]
  },
  {
   "cell_type": "markdown",
   "metadata": {},
   "source": [
    "Notice that the constraints are automatically added to the objective function, and in particular the inequality constraint introduced some ancilla bits (labeled `'_a0'`, `'_a1'`, and `'_a2'`). Let's look at the constraints."
   ]
  },
  {
   "cell_type": "code",
   "execution_count": 5,
   "metadata": {},
   "outputs": [
    {
     "name": "stdout",
     "output_type": "stream",
     "text": [
      "{'eq': [{('x0',): 1, ('x0', 'x1'): -2, ('x1',): 1, ('x3',): -1}, {('x0', 'x1'): 1, ('x3',): -1, ('x2',): 1}], 'lt': [{('x0',): 3, ('x1',): 2, ('x3',): 4, (): -7}]}\n"
     ]
    }
   ],
   "source": [
    "print(C.constraints)"
   ]
  },
  {
   "cell_type": "markdown",
   "metadata": {},
   "source": [
    "Notice there are two equality constraints and one inequality constraint. The first equality one comes from enforcing the XOR constraint, and the second comes from enforcing the other equality constraint. The `'eq'` key of the constraints dictionary indicates that the quantity equals zero, and the `'lt'` key of the constraints dictionary indicates that the quantity is less than zero. Other possible keys are `'le'`, `'gt'`, `'ge'`, and `'ne'`. See the docstrings for `PCBO.add_constraint_eq_zero`, `PCBO.add_constraint_lt_zero`, `PCBO.add_constraint_le_zero`, `PCBO.add_constraint_gt_zero`, `PCBO.add_constraint_ge_zero`, and `PCBO.add_constraint_ne_zero` for info."
   ]
  },
  {
   "cell_type": "markdown",
   "metadata": {},
   "source": [
    "For testing purposes, let's solve this bruteforce to make sure everything is working."
   ]
  },
  {
   "cell_type": "code",
   "execution_count": 6,
   "metadata": {},
   "outputs": [
    {
     "name": "stdout",
     "output_type": "stream",
     "text": [
      "[{'x0': 0, 'x1': 1, 'x3': 1, 'x2': 1, '__a0': 0, '__a1': 0, '__a2': 0}]\n"
     ]
    }
   ],
   "source": [
    "solutions = C.solve_bruteforce(all_solutions=True)\n",
    "print(solutions)"
   ]
  },
  {
   "cell_type": "markdown",
   "metadata": {},
   "source": [
    "Notice that there is one unique solution that minimizes the objective function and obeys all the constraints. We can get rid of the ancilla information with ``C.remove_ancilla_from_solution``."
   ]
  },
  {
   "cell_type": "code",
   "execution_count": 7,
   "metadata": {},
   "outputs": [
    {
     "data": {
      "text/plain": [
       "{'x0': 0, 'x1': 1, 'x3': 1, 'x2': 1}"
      ]
     },
     "execution_count": 7,
     "metadata": {},
     "output_type": "execute_result"
    }
   ],
   "source": [
    "solution = solutions[0]\n",
    "C.remove_ancilla_from_solution(solution)"
   ]
  },
  {
   "cell_type": "markdown",
   "metadata": {},
   "source": [
    "Now let's solve this problem with a generic QUBO solver. Notice that the degree of problem is more than two, making `C` not a natural Quadratic Unconstrained Boolean Optimization Problem (QUBO)."
   ]
  },
  {
   "cell_type": "code",
   "execution_count": 8,
   "metadata": {},
   "outputs": [
    {
     "data": {
      "text/plain": [
       "3"
      ]
     },
     "execution_count": 8,
     "metadata": {},
     "output_type": "execute_result"
    }
   ],
   "source": [
    "C.degree"
   ]
  },
  {
   "cell_type": "markdown",
   "metadata": {},
   "source": [
    "We can convert it to a QUBO (note that there are some options for the reduction from PUBO to QUBO, see the `C.to_qubo` method for details). Ancilla bits will need to be added, and bit labels are mapped to integers."
   ]
  },
  {
   "cell_type": "code",
   "execution_count": 9,
   "metadata": {},
   "outputs": [
    {
     "name": "stdout",
     "output_type": "stream",
     "text": [
      "num PUBO variables 7\n",
      "num QUBO variables 9\n",
      "\n",
      "{(0, 1): 13*lam + 2, (1,): -19*lam - 2, (7,): 6*lam + 9, (1, 2): 16*lam + 3, (1, 7): -4*lam - 6, (2, 7): -4*lam - 6, (3, 7): 1, (0,): -26*lam, (0, 2): 22*lam, (0, 7): 2*lam, (2,): -30*lam, (0, 4): 6*lam, (0, 5): 12*lam, (0, 6): 24*lam, (1, 4): 4*lam, (1, 5): 8*lam, (1, 6): 16*lam, (2, 4): 8*lam, (2, 5): 16*lam, (2, 6): 32*lam, (4,): -11*lam, (5,): -20*lam, (6,): -32*lam, (4, 5): 4*lam, (4, 6): 8*lam, (5, 6): 16*lam, (8,): 6*lam + 3, (0, 8): -4*lam - 2, (1, 8): -4*lam - 2, (3, 8): 2*lam, (2, 3): -2*lam, (3,): lam, (): 36*lam}\n"
     ]
    }
   ],
   "source": [
    "Q = C.to_qubo()\n",
    "print(\"num PUBO variables\", C.num_binary_variables)\n",
    "print(\"num QUBO variables\", Q.num_binary_variables)\n",
    "print()\n",
    "print(Q)"
   ]
  },
  {
   "cell_type": "markdown",
   "metadata": {},
   "source": [
    "For testing purposes, let's solve this with bruteforce to see what the proper value of $\\lambda$ should be to enforce the constraints. Notice how we remap the QUBO solution to the PCBO solution with `C.convert_solution(x)`."
   ]
  },
  {
   "cell_type": "code",
   "execution_count": 10,
   "metadata": {},
   "outputs": [
    {
     "name": "stdout",
     "output_type": "stream",
     "text": [
      "lam 1\n",
      "\t {'x0': 0, 'x1': 1, 'x3': 0, 'x2': 0, '__a0': 0, '__a1': 0, '__a2': 1} is invalid\n",
      "\t {'x0': 0, 'x1': 1, 'x3': 1, 'x2': 0, '__a0': 0, '__a1': 0, '__a2': 0} is invalid\n",
      "\t {'x0': 0, 'x1': 1, 'x3': 1, 'x2': 1, '__a0': 0, '__a1': 0, '__a2': 0} is valid\n",
      "\n",
      "lam 2\n",
      "\t {'x0': 0, 'x1': 1, 'x3': 1, 'x2': 1, '__a0': 0, '__a1': 0, '__a2': 0} is valid\n",
      "\n",
      "lam 3\n",
      "\t {'x0': 0, 'x1': 1, 'x3': 1, 'x2': 1, '__a0': 0, '__a1': 0, '__a2': 0} is valid\n",
      "\n"
     ]
    }
   ],
   "source": [
    "for l in (1, 2, 3):\n",
    "    Q_temp = Q.subs({lam: l})\n",
    "    solutions = Q_temp.solve_bruteforce(all_solutions=True)\n",
    "    solutions = [C.convert_solution(x) for x in solutions]\n",
    "    print('lam', l)\n",
    "    for s in solutions:\n",
    "        print(\"\\t\", s, \"is\", \"valid\" if C.is_solution_valid(s) else \"invalid\")\n",
    "    print()"
   ]
  },
  {
   "cell_type": "markdown",
   "metadata": {},
   "source": [
    "We see that $\\lambda = 2$ is sufficient to enforce the constraints. So let's update our QUBO."
   ]
  },
  {
   "cell_type": "code",
   "execution_count": 11,
   "metadata": {},
   "outputs": [],
   "source": [
    "Q_good = Q.subs({lam: 2})"
   ]
  },
  {
   "cell_type": "markdown",
   "metadata": {},
   "source": [
    "Now let's solve the QUBO with D'Wave's simulated annealer."
   ]
  },
  {
   "cell_type": "code",
   "execution_count": 12,
   "metadata": {},
   "outputs": [],
   "source": [
    "#!pip install dwave-neal\n",
    "from neal import SimulatedAnnealingSampler\n",
    "\n",
    "sampler = SimulatedAnnealingSampler()"
   ]
  },
  {
   "cell_type": "markdown",
   "metadata": {},
   "source": [
    "Note that their software package takes in a specific form for QUBOs, namely, the keys of the dictionary must be two element tuples. This form can be accessed from `Q` and `Q_good` with `Q.Q` or `Q_good.Q`."
   ]
  },
  {
   "cell_type": "code",
   "execution_count": 13,
   "metadata": {},
   "outputs": [
    {
     "name": "stdout",
     "output_type": "stream",
     "text": [
      "objective function: -1.0 \n",
      "\n",
      "qubo solution: {0: 0, 1: 1, 2: 1, 3: 1, 4: 0, 5: 0, 6: 0, 7: 1, 8: 0} \n",
      "\n",
      "pcbo solution: {'x0': 0, 'x1': 1, 'x3': 1, 'x2': 1, '__a0': 0, '__a1': 0, '__a2': 0}\n",
      "objective function: -1 \n",
      "\n",
      "The solution is valid\n"
     ]
    }
   ],
   "source": [
    "qubo_sample = sampler.sample_qubo(Q_good.Q, num_reads=100)\n",
    "print(\"objective function:\", qubo_sample.first.energy + Q_good.offset, \"\\n\")\n",
    "\n",
    "qubo_solution = qubo_sample.first.sample\n",
    "print(\"qubo solution:\", qubo_solution, \"\\n\")\n",
    "\n",
    "solution = C.convert_solution(qubo_solution)\n",
    "print(\"pcbo solution:\", solution)\n",
    "print(\"objective function:\", C.value(solution), \"\\n\")\n",
    "\n",
    "print(\"The solution is\", \"valid\" if C.is_solution_valid(solution) else \"invalid\")"
   ]
  },
  {
   "cell_type": "markdown",
   "metadata": {},
   "source": [
    "This matches the result of `C.solve_bruteforce()`. Now we'll solve an QUSO formulation of our problem. Again we'll take $\\lambda = 2$."
   ]
  },
  {
   "cell_type": "code",
   "execution_count": 14,
   "metadata": {},
   "outputs": [
    {
     "name": "stdout",
     "output_type": "stream",
     "text": [
      "num PUBO variables 7\n",
      "num QUSO variables 9\n",
      "\n",
      "{(0, 1): 7.0, (0,): -11.5, (1,): -3.75, (): 45.0, (7,): -4.75, (1, 2): 8.75, (2,): -13.25, (1, 7): -3.5, (2, 7): -3.5, (3, 7): 0.25, (3,): -1.25, (0, 2): 11.0, (0, 7): 1.0, (0, 4): 3.0, (0, 5): 6.0, (0, 6): 12.0, (6,): -16.0, (1, 4): 2.0, (1, 5): 4.0, (1, 6): 8.0, (2, 4): 4.0, (2, 5): 8.0, (2, 6): 16.0, (4, 5): 2.0, (4, 6): 4.0, (4,): -4.0, (5, 6): 8.0, (5,): -8.0, (8,): -3.5, (0, 8): -2.5, (1, 8): -2.5, (3, 8): 1.0, (2, 3): -1.0}\n"
     ]
    }
   ],
   "source": [
    "L = C.to_quso().subs({lam: 2})\n",
    "# note that we cannot do C.subs({lam: 2}).to_quso()!! This is because C.subs({lam: 2})\n",
    "# creates a new PCBO object, and it's mapping from variables labels to integers may be\n",
    "# different than C's mapping. For example, try C.mapping == C.subs({lam: 2}).mapping a\n",
    "# few times. They will often be different.\n",
    "print(\"num PUBO variables\", C.num_binary_variables)\n",
    "print(\"num QUSO variables\", L.num_binary_variables)\n",
    "print()\n",
    "print(L)"
   ]
  },
  {
   "cell_type": "markdown",
   "metadata": {},
   "source": [
    "Similar to their QUBO solver, D'Wave's QUSO solver accepts a specific form for QUSO models, namely a linear term dictionary and a quadratic term dictionary. These can be accessed with `L.h` and `L.J`."
   ]
  },
  {
   "cell_type": "code",
   "execution_count": 15,
   "metadata": {},
   "outputs": [
    {
     "name": "stdout",
     "output_type": "stream",
     "text": [
      "objective function: -1.0 \n",
      "\n",
      "quso solution: {0: 1, 1: -1, 2: -1, 3: -1, 4: 1, 5: 1, 6: 1, 7: -1, 8: 1} \n",
      "\n",
      "pcbo solution: {'x0': 0, 'x1': 1, 'x3': 1, 'x2': 1, '__a0': 0, '__a1': 0, '__a2': 0}\n",
      "objective function: -1 \n",
      "\n",
      "The solution is valid\n"
     ]
    }
   ],
   "source": [
    "quso_sample = sampler.sample_ising(L.h, L.J, num_reads=100)\n",
    "print(\"objective function:\", quso_sample.first.energy + L.offset, \"\\n\")\n",
    "\n",
    "quso_solution = quso_sample.first.sample\n",
    "print(\"quso solution:\", quso_solution, \"\\n\")\n",
    "\n",
    "solution = C.convert_solution(quso_solution)\n",
    "print(\"pcbo solution:\", solution)\n",
    "print(\"objective function:\", C.value(solution), \"\\n\")\n",
    "\n",
    "print(\"The solution is\", \"valid\" if C.is_solution_valid(solution) else \"invalid\")"
   ]
  },
  {
   "cell_type": "markdown",
   "metadata": {},
   "source": [
    "Again this matches the result of `C.solve_bruteforce()`."
   ]
  },
  {
   "cell_type": "markdown",
   "metadata": {},
   "source": [
    "Much of the functionality from above can also be done with Higher Order QUSO Optimization (PCSO). See ``help(qubovert.PCSO)`` and ``help(qubovert.spin_var)``."
   ]
  }
 ],
 "metadata": {
  "kernelspec": {
   "display_name": "Python 3",
   "language": "python",
   "name": "python3"
  },
  "language_info": {
   "codemirror_mode": {
    "name": "ipython",
    "version": 3
   },
   "file_extension": ".py",
   "mimetype": "text/x-python",
   "name": "python",
   "nbconvert_exporter": "python",
   "pygments_lexer": "ipython3",
   "version": "3.7.2"
  }
 },
 "nbformat": 4,
 "nbformat_minor": 2
}
