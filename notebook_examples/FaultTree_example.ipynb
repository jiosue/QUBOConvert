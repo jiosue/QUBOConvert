{
 "cells": [
  {
   "cell_type": "markdown",
   "metadata": {},
   "source": [
    "# Fault Tree with qubovert"
   ]
  },
  {
   "cell_type": "markdown",
   "metadata": {},
   "source": [
    "*qubovert* must be pip installed."
   ]
  },
  {
   "cell_type": "markdown",
   "metadata": {},
   "source": [
    "We will encode the Fault Tree problem shown below. The inputs are `e0`, `e1`, `e2`, and `e3`, which are boolean variables; for example, `e0 == 1` if Error 0 occurs, otherwise it is 0. The output is `p0`, which is a boolean indicating top level failure; it is 1 if a top level failure occurs, otherwise it is 0. The goal of this analysis is to find the minimum number of errors (`e0`, `e1`, `e2`, `e3`) that must be 1 in order for `p0` to be 1.\n",
    "\n",
    "![](https://files.slack.com/files-pri/T24940PQV-FFR7K200K/fault_tree.png?pub_secret=f370b437dc)\n",
    "\n",
    "The Fault Tree image above can be summarized by the following:\n",
    "\n",
    "\\begin{align*}\n",
    "z0 &= e0 \\text{ OR }  e3\\\\\n",
    "z1 &= e2 \\text{ OR } z0\\\\\n",
    "z2 &= e0 \\text{ OR } e1\\\\\n",
    "p0 &= z1 \\text{ AND } z2\n",
    "\\end{align*}\n",
    "\n",
    "We will solve this problem in two ways:\n",
    "\n",
    "1. <a href=\"#sat\">Solving with the `qubovert.sat` library</a>\n",
    "1. <a href=\"#pcbo\">Solving with `qubovert.PCBO`</a>"
   ]
  },
  {
   "cell_type": "markdown",
   "metadata": {},
   "source": [
    "<div id=\"sat\" />\n",
    "\n",
    "## Solving with the `qubovert.sat` library\n",
    "\n",
    "Let's create the variables and use the `qubovert.sat` libary to encode `p0`."
   ]
  },
  {
   "cell_type": "code",
   "execution_count": 2,
   "metadata": {},
   "outputs": [
    {
     "name": "stdout",
     "output_type": "stream",
     "text": [
      "{('e0',): 1, ('e1', 'e3', 'e0'): -1, ('e1', 'e3'): 1, ('e1', 'e3', 'e0', 'e2'): 1, ('e1', 'e3', 'e2'): -1, ('e1', 'e0', 'e2'): -1, ('e1', 'e2'): 1}\n"
     ]
    }
   ],
   "source": [
    "from qubovert import boolean_var\n",
    "from qubovert.sat import OR, AND\n",
    "\n",
    "e0, e1 = boolean_var('e0'), boolean_var('e1')\n",
    "e2, e3 = boolean_var('e2'), boolean_var('e3')\n",
    "\n",
    "z0 = OR(e0, e3)\n",
    "z1 = OR(z0, e2)\n",
    "z2 = OR(e0, e1)\n",
    "p0 = AND(z1, z2)\n",
    "\n",
    "print(p0)"
   ]
  },
  {
   "cell_type": "markdown",
   "metadata": {},
   "source": [
    "We want to find the minimum number of errors that will lead to a top level error. Thus, we want to minimize `H`."
   ]
  },
  {
   "cell_type": "code",
   "execution_count": 3,
   "metadata": {},
   "outputs": [
    {
     "name": "stdout",
     "output_type": "stream",
     "text": [
      "{('e0',): 1, ('e1',): 1, ('e2',): 1, ('e3',): 1}\n"
     ]
    }
   ],
   "source": [
    "H = e0 + e1 + e2 + e3\n",
    "\n",
    "print(H)"
   ]
  },
  {
   "cell_type": "markdown",
   "metadata": {},
   "source": [
    "We now subject `H` to the constraint that `p0 == 1`, or equivalently `1 - p0 == 0`, where we notice that `1 - p0` is bounded below by 0 and above by 1. We will add a penalty `lam` to the PCBO to enforce this constraint. For now, let's make it a symbol that we can tune later."
   ]
  },
  {
   "cell_type": "code",
   "execution_count": 4,
   "metadata": {},
   "outputs": [
    {
     "name": "stdout",
     "output_type": "stream",
     "text": [
      "PCBO:\n",
      " {('e0',): -lam + 1, ('e1',): 1, ('e2',): 1, ('e3',): 1, ('e1', 'e3', 'e0'): lam, ('e1', 'e3'): -lam, ('e1', 'e3', 'e0', 'e2'): -lam, ('e1', 'e3', 'e2'): lam, ('e1', 'e0', 'e2'): lam, ('e1', 'e2'): -lam, (): lam} \n",
      "\n",
      "Constraints:\n",
      " {'eq': [{('e0',): -1, ('e1', 'e3', 'e0'): 1, ('e1', 'e3'): -1, ('e1', 'e3', 'e0', 'e2'): -1, ('e1', 'e3', 'e2'): 1, ('e1', 'e0', 'e2'): 1, ('e1', 'e2'): -1, (): 1}]}\n"
     ]
    }
   ],
   "source": [
    "#!pip install sympy\n",
    "from sympy import Symbol\n",
    "\n",
    "lam = Symbol(\"lam\", positive=True)\n",
    "\n",
    "H.add_constraint_eq_zero(1 - p0, lam=lam, bounds=(0, 1))\n",
    "\n",
    "print(\"PCBO:\\n\", H, \"\\n\")\n",
    "print(\"Constraints:\\n\", H.constraints)"
   ]
  },
  {
   "cell_type": "markdown",
   "metadata": {},
   "source": [
    "Notice there is one equality constraint coming from the requirement that `1 == p0`. The `H.is_solution_valid` function will take in a proposed solution to the problem and ensure that this constraint is satisfied.\n",
    "\n",
    "The `'eq'` key of the constraints dictionary indicates that the quantity equals zero, and the `'lt'` key of the constraints dictionary indicates that the quantity is less than zero. Other possible keys are `'le'`, `'gt'`, and `'ge'`. See the docstrings for `PCBO.add_constraint_eq_zero`, `PCBO.add_constraint_lt_zero`, `PCBO.add_constraint_le_zero`, `PCBO.add_constraint_gt_zero`, and `PCBO.add_constraint_ge_zero` for info."
   ]
  },
  {
   "cell_type": "markdown",
   "metadata": {},
   "source": [
    "For testing purposes, let's solve this bruteforce to make sure everything is working."
   ]
  },
  {
   "cell_type": "code",
   "execution_count": 5,
   "metadata": {},
   "outputs": [
    {
     "name": "stdout",
     "output_type": "stream",
     "text": [
      "[{'e0': 1, 'e1': 0, 'e2': 0, 'e3': 0}]\n"
     ]
    }
   ],
   "source": [
    "solutions = H.solve_bruteforce(all_solutions=True)\n",
    "print(solutions)"
   ]
  },
  {
   "cell_type": "markdown",
   "metadata": {},
   "source": [
    "Notice that there is one unique solution that minimizes the objective function and obeys all the constraints. If just the error `e0` occurs, then a top level failure will occur."
   ]
  },
  {
   "cell_type": "code",
   "execution_count": 6,
   "metadata": {},
   "outputs": [
    {
     "name": "stdout",
     "output_type": "stream",
     "text": [
      "Minimum number of failures that leads to a top level failure: 1\n",
      "p0 = 1\n"
     ]
    }
   ],
   "source": [
    "solution = solutions[0]\n",
    "print(\"Minimum number of failures that leads to a top level failure:\", H.value(solution))\n",
    "print(\"p0 =\", p0.value(solution))"
   ]
  },
  {
   "cell_type": "markdown",
   "metadata": {},
   "source": [
    "Now let's solve this problem with a generic QUBO solver. Notice that the degree of problem is more than two, making `H` not a natural Quadratic Unconstrained Boolean Optimization Problem (QUBO)."
   ]
  },
  {
   "cell_type": "code",
   "execution_count": 7,
   "metadata": {},
   "outputs": [
    {
     "data": {
      "text/plain": [
       "4"
      ]
     },
     "execution_count": 7,
     "metadata": {},
     "output_type": "execute_result"
    }
   ],
   "source": [
    "H.degree"
   ]
  },
  {
   "cell_type": "markdown",
   "metadata": {},
   "source": [
    "We can convert it to a QUBO (note that there are some options for the reduction from PUBO to QUBO, see the `H.to_qubo` method for details). Ancilla bits will need to be added, and bit labels are mapped to integers."
   ]
  },
  {
   "cell_type": "code",
   "execution_count": 8,
   "metadata": {},
   "outputs": [
    {
     "name": "stdout",
     "output_type": "stream",
     "text": [
      "num PUBO variables 4\n",
      "num QUBO variables 6\n",
      "\n",
      "{(0,): -lam + 1, (1,): 1, (2,): 1, (3,): 1, (4,): 9*lam + 9, (1, 3): 2*lam + 3, (1, 4): -6*lam - 6, (3, 4): -6*lam - 6, (0, 4): lam, (5,): 6*lam + 6, (0, 2): 2*lam + 2, (0, 5): -4*lam - 4, (2, 5): -4*lam - 4, (4, 5): -lam, (2, 4): lam, (1, 5): lam, (1, 2): -lam, (): lam}\n"
     ]
    }
   ],
   "source": [
    "Q = H.to_qubo()\n",
    "print(\"num PUBO variables\", H.num_binary_variables)\n",
    "print(\"num QUBO variables\", Q.num_binary_variables)\n",
    "print()\n",
    "print(Q)"
   ]
  },
  {
   "cell_type": "markdown",
   "metadata": {},
   "source": [
    "For testing purposes, let's solve this with bruteforce to see what the proper value of $\\lambda$ should be to enforce the constraints. Notice how we remap the QUBO solution to the PCBO solution with `H.convert_solution(x)`."
   ]
  },
  {
   "cell_type": "code",
   "execution_count": 9,
   "metadata": {},
   "outputs": [
    {
     "name": "stdout",
     "output_type": "stream",
     "text": [
      "lam 1\n",
      "\t {'e0': 0, 'e1': 0, 'e2': 0, 'e3': 0} is invalid\n",
      "\t {'e0': 1, 'e1': 0, 'e2': 0, 'e3': 0} is valid\n",
      "\n",
      "lam 2\n",
      "\t {'e0': 1, 'e1': 0, 'e2': 0, 'e3': 0} is valid\n",
      "\n",
      "lam 3\n",
      "\t {'e0': 1, 'e1': 0, 'e2': 0, 'e3': 0} is valid\n",
      "\n"
     ]
    }
   ],
   "source": [
    "for l in (1, 2, 3):\n",
    "    Q_temp = Q.subs({lam: l})\n",
    "    solutions = Q_temp.solve_bruteforce(all_solutions=True)\n",
    "    solutions = [H.convert_solution(x) for x in solutions]\n",
    "    print('lam', l)\n",
    "    for s in solutions:\n",
    "        print(\"\\t\", s, \"is\", \"valid\" if H.is_solution_valid(s) else \"invalid\")\n",
    "    print()"
   ]
  },
  {
   "cell_type": "markdown",
   "metadata": {},
   "source": [
    "We see that $\\lambda = 2$ is sufficient to enforce the constraints. So let's update our QUBO."
   ]
  },
  {
   "cell_type": "code",
   "execution_count": 10,
   "metadata": {},
   "outputs": [],
   "source": [
    "Q_good = Q.subs({lam: 2})"
   ]
  },
  {
   "cell_type": "markdown",
   "metadata": {},
   "source": [
    "Now let's solve the QUBO with D'Wave's simulated annealer."
   ]
  },
  {
   "cell_type": "code",
   "execution_count": 11,
   "metadata": {},
   "outputs": [],
   "source": [
    "#!pip install dwave-neal\n",
    "from neal import SimulatedAnnealingSampler\n",
    "\n",
    "sampler = SimulatedAnnealingSampler()"
   ]
  },
  {
   "cell_type": "markdown",
   "metadata": {},
   "source": [
    "Note that their software package takes in a specific form for QUBOs, namely, the keys of the dictionary must be two element tuples. This form can be accessed from `Q` and `Q_good` with `Q.Q` or `Q_good.Q`."
   ]
  },
  {
   "cell_type": "code",
   "execution_count": 12,
   "metadata": {},
   "outputs": [
    {
     "name": "stdout",
     "output_type": "stream",
     "text": [
      "objective function: 1.0 \n",
      "\n",
      "qubo solution: {0: 1, 1: 0, 2: 0, 3: 0, 4: 0, 5: 0} \n",
      "\n",
      "pcbo solution: {'e0': 1, 'e1': 0, 'e2': 0, 'e3': 0}\n",
      "objective function: 1 \n",
      "\n",
      "The solution is valid\n"
     ]
    }
   ],
   "source": [
    "qubo_sample = sampler.sample_qubo(Q_good.Q, num_reads=100)\n",
    "print(\"objective function:\", qubo_sample.first.energy + Q_good.offset, \"\\n\")\n",
    "\n",
    "qubo_solution = qubo_sample.first.sample\n",
    "print(\"qubo solution:\", qubo_solution, \"\\n\")\n",
    "\n",
    "solution = H.convert_solution(qubo_solution)\n",
    "print(\"pcbo solution:\", solution)\n",
    "print(\"objective function:\", H.value(solution), \"\\n\")\n",
    "\n",
    "print(\"The solution is\", \"valid\" if H.is_solution_valid(solution) else \"invalid\")"
   ]
  },
  {
   "cell_type": "markdown",
   "metadata": {},
   "source": [
    "This matches the result of `H.solve_bruteforce()`. Recall that the objective function is equal to the minimum number of failures that will lead to a top level failure.\n",
    "\n",
    "Now we'll solve an QUSO formulation of our problem. Again we'll take $\\lambda = 2$."
   ]
  },
  {
   "cell_type": "code",
   "execution_count": 13,
   "metadata": {},
   "outputs": [
    {
     "name": "stdout",
     "output_type": "stream",
     "text": [
      "num PUBO variables 4\n",
      "num QUSO variables 6\n",
      "\n",
      "{(0,): 1.5, (): 14.25, (1,): 2.25, (2,): 1.0, (3,): 2.25, (4,): -5.0, (1, 3): 1.75, (1, 4): -4.5, (3, 4): -4.5, (0, 4): 0.5, (5,): -3.0, (0, 2): 1.5, (0, 5): -3.0, (2, 5): -3.0, (4, 5): -0.5, (2, 4): 0.5, (1, 5): 0.5, (1, 2): -0.5}\n"
     ]
    }
   ],
   "source": [
    "L = H.to_quso().subs({lam: 2})\n",
    "# note that we cannot do H.subs({lam: 2}).to_quso()!! This is because H.subs({lam: 2})\n",
    "# creates a new PCBO object, and it's mapping from variables labels to integers may be\n",
    "# different than H's mapping. For example, try H.mapping == H.subs({lam: 2}).mapping a\n",
    "# few times. They will often be different.\n",
    "print(\"num PUBO variables\", H.num_binary_variables)\n",
    "print(\"num QUSO variables\", L.num_binary_variables)\n",
    "print()\n",
    "print(L)"
   ]
  },
  {
   "cell_type": "markdown",
   "metadata": {},
   "source": [
    "Similar to their QUBO solver, D'Wave's QUSO solver accepts a specific form for QUSO models, namely a linear term dictionary and a quadratic term dictionary. These can be accessed with `L.h` and `L.J`."
   ]
  },
  {
   "cell_type": "code",
   "execution_count": 14,
   "metadata": {},
   "outputs": [
    {
     "name": "stdout",
     "output_type": "stream",
     "text": [
      "objective function: 1.0 \n",
      "\n",
      "quso solution: {0: -1, 1: 1, 2: 1, 3: 1, 4: 1, 5: 1} \n",
      "\n",
      "pcbo solution: {'e0': 1, 'e1': 0, 'e2': 0, 'e3': 0}\n",
      "objective function: 1 \n",
      "\n",
      "The solution is valid\n"
     ]
    }
   ],
   "source": [
    "quso_sample = sampler.sample_ising(L.h, L.J, num_reads=100)\n",
    "print(\"objective function:\", quso_sample.first.energy + L.offset, \"\\n\")\n",
    "\n",
    "quso_solution = quso_sample.first.sample\n",
    "print(\"quso solution:\", quso_solution, \"\\n\")\n",
    "\n",
    "solution = H.convert_solution(quso_solution)\n",
    "print(\"pcbo solution:\", solution)\n",
    "print(\"objective function:\", H.value(solution), \"\\n\")\n",
    "\n",
    "print(\"The solution is\", \"valid\" if H.is_solution_valid(solution) else \"invalid\")"
   ]
  },
  {
   "cell_type": "markdown",
   "metadata": {},
   "source": [
    "Again this matches the result of `H.solve_bruteforce()`."
   ]
  },
  {
   "cell_type": "markdown",
   "metadata": {},
   "source": [
    "<div id=\"pcbo\" />\n",
    "\n",
    "## Solving with `qubovert.PCBO`\n",
    "\n",
    "We want to find the minimum number of errors that will lead to a top level error. Thus, we want to minimize `H`. We could make `H` the same way that we did in the previous section, by creating variables with ``qubovert.boolean_var``, but instead for illistration we will make it as a dictionary instead."
   ]
  },
  {
   "cell_type": "code",
   "execution_count": 15,
   "metadata": {},
   "outputs": [
    {
     "name": "stdout",
     "output_type": "stream",
     "text": [
      "{('e0',): 1, ('e1',): 1, ('e2',): 1, ('e3',): 1}\n"
     ]
    }
   ],
   "source": [
    "from qubovert import PCBO\n",
    "\n",
    "H = PCBO(\n",
    "    {(x,): 1 for x in ('e0', 'e1', 'e2', 'e3')}\n",
    ")\n",
    "\n",
    "print(H)"
   ]
  },
  {
   "cell_type": "markdown",
   "metadata": {},
   "source": [
    "Now let's enforce the constraints. We will need to enforce the constraints with a penalty factor $\\lambda$. Let's create a symbol here that we can tune later."
   ]
  },
  {
   "cell_type": "code",
   "execution_count": 16,
   "metadata": {},
   "outputs": [],
   "source": [
    "#!pip install sympy\n",
    "from sympy import Symbol\n",
    "\n",
    "lam = Symbol(\"lam\", positive=True)"
   ]
  },
  {
   "cell_type": "markdown",
   "metadata": {},
   "source": [
    "Now let's enforce the constraints (reproduced here for reference):\n",
    "\\begin{align*}\n",
    "z0 &= e0 \\text{ OR }  e3\\\\\n",
    "z1 &= e2 \\text{ OR } z0\\\\\n",
    "z2 &= e0 \\text{ OR } e1\n",
    "\\end{align*}"
   ]
  },
  {
   "cell_type": "code",
   "execution_count": 17,
   "metadata": {},
   "outputs": [
    {
     "name": "stdout",
     "output_type": "stream",
     "text": [
      "{('e0',): 2*lam + 1, ('e1',): lam + 1, ('e2',): lam + 1, ('e3',): lam + 1, ('z0',): 2*lam, ('e3', 'e0'): lam, ('z0', 'e0'): -2*lam, ('z0', 'e3'): -2*lam, ('z1',): lam, ('z0', 'e2'): lam, ('e2', 'z1'): -2*lam, ('z0', 'z1'): -2*lam, ('z2',): lam, ('e1', 'e0'): lam, ('e0', 'z2'): -2*lam, ('e1', 'z2'): -2*lam}\n"
     ]
    }
   ],
   "source": [
    "H.add_constraint_eq_OR(\n",
    "    'z0', 'e0', 'e3', lam=lam\n",
    ").add_constraint_eq_OR(\n",
    "    'z1', 'e2', 'z0', lam=lam\n",
    ").add_constraint_eq_OR(\n",
    "    'z2', 'e0', 'e1', lam=lam\n",
    ")\n",
    "\n",
    "print(H)"
   ]
  },
  {
   "cell_type": "markdown",
   "metadata": {},
   "source": [
    "Finally, we want to make $p0 = z1 \\text{ AND } z2$ energetically favorable. We can do this with the following."
   ]
  },
  {
   "cell_type": "code",
   "execution_count": 18,
   "metadata": {},
   "outputs": [
    {
     "name": "stdout",
     "output_type": "stream",
     "text": [
      "PCBO:\n",
      " {('e0',): 2*lam + 1, ('e1',): lam + 1, ('e2',): lam + 1, ('e3',): lam + 1, ('z0',): 2*lam, ('e3', 'e0'): lam, ('z0', 'e0'): -2*lam, ('z0', 'e3'): -2*lam, ('z1',): lam, ('z0', 'e2'): lam, ('e2', 'z1'): -2*lam, ('z0', 'z1'): -2*lam, ('z2',): lam, ('e1', 'e0'): lam, ('e0', 'z2'): -2*lam, ('e1', 'z2'): -2*lam, ('z2', 'z1'): -lam, (): lam} \n",
      "\n",
      "Constraints:\n",
      " {'eq': [{('z0',): 1, ('e0',): 1, ('e3',): 1, ('e3', 'e0'): 1, ('z0', 'e0'): -2, ('z0', 'e3'): -2}, {('z1',): 1, ('e2',): 1, ('z0',): 1, ('z0', 'e2'): 1, ('e2', 'z1'): -2, ('z0', 'z1'): -2}, {('z2',): 1, ('e0',): 1, ('e1',): 1, ('e1', 'e0'): 1, ('e0', 'z2'): -2, ('e1', 'z2'): -2}, {('z2', 'z1'): -1, (): 1}]}\n"
     ]
    }
   ],
   "source": [
    "H.add_constraint_AND('z1', 'z2', lam=lam)\n",
    "print(\"PCBO:\\n\", H, \"\\n\")\n",
    "print(\"Constraints:\\n\", H.constraints)"
   ]
  },
  {
   "cell_type": "markdown",
   "metadata": {},
   "source": [
    "The `H.is_solution_valid` function will take in a proposed solution to the problem and ensure that these constraints are satisfied."
   ]
  },
  {
   "cell_type": "markdown",
   "metadata": {},
   "source": [
    "For testing purposes, let's solve this bruteforce to make sure everything is working."
   ]
  },
  {
   "cell_type": "code",
   "execution_count": 19,
   "metadata": {},
   "outputs": [
    {
     "name": "stdout",
     "output_type": "stream",
     "text": [
      "[{'e0': 1, 'e1': 0, 'e2': 0, 'e3': 0, 'z0': 1, 'z1': 1, 'z2': 1}]\n"
     ]
    }
   ],
   "source": [
    "solutions = H.solve_bruteforce(all_solutions=True)\n",
    "print(solutions)"
   ]
  },
  {
   "cell_type": "markdown",
   "metadata": {},
   "source": [
    "Notice that there is one unique solution that minimizes the objective function and obeys all the constraints. If just the error `e0` occurs, then a top level failure will occur."
   ]
  },
  {
   "cell_type": "code",
   "execution_count": 20,
   "metadata": {},
   "outputs": [
    {
     "name": "stdout",
     "output_type": "stream",
     "text": [
      "Minimum number of failures that leads to a top level failure: 1\n",
      "p0 = 1\n"
     ]
    }
   ],
   "source": [
    "solution = solutions[0]\n",
    "print(\"Minimum number of failures that leads to a top level failure:\", H.value(solution))\n",
    "print(\"p0 =\", H.value(solution))"
   ]
  },
  {
   "cell_type": "markdown",
   "metadata": {},
   "source": [
    "Now let's solve this problem with a generic QUBO solver. Notice that the degree of problem is two, making `H` a natural Quadratic Unconstrained Boolean Optimization Problem (QUBO)."
   ]
  },
  {
   "cell_type": "code",
   "execution_count": 21,
   "metadata": {},
   "outputs": [
    {
     "data": {
      "text/plain": [
       "2"
      ]
     },
     "execution_count": 21,
     "metadata": {},
     "output_type": "execute_result"
    }
   ],
   "source": [
    "H.degree"
   ]
  },
  {
   "cell_type": "code",
   "execution_count": 22,
   "metadata": {},
   "outputs": [
    {
     "name": "stdout",
     "output_type": "stream",
     "text": [
      "{(0,): 2*lam + 1, (1,): lam + 1, (2,): lam + 1, (3,): lam + 1, (4,): 2*lam, (0, 3): lam, (0, 4): -2*lam, (3, 4): -2*lam, (5,): lam, (2, 4): lam, (2, 5): -2*lam, (4, 5): -2*lam, (6,): lam, (0, 1): lam, (0, 6): -2*lam, (1, 6): -2*lam, (5, 6): -lam, (): lam}\n"
     ]
    }
   ],
   "source": [
    "Q = H.to_qubo()\n",
    "print(Q)"
   ]
  },
  {
   "cell_type": "markdown",
   "metadata": {},
   "source": [
    "For testing purposes, let's solve this with bruteforce to see what the proper value of $\\lambda$ should be to enforce the constraints. Notice how we remap the QUBO solution to the PCBO solution with `H.convert_solution(x)`."
   ]
  },
  {
   "cell_type": "code",
   "execution_count": 23,
   "metadata": {},
   "outputs": [
    {
     "name": "stdout",
     "output_type": "stream",
     "text": [
      "lam 1\n",
      "\t {'e0': 0, 'e1': 0, 'e2': 0, 'e3': 0, 'z0': 0, 'z1': 0, 'z2': 0} is invalid\n",
      "\t {'e0': 1, 'e1': 0, 'e2': 0, 'e3': 0, 'z0': 1, 'z1': 1, 'z2': 1} is valid\n",
      "\n",
      "lam 2\n",
      "\t {'e0': 1, 'e1': 0, 'e2': 0, 'e3': 0, 'z0': 1, 'z1': 1, 'z2': 1} is valid\n",
      "\n",
      "lam 3\n",
      "\t {'e0': 1, 'e1': 0, 'e2': 0, 'e3': 0, 'z0': 1, 'z1': 1, 'z2': 1} is valid\n",
      "\n"
     ]
    }
   ],
   "source": [
    "for l in (1, 2, 3):\n",
    "    Q_temp = Q.subs({lam: l})\n",
    "    solutions = Q_temp.solve_bruteforce(all_solutions=True)\n",
    "    solutions = [H.convert_solution(x) for x in solutions]\n",
    "    print('lam', l)\n",
    "    for s in solutions:\n",
    "        print(\"\\t\", s, \"is\", \"valid\" if H.is_solution_valid(s) else \"invalid\")\n",
    "    print()"
   ]
  },
  {
   "cell_type": "markdown",
   "metadata": {},
   "source": [
    "We see that $\\lambda = 2$ is sufficient to enforce the constraints. So let's update our QUBO."
   ]
  },
  {
   "cell_type": "code",
   "execution_count": 24,
   "metadata": {},
   "outputs": [],
   "source": [
    "Q_good = Q.subs({lam: 2})"
   ]
  },
  {
   "cell_type": "markdown",
   "metadata": {},
   "source": [
    "Now let's solve the QUBO with D'Wave's simulated annealer."
   ]
  },
  {
   "cell_type": "code",
   "execution_count": 25,
   "metadata": {},
   "outputs": [],
   "source": [
    "#!pip install dwave-neal\n",
    "from neal import SimulatedAnnealingSampler\n",
    "\n",
    "sampler = SimulatedAnnealingSampler()"
   ]
  },
  {
   "cell_type": "markdown",
   "metadata": {},
   "source": [
    "Note that their software package takes in a specific form for QUBOs, namely, the keys of the dictionary must be two element tuples. This form can be accessed from `Q` and `Q_good` with `Q.Q` or `Q_good.Q`."
   ]
  },
  {
   "cell_type": "code",
   "execution_count": 26,
   "metadata": {},
   "outputs": [
    {
     "name": "stdout",
     "output_type": "stream",
     "text": [
      "objective function: 1.0 \n",
      "\n",
      "qubo solution: {0: 1, 1: 0, 2: 0, 3: 0, 4: 1, 5: 1, 6: 1} \n",
      "\n",
      "pcbo solution: {'e0': 1, 'e1': 0, 'e2': 0, 'e3': 0, 'z0': 1, 'z1': 1, 'z2': 1}\n",
      "objective function: 1 \n",
      "\n",
      "The solution is valid\n"
     ]
    }
   ],
   "source": [
    "qubo_sample = sampler.sample_qubo(Q_good.Q, num_reads=100)\n",
    "print(\"objective function:\", qubo_sample.first.energy + Q_good.offset, \"\\n\")\n",
    "\n",
    "qubo_solution = qubo_sample.first.sample\n",
    "print(\"qubo solution:\", qubo_solution, \"\\n\")\n",
    "\n",
    "solution = H.convert_solution(qubo_solution)\n",
    "print(\"pcbo solution:\", solution)\n",
    "print(\"objective function:\", H.value(solution), \"\\n\")\n",
    "\n",
    "print(\"The solution is\", \"valid\" if H.is_solution_valid(solution) else \"invalid\")"
   ]
  },
  {
   "cell_type": "markdown",
   "metadata": {},
   "source": [
    "This matches the result of `H.solve_bruteforce()`. Recall that the objective function is equal to the minimum number of failures that will lead to a top level failure.\n",
    "\n",
    "Now we'll solve an QUSO formulation of our problem. Again we'll take $\\lambda = 2$."
   ]
  },
  {
   "cell_type": "code",
   "execution_count": 27,
   "metadata": {},
   "outputs": [
    {
     "name": "stdout",
     "output_type": "stream",
     "text": [
      "num QUSO variables 7\n",
      "\n",
      "{(0,): -1.5, (): 8.0, (1,): -1.0, (2,): -1.0, (3,): -1.0, (0, 3): 0.5, (0, 4): -1.0, (3, 4): -1.0, (2, 4): 0.5, (4,): 0.5, (2, 5): -1.0, (4, 5): -1.0, (5,): 1.5, (0, 1): 0.5, (0, 6): -1.0, (1, 6): -1.0, (6,): 1.5, (5, 6): -0.5}\n"
     ]
    }
   ],
   "source": [
    "L = H.to_quso().subs({lam: 2})\n",
    "# note that we cannot do H.subs({lam: 2}).to_quso()!! This is because H.subs({lam: 2})\n",
    "# creates a new PCBO object, and it's mapping from variables labels to integers may be\n",
    "# different than H's mapping. For example, try H.mapping == H.subs({lam: 2}).mapping a\n",
    "# few times. They will often be different.\n",
    "print(\"num QUSO variables\", L.num_binary_variables)\n",
    "print()\n",
    "print(L)"
   ]
  },
  {
   "cell_type": "markdown",
   "metadata": {},
   "source": [
    "Similar to their QUBO solver, D'Wave's QUSO solver accepts a specific form for QUSO models, namely a linear term dictionary and a quadratic term dictionary. These can be accessed with `L.h` and `L.J`."
   ]
  },
  {
   "cell_type": "code",
   "execution_count": 28,
   "metadata": {},
   "outputs": [
    {
     "name": "stdout",
     "output_type": "stream",
     "text": [
      "objective function: 1.0 \n",
      "\n",
      "quso solution: {0: -1, 1: 1, 2: 1, 3: 1, 4: -1, 5: -1, 6: -1} \n",
      "\n",
      "pcbo solution: {'e0': 1, 'e1': 0, 'e2': 0, 'e3': 0, 'z0': 1, 'z1': 1, 'z2': 1}\n",
      "objective function: 1 \n",
      "\n",
      "The solution is valid\n"
     ]
    }
   ],
   "source": [
    "quso_sample = sampler.sample_ising(L.h, L.J, num_reads=100)\n",
    "print(\"objective function:\", quso_sample.first.energy + L.offset, \"\\n\")\n",
    "\n",
    "quso_solution = quso_sample.first.sample\n",
    "print(\"quso solution:\", quso_solution, \"\\n\")\n",
    "\n",
    "solution = H.convert_solution(quso_solution)\n",
    "print(\"pcbo solution:\", solution)\n",
    "print(\"objective function:\", H.value(solution), \"\\n\")\n",
    "\n",
    "print(\"The solution is\", \"valid\" if H.is_solution_valid(solution) else \"invalid\")"
   ]
  },
  {
   "cell_type": "markdown",
   "metadata": {},
   "source": [
    "Again this matches the result of `H.solve_bruteforce()`."
   ]
  }
 ],
 "metadata": {
  "kernelspec": {
   "display_name": "Python 3",
   "language": "python",
   "name": "python3"
  },
  "language_info": {
   "codemirror_mode": {
    "name": "ipython",
    "version": 3
   },
   "file_extension": ".py",
   "mimetype": "text/x-python",
   "name": "python",
   "nbconvert_exporter": "python",
   "pygments_lexer": "ipython3",
   "version": "3.7.2"
  }
 },
 "nbformat": 4,
 "nbformat_minor": 2
}
