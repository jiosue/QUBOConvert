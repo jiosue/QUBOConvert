{
 "cells": [
  {
   "cell_type": "markdown",
   "metadata": {},
   "source": [
    "# Annealing and Simulation with `qubovert`"
   ]
  },
  {
   "cell_type": "markdown",
   "metadata": {},
   "source": [
    "If `qubovert` is not `pip` installed and you are using these notebooks from within the `notebook_examples` directory, then run this cell. Otherwise it is not needed."
   ]
  },
  {
   "cell_type": "code",
   "execution_count": 1,
   "metadata": {},
   "outputs": [],
   "source": [
    "import sys\n",
    "sys.path.append(\"..\")"
   ]
  },
  {
   "cell_type": "markdown",
   "metadata": {},
   "source": [
    "Import `qubovert`."
   ]
  },
  {
   "cell_type": "code",
   "execution_count": 2,
   "metadata": {},
   "outputs": [],
   "source": [
    "import qubovert as qv"
   ]
  },
  {
   "cell_type": "markdown",
   "metadata": {},
   "source": [
    "In this notebook, we will review some basics of the annealing and simulation functionality provided by `qubovert`. Let's look at everything in the simulation (`sim`) library."
   ]
  },
  {
   "cell_type": "code",
   "execution_count": 3,
   "metadata": {},
   "outputs": [
    {
     "name": "stdout",
     "output_type": "stream",
     "text": [
      "('PUSOSimulation', 'PUBOSimulation', 'QUSOSimulation', 'QUBOSimulation', AnnealResult', 'AnnealResults', 'anneal_qubo', 'anneal_quso', 'anneal_pubo', 'anneal_puso', 'anneal_temperature_range')\n"
     ]
    }
   ],
   "source": [
    "print(qv.sim.__all__)"
   ]
  },
  {
   "cell_type": "markdown",
   "metadata": {},
   "source": [
    "In this notebook we will discuss `PUSOSimulation`, `anneal_puso`, `anneal_temperature_range`, `AnnealResults`, and `AnnealResult`. We will not discuss `PUBOSimulation`, `QUBOSimulation`, or `QUSOSimulation`, though they are used in exactly the same way as `PUSOSimulation` but with boolean function. Similarly, `anneal_qubo`, `anneal_quso`, and `anneal_puso` are all used very similarly to `anneal_puso`. **Please note tht the `anneal_quso`, `anneal_qubo` functions and `QUSOSimulation` , `QUBOSimulation` objects are much faster than their counterparts** because they are implemented in C. If you have aa QUSO or QUBO, do not use the PUSO or PUBO methods!\n",
    "\n",
    "`PUSOSimulation` will be discussed in the <a href=\"#Simulation\">Simulation</a> section; `AnnealResults`, `AnnealResult`, and `anneal_puso` will be discussed in the <a href=\"#Annealing\">Annealing</a> section; a more detailed usage of `anneal_pubo` and `anneal_temperature_range` will be discussed in the <a href=\"#Advanced-Annealing\">Advanced Annealing</a> section.\n",
    "\n",
    "### Table of Contents\n",
    "\n",
    "1. <a href=\"#Working-Example\">Working Example</a>\n",
    "2. <a href=\"#Simulation\">Simulation</a>\n",
    "3. <a href=\"#Annealing\">Annealing</a>\n",
    "4. <a href=\"#Advanced-Annealing\">Advanced Annealing</a>\n",
    "  1. <a href=\"#Adjusting-the-temperature-range\">Adjusting the temperature range</a>\n",
    "  2. <a href=\"#Adjusting-the-initial_state\">Adjusting the initial state</a>\n",
    "  3. <a href=\"#Adjusting-the-schedule\">Adjusting the schedule</a>\n",
    "4. <a href=\"#Conclusion\">Conclusion</a>\n",
    "  1. <a href=\"#A-note-on-the-purpose-of-the-qubovert.sim-library\">A note on the purpose of the `qubovert.sim` library</a>"
   ]
  },
  {
   "cell_type": "markdown",
   "metadata": {},
   "source": [
    "## Working Example\n",
    "\n",
    "For all of the following examples, we will use the following example; an Ising model on a line of length $L$ with nearest- and next-to-nearest-neighbor interactions with periodic boundary conditions. Our system is represented by the Hamiltonian\n",
    "\n",
    "$$H = -\\sum_{i=0}^{L-1} z_i z_{i+1} z_{i+2}$$\n",
    "\n",
    "where each $z_i \\in \\{1, -1 \\}$ and they are defined modulo $L$ such that $z_{i+L} = z_{i}$. First, let's define the length of our system and create the Hamiltonian."
   ]
  },
  {
   "cell_type": "code",
   "execution_count": 4,
   "metadata": {},
   "outputs": [],
   "source": [
    "L = 100\n",
    "\n",
    "# define the function z that returns the ith variable modulo L\n",
    "z_variables = [qv.spin_var(i) for i in range(L)]\n",
    "z = lambda i: z_variables[i % L]\n",
    "\n",
    "# create the Hamiltonian\n",
    "H = 0\n",
    "for i in range(L):\n",
    "    H -= z(i) * z(i+1) * z(i+2)"
   ]
  },
  {
   "cell_type": "markdown",
   "metadata": {},
   "source": [
    "Note that the groundstate of this Hamiltonian is the state where each $z_i = 1$ (if we did not assume periodic boundary conditions, then the ground state is degenerate, with some being more complicated then the all 1 state). "
   ]
  },
  {
   "cell_type": "markdown",
   "metadata": {},
   "source": [
    "## Simulation"
   ]
  },
  {
   "cell_type": "markdown",
   "metadata": {},
   "source": [
    "We'll first create a `PUSOSimulation` object for the Hamiltonian. We will add some memory to the object. The `memory` keyword indicates how many of the most recent states to remember. We will use this later."
   ]
  },
  {
   "cell_type": "code",
   "execution_count": 5,
   "metadata": {},
   "outputs": [],
   "source": [
    "sim = qv.sim.PUSOSimulation(H, memory=1000)"
   ]
  },
  {
   "cell_type": "markdown",
   "metadata": {},
   "source": [
    "Let's put the simulation in a random state. Ie each of the $L$ spins is randomly oriented in the 1 or -1 direction."
   ]
  },
  {
   "cell_type": "code",
   "execution_count": 6,
   "metadata": {},
   "outputs": [
    {
     "name": "stdout",
     "output_type": "stream",
     "text": [
      "{0: -1, 1: 1, 2: 1, 3: -1, 4: -1, 5: -1, 6: 1, 7: 1, 8: -1, 9: -1, 10: 1, 11: -1, 12: -1, 13: -1, 14: -1, 15: 1, 16: -1, 17: -1, 18: -1, 19: 1, 20: 1, 21: -1, 22: -1, 23: -1, 24: 1, 25: 1, 26: 1, 27: 1, 28: -1, 29: 1, 30: 1, 31: -1, 32: -1, 33: -1, 34: 1, 35: -1, 36: 1, 37: 1, 38: 1, 39: 1, 40: 1, 41: -1, 42: -1, 43: -1, 44: -1, 45: 1, 46: 1, 47: 1, 48: 1, 49: -1, 50: 1, 51: 1, 52: -1, 53: 1, 54: -1, 55: 1, 56: 1, 57: -1, 58: 1, 59: -1, 60: 1, 61: 1, 62: -1, 63: 1, 64: -1, 65: 1, 66: 1, 67: 1, 68: -1, 69: -1, 70: 1, 71: 1, 72: 1, 73: 1, 74: 1, 75: -1, 76: 1, 77: -1, 78: 1, 79: 1, 80: -1, 81: 1, 82: -1, 83: -1, 84: 1, 85: 1, 86: -1, 87: -1, 88: -1, 89: 1, 90: 1, 91: -1, 92: -1, 93: 1, 94: 1, 95: 1, 96: 1, 97: 1, 98: -1, 99: -1}\n"
     ]
    }
   ],
   "source": [
    "import random\n",
    "\n",
    "initial_state = {i: random.choice((-1, 1)) for i in range(L)}\n",
    "sim.set_state(initial_state)\n",
    "\n",
    "print(sim.state)"
   ]
  },
  {
   "cell_type": "markdown",
   "metadata": {},
   "source": [
    "Next we'll define a schedule to simulate the system. A schedule is a collection of `(T, n)` pairs, where `T` is the temperature to update the simulation at, and `n` is the number of time steps to simlulate the system at that temperature. Let's cool the system from temperature 5 to 0.5."
   ]
  },
  {
   "cell_type": "code",
   "execution_count": 7,
   "metadata": {},
   "outputs": [],
   "source": [
    "schedule = (5, 20), (4, 25), (3, 30), (2, 35), (1, 40), (.5, 100)"
   ]
  },
  {
   "cell_type": "markdown",
   "metadata": {},
   "source": [
    "Next we simulate the system with this schedule."
   ]
  },
  {
   "cell_type": "code",
   "execution_count": 8,
   "metadata": {},
   "outputs": [],
   "source": [
    "sim.schedule_update(schedule)"
   ]
  },
  {
   "cell_type": "markdown",
   "metadata": {},
   "source": [
    "We can look at exactly what state the simulation was in at each time step by looking into the memory."
   ]
  },
  {
   "cell_type": "code",
   "execution_count": 9,
   "metadata": {},
   "outputs": [],
   "source": [
    "all_states = sim.get_past_states()"
   ]
  },
  {
   "cell_type": "markdown",
   "metadata": {},
   "source": [
    "Notice that the 0th state should be the same as the initial state, and the last state should be the same as the current state. *Note that if you did not provide the `PUSOSimulation` object with enough memory then it will have forgotten about the initial_state!*"
   ]
  },
  {
   "cell_type": "code",
   "execution_count": 10,
   "metadata": {},
   "outputs": [
    {
     "name": "stdout",
     "output_type": "stream",
     "text": [
      "True\n",
      "True\n"
     ]
    }
   ],
   "source": [
    "print(all_states[0] == initial_state)\n",
    "print(all_states[-1] == sim.state)"
   ]
  },
  {
   "cell_type": "markdown",
   "metadata": {},
   "source": [
    "Now, let's do the same thing, but 100 times! We'll keep track of the state that the simulation ends in at each iteration."
   ]
  },
  {
   "cell_type": "code",
   "execution_count": 11,
   "metadata": {},
   "outputs": [],
   "source": [
    "ending_states = []\n",
    "for _ in range(100):\n",
    "    sim.reset()\n",
    "    sim.set_state([random.choice((-1, 1)) for _ in range(L)])\n",
    "    sim.schedule_update(schedule)\n",
    "    ending_states.append(sim.state)"
   ]
  },
  {
   "cell_type": "markdown",
   "metadata": {},
   "source": [
    "Finally, let's calculate the average correlation that each spin has to the 0th spin over the ending states."
   ]
  },
  {
   "cell_type": "code",
   "execution_count": 12,
   "metadata": {},
   "outputs": [],
   "source": [
    "# avg_correaltion[i] is the average correlation of spin i to spin 0\n",
    "avg_correlation = [\n",
    "    sum(s[0] * s[i] for s in ending_states) / len(ending_states)\n",
    "    for i in range(L)\n",
    "]"
   ]
  },
  {
   "cell_type": "markdown",
   "metadata": {},
   "source": [
    "Finally we plot it! *You must have `matplotlib` pip installed.*"
   ]
  },
  {
   "cell_type": "code",
   "execution_count": 13,
   "metadata": {},
   "outputs": [
    {
     "data": {
      "image/png": "[encoded data removed]",
      "text/plain": [
       "<Figure size 432x288 with 1 Axes>"
      ]
     },
     "metadata": {
      "needs_background": "light"
     },
     "output_type": "display_data"
    }
   ],
   "source": [
    "%matplotlib inline\n",
    "import matplotlib.pyplot as plt\n",
    "\n",
    "plt.plot(avg_correlation)\n",
    "plt.xlabel('spin')\n",
    "plt.ylabel('avg correlation')\n",
    "plt.show()"
   ]
  },
  {
   "cell_type": "markdown",
   "metadata": {},
   "source": [
    "As a sanity check, we see that the correlation between spin 0 and itself is always 1! Similarly, we see the correlation begin to go up towards the end of the chain; this is because of the periodic boundary conditions."
   ]
  },
  {
   "cell_type": "markdown",
   "metadata": {},
   "source": [
    "<a href=\"#Table-of-Contents\">Back to Table of Contents</a>"
   ]
  },
  {
   "cell_type": "markdown",
   "metadata": {},
   "source": [
    "## Annealing"
   ]
  },
  {
   "cell_type": "markdown",
   "metadata": {},
   "source": [
    "Here we show basic usage of the `anneal_puso` function. We will use it to try to find the groundstate of the Hamiltonian discuessed and created in the <a href=\"#Working-Example\">Working Example</a> section. Let's anneal the Hamiltonian to see if we can find the groundstate. Recall that PUSO is short for Polynomial Unconstrained Spin Optimization. We can use the `anneal_puso` function to anneal the Hamiltonian.\n",
    "\n",
    "For the sake of reproducability, we will seed the random number generator that `anneal_puso` uses."
   ]
  },
  {
   "cell_type": "code",
   "execution_count": 14,
   "metadata": {},
   "outputs": [],
   "source": [
    "res = qv.sim.anneal_puso(H, num_anneals=10, seed=34)"
   ]
  },
  {
   "cell_type": "markdown",
   "metadata": {},
   "source": [
    "Let's look at the result that if found with the lowest energy."
   ]
  },
  {
   "cell_type": "code",
   "execution_count": 15,
   "metadata": {},
   "outputs": [
    {
     "name": "stdout",
     "output_type": "stream",
     "text": [
      "  state: {0: -1, 1: 1, 2: -1, 3: -1, 4: 1, 5: -1, 6: -1, 7: 1, 8: -1, 9: -1, 10: 1, 11: -1, 12: -1, 13: -1, 14: 1, 15: -1, 16: -1, 17: 1, 18: -1, 19: -1, 20: 1, 21: -1, 22: -1, 23: 1, 24: -1, 25: -1, 26: 1, 27: -1, 28: -1, 29: 1, 30: -1, 31: -1, 32: 1, 33: -1, 34: -1, 35: 1, 36: 1, 37: 1, 38: 1, 39: 1, 40: 1, 41: 1, 42: 1, 43: 1, 44: 1, 45: 1, 46: 1, 47: 1, 48: 1, 49: 1, 50: 1, 51: 1, 52: 1, 53: 1, 54: 1, 55: 1, 56: 1, 57: -1, 58: -1, 59: 1, 60: -1, 61: -1, 62: 1, 63: -1, 64: -1, 65: 1, 66: -1, 67: -1, 68: 1, 69: -1, 70: -1, 71: 1, 72: -1, 73: -1, 74: 1, 75: -1, 76: -1, 77: 1, 78: -1, 79: -1, 80: 1, 81: -1, 82: -1, 83: 1, 84: -1, 85: -1, 86: 1, 87: -1, 88: -1, 89: 1, 90: -1, 91: -1, 92: 1, 93: -1, 94: -1, 95: 1, 96: -1, 97: -1, 98: 1, 99: -1}\n",
      "  value: -94\n",
      "   spin: True\n"
     ]
    }
   ],
   "source": [
    "print(res.best)"
   ]
  },
  {
   "cell_type": "markdown",
   "metadata": {},
   "source": [
    "Notice that none of the 10 results found the ground state! But if we increase the duration of each anneal, then we can. By default, the anneal duration (the number of time steps to run each simulation for) is 1000. Let's increase it to 7500 and see if it finds the ground state."
   ]
  },
  {
   "cell_type": "code",
   "execution_count": 16,
   "metadata": {},
   "outputs": [
    {
     "name": "stdout",
     "output_type": "stream",
     "text": [
      "  state: {0: 1, 1: 1, 2: 1, 3: 1, 4: 1, 5: 1, 6: 1, 7: 1, 8: 1, 9: 1, 10: 1, 11: 1, 12: 1, 13: 1, 14: 1, 15: 1, 16: 1, 17: 1, 18: 1, 19: 1, 20: 1, 21: 1, 22: 1, 23: 1, 24: 1, 25: 1, 26: 1, 27: 1, 28: 1, 29: 1, 30: 1, 31: 1, 32: 1, 33: 1, 34: 1, 35: 1, 36: 1, 37: 1, 38: 1, 39: 1, 40: 1, 41: 1, 42: 1, 43: 1, 44: 1, 45: 1, 46: 1, 47: 1, 48: 1, 49: 1, 50: 1, 51: 1, 52: 1, 53: 1, 54: 1, 55: 1, 56: 1, 57: 1, 58: 1, 59: 1, 60: 1, 61: 1, 62: 1, 63: 1, 64: 1, 65: 1, 66: 1, 67: 1, 68: 1, 69: 1, 70: 1, 71: 1, 72: 1, 73: 1, 74: 1, 75: 1, 76: 1, 77: 1, 78: 1, 79: 1, 80: 1, 81: 1, 82: 1, 83: 1, 84: 1, 85: 1, 86: 1, 87: 1, 88: 1, 89: 1, 90: 1, 91: 1, 92: 1, 93: 1, 94: 1, 95: 1, 96: 1, 97: 1, 98: 1, 99: 1}\n",
      "  value: -100\n",
      "   spin: True\n"
     ]
    }
   ],
   "source": [
    "res = qv.sim.anneal_puso(H, num_anneals=10, anneal_duration=7500, seed=34)\n",
    "print(res.best)"
   ]
  },
  {
   "cell_type": "markdown",
   "metadata": {},
   "source": [
    "Indeed we find the ground state! Adjusting the anneal duration is one thing you can do to try to get better performance out of the annealer. In the next section, we will discuss some more.\n",
    "\n",
    "Now let's look at the result. `res` is a `qubovert.sim.AnnealResults` object. It will contain 10 results, since we set `num_anneals` to 10."
   ]
  },
  {
   "cell_type": "code",
   "execution_count": 17,
   "metadata": {},
   "outputs": [
    {
     "data": {
      "text/plain": [
       "10"
      ]
     },
     "execution_count": 17,
     "metadata": {},
     "output_type": "execute_result"
    }
   ],
   "source": [
    "len(res)"
   ]
  },
  {
   "cell_type": "markdown",
   "metadata": {},
   "source": [
    "Let's look at the result that it found with the lowest energy. `res.best` is a `qubovert.sim.AnnealResult` object. We can get the state with `.state` and the energy with `.value`."
   ]
  },
  {
   "cell_type": "code",
   "execution_count": 18,
   "metadata": {},
   "outputs": [
    {
     "name": "stdout",
     "output_type": "stream",
     "text": [
      "Energy -100\n",
      "State {0: 1, 1: 1, 2: 1, 3: 1, 4: 1, 5: 1, 6: 1, 7: 1, 8: 1, 9: 1, 10: 1, 11: 1, 12: 1, 13: 1, 14: 1, 15: 1, 16: 1, 17: 1, 18: 1, 19: 1, 20: 1, 21: 1, 22: 1, 23: 1, 24: 1, 25: 1, 26: 1, 27: 1, 28: 1, 29: 1, 30: 1, 31: 1, 32: 1, 33: 1, 34: 1, 35: 1, 36: 1, 37: 1, 38: 1, 39: 1, 40: 1, 41: 1, 42: 1, 43: 1, 44: 1, 45: 1, 46: 1, 47: 1, 48: 1, 49: 1, 50: 1, 51: 1, 52: 1, 53: 1, 54: 1, 55: 1, 56: 1, 57: 1, 58: 1, 59: 1, 60: 1, 61: 1, 62: 1, 63: 1, 64: 1, 65: 1, 66: 1, 67: 1, 68: 1, 69: 1, 70: 1, 71: 1, 72: 1, 73: 1, 74: 1, 75: 1, 76: 1, 77: 1, 78: 1, 79: 1, 80: 1, 81: 1, 82: 1, 83: 1, 84: 1, 85: 1, 86: 1, 87: 1, 88: 1, 89: 1, 90: 1, 91: 1, 92: 1, 93: 1, 94: 1, 95: 1, 96: 1, 97: 1, 98: 1, 99: 1}\n"
     ]
    }
   ],
   "source": [
    "print(\"Energy\", res.best.value)\n",
    "print(\"State\", res.best.state)"
   ]
  },
  {
   "cell_type": "markdown",
   "metadata": {},
   "source": [
    "Let's sort the results and then look at all 10 of them."
   ]
  },
  {
   "cell_type": "code",
   "execution_count": 19,
   "metadata": {},
   "outputs": [
    {
     "name": "stdout",
     "output_type": "stream",
     "text": [
      "AnnealResults\n",
      "  state: {0: 1, 1: 1, 2: 1, 3: 1, 4: 1, 5: 1, 6: 1, 7: 1, 8: 1, 9: 1, 10: 1, 11: 1, 12: 1, 13: 1, 14: 1, 15: 1, 16: 1, 17: 1, 18: 1, 19: 1, 20: 1, 21: 1, 22: 1, 23: 1, 24: 1, 25: 1, 26: 1, 27: 1, 28: 1, 29: 1, 30: 1, 31: 1, 32: 1, 33: 1, 34: 1, 35: 1, 36: 1, 37: 1, 38: 1, 39: 1, 40: 1, 41: 1, 42: 1, 43: 1, 44: 1, 45: 1, 46: 1, 47: 1, 48: 1, 49: 1, 50: 1, 51: 1, 52: 1, 53: 1, 54: 1, 55: 1, 56: 1, 57: 1, 58: 1, 59: 1, 60: 1, 61: 1, 62: 1, 63: 1, 64: 1, 65: 1, 66: 1, 67: 1, 68: 1, 69: 1, 70: 1, 71: 1, 72: 1, 73: 1, 74: 1, 75: 1, 76: 1, 77: 1, 78: 1, 79: 1, 80: 1, 81: 1, 82: 1, 83: 1, 84: 1, 85: 1, 86: 1, 87: 1, 88: 1, 89: 1, 90: 1, 91: 1, 92: 1, 93: 1, 94: 1, 95: 1, 96: 1, 97: 1, 98: 1, 99: 1}\n",
      "  value: -100\n",
      "   spin: True\n",
      "\n",
      "  state: {0: -1, 1: -1, 2: 1, 3: -1, 4: -1, 5: 1, 6: -1, 7: -1, 8: 1, 9: -1, 10: -1, 11: 1, 12: -1, 13: -1, 14: 1, 15: -1, 16: -1, 17: 1, 18: -1, 19: -1, 20: 1, 21: -1, 22: -1, 23: 1, 24: -1, 25: -1, 26: 1, 27: -1, 28: -1, 29: 1, 30: -1, 31: -1, 32: 1, 33: -1, 34: -1, 35: 1, 36: -1, 37: -1, 38: 1, 39: -1, 40: -1, 41: 1, 42: -1, 43: -1, 44: 1, 45: -1, 46: -1, 47: 1, 48: -1, 49: -1, 50: 1, 51: -1, 52: -1, 53: 1, 54: -1, 55: -1, 56: 1, 57: -1, 58: -1, 59: 1, 60: -1, 61: -1, 62: 1, 63: -1, 64: -1, 65: 1, 66: -1, 67: -1, 68: 1, 69: -1, 70: -1, 71: 1, 72: -1, 73: -1, 74: 1, 75: -1, 76: -1, 77: 1, 78: -1, 79: -1, 80: 1, 81: -1, 82: -1, 83: 1, 84: -1, 85: -1, 86: 1, 87: -1, 88: -1, 89: -1, 90: 1, 91: -1, 92: -1, 93: 1, 94: -1, 95: -1, 96: 1, 97: -1, 98: -1, 99: 1}\n",
      "  value: -98\n",
      "   spin: True\n",
      "\n",
      "  state: {0: 1, 1: -1, 2: -1, 3: 1, 4: -1, 5: -1, 6: 1, 7: -1, 8: -1, 9: 1, 10: -1, 11: -1, 12: 1, 13: 1, 14: 1, 15: 1, 16: 1, 17: 1, 18: 1, 19: 1, 20: 1, 21: 1, 22: 1, 23: 1, 24: 1, 25: 1, 26: 1, 27: 1, 28: 1, 29: -1, 30: -1, 31: 1, 32: -1, 33: -1, 34: 1, 35: -1, 36: -1, 37: 1, 38: -1, 39: -1, 40: 1, 41: -1, 42: -1, 43: 1, 44: -1, 45: -1, 46: 1, 47: -1, 48: -1, 49: 1, 50: -1, 51: -1, 52: 1, 53: -1, 54: -1, 55: 1, 56: -1, 57: -1, 58: 1, 59: -1, 60: -1, 61: 1, 62: -1, 63: -1, 64: 1, 65: -1, 66: -1, 67: 1, 68: -1, 69: -1, 70: 1, 71: -1, 72: -1, 73: 1, 74: -1, 75: -1, 76: 1, 77: -1, 78: -1, 79: 1, 80: -1, 81: -1, 82: 1, 83: -1, 84: -1, 85: 1, 86: -1, 87: -1, 88: 1, 89: -1, 90: -1, 91: 1, 92: -1, 93: -1, 94: 1, 95: -1, 96: -1, 97: 1, 98: -1, 99: -1}\n",
      "  value: -96\n",
      "   spin: True\n",
      "\n",
      "  state: {0: -1, 1: 1, 2: -1, 3: -1, 4: 1, 5: -1, 6: -1, 7: 1, 8: -1, 9: -1, 10: 1, 11: -1, 12: 1, 13: -1, 14: -1, 15: 1, 16: -1, 17: -1, 18: 1, 19: -1, 20: -1, 21: 1, 22: -1, 23: -1, 24: 1, 25: -1, 26: -1, 27: 1, 28: -1, 29: -1, 30: 1, 31: -1, 32: -1, 33: 1, 34: -1, 35: -1, 36: 1, 37: -1, 38: -1, 39: -1, 40: 1, 41: -1, 42: -1, 43: 1, 44: -1, 45: -1, 46: 1, 47: -1, 48: -1, 49: 1, 50: -1, 51: -1, 52: 1, 53: -1, 54: -1, 55: 1, 56: -1, 57: -1, 58: 1, 59: -1, 60: -1, 61: 1, 62: -1, 63: -1, 64: 1, 65: -1, 66: -1, 67: 1, 68: -1, 69: -1, 70: 1, 71: -1, 72: -1, 73: 1, 74: -1, 75: -1, 76: 1, 77: -1, 78: -1, 79: 1, 80: -1, 81: -1, 82: 1, 83: -1, 84: -1, 85: 1, 86: -1, 87: -1, 88: 1, 89: -1, 90: -1, 91: 1, 92: -1, 93: -1, 94: -1, 95: 1, 96: -1, 97: -1, 98: 1, 99: -1}\n",
      "  value: -94\n",
      "   spin: True\n",
      "\n",
      "  state: {0: 1, 1: -1, 2: -1, 3: 1, 4: -1, 5: -1, 6: 1, 7: -1, 8: -1, 9: 1, 10: -1, 11: 1, 12: -1, 13: -1, 14: 1, 15: -1, 16: -1, 17: 1, 18: 1, 19: 1, 20: 1, 21: 1, 22: 1, 23: 1, 24: 1, 25: 1, 26: 1, 27: 1, 28: 1, 29: 1, 30: 1, 31: 1, 32: 1, 33: 1, 34: 1, 35: 1, 36: 1, 37: 1, 38: -1, 39: -1, 40: 1, 41: -1, 42: -1, 43: 1, 44: -1, 45: -1, 46: 1, 47: -1, 48: -1, 49: 1, 50: -1, 51: -1, 52: 1, 53: -1, 54: -1, 55: 1, 56: -1, 57: -1, 58: 1, 59: -1, 60: -1, 61: 1, 62: -1, 63: -1, 64: 1, 65: -1, 66: -1, 67: 1, 68: -1, 69: -1, 70: 1, 71: -1, 72: -1, 73: 1, 74: -1, 75: -1, 76: 1, 77: -1, 78: -1, 79: 1, 80: -1, 81: -1, 82: 1, 83: -1, 84: -1, 85: 1, 86: -1, 87: -1, 88: 1, 89: -1, 90: -1, 91: 1, 92: -1, 93: -1, 94: 1, 95: -1, 96: -1, 97: 1, 98: -1, 99: -1}\n",
      "  value: -94\n",
      "   spin: True\n",
      "\n",
      "  state: {0: 1, 1: -1, 2: -1, 3: 1, 4: -1, 5: -1, 6: 1, 7: -1, 8: -1, 9: 1, 10: -1, 11: -1, 12: 1, 13: -1, 14: -1, 15: 1, 16: -1, 17: -1, 18: 1, 19: -1, 20: -1, 21: 1, 22: 1, 23: 1, 24: 1, 25: 1, 26: 1, 27: 1, 28: 1, 29: 1, 30: 1, 31: 1, 32: 1, 33: 1, 34: 1, 35: 1, 36: 1, 37: 1, 38: 1, 39: 1, 40: 1, 41: 1, 42: 1, 43: 1, 44: 1, 45: 1, 46: 1, 47: 1, 48: 1, 49: 1, 50: 1, 51: -1, 52: -1, 53: 1, 54: -1, 55: -1, 56: 1, 57: -1, 58: -1, 59: 1, 60: -1, 61: -1, 62: 1, 63: -1, 64: -1, 65: 1, 66: -1, 67: -1, 68: 1, 69: -1, 70: -1, 71: 1, 72: -1, 73: -1, 74: 1, 75: -1, 76: -1, 77: 1, 78: -1, 79: -1, 80: 1, 81: -1, 82: -1, 83: 1, 84: -1, 85: -1, 86: 1, 87: -1, 88: -1, 89: 1, 90: -1, 91: 1, 92: -1, 93: -1, 94: 1, 95: -1, 96: -1, 97: 1, 98: -1, 99: -1}\n",
      "  value: -94\n",
      "   spin: True\n",
      "\n",
      "  state: {0: 1, 1: 1, 2: 1, 3: 1, 4: 1, 5: 1, 6: 1, 7: 1, 8: 1, 9: -1, 10: -1, 11: 1, 12: -1, 13: -1, 14: 1, 15: -1, 16: 1, 17: -1, 18: -1, 19: 1, 20: -1, 21: -1, 22: 1, 23: -1, 24: 1, 25: -1, 26: -1, 27: 1, 28: 1, 29: 1, 30: 1, 31: 1, 32: 1, 33: 1, 34: 1, 35: 1, 36: 1, 37: 1, 38: 1, 39: 1, 40: 1, 41: 1, 42: 1, 43: 1, 44: 1, 45: 1, 46: 1, 47: 1, 48: 1, 49: 1, 50: 1, 51: 1, 52: 1, 53: 1, 54: 1, 55: 1, 56: 1, 57: 1, 58: 1, 59: 1, 60: 1, 61: 1, 62: 1, 63: 1, 64: 1, 65: 1, 66: 1, 67: 1, 68: 1, 69: 1, 70: 1, 71: 1, 72: 1, 73: 1, 74: 1, 75: 1, 76: 1, 77: 1, 78: 1, 79: 1, 80: 1, 81: 1, 82: 1, 83: 1, 84: 1, 85: 1, 86: 1, 87: 1, 88: 1, 89: 1, 90: 1, 91: 1, 92: 1, 93: 1, 94: 1, 95: 1, 96: 1, 97: 1, 98: 1, 99: 1}\n",
      "  value: -92\n",
      "   spin: True\n",
      "\n",
      "  state: {0: -1, 1: -1, 2: 1, 3: -1, 4: -1, 5: 1, 6: -1, 7: -1, 8: -1, 9: 1, 10: -1, 11: -1, 12: 1, 13: -1, 14: -1, 15: 1, 16: -1, 17: -1, 18: 1, 19: -1, 20: -1, 21: 1, 22: -1, 23: -1, 24: 1, 25: -1, 26: -1, 27: 1, 28: -1, 29: -1, 30: 1, 31: -1, 32: -1, 33: 1, 34: -1, 35: -1, 36: 1, 37: -1, 38: -1, 39: 1, 40: 1, 41: 1, 42: 1, 43: 1, 44: 1, 45: 1, 46: 1, 47: 1, 48: 1, 49: 1, 50: 1, 51: -1, 52: -1, 53: 1, 54: -1, 55: -1, 56: 1, 57: -1, 58: -1, 59: 1, 60: -1, 61: -1, 62: 1, 63: -1, 64: -1, 65: 1, 66: -1, 67: 1, 68: -1, 69: 1, 70: -1, 71: -1, 72: 1, 73: -1, 74: -1, 75: 1, 76: -1, 77: -1, 78: 1, 79: -1, 80: -1, 81: 1, 82: -1, 83: -1, 84: 1, 85: -1, 86: -1, 87: 1, 88: -1, 89: -1, 90: 1, 91: -1, 92: -1, 93: 1, 94: -1, 95: -1, 96: 1, 97: -1, 98: -1, 99: 1}\n",
      "  value: -90\n",
      "   spin: True\n",
      "\n",
      "  state: {0: 1, 1: -1, 2: -1, 3: 1, 4: 1, 5: 1, 6: 1, 7: 1, 8: 1, 9: 1, 10: 1, 11: 1, 12: 1, 13: 1, 14: 1, 15: 1, 16: 1, 17: 1, 18: 1, 19: 1, 20: 1, 21: 1, 22: 1, 23: 1, 24: 1, 25: 1, 26: -1, 27: -1, 28: 1, 29: -1, 30: -1, 31: 1, 32: -1, 33: -1, 34: 1, 35: -1, 36: -1, 37: 1, 38: -1, 39: -1, 40: 1, 41: -1, 42: -1, 43: 1, 44: -1, 45: -1, 46: 1, 47: -1, 48: -1, 49: 1, 50: -1, 51: -1, 52: 1, 53: -1, 54: -1, 55: -1, 56: -1, 57: 1, 58: -1, 59: -1, 60: 1, 61: -1, 62: -1, 63: 1, 64: -1, 65: -1, 66: 1, 67: -1, 68: -1, 69: 1, 70: -1, 71: -1, 72: -1, 73: 1, 74: -1, 75: -1, 76: 1, 77: -1, 78: -1, 79: 1, 80: -1, 81: -1, 82: 1, 83: -1, 84: -1, 85: 1, 86: -1, 87: -1, 88: 1, 89: -1, 90: -1, 91: 1, 92: -1, 93: -1, 94: 1, 95: -1, 96: -1, 97: 1, 98: -1, 99: -1}\n",
      "  value: -90\n",
      "   spin: True\n",
      "\n",
      "  state: {0: 1, 1: -1, 2: -1, 3: 1, 4: -1, 5: -1, 6: 1, 7: -1, 8: 1, 9: -1, 10: -1, 11: 1, 12: -1, 13: -1, 14: 1, 15: -1, 16: -1, 17: 1, 18: -1, 19: -1, 20: -1, 21: 1, 22: -1, 23: -1, 24: 1, 25: -1, 26: -1, 27: 1, 28: -1, 29: -1, 30: 1, 31: -1, 32: -1, 33: 1, 34: -1, 35: -1, 36: 1, 37: -1, 38: -1, 39: 1, 40: -1, 41: -1, 42: 1, 43: -1, 44: -1, 45: 1, 46: -1, 47: -1, 48: 1, 49: -1, 50: -1, 51: 1, 52: -1, 53: 1, 54: -1, 55: 1, 56: -1, 57: -1, 58: 1, 59: -1, 60: -1, 61: 1, 62: -1, 63: -1, 64: 1, 65: -1, 66: -1, 67: 1, 68: -1, 69: -1, 70: 1, 71: -1, 72: -1, 73: 1, 74: -1, 75: -1, 76: 1, 77: -1, 78: -1, 79: 1, 80: -1, 81: 1, 82: -1, 83: -1, 84: 1, 85: -1, 86: -1, 87: 1, 88: -1, 89: -1, 90: 1, 91: -1, 92: -1, 93: -1, 94: 1, 95: -1, 96: -1, 97: 1, 98: -1, 99: -1}\n",
      "  value: -88\n",
      "   spin: True\n"
     ]
    }
   ],
   "source": [
    "res.sort_by_value()\n",
    "print(res)"
   ]
  },
  {
   "cell_type": "markdown",
   "metadata": {},
   "source": [
    "We can access each individual result by iterating through `res`. Each element in `res` is also a `qubovert.sim.AnnealResult` object. For each result, let's count the number of 1s and -1s."
   ]
  },
  {
   "cell_type": "code",
   "execution_count": 20,
   "metadata": {},
   "outputs": [
    {
     "name": "stdout",
     "output_type": "stream",
     "text": [
      "Energy: -100\n",
      "  Number of 1s: 100\n",
      "  Number of -1s: 0\n",
      "Energy: -98\n",
      "  Number of 1s: 33\n",
      "  Number of -1s: 67\n",
      "Energy: -96\n",
      "  Number of 1s: 44\n",
      "  Number of -1s: 56\n",
      "Energy: -94\n",
      "  Number of 1s: 33\n",
      "  Number of -1s: 67\n",
      "Energy: -94\n",
      "  Number of 1s: 47\n",
      "  Number of -1s: 53\n",
      "Energy: -94\n",
      "  Number of 1s: 53\n",
      "  Number of -1s: 47\n",
      "Energy: -92\n",
      "  Number of 1s: 88\n",
      "  Number of -1s: 12\n",
      "Energy: -90\n",
      "  Number of 1s: 41\n",
      "  Number of -1s: 59\n",
      "Energy: -90\n",
      "  Number of 1s: 47\n",
      "  Number of -1s: 53\n",
      "Energy: -88\n",
      "  Number of 1s: 34\n",
      "  Number of -1s: 66\n"
     ]
    }
   ],
   "source": [
    "for s in res:\n",
    "    print(\"Energy:\", s.value)\n",
    "    print(\"  Number of 1s:\", sum(v for v in s.state.values() if v == 1))\n",
    "    print(\"  Number of -1s:\", sum(-v for v in s.state.values() if v == -1))"
   ]
  },
  {
   "cell_type": "markdown",
   "metadata": {},
   "source": [
    "In the next section we will review some of the more advanced annealing features that can be used."
   ]
  },
  {
   "cell_type": "markdown",
   "metadata": {},
   "source": [
    "<a href=\"#Table-of-Contents\">Back to Table of Contents</a>"
   ]
  },
  {
   "cell_type": "markdown",
   "metadata": {},
   "source": [
    "## Advanced Annealing"
   ]
  },
  {
   "cell_type": "markdown",
   "metadata": {},
   "source": [
    "To see what advanced options we can play with when annealing, let's look at the docstring of the `anneal_puso` function."
   ]
  },
  {
   "cell_type": "code",
   "execution_count": 21,
   "metadata": {},
   "outputs": [
    {
     "name": "stdout",
     "output_type": "stream",
     "text": [
      "Help on function anneal_puso in module qubovert.sim._anneal:\n",
      "\n",
      "anneal_puso(H, num_anneals=1, anneal_duration=1000, initial_state=None, temperature_range=None, schedule='geometric', seed=None)\n",
      "    anneal_puso.\n",
      "    \n",
      "    Run a simulated annealing algorithm to try to find the minimum of the PUSO\n",
      "    given by ``H``. ``anneal_puso`` uses a cooling schedule with the\n",
      "    ``qubovert.sim.PUSOSimulation`` object. Please see all of the parameters\n",
      "    for details.\n",
      "    \n",
      "    Parameters\n",
      "    ----------\n",
      "    H : dict, or any type in ``qubovert.SPIN_MODELS``.\n",
      "        Maps spin labels to their values in the Hamiltonian.\n",
      "        Please see the docstrings of any of the objects in\n",
      "        ``qubovert.SPIN_MODELS`` to see how ``H`` should be formatted.\n",
      "    num_anneals : int >= 1 (optional, defaults to 1).\n",
      "        The number of times to run the simulated annealing algorithm.\n",
      "    anneal_duration : int >= 1 (optional, defaults to 1000).\n",
      "        The total number of updates to the simulation during the anneal.\n",
      "        This is related to the amount of time we spend in the cooling schedule.\n",
      "        If an explicit schedule is provided, then ``anneal_duration`` will be\n",
      "        ignored.\n",
      "    initial_state : dict (optional, defaults to None).\n",
      "        The initial state to start the anneal in. ``initial_state`` must map\n",
      "        the spin label names to their values in {1, -1}. If ``initial_state``\n",
      "        is None, then a random state will be chosen to start each anneal.\n",
      "        Otherwise, ``initial_state`` will be the starting state for all of the\n",
      "        anneals.\n",
      "    temperature_range : tuple (optional, defaults to None).\n",
      "        The temperature to start and end the anneal at.\n",
      "        ``temperature = (T0, Tf)``. ``T0`` must be >= ``Tf``. To see more\n",
      "        details on picking a temperature range, please see the function\n",
      "        ``qubovert.sim.anneal_temperature_range``. If ``temperature_range`` is\n",
      "        None, then it will by default be set to\n",
      "        ``T0, Tf = qubovert.sim.anneal_temperature_range(H, spin=True)``.\n",
      "        Note that a temperature can only be zero if ``schedule`` is explicitly\n",
      "        given or if ``schedule`` is linear.\n",
      "    schedule : str or iterable of tuple (optional, defaults to ``'geometric'``)\n",
      "        What type of cooling schedule to use. If ``schedule == 'linear'``, then\n",
      "        the cooling schedule will be a linear interpolation between the values\n",
      "        in ``temperature_range``. If ``schedule == 'geometric'``, then the\n",
      "        cooling schedule will be a geometric interpolation between the values\n",
      "        in ``temperature_range``. Otherwise, you can supply an explicit\n",
      "        schedule. In this case, ``schedule`` should be an iterable of tuples,\n",
      "        where each tuple is a ``(T, n)`` pair, where ``T`` denotes the\n",
      "        temperature to update the simulation, and ``n`` denote the number of\n",
      "        times to update the simulation at that temperature. This schedule\n",
      "        will be sent directly into the\n",
      "        ``qubovert.sim.PUSOSimulation.schedule_update`` method.\n",
      "    seed : number (optional, defaults to None).\n",
      "        The number to seed Python's builtin ``random`` module with. If\n",
      "        ``seed is None``, then ``random.seed`` will not be called.\n",
      "    \n",
      "    Returns\n",
      "    -------\n",
      "    res : qubovert.sim.AnnealResults object.\n",
      "        ``res`` contains information on the final states of the simulations.\n",
      "        See Examples below for an example of how to read from ``res``.\n",
      "        See ``help(qubovert.sim.AnnealResults)`` for more info.\n",
      "    \n",
      "    Raises\n",
      "    ------\n",
      "    ValueError\n",
      "        If the ``schedule`` argument provided is formatted incorrectly. See the\n",
      "        Parameters section.\n",
      "    ValueError\n",
      "        If the initial temperature is less than the final temperature.\n",
      "    \n",
      "    Warns\n",
      "    -----\n",
      "    qubovert.utils.QUBOVertWarning\n",
      "        If both the ``temperature_range`` and explicit ``schedule`` arguments\n",
      "        are provided.\n",
      "    \n",
      "    Example\n",
      "    -------\n",
      "    Consider the example of finding the ground state of the 1D\n",
      "    antiferromagnetic Ising chain of length 5.\n",
      "    \n",
      "    >>> import qubovert as qv\n",
      "    >>>\n",
      "    >>> H = sum(qv.spin_var(i) * qv.spin_var(i+1) for i in range(4))\n",
      "    >>> anneal_res = qv.sim.anneal_puso(H, num_anneals=3)\n",
      "    >>>\n",
      "    >>> print(anneal_res.best.value)\n",
      "    -4\n",
      "    >>> print(anneal_res.best.state)\n",
      "    {0: 1, 1: -1, 2: 1, 3: -1, 4: 1}\n",
      "    >>> # now sort the results\n",
      "    >>> anneal_res.sort_by_value()\n",
      "    >>>\n",
      "    >>> # now iterate through all of the results in the sorted order\n",
      "    >>> for res in anneal_res:\n",
      "    >>>     print(res.value, res.state)\n",
      "    -4, {0: 1, 1: -1, 2: 1, 3: -1, 4: 1}\n",
      "    -4, {0: -1, 1: 1, 2: -1, 3: 1, 4: -1}\n",
      "    -4, {0: 1, 1: -1, 2: 1, 3: -1, 4: 1}\n",
      "\n"
     ]
    }
   ],
   "source": [
    "help(qv.sim.anneal_puso)"
   ]
  },
  {
   "cell_type": "markdown",
   "metadata": {},
   "source": [
    "Notice the `anneal_duration` argument that we played with in the previous section. Next we will show examples using `initial_state`, `temperature_range`, and `schedule``."
   ]
  },
  {
   "cell_type": "markdown",
   "metadata": {},
   "source": [
    "### Adjusting the temperature range"
   ]
  },
  {
   "cell_type": "markdown",
   "metadata": {},
   "source": [
    "We can adjust the `temperature_range` argument in `anneal_puso`. This argument is a tuple of values `(T0, Tf)` that indicate the temperature to start and end the anneal. To get an idea of what temperatures to pick. We will look at the `anneal_temperature_range` function.\n",
    "\n",
    "The `anneal_temperature_range` function accepts a model and a start and end flip probability. These indicate how probable we want it to be that a bit is flipped even if it results in a worse energy. By default these values are set at 50% at the beginning of the anneal, and 1% at the end of the anneal. In other words, at the beginning of the anneal, the temperature is set such that every spin has at least a 50% chance of being flipped even if it results in a worse energy. Similarly, at the end of the anneal, the temperature is set such that every spin has at most a 1% chance of being flipped if when flipping it results in a worse energy. Let's look at what the temperature range would be for our Hamiltonian."
   ]
  },
  {
   "cell_type": "code",
   "execution_count": 22,
   "metadata": {},
   "outputs": [
    {
     "name": "stdout",
     "output_type": "stream",
     "text": [
      "8.656170245333781 0.43429448190325187\n"
     ]
    }
   ],
   "source": [
    "# spin indicates that this is a spin model\n",
    "T0, Tf = qv.sim.anneal_temperature_range(H, spin=True)\n",
    "print(T0, Tf)"
   ]
  },
  {
   "cell_type": "markdown",
   "metadata": {},
   "source": [
    "We can play around with the start and end flip probabilities to see how they affect the temperature."
   ]
  },
  {
   "cell_type": "code",
   "execution_count": 23,
   "metadata": {},
   "outputs": [
    {
     "name": "stdout",
     "output_type": "stream",
     "text": [
      "20.856356980693242 0.2895296546021679\n"
     ]
    }
   ],
   "source": [
    "# spin indicates that this is a spin model\n",
    "T0, Tf = qv.sim.anneal_temperature_range(H, start_flip_prob=.75, end_flip_prob=.001, spin=True)\n",
    "print(T0, Tf)"
   ]
  },
  {
   "cell_type": "markdown",
   "metadata": {},
   "source": [
    "You can adjust the temperature range in `anneal_puso` via `anneal_puso(H, temperature_range=(T0, Tf), ...)`."
   ]
  },
  {
   "cell_type": "markdown",
   "metadata": {},
   "source": [
    "### Adjusting the initial state"
   ]
  },
  {
   "cell_type": "markdown",
   "metadata": {},
   "source": [
    "If we do not provide an initial state to the anneal function, then it will randomly initialize a new state at the start of each anneal. However, if we provide an initial state, then it will begin in this state at the beginning of each anneal. This could be useful if we already have a decent idea of what our solution might look like. \n",
    "\n",
    "Let's take the example of the Hamiltonian $H$ from above. What if we start out in a state where the first 75 spins are 1 and the last 25 spins are -1? If we use the intuition that we are sort of close to the true ground state, then we should probably reduce the starting flip probability. So we will make the starting flip probability equal to 25% and keep the ending flip probability at 1%. This is how we will set the temperature. *Note that since we know that 75% of the spins are oriented correctly, 25% spin flip probability is a reasonable guess. Of course for a problem where the ground state is a mystery, we would not know this.*"
   ]
  },
  {
   "cell_type": "code",
   "execution_count": 24,
   "metadata": {},
   "outputs": [
    {
     "name": "stdout",
     "output_type": "stream",
     "text": [
      "  state: {0: 1, 1: 1, 2: 1, 3: 1, 4: 1, 5: 1, 6: 1, 7: 1, 8: 1, 9: 1, 10: 1, 11: 1, 12: 1, 13: 1, 14: 1, 15: 1, 16: 1, 17: 1, 18: 1, 19: 1, 20: 1, 21: 1, 22: 1, 23: 1, 24: 1, 25: 1, 26: 1, 27: 1, 28: 1, 29: 1, 30: 1, 31: 1, 32: 1, 33: 1, 34: 1, 35: 1, 36: 1, 37: 1, 38: 1, 39: 1, 40: 1, 41: 1, 42: 1, 43: 1, 44: 1, 45: 1, 46: 1, 47: 1, 48: 1, 49: 1, 50: 1, 51: 1, 52: 1, 53: 1, 54: 1, 55: 1, 56: 1, 57: 1, 58: 1, 59: 1, 60: 1, 61: 1, 62: 1, 63: 1, 64: 1, 65: 1, 66: 1, 67: 1, 68: 1, 69: 1, 70: 1, 71: 1, 72: 1, 73: 1, 74: 1, 75: 1, 76: 1, 77: 1, 78: 1, 79: 1, 80: 1, 81: 1, 82: 1, 83: 1, 84: 1, 85: 1, 86: 1, 87: 1, 88: 1, 89: 1, 90: 1, 91: 1, 92: 1, 93: 1, 94: 1, 95: 1, 96: 1, 97: 1, 98: 1, 99: 1}\n",
      "  value: -100\n",
      "   spin: True\n"
     ]
    }
   ],
   "source": [
    "initial_state = {i: 1 if i < 75 else -1 for i in range(L)}\n",
    "\n",
    "temperature_range = qv.sim.anneal_temperature_range(\n",
    "    H, start_flip_prob=.25, end_flip_prob=0.01, spin=True,\n",
    ")\n",
    "\n",
    "res = qv.sim.anneal_puso(\n",
    "    H, \n",
    "    initial_state=initial_state, \n",
    "    temperature_range=temperature_range,\n",
    "    num_anneals=10,\n",
    "    anneal_duration=2500,\n",
    "    seed=34\n",
    ")\n",
    "\n",
    "print(res.best)"
   ]
  },
  {
   "cell_type": "markdown",
   "metadata": {},
   "source": [
    "Notice that we get the right answer with `anneal_duration=2500`, whereas in the previous section we needed around 7500!"
   ]
  },
  {
   "cell_type": "markdown",
   "metadata": {},
   "source": [
    "### Adjusting the schedule"
   ]
  },
  {
   "cell_type": "markdown",
   "metadata": {},
   "source": [
    "The last topic we will discuss is adjusting the schedule. There are three options for the `schedule` argument.\n",
    "\n",
    "1. Geometric (`schedule='geometric'`). This is the default option in `anneal_puso` (learned from D-Wave's simulated annealing software). In this case, the temperature will be decreased from from the initial to final temperature in evenly spaced increments along a log scale.\n",
    "2. Linear (`schedule='linear'`). In this case, the temperature will be decreased from from the initial to final temperature in evenly spaced increments along a linear scale.\n",
    "3. Custom. \n",
    "\n",
    "For the custom schedule, we can provide a schedule exactly as we did in the <a href=\"#Simulation\">Simulation</a> example in the first section. A schedule is a collection of `(T, n)` pairs, where `T` is the temperature to update the simulation at, and `n` is the number of time steps to simlulate the system at that temperature.\n",
    "\n",
    "We will show a custom schedule example. Consider exactly the above example in the <a href=\"#Adjusting-the-initial-state\">Adjusting the initial state</a> section, where we start off in an initial state that we think is pretty close to the optimal state. We will start off in a state where the first 75 spins are 1 and the last 25 are -1. For the same reasons as above, we will make the temperature range such that we start the anneal with a 25% chance of flipping a spin even if it is energetically unfavorable, and we will end with 1% chance. But this time we will customize the schedulee so that it first *reverse anneals*, and then anneals. See <a href=\"https://docs.dwavesys.com/docs/latest/c_fd_ra.html\">D-Wave reverse annealing</a> for some info on reverse quantum annealing.\n",
    "\n",
    "We will use the same $T_0, T_f$ as before, but this time we will create a geometric schedule where we *start* with temperature $T_f$ and heat the system to $T_0$ quickly (50 time steps). Then we will cool the system with a geometric schedule from $T_0$ to $T_f$ in 1950 time steps."
   ]
  },
  {
   "cell_type": "code",
   "execution_count": 25,
   "metadata": {},
   "outputs": [
    {
     "name": "stdout",
     "output_type": "stream",
     "text": [
      "  state: {0: 1, 1: 1, 2: 1, 3: 1, 4: 1, 5: 1, 6: 1, 7: 1, 8: 1, 9: 1, 10: 1, 11: 1, 12: 1, 13: 1, 14: 1, 15: 1, 16: 1, 17: 1, 18: 1, 19: 1, 20: 1, 21: 1, 22: 1, 23: 1, 24: 1, 25: 1, 26: 1, 27: 1, 28: 1, 29: 1, 30: 1, 31: 1, 32: 1, 33: 1, 34: 1, 35: 1, 36: 1, 37: 1, 38: 1, 39: 1, 40: 1, 41: 1, 42: 1, 43: 1, 44: 1, 45: 1, 46: 1, 47: 1, 48: 1, 49: 1, 50: 1, 51: 1, 52: 1, 53: 1, 54: 1, 55: 1, 56: 1, 57: 1, 58: 1, 59: 1, 60: 1, 61: 1, 62: 1, 63: 1, 64: 1, 65: 1, 66: 1, 67: 1, 68: 1, 69: 1, 70: 1, 71: 1, 72: 1, 73: 1, 74: 1, 75: 1, 76: 1, 77: 1, 78: 1, 79: 1, 80: 1, 81: 1, 82: 1, 83: 1, 84: 1, 85: 1, 86: 1, 87: 1, 88: 1, 89: 1, 90: 1, 91: 1, 92: 1, 93: 1, 94: 1, 95: 1, 96: 1, 97: 1, 98: 1, 99: 1}\n",
      "  value: -100\n",
      "   spin: True\n"
     ]
    }
   ],
   "source": [
    "from numpy import geomspace\n",
    "\n",
    "T0, Tf = temperature_range  # same as the previous cell\n",
    "\n",
    "schedule = [\n",
    "    (T, 1) for T in geomspace(Tf, T0, 50)\n",
    "] + [\n",
    "    (T, 1) for T in geomspace(T0, Tf, 1950)\n",
    "]\n",
    "    \n",
    "\n",
    "res = qv.sim.anneal_puso(\n",
    "    H, \n",
    "    initial_state=initial_state,\n",
    "    num_anneals=10,\n",
    "    schedule=schedule,\n",
    "    seed=34\n",
    ")\n",
    "\n",
    "print(res.best)"
   ]
  },
  {
   "cell_type": "markdown",
   "metadata": {},
   "source": [
    "Notice this time we get the right answer with a total anneal duration of 2000, whereas before we needed around 2500!"
   ]
  },
  {
   "cell_type": "markdown",
   "metadata": {},
   "source": [
    "<a href=\"#Table-of-Contents\">Back to Table of Contents</a>"
   ]
  },
  {
   "cell_type": "markdown",
   "metadata": {},
   "source": [
    "## Conclusion"
   ]
  },
  {
   "cell_type": "markdown",
   "metadata": {},
   "source": [
    "### A note on the purpose of the `qubovert.sim` library\n",
    "\n",
    "I'd like to remark that D-Wave's QUBO and QUSO simulated annealing implementations in their Python package `neal` are faster than `qubovert`'s implementations. If your goal is to use simulated annealing to find the ground state of a QUBO or QUSO, then you should probably use `neal`. In fact, the main purpose of `qubovert` is to aid in the formulation of binary optimization models so that they can easily be sent to D-Wave (either their simulated or quantum annealer). See all the other notebooks where I use `neal` to solve the models that I create.\n",
    "\n",
    "However, `neal` does not provide the functionality for simulated annealing of PUBOs and PUSOs, nor does it allow the ability to provide an arbitrary temperature schedule. If your goal is to research different schedules (like we did with the reverse annealing example) or to solve higher order models that are expensive to reduce to QUBOs and QUSOs, then the `qubovert.sim` library may be useful. Similarly, if you are interested in how physical systems behave with time and temperature, then `qubovert`'s simulation functionaliy may be useful; for example, see a <a href=\"https://github.com/jiosue/ising_sim\">graphical simulation implementation</a> that I wrote for the 1D ferromagnetic Ising chain."
   ]
  },
  {
   "cell_type": "markdown",
   "metadata": {},
   "source": [
    "<a href=\"#Table-of-Contents\">Back to Table of Contents</a>"
   ]
  }
 ],
 "metadata": {
  "kernelspec": {
   "display_name": "Python 3",
   "language": "python",
   "name": "python3"
  },
  "language_info": {
   "codemirror_mode": {
    "name": "ipython",
    "version": 3
   },
   "file_extension": ".py",
   "mimetype": "text/x-python",
   "name": "python",
   "nbconvert_exporter": "python",
   "pygments_lexer": "ipython3",
   "version": "3.7.2"
  }
 },
 "nbformat": 4,
 "nbformat_minor": 2
}
